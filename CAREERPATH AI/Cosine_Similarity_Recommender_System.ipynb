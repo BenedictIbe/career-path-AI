{
  "cells": [
    {
      "cell_type": "markdown",
      "source": [
        "**Title**: RECOMMENDER SYSTEM\r\n",
        "\r\n",
        "**Description**: Here we aim to run Content based recommendation model on the dataset to recommend a candidate to the skills they require to migrate to their desired career\r\n",
        "\r\n",
        "**Author**: Benedict Ibe\r\n",
        "\r\n",
        "**Date Created**: 30/07/2023"
      ],
      "metadata": {
        "nteract": {
          "transient": {
            "deleting": false
          }
        }
      }
    },
    {
      "cell_type": "code",
      "source": [
        "import nltk"
      ],
      "outputs": [
        {
          "output_type": "display_data",
          "data": {
            "application/vnd.livy.statement-meta+json": {
              "spark_pool": "Nurture",
              "session_id": "1296",
              "statement_id": 2,
              "state": "finished",
              "livy_statement_state": "available",
              "queued_time": "2023-09-27T21:29:32.2675795Z",
              "session_start_time": "2023-09-27T21:29:32.329221Z",
              "execution_start_time": "2023-09-27T21:30:21.0784785Z",
              "execution_finish_time": "2023-09-27T21:30:22.2117984Z",
              "spark_jobs": null,
              "parent_msg_id": "9ad17ee9-6156-4efe-a3eb-7f4ddf3904c3"
            },
            "text/plain": "StatementMeta(Nurture, 1296, 2, Finished, Available)"
          },
          "metadata": {}
        }
      ],
      "execution_count": 90,
      "metadata": {}
    },
    {
      "cell_type": "code",
      "source": [
        "%%pyspark\n",
        "\n",
        "spark.sql(\"set spark.sql.legacy.timeParserPolicy=LEGACY\")\n",
        "candidate_skilllevel= spark.sql(\"SELECT \\\n",
        "Id                                          as Cand_ID, \\\n",
        "recruit_candidatecontact                    as Candidate_contactno, \\\n",
        "crimson_proficiency                         as Cand_proficiency, \\\n",
        "crimson_requirement                         as Cand_requirement, \\\n",
        "crimson_experience                          as Cand_experience, \\\n",
        "crimson_experienceperiod                    as Cand_exp_period, \\\n",
        "crimson_skill                               as Cand_skill, \\\n",
        "crimson_name                                as Cand_name, \\\n",
        "crimson_skilllevelid                        as Cand_skilllevel_ID, \\\n",
        "lower(crimson_skillname)                    as Cand_skill_name, \\\n",
        "crimson_level                               as Cand_level \\\n",
        "FROM dataverse_edensmithcon_org87f26120.crimson_skilllevel\")"
      ],
      "outputs": [
        {
          "output_type": "display_data",
          "data": {
            "application/vnd.livy.statement-meta+json": {
              "spark_pool": "Nurture",
              "session_id": "1296",
              "statement_id": 3,
              "state": "finished",
              "livy_statement_state": "available",
              "queued_time": "2023-09-27T21:29:33.2515575Z",
              "session_start_time": null,
              "execution_start_time": "2023-09-27T21:30:22.3624329Z",
              "execution_finish_time": "2023-09-27T21:30:37.6191464Z",
              "spark_jobs": null,
              "parent_msg_id": "6db72487-afe1-4a91-bec2-0b068c9d66c1"
            },
            "text/plain": "StatementMeta(Nurture, 1296, 3, Finished, Available)"
          },
          "metadata": {}
        }
      ],
      "execution_count": 91,
      "metadata": {
        "jupyter": {
          "source_hidden": false,
          "outputs_hidden": false
        },
        "nteract": {
          "transient": {
            "deleting": false
          }
        },
        "microsoft": {
          "language": "python"
        },
        "ms_comments": [
          {
            "threadId": "03783d22-e6cc-4dff-a7a6-e294d0d0821f",
            "text": "Load the skills dataset",
            "status": "active",
            "user": {
              "name": "Benedict Ibe",
              "idType": "aad"
            },
            "createdDateUTC": 1690492217907,
            "modifiedDateUTC": 1690492217907,
            "replies": []
          }
        ],
        "ms_comment_ranges": {
          "03783d22-e6cc-4dff-a7a6-e294d0d0821f": {
            "text": "%%pyspark",
            "start": {
              "line": 1,
              "column": 1
            },
            "end": {
              "line": 1,
              "column": 10
            }
          }
        }
      }
    },
    {
      "cell_type": "code",
      "source": [
        "candidate_skilllevel.show()"
      ],
      "outputs": [
        {
          "output_type": "display_data",
          "data": {
            "application/vnd.livy.statement-meta+json": {
              "spark_pool": "Nurture",
              "session_id": "1296",
              "statement_id": 4,
              "state": "finished",
              "livy_statement_state": "available",
              "queued_time": "2023-09-27T21:29:33.8417842Z",
              "session_start_time": null,
              "execution_start_time": "2023-09-27T21:30:37.7842701Z",
              "execution_finish_time": "2023-09-27T21:30:40.6307289Z",
              "spark_jobs": null,
              "parent_msg_id": "5a78aad4-e374-45b4-a862-3b70a1ee543c"
            },
            "text/plain": "StatementMeta(Nurture, 1296, 4, Finished, Available)"
          },
          "metadata": {}
        },
        {
          "output_type": "stream",
          "name": "stdout",
          "text": [
            "+--------------------+--------------------+----------------+----------------+---------------+---------------+--------------------+---------+--------------------+--------------------+----------+\n|             Cand_ID| Candidate_contactno|Cand_proficiency|Cand_requirement|Cand_experience|Cand_exp_period|          Cand_skill|Cand_name|  Cand_skilllevel_ID|     Cand_skill_name|Cand_level|\n+--------------------+--------------------+----------------+----------------+---------------+---------------+--------------------+---------+--------------------+--------------------+----------+\n|ab1e9a1d-104e-eb1...|03c6701e-104e-eb1...|       143570003|       143570000|             43|      143570000|089ac1e6-27bd-ea1...|     null|ab1e9a1d-104e-eb1...|                gdpr|        97|\n|ae1e9a1d-104e-eb1...|03c6701e-104e-eb1...|       143570003|       143570000|             43|      143570000|9f9fc31c-8a59-e11...|     null|ae1e9a1d-104e-eb1...|    data warehousing|        99|\n|b51e9a1d-104e-eb1...|03c6701e-104e-eb1...|       143570003|       143570000|             62|      143570000|eda1c31c-8a59-e11...|     null|b51e9a1d-104e-eb1...|    business objects|        95|\n|90b1b823-104e-eb1...|03c6701e-104e-eb1...|       143570002|       143570000|             19|      143570000|71a0c31c-8a59-e11...|     null|90b1b823-104e-eb1...|              oracle|        70|\n|15c6701e-104e-eb1...|03c6701e-104e-eb1...|       143570002|       143570000|             19|      143570000|7fa0c31c-8a59-e11...|     null|15c6701e-104e-eb1...|         oracle 2000|        70|\n|98b1b823-104e-eb1...|03c6701e-104e-eb1...|       143570002|       143570000|             19|      143570000|85a0c31c-8a59-e11...|     null|98b1b823-104e-eb1...|            oracle 7|        70|\n|9db1b823-104e-eb1...|03c6701e-104e-eb1...|       143570002|       143570000|             19|      143570000|91a0c31c-8a59-e11...|     null|9db1b823-104e-eb1...|            oracle 9|        70|\n|9fb1b823-104e-eb1...|03c6701e-104e-eb1...|       143570002|       143570000|             19|      143570000|f3a1c31c-8a59-e11...|     null|9fb1b823-104e-eb1...|businessobjects w...|        65|\n|b79cff24-104e-eb1...|03c6701e-104e-eb1...|       143570002|       143570000|             19|      143570000|83a2c31c-8a59-e11...|     null|b79cff24-104e-eb1...|   oracle financials|        65|\n|b89cff24-104e-eb1...|14c6701e-104e-eb1...|       143570003|       143570000|             16|      143570000|c204cc5b-c3a2-e11...|     null|b89cff24-104e-eb1...|               audit|        92|\n|a6b1b823-104e-eb1...|03c6701e-104e-eb1...|       143570001|       143570000|            306|           null|85b1c31c-8a59-e11...|     null|a6b1b823-104e-eb1...|                pl/1|        55|\n|abb1b823-104e-eb1...|14c6701e-104e-eb1...|       143570003|       143570000|             16|      143570000|a406cc5b-c3a2-e11...|     null|abb1b823-104e-eb1...|            year-end|        92|\n|b99cff24-104e-eb1...|03c6701e-104e-eb1...|       143570001|       143570000|            306|      143570000|33b3c31c-8a59-e11...|     null|b99cff24-104e-eb1...|        visual basic|        54|\n|ba9cff24-104e-eb1...|14c6701e-104e-eb1...|       143570003|       143570000|             14|      143570000|d802cc5b-c3a2-e11...|     null|ba9cff24-104e-eb1...|financial report ...|        85|\n|bb9cff24-104e-eb1...|03c6701e-104e-eb1...|       143570001|       143570000|            306|      143570000|3db3c31c-8a59-e11...|     null|bb9cff24-104e-eb1...|visual basic for ...|        53|\n|bc9cff24-104e-eb1...|14c6701e-104e-eb1...|       143570003|       143570000|             18|      143570000|5806cc5b-c3a2-e11...|     null|bc9cff24-104e-eb1...|  statutory accounts|        84|\n|b8b1b823-104e-eb1...|03c6701e-104e-eb1...|            null|       143570000|              0|           null|fc99c1e6-27bd-ea1...|     null|b8b1b823-104e-eb1...|      data modelling|        13|\n|bd9cff24-104e-eb1...|14c6701e-104e-eb1...|       143570002|       143570000|             11|      143570000|a403cc5b-c3a2-e11...|     null|bd9cff24-104e-eb1...|         market risk|        66|\n|be9cff24-104e-eb1...|03c6701e-104e-eb1...|            null|       143570000|              0|           null|d9a6c31c-8a59-e11...|     null|be9cff24-104e-eb1...|        ibm hardware|        13|\n|bdb1b823-104e-eb1...|14c6701e-104e-eb1...|       143570001|       143570000|              3|      143570000|3205cc5b-c3a2-e11...|     null|bdb1b823-104e-eb1...|  financial planning|        48|\n+--------------------+--------------------+----------------+----------------+---------------+---------------+--------------------+---------+--------------------+--------------------+----------+\nonly showing top 20 rows\n\n"
          ]
        }
      ],
      "execution_count": 92,
      "metadata": {
        "jupyter": {
          "source_hidden": false,
          "outputs_hidden": false
        },
        "nteract": {
          "transient": {
            "deleting": false
          }
        }
      }
    },
    {
      "cell_type": "code",
      "source": [
        "%%pyspark\n",
        "\n",
        "spark.sql(\"set spark.sql.legacy.timeParserPolicy=LEGACY\")\n",
        "candidate_workhist =spark.sql(\"SELECT \\\n",
        "Id                                  as ID , \\\n",
        "recruit_candidatecontact            as Candidate_contact,\\\n",
        "crimson_startdate                   as Candidate_workstrt_date,\\\n",
        "crimson_enddate                     as Candidate_workend_date, \\\n",
        "crimson_workhistoryid               as WorkHistory_ID,\\\n",
        "lower(crimson_description)          as Candidate_work_description,\\\n",
        "crimson_jobtitle                    as Candidate_job_title ,\\\n",
        "crimson_name                        as Cand_workplace \\\n",
        "FROM dataverse_edensmithcon_org87f26120.crimson_workhistory\")"
      ],
      "outputs": [
        {
          "output_type": "display_data",
          "data": {
            "application/vnd.livy.statement-meta+json": {
              "spark_pool": "Nurture",
              "session_id": "1296",
              "statement_id": 5,
              "state": "finished",
              "livy_statement_state": "available",
              "queued_time": "2023-09-27T21:29:34.2292984Z",
              "session_start_time": null,
              "execution_start_time": "2023-09-27T21:30:40.8059779Z",
              "execution_finish_time": "2023-09-27T21:30:41.9314815Z",
              "spark_jobs": null,
              "parent_msg_id": "e3aa98c8-daca-4009-a3e4-def224461780"
            },
            "text/plain": "StatementMeta(Nurture, 1296, 5, Finished, Available)"
          },
          "metadata": {}
        }
      ],
      "execution_count": 93,
      "metadata": {
        "jupyter": {
          "source_hidden": false,
          "outputs_hidden": false
        },
        "nteract": {
          "transient": {
            "deleting": false
          }
        },
        "microsoft": {
          "language": "python"
        }
      }
    },
    {
      "cell_type": "code",
      "source": [
        "from pyspark.sql.functions import to_date"
      ],
      "outputs": [
        {
          "output_type": "display_data",
          "data": {
            "application/vnd.livy.statement-meta+json": {
              "spark_pool": "Nurture",
              "session_id": "1296",
              "statement_id": 6,
              "state": "finished",
              "livy_statement_state": "available",
              "queued_time": "2023-09-27T21:29:34.7278188Z",
              "session_start_time": null,
              "execution_start_time": "2023-09-27T21:30:42.0878813Z",
              "execution_finish_time": "2023-09-27T21:30:42.2570704Z",
              "spark_jobs": null,
              "parent_msg_id": "c56f79ac-a6f3-43e0-906e-34518acc8557"
            },
            "text/plain": "StatementMeta(Nurture, 1296, 6, Finished, Available)"
          },
          "metadata": {}
        }
      ],
      "execution_count": 94,
      "metadata": {
        "jupyter": {
          "source_hidden": false,
          "outputs_hidden": false
        },
        "nteract": {
          "transient": {
            "deleting": false
          }
        }
      }
    },
    {
      "cell_type": "code",
      "source": [
        "#Here we convert the date-time format to date\n",
        "df_hist = candidate_workhist.withColumn(\"Cnd_start_date\", to_date(\"Candidate_workstrt_date\"))\n",
        "df_hist.show()"
      ],
      "outputs": [
        {
          "output_type": "display_data",
          "data": {
            "application/vnd.livy.statement-meta+json": {
              "spark_pool": "Nurture",
              "session_id": "1296",
              "statement_id": 7,
              "state": "finished",
              "livy_statement_state": "available",
              "queued_time": "2023-09-27T21:29:35.1802126Z",
              "session_start_time": null,
              "execution_start_time": "2023-09-27T21:30:42.4109203Z",
              "execution_finish_time": "2023-09-27T21:30:43.5110607Z",
              "spark_jobs": null,
              "parent_msg_id": "f69754cc-920d-4112-be4b-db278526ca19"
            },
            "text/plain": "StatementMeta(Nurture, 1296, 7, Finished, Available)"
          },
          "metadata": {}
        },
        {
          "output_type": "stream",
          "name": "stdout",
          "text": [
            "+--------------------+--------------------+-----------------------+----------------------+--------------------+--------------------------+--------------------+--------------------+--------------+\n|                  ID|   Candidate_contact|Candidate_workstrt_date|Candidate_workend_date|      WorkHistory_ID|Candidate_work_description| Candidate_job_title|      Cand_workplace|Cnd_start_date|\n+--------------------+--------------------+-----------------------+----------------------+--------------------+--------------------------+--------------------+--------------------+--------------+\n|6ae7162b-104e-eb1...|14c6701e-104e-eb1...|    2019-05-01 00:00:00|   2020-08-01 00:00:00|6ae7162b-104e-eb1...|      ; lendinvest - --...|        Data analyst|Data analyst - Le...|    2019-05-01|\n|44e4bc29-104e-eb1...|03c6701e-104e-eb1...|    2017-01-01 00:00:00|                  null|44e4bc29-104e-eb1...|      key achievements\\...|Reporting and Dat...|Reporting and Dat...|    2017-01-01|\n|71e7162b-104e-eb1...|14c6701e-104e-eb1...|    2018-04-01 00:00:00|   2019-05-01 00:00:00|71e7162b-104e-eb1...|      during this time ...|             analyst|analyst - Link Fi...|    2018-04-01|\n|76e7162b-104e-eb1...|03c6701e-104e-eb1...|    2015-07-01 00:00:00|   2017-01-01 00:00:00|76e7162b-104e-eb1...|      key achievements:...|Data and Process ...|Data and Process ...|    2015-07-01|\n|53e4bc29-104e-eb1...|14c6701e-104e-eb1...|    2017-05-01 00:00:00|   2018-03-01 00:00:00|53e4bc29-104e-eb1...|      ; at this time i ...|           associate|associate - Link ...|    2017-05-01|\n|5de4bc29-104e-eb1...|14c6701e-104e-eb1...|    2016-05-01 00:00:00|   2017-03-01 00:00:00|5de4bc29-104e-eb1...|      , at this time i ...|Risk Analyst / Ri...|Risk Analyst / Ri...|    2016-05-01|\n|7ee7162b-104e-eb1...|03c6701e-104e-eb1...|    1990-02-01 00:00:00|   2015-07-01 00:00:00|7ee7162b-104e-eb1...|      joined british ai...|Analyst-Programme...|Analyst-Programme...|    1990-02-01|\n|9f2bd42f-104e-eb1...|14c6701e-104e-eb1...|    2015-11-01 00:00:00|   2016-05-01 00:00:00|9f2bd42f-104e-eb1...|      ,  haven power - ...|      Risk Assistant|Risk Assistant - ...|    2015-11-01|\n|a92bd42f-104e-eb1...|14c6701e-104e-eb1...|    2015-08-01 00:00:00|   2015-10-01 00:00:00|a92bd42f-104e-eb1...|      , haven power - -...|   Finance Assistant|Finance Assistant...|    2015-08-01|\n|43b9cc35-104e-eb1...|e1a4d169-bc08-eb1...|    2019-01-01 00:00:00|   2020-01-01 00:00:00|43b9cc35-104e-eb1...|      juul labs. - lond...|CS Operations Dat...|CS Operations Dat...|    2019-01-01|\n|4bb9cc35-104e-eb1...|e1a4d169-bc08-eb1...|    2012-01-01 00:00:00|   2019-01-01 00:00:00|4bb9cc35-104e-eb1...|      accountable for m...|Data Analyst Manager|Data Analyst Mana...|    2012-01-01|\n|607e8f37-104e-eb1...|e1a4d169-bc08-eb1...|    2005-01-01 00:00:00|   2007-01-01 00:00:00|607e8f37-104e-eb1...|                      null|Data Analysis Con...|Data Analysis Con...|    2005-01-01|\n|59b9cc35-104e-eb1...|e1a4d169-bc08-eb1...|    2007-01-01 00:00:00|   2012-01-01 00:00:00|59b9cc35-104e-eb1...|      accountable for r...| Senior Data Analyst|Senior Data Analy...|    2007-01-01|\n|66b9cc35-104e-eb1...|e1a4d169-bc08-eb1...|    2001-01-01 00:00:00|   2002-01-01 00:00:00|66b9cc35-104e-eb1...|                      null|     Account Manager|Account Manager -...|    2001-01-01|\n|72b9cc35-104e-eb1...|e1a4d169-bc08-eb1...|    1999-01-01 00:00:00|   2001-01-01 00:00:00|72b9cc35-104e-eb1...|                      null|Senior Marketing ...|Senior Marketing ...|    1999-01-01|\n|697e8f37-104e-eb1...|e1a4d169-bc08-eb1...|    1998-01-01 00:00:00|   1999-01-01 00:00:00|697e8f37-104e-eb1...|                      null|   Marketing Analyst|Marketing Analyst...|    1998-01-01|\n|720e14d9-104e-eb1...|aea2d6ce-104e-eb1...|    2019-03-01 00:00:00|                  null|720e14d9-104e-eb1...|      machine learning ...|        Data Analyst|Data Analyst - Ac...|    2019-03-01|\n|7d0e14d9-104e-eb1...|aea2d6ce-104e-eb1...|    2017-10-01 00:00:00|   2019-02-01 00:00:00|7d0e14d9-104e-eb1...|      analysis to ident...|        Data Analyst| Data Analyst - JLL |    2017-10-01|\n|870e14d9-104e-eb1...|aea2d6ce-104e-eb1...|    2017-02-01 00:00:00|   2017-07-01 00:00:00|870e14d9-104e-eb1...|      *    creating a v...|  Research Assistant|Research Assistan...|    2017-02-01|\n|900e14d9-104e-eb1...|71c012cd-104e-eb1...|    2015-01-01 00:00:00|                  null|900e14d9-104e-eb1...|      haven claims - pr...|Data Analyst / Ta...|Data Analyst / Ta...|    2015-01-01|\n+--------------------+--------------------+-----------------------+----------------------+--------------------+--------------------------+--------------------+--------------------+--------------+\nonly showing top 20 rows\n\n"
          ]
        }
      ],
      "execution_count": 95,
      "metadata": {
        "jupyter": {
          "source_hidden": false,
          "outputs_hidden": false
        },
        "nteract": {
          "transient": {
            "deleting": false
          }
        },
        "ms_comments": [
          {
            "threadId": "5fd47b2b-c642-4011-bdf6-bb049e6cfc8e",
            "text": "Here we convert the date-time format to date",
            "status": "active",
            "user": {
              "name": "Benedict Ibe",
              "idType": "aad"
            },
            "createdDateUTC": 1690492358715,
            "modifiedDateUTC": 1690492358715,
            "replies": []
          }
        ],
        "ms_comment_ranges": {
          "5fd47b2b-c642-4011-bdf6-bb049e6cfc8e": {
            "text": "df_hist = candidate_workhist.withColumn(\"Cnd_star",
            "start": {
              "line": 2,
              "column": 1
            },
            "end": {
              "line": 2,
              "column": 50
            }
          }
        }
      }
    },
    {
      "cell_type": "code",
      "source": [
        "#Here we convert the date-time format to date\n",
        "df_hist2 = df_hist.withColumn(\"Cnd_end_date\", to_date(\"Candidate_workend_date\"))\n",
        "df_hist2.show()"
      ],
      "outputs": [
        {
          "output_type": "display_data",
          "data": {
            "application/vnd.livy.statement-meta+json": {
              "spark_pool": "Nurture",
              "session_id": "1296",
              "statement_id": 8,
              "state": "finished",
              "livy_statement_state": "available",
              "queued_time": "2023-09-27T21:29:35.5984149Z",
              "session_start_time": null,
              "execution_start_time": "2023-09-27T21:30:43.6980874Z",
              "execution_finish_time": "2023-09-27T21:30:46.578864Z",
              "spark_jobs": null,
              "parent_msg_id": "3ef04374-435c-4814-97f0-e5c48e0b08ae"
            },
            "text/plain": "StatementMeta(Nurture, 1296, 8, Finished, Available)"
          },
          "metadata": {}
        },
        {
          "output_type": "stream",
          "name": "stdout",
          "text": [
            "+--------------------+--------------------+-----------------------+----------------------+--------------------+--------------------------+--------------------+--------------------+--------------+------------+\n|                  ID|   Candidate_contact|Candidate_workstrt_date|Candidate_workend_date|      WorkHistory_ID|Candidate_work_description| Candidate_job_title|      Cand_workplace|Cnd_start_date|Cnd_end_date|\n+--------------------+--------------------+-----------------------+----------------------+--------------------+--------------------------+--------------------+--------------------+--------------+------------+\n|6ae7162b-104e-eb1...|14c6701e-104e-eb1...|    2019-05-01 00:00:00|   2020-08-01 00:00:00|6ae7162b-104e-eb1...|      ; lendinvest - --...|        Data analyst|Data analyst - Le...|    2019-05-01|  2020-08-01|\n|44e4bc29-104e-eb1...|03c6701e-104e-eb1...|    2017-01-01 00:00:00|                  null|44e4bc29-104e-eb1...|      key achievements\\...|Reporting and Dat...|Reporting and Dat...|    2017-01-01|        null|\n|71e7162b-104e-eb1...|14c6701e-104e-eb1...|    2018-04-01 00:00:00|   2019-05-01 00:00:00|71e7162b-104e-eb1...|      during this time ...|             analyst|analyst - Link Fi...|    2018-04-01|  2019-05-01|\n|76e7162b-104e-eb1...|03c6701e-104e-eb1...|    2015-07-01 00:00:00|   2017-01-01 00:00:00|76e7162b-104e-eb1...|      key achievements:...|Data and Process ...|Data and Process ...|    2015-07-01|  2017-01-01|\n|53e4bc29-104e-eb1...|14c6701e-104e-eb1...|    2017-05-01 00:00:00|   2018-03-01 00:00:00|53e4bc29-104e-eb1...|      ; at this time i ...|           associate|associate - Link ...|    2017-05-01|  2018-03-01|\n|5de4bc29-104e-eb1...|14c6701e-104e-eb1...|    2016-05-01 00:00:00|   2017-03-01 00:00:00|5de4bc29-104e-eb1...|      , at this time i ...|Risk Analyst / Ri...|Risk Analyst / Ri...|    2016-05-01|  2017-03-01|\n|7ee7162b-104e-eb1...|03c6701e-104e-eb1...|    1990-02-01 00:00:00|   2015-07-01 00:00:00|7ee7162b-104e-eb1...|      joined british ai...|Analyst-Programme...|Analyst-Programme...|    1990-02-01|  2015-07-01|\n|9f2bd42f-104e-eb1...|14c6701e-104e-eb1...|    2015-11-01 00:00:00|   2016-05-01 00:00:00|9f2bd42f-104e-eb1...|      ,  haven power - ...|      Risk Assistant|Risk Assistant - ...|    2015-11-01|  2016-05-01|\n|a92bd42f-104e-eb1...|14c6701e-104e-eb1...|    2015-08-01 00:00:00|   2015-10-01 00:00:00|a92bd42f-104e-eb1...|      , haven power - -...|   Finance Assistant|Finance Assistant...|    2015-08-01|  2015-10-01|\n|43b9cc35-104e-eb1...|e1a4d169-bc08-eb1...|    2019-01-01 00:00:00|   2020-01-01 00:00:00|43b9cc35-104e-eb1...|      juul labs. - lond...|CS Operations Dat...|CS Operations Dat...|    2019-01-01|  2020-01-01|\n|4bb9cc35-104e-eb1...|e1a4d169-bc08-eb1...|    2012-01-01 00:00:00|   2019-01-01 00:00:00|4bb9cc35-104e-eb1...|      accountable for m...|Data Analyst Manager|Data Analyst Mana...|    2012-01-01|  2019-01-01|\n|607e8f37-104e-eb1...|e1a4d169-bc08-eb1...|    2005-01-01 00:00:00|   2007-01-01 00:00:00|607e8f37-104e-eb1...|                      null|Data Analysis Con...|Data Analysis Con...|    2005-01-01|  2007-01-01|\n|59b9cc35-104e-eb1...|e1a4d169-bc08-eb1...|    2007-01-01 00:00:00|   2012-01-01 00:00:00|59b9cc35-104e-eb1...|      accountable for r...| Senior Data Analyst|Senior Data Analy...|    2007-01-01|  2012-01-01|\n|66b9cc35-104e-eb1...|e1a4d169-bc08-eb1...|    2001-01-01 00:00:00|   2002-01-01 00:00:00|66b9cc35-104e-eb1...|                      null|     Account Manager|Account Manager -...|    2001-01-01|  2002-01-01|\n|72b9cc35-104e-eb1...|e1a4d169-bc08-eb1...|    1999-01-01 00:00:00|   2001-01-01 00:00:00|72b9cc35-104e-eb1...|                      null|Senior Marketing ...|Senior Marketing ...|    1999-01-01|  2001-01-01|\n|697e8f37-104e-eb1...|e1a4d169-bc08-eb1...|    1998-01-01 00:00:00|   1999-01-01 00:00:00|697e8f37-104e-eb1...|                      null|   Marketing Analyst|Marketing Analyst...|    1998-01-01|  1999-01-01|\n|720e14d9-104e-eb1...|aea2d6ce-104e-eb1...|    2019-03-01 00:00:00|                  null|720e14d9-104e-eb1...|      machine learning ...|        Data Analyst|Data Analyst - Ac...|    2019-03-01|        null|\n|7d0e14d9-104e-eb1...|aea2d6ce-104e-eb1...|    2017-10-01 00:00:00|   2019-02-01 00:00:00|7d0e14d9-104e-eb1...|      analysis to ident...|        Data Analyst| Data Analyst - JLL |    2017-10-01|  2019-02-01|\n|870e14d9-104e-eb1...|aea2d6ce-104e-eb1...|    2017-02-01 00:00:00|   2017-07-01 00:00:00|870e14d9-104e-eb1...|      *    creating a v...|  Research Assistant|Research Assistan...|    2017-02-01|  2017-07-01|\n|900e14d9-104e-eb1...|71c012cd-104e-eb1...|    2015-01-01 00:00:00|                  null|900e14d9-104e-eb1...|      haven claims - pr...|Data Analyst / Ta...|Data Analyst / Ta...|    2015-01-01|        null|\n+--------------------+--------------------+-----------------------+----------------------+--------------------+--------------------------+--------------------+--------------------+--------------+------------+\nonly showing top 20 rows\n\n"
          ]
        }
      ],
      "execution_count": 96,
      "metadata": {
        "jupyter": {
          "source_hidden": false,
          "outputs_hidden": false
        },
        "nteract": {
          "transient": {
            "deleting": false
          }
        },
        "ms_comments": [
          {
            "threadId": "a53e57de-a1fe-429c-a5a1-17728e643560",
            "text": "Here we convert the date-time format to date",
            "status": "active",
            "user": {
              "name": "Benedict Ibe",
              "idType": "aad"
            },
            "createdDateUTC": 1690492449872,
            "modifiedDateUTC": 1690492449872,
            "replies": []
          }
        ],
        "ms_comment_ranges": {
          "a53e57de-a1fe-429c-a5a1-17728e643560": {
            "text": "withColumn",
            "start": {
              "line": 2,
              "column": 20
            },
            "end": {
              "line": 2,
              "column": 30
            }
          }
        }
      }
    },
    {
      "cell_type": "code",
      "source": [
        "#Here we select the required columns\n",
        "df_hist3 = df_hist2.select('ID', 'WorkHistory_ID', 'Candidate_contact', 'Candidate_job_title', 'Cnd_start_date', 'Cnd_end_date')\n",
        "df_hist3.show()"
      ],
      "outputs": [
        {
          "output_type": "display_data",
          "data": {
            "application/vnd.livy.statement-meta+json": {
              "spark_pool": "Nurture",
              "session_id": "1296",
              "statement_id": 9,
              "state": "finished",
              "livy_statement_state": "available",
              "queued_time": "2023-09-27T21:29:36.0444348Z",
              "session_start_time": null,
              "execution_start_time": "2023-09-27T21:30:46.7190496Z",
              "execution_finish_time": "2023-09-27T21:30:47.3072291Z",
              "spark_jobs": null,
              "parent_msg_id": "80fce53e-df1b-4fdf-936b-7bf5b6c783fa"
            },
            "text/plain": "StatementMeta(Nurture, 1296, 9, Finished, Available)"
          },
          "metadata": {}
        },
        {
          "output_type": "stream",
          "name": "stdout",
          "text": [
            "+--------------------+--------------------+--------------------+--------------------+--------------+------------+\n|                  ID|      WorkHistory_ID|   Candidate_contact| Candidate_job_title|Cnd_start_date|Cnd_end_date|\n+--------------------+--------------------+--------------------+--------------------+--------------+------------+\n|6ae7162b-104e-eb1...|6ae7162b-104e-eb1...|14c6701e-104e-eb1...|        Data analyst|    2019-05-01|  2020-08-01|\n|44e4bc29-104e-eb1...|44e4bc29-104e-eb1...|03c6701e-104e-eb1...|Reporting and Dat...|    2017-01-01|        null|\n|71e7162b-104e-eb1...|71e7162b-104e-eb1...|14c6701e-104e-eb1...|             analyst|    2018-04-01|  2019-05-01|\n|76e7162b-104e-eb1...|76e7162b-104e-eb1...|03c6701e-104e-eb1...|Data and Process ...|    2015-07-01|  2017-01-01|\n|53e4bc29-104e-eb1...|53e4bc29-104e-eb1...|14c6701e-104e-eb1...|           associate|    2017-05-01|  2018-03-01|\n|5de4bc29-104e-eb1...|5de4bc29-104e-eb1...|14c6701e-104e-eb1...|Risk Analyst / Ri...|    2016-05-01|  2017-03-01|\n|7ee7162b-104e-eb1...|7ee7162b-104e-eb1...|03c6701e-104e-eb1...|Analyst-Programme...|    1990-02-01|  2015-07-01|\n|9f2bd42f-104e-eb1...|9f2bd42f-104e-eb1...|14c6701e-104e-eb1...|      Risk Assistant|    2015-11-01|  2016-05-01|\n|a92bd42f-104e-eb1...|a92bd42f-104e-eb1...|14c6701e-104e-eb1...|   Finance Assistant|    2015-08-01|  2015-10-01|\n|43b9cc35-104e-eb1...|43b9cc35-104e-eb1...|e1a4d169-bc08-eb1...|CS Operations Dat...|    2019-01-01|  2020-01-01|\n|4bb9cc35-104e-eb1...|4bb9cc35-104e-eb1...|e1a4d169-bc08-eb1...|Data Analyst Manager|    2012-01-01|  2019-01-01|\n|607e8f37-104e-eb1...|607e8f37-104e-eb1...|e1a4d169-bc08-eb1...|Data Analysis Con...|    2005-01-01|  2007-01-01|\n|59b9cc35-104e-eb1...|59b9cc35-104e-eb1...|e1a4d169-bc08-eb1...| Senior Data Analyst|    2007-01-01|  2012-01-01|\n|66b9cc35-104e-eb1...|66b9cc35-104e-eb1...|e1a4d169-bc08-eb1...|     Account Manager|    2001-01-01|  2002-01-01|\n|72b9cc35-104e-eb1...|72b9cc35-104e-eb1...|e1a4d169-bc08-eb1...|Senior Marketing ...|    1999-01-01|  2001-01-01|\n|697e8f37-104e-eb1...|697e8f37-104e-eb1...|e1a4d169-bc08-eb1...|   Marketing Analyst|    1998-01-01|  1999-01-01|\n|720e14d9-104e-eb1...|720e14d9-104e-eb1...|aea2d6ce-104e-eb1...|        Data Analyst|    2019-03-01|        null|\n|7d0e14d9-104e-eb1...|7d0e14d9-104e-eb1...|aea2d6ce-104e-eb1...|        Data Analyst|    2017-10-01|  2019-02-01|\n|870e14d9-104e-eb1...|870e14d9-104e-eb1...|aea2d6ce-104e-eb1...|  Research Assistant|    2017-02-01|  2017-07-01|\n|900e14d9-104e-eb1...|900e14d9-104e-eb1...|71c012cd-104e-eb1...|Data Analyst / Ta...|    2015-01-01|        null|\n+--------------------+--------------------+--------------------+--------------------+--------------+------------+\nonly showing top 20 rows\n\n"
          ]
        }
      ],
      "execution_count": 97,
      "metadata": {
        "jupyter": {
          "source_hidden": false,
          "outputs_hidden": false
        },
        "nteract": {
          "transient": {
            "deleting": false
          }
        },
        "ms_comments": [
          {
            "threadId": "c21259d2-4239-4270-a04f-808e56e6bd2d",
            "text": "Here we select the required columns",
            "status": "active",
            "user": {
              "name": "Benedict Ibe",
              "idType": "aad"
            },
            "createdDateUTC": 1690492481381,
            "modifiedDateUTC": 1690492481381,
            "replies": []
          }
        ],
        "ms_comment_ranges": {
          "c21259d2-4239-4270-a04f-808e56e6bd2d": {
            "text": "WorkHistory_ID",
            "start": {
              "line": 2,
              "column": 35
            },
            "end": {
              "line": 2,
              "column": 49
            }
          }
        }
      }
    },
    {
      "cell_type": "code",
      "source": [
        "#Import libraries\n",
        "from pyspark.sql import SparkSession\n",
        "from pyspark.sql.functions import datediff, floor\n",
        "from pyspark.sql.functions import lit"
      ],
      "outputs": [
        {
          "output_type": "display_data",
          "data": {
            "application/vnd.livy.statement-meta+json": {
              "spark_pool": "Nurture",
              "session_id": "1296",
              "statement_id": 10,
              "state": "finished",
              "livy_statement_state": "available",
              "queued_time": "2023-09-27T21:29:36.4655637Z",
              "session_start_time": null,
              "execution_start_time": "2023-09-27T21:30:47.4575377Z",
              "execution_finish_time": "2023-09-27T21:30:47.6263904Z",
              "spark_jobs": null,
              "parent_msg_id": "53fc18c9-095b-4d08-80a8-f6b5cdf11153"
            },
            "text/plain": "StatementMeta(Nurture, 1296, 10, Finished, Available)"
          },
          "metadata": {}
        }
      ],
      "execution_count": 98,
      "metadata": {
        "jupyter": {
          "source_hidden": false,
          "outputs_hidden": false
        },
        "nteract": {
          "transient": {
            "deleting": false
          }
        }
      }
    },
    {
      "cell_type": "markdown",
      "source": [
        "GETTING THE NUMBER OF MONTHS BETWEEN THE START TIME AND THE END TIME"
      ],
      "metadata": {
        "nteract": {
          "transient": {
            "deleting": false
          }
        }
      }
    },
    {
      "cell_type": "code",
      "source": [
        "#GETTING THE NUMBER OF MONTHS BETWEEN THE START TIME AND THE END TIME\n",
        "df_hist4 = df_hist3.withColumn(\"Duration\", floor((datediff(df_hist3[\"Cnd_end_date\"], df_hist3[\"Cnd_start_date\"]) / 7)/4))\n",
        "df_hist4.show()"
      ],
      "outputs": [
        {
          "output_type": "display_data",
          "data": {
            "application/vnd.livy.statement-meta+json": {
              "spark_pool": "Nurture",
              "session_id": "1296",
              "statement_id": 11,
              "state": "finished",
              "livy_statement_state": "available",
              "queued_time": "2023-09-27T21:29:37.0290918Z",
              "session_start_time": null,
              "execution_start_time": "2023-09-27T21:30:47.7908523Z",
              "execution_finish_time": "2023-09-27T21:30:48.9168439Z",
              "spark_jobs": null,
              "parent_msg_id": "8a2dc5fc-f00f-45b7-bc54-b5c2d40ed3a8"
            },
            "text/plain": "StatementMeta(Nurture, 1296, 11, Finished, Available)"
          },
          "metadata": {}
        },
        {
          "output_type": "stream",
          "name": "stdout",
          "text": [
            "+--------------------+--------------------+--------------------+--------------------+--------------+------------+--------+\n|                  ID|      WorkHistory_ID|   Candidate_contact| Candidate_job_title|Cnd_start_date|Cnd_end_date|Duration|\n+--------------------+--------------------+--------------------+--------------------+--------------+------------+--------+\n|6ae7162b-104e-eb1...|6ae7162b-104e-eb1...|14c6701e-104e-eb1...|        Data analyst|    2019-05-01|  2020-08-01|      16|\n|44e4bc29-104e-eb1...|44e4bc29-104e-eb1...|03c6701e-104e-eb1...|Reporting and Dat...|    2017-01-01|        null|    null|\n|71e7162b-104e-eb1...|71e7162b-104e-eb1...|14c6701e-104e-eb1...|             analyst|    2018-04-01|  2019-05-01|      14|\n|76e7162b-104e-eb1...|76e7162b-104e-eb1...|03c6701e-104e-eb1...|Data and Process ...|    2015-07-01|  2017-01-01|      19|\n|53e4bc29-104e-eb1...|53e4bc29-104e-eb1...|14c6701e-104e-eb1...|           associate|    2017-05-01|  2018-03-01|      10|\n|5de4bc29-104e-eb1...|5de4bc29-104e-eb1...|14c6701e-104e-eb1...|Risk Analyst / Ri...|    2016-05-01|  2017-03-01|      10|\n|7ee7162b-104e-eb1...|7ee7162b-104e-eb1...|03c6701e-104e-eb1...|Analyst-Programme...|    1990-02-01|  2015-07-01|     331|\n|9f2bd42f-104e-eb1...|9f2bd42f-104e-eb1...|14c6701e-104e-eb1...|      Risk Assistant|    2015-11-01|  2016-05-01|       6|\n|a92bd42f-104e-eb1...|a92bd42f-104e-eb1...|14c6701e-104e-eb1...|   Finance Assistant|    2015-08-01|  2015-10-01|       2|\n|43b9cc35-104e-eb1...|43b9cc35-104e-eb1...|e1a4d169-bc08-eb1...|CS Operations Dat...|    2019-01-01|  2020-01-01|      13|\n|4bb9cc35-104e-eb1...|4bb9cc35-104e-eb1...|e1a4d169-bc08-eb1...|Data Analyst Manager|    2012-01-01|  2019-01-01|      91|\n|607e8f37-104e-eb1...|607e8f37-104e-eb1...|e1a4d169-bc08-eb1...|Data Analysis Con...|    2005-01-01|  2007-01-01|      26|\n|59b9cc35-104e-eb1...|59b9cc35-104e-eb1...|e1a4d169-bc08-eb1...| Senior Data Analyst|    2007-01-01|  2012-01-01|      65|\n|66b9cc35-104e-eb1...|66b9cc35-104e-eb1...|e1a4d169-bc08-eb1...|     Account Manager|    2001-01-01|  2002-01-01|      13|\n|72b9cc35-104e-eb1...|72b9cc35-104e-eb1...|e1a4d169-bc08-eb1...|Senior Marketing ...|    1999-01-01|  2001-01-01|      26|\n|697e8f37-104e-eb1...|697e8f37-104e-eb1...|e1a4d169-bc08-eb1...|   Marketing Analyst|    1998-01-01|  1999-01-01|      13|\n|720e14d9-104e-eb1...|720e14d9-104e-eb1...|aea2d6ce-104e-eb1...|        Data Analyst|    2019-03-01|        null|    null|\n|7d0e14d9-104e-eb1...|7d0e14d9-104e-eb1...|aea2d6ce-104e-eb1...|        Data Analyst|    2017-10-01|  2019-02-01|      17|\n|870e14d9-104e-eb1...|870e14d9-104e-eb1...|aea2d6ce-104e-eb1...|  Research Assistant|    2017-02-01|  2017-07-01|       5|\n|900e14d9-104e-eb1...|900e14d9-104e-eb1...|71c012cd-104e-eb1...|Data Analyst / Ta...|    2015-01-01|        null|    null|\n+--------------------+--------------------+--------------------+--------------------+--------------+------------+--------+\nonly showing top 20 rows\n\n"
          ]
        }
      ],
      "execution_count": 99,
      "metadata": {
        "jupyter": {
          "source_hidden": false,
          "outputs_hidden": false
        },
        "nteract": {
          "transient": {
            "deleting": false
          }
        },
        "ms_comments": [
          {
            "threadId": "a3a221a2-f343-4933-a126-a7c6edd223f0",
            "text": "Get the number of days between the start date and end date, then divide it to get the monthly number",
            "status": "active",
            "user": {
              "name": "Benedict Ibe",
              "idType": "aad"
            },
            "createdDateUTC": 1690492740426,
            "modifiedDateUTC": 1690492740426,
            "replies": []
          }
        ],
        "ms_comment_ranges": {
          "a3a221a2-f343-4933-a126-a7c6edd223f0": {
            "text": "df_hist3",
            "start": {
              "line": 2,
              "column": 60
            },
            "end": {
              "line": 2,
              "column": 68
            }
          }
        }
      }
    },
    {
      "cell_type": "markdown",
      "source": [
        "DEFINE THE PARAMETER TO SEARCH"
      ],
      "metadata": {
        "nteract": {
          "transient": {
            "deleting": false
          }
        }
      }
    },
    {
      "cell_type": "code",
      "source": [
        "job_titleSearch = 'data'"
      ],
      "outputs": [
        {
          "output_type": "display_data",
          "data": {
            "application/vnd.livy.statement-meta+json": {
              "spark_pool": "Nurture",
              "session_id": "1296",
              "statement_id": 12,
              "state": "finished",
              "livy_statement_state": "available",
              "queued_time": "2023-09-27T21:29:37.3699842Z",
              "session_start_time": null,
              "execution_start_time": "2023-09-27T21:30:49.0631012Z",
              "execution_finish_time": "2023-09-27T21:30:49.2281566Z",
              "spark_jobs": null,
              "parent_msg_id": "901f1915-a15e-418d-9101-9ea76ccb8a7c"
            },
            "text/plain": "StatementMeta(Nurture, 1296, 12, Finished, Available)"
          },
          "metadata": {}
        }
      ],
      "execution_count": 100,
      "metadata": {
        "jupyter": {
          "source_hidden": false,
          "outputs_hidden": false
        },
        "nteract": {
          "transient": {
            "deleting": false
          }
        },
        "tags": []
      }
    },
    {
      "cell_type": "markdown",
      "source": [
        "SEARCH FOR THE WILD CHARACTER DEFINED IN THE PARAMETER"
      ],
      "metadata": {
        "nteract": {
          "transient": {
            "deleting": false
          }
        }
      }
    },
    {
      "cell_type": "code",
      "source": [
        "#SEARCH FOR THE WILD CHARACTER DEFINED IN THE PARAMETER\n",
        "df_hist5 = df_hist4.filter(df_hist4.Candidate_job_title.rlike(job_titleSearch)).sort(df_hist4.Candidate_job_title.asc())\n",
        "df_hist5.show(50)"
      ],
      "outputs": [
        {
          "output_type": "display_data",
          "data": {
            "application/vnd.livy.statement-meta+json": {
              "spark_pool": "Nurture",
              "session_id": "1296",
              "statement_id": 13,
              "state": "finished",
              "livy_statement_state": "available",
              "queued_time": "2023-09-27T21:29:38.0364708Z",
              "session_start_time": null,
              "execution_start_time": "2023-09-27T21:30:49.3935119Z",
              "execution_finish_time": "2023-09-27T21:30:52.2743818Z",
              "spark_jobs": null,
              "parent_msg_id": "c5542c67-5d4d-4dfd-938e-af8ccfb847b4"
            },
            "text/plain": "StatementMeta(Nurture, 1296, 13, Finished, Available)"
          },
          "metadata": {}
        },
        {
          "output_type": "stream",
          "name": "stdout",
          "text": [
            "+--------------------+--------------------+--------------------+--------------------+--------------+------------+--------+\n|                  ID|      WorkHistory_ID|   Candidate_contact| Candidate_job_title|Cnd_start_date|Cnd_end_date|Duration|\n+--------------------+--------------------+--------------------+--------------------+--------------+------------+--------+\n|085adb9a-96f8-ec1...|085adb9a-96f8-ec1...|d40b2dbe-8b98-ec1...|AML/KYC data Anal...|    2008-04-01|  2009-06-01|      15|\n|833aaae0-b66c-ed1...|833aaae0-b66c-ed1...|2d66597b-a5c3-402...|Analyst / first d...|    2007-09-01|  2010-09-01|      39|\n|d87123bc-6139-eb1...|d87123bc-6139-eb1...|e43b09ae-6139-eb1...|Analyst / first d...|    2007-09-01|  2010-09-01|      39|\n|6f6396f1-6161-eb1...|6f6396f1-6161-eb1...|dfc02cd4-6161-eb1...|Architecture, Des...|    2016-02-01|  2017-03-01|      14|\n|4f912272-8931-ec1...|4f912272-8931-ec1...|8c338153-8931-ec1...|Associate data sc...|    2018-05-01|  2018-09-01|       4|\n|6e4476af-ab5c-eb1...|6e4476af-ab5c-eb1...|56a0b764-b4d1-ea1...|BI/Data Analyst /...|    2018-05-01|  2018-11-01|       6|\n|19e45217-379c-eb1...|19e45217-379c-eb1...|49b67206-379c-eb1...|BIRT developer / ...|    2017-08-01|  2017-10-30|       3|\n|f1cea374-6265-eb1...|f1cea374-6265-eb1...|e0b7815a-6265-eb1...|Big data Administ...|    2012-10-01|  2014-11-01|      27|\n|3b8d2598-4c78-ec1...|3b8d2598-4c78-ec1...|f4389080-4c78-ec1...|    Big data analyst|    2017-09-01|  2018-07-01|      10|\n|a76692e1-6461-eb1...|a76692e1-6461-eb1...|35c72809-aae3-ea1...|Big data engineer...|    2019-04-01|  2019-08-01|       4|\n|f23335e4-6461-eb1...|f23335e4-6461-eb1...|35c72809-aae3-ea1...|Big data engineer...|    2019-09-01|  2020-03-01|       6|\n|3a271827-aae3-ea1...|3a271827-aae3-ea1...|992c2e09-aae3-ea1...|  Bigdata Consultant|    2016-12-01|  2019-03-01|      29|\n|39010cef-6565-eb1...|39010cef-6565-eb1...|092ff4bc-6565-eb1...|   Bigdata Developer|    2017-09-01|        null|    null|\n|ba4e66d6-f911-eb1...|ba4e66d6-f911-eb1...|9b7935a9-f911-eb1...|Bigdata Platform ...|    2016-02-01|  2018-09-01|      33|\n|ff25a88e-8802-ed1...|ff25a88e-8802-ed1...|d63ffa58-8802-ed1...|Business data Ana...|    2007-05-01|  2008-09-01|      17|\n|a51fab88-8802-ed1...|a51fab88-8802-ed1...|d63ffa58-8802-ed1...|Business data ana...|    2014-06-01|  2014-11-01|       5|\n|861fab88-8802-ed1...|861fab88-8802-ed1...|d63ffa58-8802-ed1...|Business data ana...|    2015-02-01|  2015-12-01|      10|\n|43bd8c8d-7d24-ed1...|43bd8c8d-7d24-ed1...|ecf6c46e-7d24-ed1...|Business data ana...|    2014-12-01|  2015-03-01|       3|\n|de25a88e-8802-ed1...|de25a88e-8802-ed1...|d63ffa58-8802-ed1...|Business data ana...|    2009-11-01|  2011-08-01|      22|\n|a06d0127-deea-eb1...|a06d0127-deea-eb1...|90402a14-deea-eb1...|CRM Database Admi...|    2017-08-01|  2018-10-01|      15|\n|679cee3e-8264-eb1...|679cee3e-8264-eb1...|9bdba9cc-b460-eb1...|Chief data archit...|    2017-08-01|  2019-09-01|      27|\n|0bf80375-ba55-eb1...|0bf80375-ba55-eb1...|b3d2d553-d554-eb1...|Compact Muon Sole...|    2018-01-01|  2020-01-01|      26|\n|af5933bb-90a7-ed1...|af5933bb-90a7-ed1...|85ee9777-dfa6-ed1...|Consultant / Prin...|    2022-07-01|  2022-11-01|       4|\n|91f65a23-91c6-ea1...|91f65a23-91c6-ea1...|348f8c06-91c6-ea1...|Consultant / data...|    2017-05-01|  2017-11-01|       6|\n|a130c110-b7d5-ec1...|a130c110-b7d5-ec1...|fdb7e1e4-b6d5-ec1...|Data Analyst / Te...|    2014-12-01|  2015-05-01|       5|\n|f3c61422-a89e-eb1...|f3c61422-a89e-eb1...|16c4760f-a89e-eb1...|Data Analyst / da...|    2017-08-01|  2017-10-01|       2|\n|591f24d3-5361-eb1...|591f24d3-5361-eb1...|07ffef8c-5361-eb1...|Data Architect / ...|    2014-04-01|  2015-05-01|      14|\n|afc58319-7bc7-ea1...|afc58319-7bc7-ea1...|761f89fb-7ac7-ea1...|Data Management A...|    2018-09-01|  2019-08-01|      11|\n|7a1be1fb-2f3d-eb1...|7a1be1fb-2f3d-eb1...|2b9096e9-2f3d-eb1...|Data Science Team...|    2017-08-01|  2019-02-01|      19|\n|3bf485cd-b251-eb1...|3bf485cd-b251-eb1...|e8bd1a88-4539-47d...|Data Science Team...|    2017-08-01|  2019-02-01|      19|\n|947539e7-a960-eb1...|947539e7-a960-eb1...|696cf2c8-a960-eb1...|Data Scientist / ...|    2016-08-01|  2016-12-01|       4|\n|5ee24a6b-4d61-eb1...|5ee24a6b-4d61-eb1...|16b16352-4d61-eb1...|Data Scientist / ...|    2015-09-01|  2016-09-01|      13|\n|90ab9896-c060-eb1...|90ab9896-c060-eb1...|ff3b9384-c060-eb1...|Data Scientist / ...|    2017-01-01|        null|    null|\n|cc70fc2f-8161-eb1...|cc70fc2f-8161-eb1...|138a34a3-a8f2-49d...|Data Scientist / ...|    2017-01-01|        null|    null|\n|d225a88e-8802-ed1...|d225a88e-8802-ed1...|d63ffa58-8802-ed1...|Data architect / ...|    2011-09-01|  2011-12-01|       3|\n|b61fab88-8802-ed1...|b61fab88-8802-ed1...|d63ffa58-8802-ed1...|Data modeler / da...|    2012-01-01|  2014-06-01|      31|\n|916d0127-deea-eb1...|916d0127-deea-eb1...|90402a14-deea-eb1...|Database Officer ...|    2018-11-01|  2019-12-01|      14|\n|81af49aa-6761-eb1...|81af49aa-6761-eb1...|153a4d9e-6761-eb1...|Developer / data ...|    2016-01-01|  2016-05-25|       5|\n|4c84f864-632e-eb1...|4c84f864-632e-eb1...|754b904d-632e-eb1...|ETL Developer / D...|    2015-04-01|  2018-09-01|      44|\n|de8610d5-f911-eb1...|de8610d5-f911-eb1...|9b7935a9-f911-eb1...|ETL and Bigdata D...|    2012-10-01|  2016-02-01|      43|\n|d43a2b0f-aae3-ea1...|d43a2b0f-aae3-ea1...|a0c62809-aae3-ea1...| Equity data analyst|    2016-08-01|  2017-07-01|      11|\n|d520eb9e-5aae-eb1...|d520eb9e-5aae-eb1...|b48fa08c-5aae-eb1...|  Exadata Consultant|    2014-04-01|  2015-07-01|      16|\n|324b9db2-aafe-ec1...|324b9db2-aafe-ec1...|0ae259ae-aafe-ec1...|Governance & Data...|    2019-01-01|        null|    null|\n|0418e62d-3bbd-ea1...|0418e62d-3bbd-ea1...|2bb500c6-39bd-ea1...|Graduate software...|    1995-11-01|  1998-11-01|      39|\n|8d028fa5-4a61-eb1...|8d028fa5-4a61-eb1...|f6966a93-4a61-eb1...|Head of data anal...|    2013-09-01|  2014-06-01|       9|\n|7af94525-2fd4-eb1...|7af94525-2fd4-eb1...|38383b19-2fd4-eb1...|Head of data scie...|    2012-08-01|  2018-12-01|      82|\n|d6292e5d-398d-ed1...|d6292e5d-398d-ed1...|8f861e5b-d5da-484...|Head of group cus...|    2011-09-01|  2012-05-01|       8|\n|39433679-a160-eb1...|39433679-a160-eb1...|76512767-a160-eb1...|Junior Analyst, d...|    2017-08-01|  2018-06-01|      10|\n|61b1adcd-f919-ec1...|61b1adcd-f919-ec1...|1003ddb8-f919-ec1...|Lead Bigdata Engi...|    2017-01-01|  2017-11-01|      10|\n|e6792762-56fc-ec1...|e6792762-56fc-ec1...|4bc7b949-56fc-ec1...|Lead Data Archite...|    2021-03-01|        null|    null|\n+--------------------+--------------------+--------------------+--------------------+--------------+------------+--------+\nonly showing top 50 rows\n\n"
          ]
        }
      ],
      "execution_count": 101,
      "metadata": {
        "jupyter": {
          "source_hidden": false,
          "outputs_hidden": false
        },
        "nteract": {
          "transient": {
            "deleting": false
          }
        },
        "ms_comments": [
          {
            "threadId": "432d6ca1-1424-4d0c-8366-6060ff15e276",
            "text": "Search for the defined wildcard in the  Candidate_job_title column. Here we convert the date-time format to date using rlike",
            "status": "active",
            "user": {
              "name": "Benedict Ibe",
              "idType": "aad"
            },
            "createdDateUTC": 1690492863175,
            "modifiedDateUTC": 1690492945701,
            "replies": []
          }
        ],
        "ms_comment_ranges": {
          "432d6ca1-1424-4d0c-8366-6060ff15e276": {
            "text": "50",
            "start": {
              "line": 3,
              "column": 15
            },
            "end": {
              "line": 3,
              "column": 17
            }
          }
        }
      }
    },
    {
      "cell_type": "code",
      "source": [
        "from pyspark.sql import SparkSession\n",
        "from pyspark.sql.functions import regexp_replace, lower\n",
        "from pyspark.ml.feature import Tokenizer, Word2Vec\n",
        "from pyspark.ml.classification import LogisticRegression\n",
        "from pyspark.ml import Pipeline"
      ],
      "outputs": [
        {
          "output_type": "display_data",
          "data": {
            "application/vnd.livy.statement-meta+json": {
              "spark_pool": "Nurture",
              "session_id": "1296",
              "statement_id": 14,
              "state": "finished",
              "livy_statement_state": "available",
              "queued_time": "2023-09-27T21:29:38.1184684Z",
              "session_start_time": null,
              "execution_start_time": "2023-09-27T21:30:52.461799Z",
              "execution_finish_time": "2023-09-27T21:30:52.6568072Z",
              "spark_jobs": null,
              "parent_msg_id": "b35c4389-1060-46e1-a76e-2e3ef443312f"
            },
            "text/plain": "StatementMeta(Nurture, 1296, 14, Finished, Available)"
          },
          "metadata": {}
        }
      ],
      "execution_count": 102,
      "metadata": {
        "jupyter": {
          "source_hidden": false,
          "outputs_hidden": false
        },
        "nteract": {
          "transient": {
            "deleting": false
          }
        }
      }
    },
    {
      "cell_type": "markdown",
      "source": [
        "REMOVE SPECIAL CHARACTERS AS A PREPROCESSING STEP"
      ],
      "metadata": {
        "nteract": {
          "transient": {
            "deleting": false
          }
        }
      }
    },
    {
      "cell_type": "code",
      "source": [
        "df_clean = df_hist4.withColumn(\"Candidate_job_title\", lower(regexp_replace(\"Candidate_job_title\", \"[^a-zA-Z0-9\\\\s]\", \"\")))\n",
        "df_clean.show()"
      ],
      "outputs": [
        {
          "output_type": "display_data",
          "data": {
            "application/vnd.livy.statement-meta+json": {
              "spark_pool": "Nurture",
              "session_id": "1296",
              "statement_id": 15,
              "state": "finished",
              "livy_statement_state": "available",
              "queued_time": "2023-09-27T21:29:38.7011737Z",
              "session_start_time": null,
              "execution_start_time": "2023-09-27T21:30:52.8603139Z",
              "execution_finish_time": "2023-09-27T21:30:53.4146557Z",
              "spark_jobs": null,
              "parent_msg_id": "3f04ec66-7877-4200-a9a1-cd42cf8af491"
            },
            "text/plain": "StatementMeta(Nurture, 1296, 15, Finished, Available)"
          },
          "metadata": {}
        },
        {
          "output_type": "stream",
          "name": "stdout",
          "text": [
            "+--------------------+--------------------+--------------------+--------------------+--------------+------------+--------+\n|                  ID|      WorkHistory_ID|   Candidate_contact| Candidate_job_title|Cnd_start_date|Cnd_end_date|Duration|\n+--------------------+--------------------+--------------------+--------------------+--------------+------------+--------+\n|6ae7162b-104e-eb1...|6ae7162b-104e-eb1...|14c6701e-104e-eb1...|        data analyst|    2019-05-01|  2020-08-01|      16|\n|44e4bc29-104e-eb1...|44e4bc29-104e-eb1...|03c6701e-104e-eb1...|reporting and dat...|    2017-01-01|        null|    null|\n|71e7162b-104e-eb1...|71e7162b-104e-eb1...|14c6701e-104e-eb1...|             analyst|    2018-04-01|  2019-05-01|      14|\n|76e7162b-104e-eb1...|76e7162b-104e-eb1...|03c6701e-104e-eb1...|data and process ...|    2015-07-01|  2017-01-01|      19|\n|53e4bc29-104e-eb1...|53e4bc29-104e-eb1...|14c6701e-104e-eb1...|           associate|    2017-05-01|  2018-03-01|      10|\n|5de4bc29-104e-eb1...|5de4bc29-104e-eb1...|14c6701e-104e-eb1...|risk analyst  ris...|    2016-05-01|  2017-03-01|      10|\n|7ee7162b-104e-eb1...|7ee7162b-104e-eb1...|03c6701e-104e-eb1...|analystprogrammer...|    1990-02-01|  2015-07-01|     331|\n|9f2bd42f-104e-eb1...|9f2bd42f-104e-eb1...|14c6701e-104e-eb1...|      risk assistant|    2015-11-01|  2016-05-01|       6|\n|a92bd42f-104e-eb1...|a92bd42f-104e-eb1...|14c6701e-104e-eb1...|   finance assistant|    2015-08-01|  2015-10-01|       2|\n|43b9cc35-104e-eb1...|43b9cc35-104e-eb1...|e1a4d169-bc08-eb1...|cs operations dat...|    2019-01-01|  2020-01-01|      13|\n|4bb9cc35-104e-eb1...|4bb9cc35-104e-eb1...|e1a4d169-bc08-eb1...|data analyst manager|    2012-01-01|  2019-01-01|      91|\n|607e8f37-104e-eb1...|607e8f37-104e-eb1...|e1a4d169-bc08-eb1...|data analysis con...|    2005-01-01|  2007-01-01|      26|\n|59b9cc35-104e-eb1...|59b9cc35-104e-eb1...|e1a4d169-bc08-eb1...| senior data analyst|    2007-01-01|  2012-01-01|      65|\n|66b9cc35-104e-eb1...|66b9cc35-104e-eb1...|e1a4d169-bc08-eb1...|     account manager|    2001-01-01|  2002-01-01|      13|\n|72b9cc35-104e-eb1...|72b9cc35-104e-eb1...|e1a4d169-bc08-eb1...|senior marketing ...|    1999-01-01|  2001-01-01|      26|\n|697e8f37-104e-eb1...|697e8f37-104e-eb1...|e1a4d169-bc08-eb1...|   marketing analyst|    1998-01-01|  1999-01-01|      13|\n|720e14d9-104e-eb1...|720e14d9-104e-eb1...|aea2d6ce-104e-eb1...|        data analyst|    2019-03-01|        null|    null|\n|7d0e14d9-104e-eb1...|7d0e14d9-104e-eb1...|aea2d6ce-104e-eb1...|        data analyst|    2017-10-01|  2019-02-01|      17|\n|870e14d9-104e-eb1...|870e14d9-104e-eb1...|aea2d6ce-104e-eb1...|  research assistant|    2017-02-01|  2017-07-01|       5|\n|900e14d9-104e-eb1...|900e14d9-104e-eb1...|71c012cd-104e-eb1...|data analyst  tab...|    2015-01-01|        null|    null|\n+--------------------+--------------------+--------------------+--------------------+--------------+------------+--------+\nonly showing top 20 rows\n\n"
          ]
        }
      ],
      "execution_count": 103,
      "metadata": {
        "jupyter": {
          "source_hidden": false,
          "outputs_hidden": false
        },
        "nteract": {
          "transient": {
            "deleting": false
          }
        },
        "ms_comments": [
          {
            "threadId": "63e2cb31-12c4-4df0-bd41-e29f9e473c72",
            "text": "Clean up the column by removing special characters and punctuations, as well as converting the strings to lower case",
            "status": "active",
            "user": {
              "name": "Benedict Ibe",
              "idType": "aad"
            },
            "createdDateUTC": 1690493055834,
            "modifiedDateUTC": 1690493055834,
            "replies": []
          }
        ],
        "ms_comment_ranges": {
          "63e2cb31-12c4-4df0-bd41-e29f9e473c72": {
            "text": "show",
            "start": {
              "line": 2,
              "column": 10
            },
            "end": {
              "line": 2,
              "column": 14
            }
          }
        }
      }
    },
    {
      "cell_type": "markdown",
      "source": [
        "TREAT NULL VALUES"
      ],
      "metadata": {
        "nteract": {
          "transient": {
            "deleting": false
          }
        }
      }
    },
    {
      "cell_type": "code",
      "source": [
        "#Treat null values in the Candidate_job_title\r\n",
        "df_clean2 = df_clean.na.drop(subset=[\"Candidate_job_title\"])"
      ],
      "outputs": [
        {
          "output_type": "display_data",
          "data": {
            "application/vnd.livy.statement-meta+json": {
              "spark_pool": "Nurture",
              "session_id": "1296",
              "statement_id": 16,
              "state": "finished",
              "livy_statement_state": "available",
              "queued_time": "2023-09-27T21:29:39.1119631Z",
              "session_start_time": null,
              "execution_start_time": "2023-09-27T21:30:53.5747954Z",
              "execution_finish_time": "2023-09-27T21:30:53.7463973Z",
              "spark_jobs": null,
              "parent_msg_id": "bbd2876c-e5ed-4df2-99f9-0f3f603f3274"
            },
            "text/plain": "StatementMeta(Nurture, 1296, 16, Finished, Available)"
          },
          "metadata": {}
        }
      ],
      "execution_count": 104,
      "metadata": {
        "jupyter": {
          "source_hidden": false,
          "outputs_hidden": false
        },
        "nteract": {
          "transient": {
            "deleting": false
          }
        },
        "ms_comments": [
          {
            "threadId": "7b067015-5c9e-4054-9437-605854d07240",
            "text": "Remove missing values",
            "status": "active",
            "user": {
              "name": "Benedict Ibe",
              "idType": "aad"
            },
            "createdDateUTC": 1690493130964,
            "modifiedDateUTC": 1690493130964,
            "replies": []
          }
        ],
        "ms_comment_ranges": {
          "7b067015-5c9e-4054-9437-605854d07240": {
            "text": "na",
            "start": {
              "line": 2,
              "column": 22
            },
            "end": {
              "line": 2,
              "column": 24
            }
          }
        }
      }
    },
    {
      "cell_type": "markdown",
      "source": [
        "LOAD THE SAMPLE DATA TO BE USED FOR TRAINING"
      ],
      "metadata": {
        "nteract": {
          "transient": {
            "deleting": false
          }
        }
      }
    },
    {
      "cell_type": "code",
      "source": [
        "%%pyspark\n",
        "df_salaries = spark.read.load('abfss://landing@esgadls2.dfs.core.windows.net/salaries_clean.csv', format='csv'\n",
        ",header=True\n",
        ")\n",
        "df_salaries.show()"
      ],
      "outputs": [
        {
          "output_type": "display_data",
          "data": {
            "application/vnd.livy.statement-meta+json": {
              "spark_pool": "Nurture",
              "session_id": "1296",
              "statement_id": 17,
              "state": "finished",
              "livy_statement_state": "available",
              "queued_time": "2023-09-27T21:29:39.6105086Z",
              "session_start_time": null,
              "execution_start_time": "2023-09-27T21:30:53.9064411Z",
              "execution_finish_time": "2023-09-27T21:30:55.0702879Z",
              "spark_jobs": null,
              "parent_msg_id": "89a33fec-1147-4e71-9a31-ad3c6fd25d1c"
            },
            "text/plain": "StatementMeta(Nurture, 1296, 17, Finished, Available)"
          },
          "metadata": {}
        },
        {
          "output_type": "stream",
          "name": "stdout",
          "text": [
            "+-----+---------+--------------------+------------------+--------------+----------------+-----------------+------------------+--------------------+------------------+--------------+----------------------+-------------------------+---------------+-------------+------------+-----------------+--------------------+-------------+\n|index|salary_id|       employer_name|     location_name|location_state|location_country|location_latitude|location_longitude|           job_title|job_title_category|job_title_rank|total_experience_years|employer_experience_years|annual_base_pay|signing_bonus|annual_bonus|stock_value_bonus|            comments| submitted_at|\n+-----+---------+--------------------+------------------+--------------+----------------+-----------------+------------------+--------------------+------------------+--------------+----------------------+-------------------------+---------------+-------------+------------+-----------------+--------------------+-------------+\n|    0|        1|              opower| san francisco, ca|            CA|              US|            37.77|           -122.41|    systems engineer|       Engineering|          null|                  13.0|                      2.0|       125000.0|       5000.0|         0.0|      5000 shares|    Don't work here.|3/21/16 12:58|\n|    1|        3|             walmart|   bentonville, ar|            AR|              US|            36.36|             -94.2|    senior developer|          Software|        Senior|                  15.0|                      8.0|        65000.0|         null|      5000.0|            3,000|                null|3/21/16 12:58|\n|    2|        4|  vertical knowledge|     cleveland, oh|            OH|              US|            41.47|            -81.67|   software engineer|          Software|          null|                   4.0|                      1.0|        86000.0|       5000.0|      6000.0|                0|                null|3/21/16 12:59|\n|    3|        6|              netapp|           waltham|          null|            null|             null|              null|                 mts|             Other|          null|                   4.0|                      0.0|       105000.0|       5000.0|      8500.0|                0|                null|3/21/16 13:00|\n|    4|       12|               apple|         cupertino|          null|            null|             null|              null|   software engineer|          Software|          null|                   4.0|                      3.0|       110000.0|       5000.0|      7000.0|           150000|                null|3/21/16 13:02|\n|    5|       14|              casino|    eastern oregon|            OR|              US|             38.0|             -97.0|       it technician|             Other|          null|                   5.0|                      1.5|        40000.0|          0.0|       500.0|                0|                null|3/21/16 13:03|\n|    6|       16|          tetra tech|       madison, wi|            WI|              US|             43.1|             -89.5|    lead interviewer|             Other|          null|                   4.0|                      2.5|        45000.0|          0.0|      1500.0|             null|                null|3/21/16 13:03|\n|    7|       17|             knewton|     new york city|            NY|              US|             38.0|             -97.0|senior software e...|          Software|        Senior|                   8.0|                      2.0|       135000.0|          0.0|         0.0|             null|                null|3/21/16 13:03|\n|    8|       21|             amplify|               nyc|          null|            null|             null|              null|   software engineer|          Software|          null|                   2.0|                      1.0|       105000.0|          0.0|     47000.0|                0|                null|3/21/16 13:04|\n|    9|       23|                sqor|     san francisco|          null|            null|             null|              null|infrastructure/pl...|       Engineering|          null|                   1.0|                      1.0|        80000.0|          0.0|         0.0|              500|                null|3/21/16 13:04|\n|   10|       24|pensco trust company|        denver, co|            CO|              US|            39.82|            -105.1|senior software e...|          Software|        Senior|                  10.0|                      1.5|       120000.0|          0.0|      6000.0|                0|                null|3/21/16 13:04|\n|   11|       25|        thoughtworks|           chicago|          null|            null|             null|              null|software develope...|          Software|          null|                   2.0|                      2.0|        78000.0|          0.0|         0.0|                0|                null|3/21/16 13:04|\n|   12|       30|              purdue|west lafayette, in|            IN|              US|            40.44|            -86.91|       web developer|               Web|          null|                   2.0|                      1.5|        60000.0|         null|        null|             null|Discounted educat...|3/21/16 13:05|\n|   13|       34|   small b2b company|       minneapolis|          null|            null|             null|              null|             analyst|              Data|          null|                   4.0|                      1.0|        63000.0|          0.0|      2000.0|                0|                null|3/21/16 13:05|\n|   14|       35|   small b2b company|       minneapolis|          null|            null|             null|              null|             analyst|              Data|          null|                   4.0|                      1.0|        63000.0|          0.0|      2000.0|                0|                null|3/21/16 13:05|\n|   15|       36|                sqli|          bordeaux|          null|            null|             null|              null|  it project manager|        Management|          null|                   8.0|                      3.0|           38.0|          0.0|         0.0|                0|                null|3/21/16 13:05|\n|   16|       37|              slalom|           seattle|          null|            null|             null|              null|     senior engineer|       Engineering|        Senior|                   5.0|                      1.0|        93000.0|          0.0|     15000.0|                0|                null|3/21/16 13:05|\n|   17|       39|    magento commerce|    charleston, sc|            SC|              US|            32.78|            -79.99|member of technic...|             Other|          null|                  19.0|                      1.0|       131000.0|         null|        null|            80000|              Remote|3/21/16 13:06|\n|   18|       40|              oracle|   bala cynwyd, pa|            PA|              US|            40.01|            -75.22|student intern co-op|             Other|        Intern|                   0.0|                      0.0|           24.0|          0.0|         0.0|               $0|                null|3/21/16 13:06|\n|   19|       45|               klick|   toronto, canada|          null|              CA|             60.0|             -95.0|full stack developer|               Web|          null|                   5.0|                      3.0|        85000.0|          0.0|      5000.0|                0|                null|3/21/16 13:06|\n+-----+---------+--------------------+------------------+--------------+----------------+-----------------+------------------+--------------------+------------------+--------------+----------------------+-------------------------+---------------+-------------+------------+-----------------+--------------------+-------------+\nonly showing top 20 rows\n\n"
          ]
        }
      ],
      "execution_count": 105,
      "metadata": {
        "jupyter": {
          "source_hidden": false,
          "outputs_hidden": false
        },
        "nteract": {
          "transient": {
            "deleting": false
          }
        },
        "microsoft": {
          "language": "python"
        },
        "ms_comments": [
          {
            "threadId": "0980b606-f9b7-4c8d-b56b-1f29d8e703ff",
            "text": "Load a sample dataset which we downloaded from kaggle to be used in training the data.",
            "status": "active",
            "user": {
              "name": "Benedict Ibe",
              "idType": "aad"
            },
            "createdDateUTC": 1690493194785,
            "modifiedDateUTC": 1690493194785,
            "replies": []
          }
        ],
        "ms_comment_ranges": {
          "0980b606-f9b7-4c8d-b56b-1f29d8e703ff": {
            "text": ")",
            "start": {
              "line": 4,
              "column": 1
            },
            "end": {
              "line": 4,
              "column": 2
            }
          }
        }
      }
    },
    {
      "cell_type": "code",
      "source": [
        "df_train = df_salaries.select('job_title', 'job_title_category')\n",
        "df_train.show()"
      ],
      "outputs": [
        {
          "output_type": "display_data",
          "data": {
            "application/vnd.livy.statement-meta+json": {
              "spark_pool": "Nurture",
              "session_id": "1296",
              "statement_id": 18,
              "state": "finished",
              "livy_statement_state": "available",
              "queued_time": "2023-09-27T21:29:40.0918291Z",
              "session_start_time": null,
              "execution_start_time": "2023-09-27T21:30:55.2212236Z",
              "execution_finish_time": "2023-09-27T21:30:55.7630831Z",
              "spark_jobs": null,
              "parent_msg_id": "086f559f-f0ab-4107-b958-02dafdf4c901"
            },
            "text/plain": "StatementMeta(Nurture, 1296, 18, Finished, Available)"
          },
          "metadata": {}
        },
        {
          "output_type": "stream",
          "name": "stdout",
          "text": [
            "+--------------------+------------------+\n|           job_title|job_title_category|\n+--------------------+------------------+\n|    systems engineer|       Engineering|\n|    senior developer|          Software|\n|   software engineer|          Software|\n|                 mts|             Other|\n|   software engineer|          Software|\n|       it technician|             Other|\n|    lead interviewer|             Other|\n|senior software e...|          Software|\n|   software engineer|          Software|\n|infrastructure/pl...|       Engineering|\n|senior software e...|          Software|\n|software develope...|          Software|\n|       web developer|               Web|\n|             analyst|              Data|\n|             analyst|              Data|\n|  it project manager|        Management|\n|     senior engineer|       Engineering|\n|member of technic...|             Other|\n|student intern co-op|             Other|\n|full stack developer|               Web|\n+--------------------+------------------+\nonly showing top 20 rows\n\n"
          ]
        }
      ],
      "execution_count": 106,
      "metadata": {
        "jupyter": {
          "source_hidden": false,
          "outputs_hidden": false
        },
        "nteract": {
          "transient": {
            "deleting": false
          }
        },
        "ms_comments": [
          {
            "threadId": "765b7e67-f6c2-4658-9288-f64f37ca3dd4",
            "text": "Select the required column from the sample dataset",
            "status": "active",
            "user": {
              "name": "Benedict Ibe",
              "idType": "aad"
            },
            "createdDateUTC": 1690493233745,
            "modifiedDateUTC": 1690493233745,
            "replies": []
          }
        ],
        "ms_comment_ranges": {
          "765b7e67-f6c2-4658-9288-f64f37ca3dd4": {
            "text": "job_title",
            "start": {
              "line": 1,
              "column": 32
            },
            "end": {
              "line": 1,
              "column": 41
            }
          }
        }
      }
    },
    {
      "cell_type": "code",
      "source": [
        "from pyspark.sql.functions import col, when"
      ],
      "outputs": [
        {
          "output_type": "display_data",
          "data": {
            "application/vnd.livy.statement-meta+json": {
              "spark_pool": "Nurture",
              "session_id": "1296",
              "statement_id": 19,
              "state": "finished",
              "livy_statement_state": "available",
              "queued_time": "2023-09-27T21:29:41.0113181Z",
              "session_start_time": null,
              "execution_start_time": "2023-09-27T21:30:55.9583734Z",
              "execution_finish_time": "2023-09-27T21:30:56.1149448Z",
              "spark_jobs": null,
              "parent_msg_id": "99be99ae-a800-46f8-a48b-56385591f175"
            },
            "text/plain": "StatementMeta(Nurture, 1296, 19, Finished, Available)"
          },
          "metadata": {}
        }
      ],
      "execution_count": 107,
      "metadata": {
        "jupyter": {
          "source_hidden": false,
          "outputs_hidden": false
        },
        "nteract": {
          "transient": {
            "deleting": false
          }
        }
      }
    },
    {
      "cell_type": "code",
      "source": [
        "#Treat null values in the job title column\r\n",
        "dfTrain_clean2 = df_train.na.drop(subset=[\"job_title\"])"
      ],
      "outputs": [
        {
          "output_type": "display_data",
          "data": {
            "application/vnd.livy.statement-meta+json": {
              "spark_pool": "Nurture",
              "session_id": "1296",
              "statement_id": 20,
              "state": "finished",
              "livy_statement_state": "available",
              "queued_time": "2023-09-27T21:29:41.4695787Z",
              "session_start_time": null,
              "execution_start_time": "2023-09-27T21:30:56.2727477Z",
              "execution_finish_time": "2023-09-27T21:30:56.4493441Z",
              "spark_jobs": null,
              "parent_msg_id": "fb0bbb63-463f-4e59-83c3-52f2d7ca3bdd"
            },
            "text/plain": "StatementMeta(Nurture, 1296, 20, Finished, Available)"
          },
          "metadata": {}
        }
      ],
      "execution_count": 108,
      "metadata": {
        "jupyter": {
          "source_hidden": false,
          "outputs_hidden": false
        },
        "nteract": {
          "transient": {
            "deleting": false
          }
        },
        "ms_comments": [
          {
            "threadId": "d3806602-21bb-445e-acfa-a063bb200986",
            "text": "Treat missing values in the dataset",
            "status": "active",
            "user": {
              "name": "Benedict Ibe",
              "idType": "aad"
            },
            "createdDateUTC": 1690493262619,
            "modifiedDateUTC": 1690493262619,
            "replies": []
          }
        ],
        "ms_comment_ranges": {
          "d3806602-21bb-445e-acfa-a063bb200986": {
            "text": "[\"job_title",
            "start": {
              "line": 2,
              "column": 42
            },
            "end": {
              "line": 2,
              "column": 53
            }
          }
        }
      }
    },
    {
      "cell_type": "code",
      "source": [
        "#prepare the dataset by converting cell to its appropriate general form\n",
        "df_train2 = dfTrain_clean2.withColumn(\"job_title_category\",\n",
        "                   when(col(\"job_title\").rlike(\"analyst\"), \"Data Analyst\")\n",
        "                   .when(col(\"job_title\").rlike(\"data engineer\"), \"Data Engineer\")\n",
        "                   .when(col(\"job_title\").rlike(\"data architect\"), \"Data Architect\")\n",
        "                   .when(col(\"job_title\").rlike(\"data scientist\"), \"Data Science\")\n",
        "                   .when(col(\"job_title\").rlike(\"database\"), \"Data Management\")\n",
        "                   .when(col(\"job_title\").rlike(\"visualization\"), \"Data Analyst\")\n",
        "                   .otherwise(col(\"job_title_category\"))\n",
        "                  )"
      ],
      "outputs": [
        {
          "output_type": "display_data",
          "data": {
            "application/vnd.livy.statement-meta+json": {
              "spark_pool": "Nurture",
              "session_id": "1296",
              "statement_id": 21,
              "state": "finished",
              "livy_statement_state": "available",
              "queued_time": "2023-09-27T21:29:41.8493511Z",
              "session_start_time": null,
              "execution_start_time": "2023-09-27T21:30:56.6130717Z",
              "execution_finish_time": "2023-09-27T21:30:56.7731028Z",
              "spark_jobs": null,
              "parent_msg_id": "8b313983-7e12-498f-9508-b0ecdb35c015"
            },
            "text/plain": "StatementMeta(Nurture, 1296, 21, Finished, Available)"
          },
          "metadata": {}
        }
      ],
      "execution_count": 109,
      "metadata": {
        "jupyter": {
          "source_hidden": false,
          "outputs_hidden": false
        },
        "nteract": {
          "transient": {
            "deleting": false
          }
        },
        "ms_comments": [
          {
            "threadId": "d984bd50-b7f9-44b1-a1dd-3384a699ff35",
            "text": "prepare the dataset by converting cell to its appropriate general form",
            "status": "active",
            "user": {
              "name": "Benedict Ibe",
              "idType": "aad"
            },
            "createdDateUTC": 1690493326072,
            "modifiedDateUTC": 1690493326072,
            "replies": []
          }
        ],
        "ms_comment_ranges": {
          "d984bd50-b7f9-44b1-a1dd-3384a699ff35": {
            "text": "     when",
            "start": {
              "line": 3,
              "column": 15
            },
            "end": {
              "line": 3,
              "column": 24
            }
          }
        }
      }
    },
    {
      "cell_type": "code",
      "source": [
        "df_train2.show(200)"
      ],
      "outputs": [
        {
          "output_type": "display_data",
          "data": {
            "application/vnd.livy.statement-meta+json": {
              "spark_pool": "Nurture",
              "session_id": "1296",
              "statement_id": 22,
              "state": "finished",
              "livy_statement_state": "available",
              "queued_time": "2023-09-27T21:29:42.2612651Z",
              "session_start_time": null,
              "execution_start_time": "2023-09-27T21:30:56.9346983Z",
              "execution_finish_time": "2023-09-27T21:30:57.4983911Z",
              "spark_jobs": null,
              "parent_msg_id": "e7c33216-17e2-4003-a412-e689a6dd544e"
            },
            "text/plain": "StatementMeta(Nurture, 1296, 22, Finished, Available)"
          },
          "metadata": {}
        },
        {
          "output_type": "stream",
          "name": "stdout",
          "text": [
            "+--------------------+------------------+\n|           job_title|job_title_category|\n+--------------------+------------------+\n|    systems engineer|       Engineering|\n|    senior developer|          Software|\n|   software engineer|          Software|\n|                 mts|             Other|\n|   software engineer|          Software|\n|       it technician|             Other|\n|    lead interviewer|             Other|\n|senior software e...|          Software|\n|   software engineer|          Software|\n|infrastructure/pl...|       Engineering|\n|senior software e...|          Software|\n|software develope...|          Software|\n|       web developer|               Web|\n|             analyst|      Data Analyst|\n|             analyst|      Data Analyst|\n|  it project manager|        Management|\n|     senior engineer|       Engineering|\n|member of technic...|             Other|\n|student intern co-op|             Other|\n|full stack developer|               Web|\n|           developer|          Software|\n|                sde1|          Software|\n|      senior analyst|      Data Analyst|\n|   software engineer|          Software|\n|         sr engineer|       Engineering|\n|   software engineer|          Software|\n|    senior developer|          Software|\n|  software developer|          Software|\n|       ios developer|          Software|\n|associate softwar...|          Software|\n|steam turbine ser...|       Engineering|\n|     senior engineer|       Engineering|\n|       web developer|               Web|\n|product developme...|          Software|\n|       it programmer|             Other|\n| director of product|        Management|\n|            engineer|       Engineering|\n|   software engineer|          Software|\n|   software engineer|          Software|\n|           architect|             Other|\n|investment profes...|             Other|\n|software engineer...|          Software|\n|       teir two tech|             Other|\n|consultant, cto a...|             Other|\n|       web developer|               Web|\n|    software analyst|      Data Analyst|\n|     python engineer|       Engineering|\n|site reliability ...|       Engineering|\n|  software developer|          Software|\n|   solution eningeer|             Other|\n|    business analyst|      Data Analyst|\n|system administrator|        Management|\n| software engineer 1|          Software|\n|               horny|             Other|\n|   software engineer|          Software|\n|         phd student|             Other|\n|                 sde|          Software|\n|      perl developer|          Software|\n|software developm...|          Software|\n|web developer gen...|               Web|\n|      linux engineer|       Engineering|\n|software engineer...|          Software|\n|  software developer|          Software|\n|  software developer|          Software|\n|          consultant|             Other|\n|    senior developer|          Software|\n|programmer analys...|      Data Analyst|\n|         phd student|             Other|\n|         m&a analyst|      Data Analyst|\n|   software engineer|          Software|\n|senior software e...|          Software|\n|   software engineer|          Software|\n|software engineer...|          Software|\n|       consultant ii|             Other|\n|senior software e...|          Software|\n|senior applicatio...|          Software|\n|content strategis...|             Other|\n|senior web developer|               Web|\n|senior software d...|          Software|\n|   software engineer|          Software|\n|senior data engineer|     Data Engineer|\n|     senior java dev|             Other|\n|              sde ii|          Software|\n|             swe iii|          Software|\n|        developer ii|          Software|\n|senior system eng...|       Engineering|\n|      ux designer ii|             Other|\n|principal/lead so...|          Software|\n|     sales assistant|             Other|\n|computer hardware...|       Engineering|\n|senior software e...|          Software|\n|software engineer...|          Software|\n|      ux designer ii|             Other|\n|   software engineer|          Software|\n|senior software e...|          Software|\n|  software developer|          Software|\n| software engineer 2|          Software|\n|       lead engineer|       Engineering|\n|            engineer|       Engineering|\n|  software developer|          Software|\n|               owner|             Other|\n|             sr. mts|             Other|\n|               sdeii|          Software|\n|senior software d...|          Software|\n|senior software e...|          Software|\n|   software engineer|          Software|\n|  software developer|          Software|\n|                 cto|        Management|\n|        fp&a analyst|      Data Analyst|\n|   software engineer|          Software|\n|senior software e...|          Software|\n|              intern|             Other|\n|   software engineer|          Software|\n|senior software e...|          Software|\n|   software engineer|          Software|\n|application engineer|       Engineering|\n|   software engineer|          Software|\n|  software developer|          Software|\n|  financial engineer|       Engineering|\n|   software engineer|          Software|\n|                 sde|          Software|\n|     agent developer|          Software|\n|senior security e...|       Engineering|\n|              sde ii|          Software|\n|robotics/embedded...|       Engineering|\n|   software engineer|          Software|\n|senior software e...|          Software|\n|   software engineer|          Software|\n|software engineer ii|          Software|\n|data engineer/sof...|     Data Engineer|\n|        consultant 2|             Other|\n|                lead|             Other|\n|member of technic...|             Other|\n|3d graphics engineer|       Engineering|\n|  software developer|          Software|\n|data visualizatio...|      Data Analyst|\n| operations engineer|       Engineering|\n|senior software e...|          Software|\n| full stack engineer|               Web|\n| software engineer 2|          Software|\n|it support techni...|             Other|\n|microsoft develop...|          Software|\n|      data scientist|      Data Science|\n|  software developer|          Software|\n|               sde i|          Software|\n|application devel...|          Software|\n|                 ceo|        Management|\n|   software engineer|          Software|\n|   software engineer|          Software|\n|           developer|          Software|\n|senior backend en...|       Engineering|\n| solutions architect|             Other|\n|  software developer|          Software|\n|sr. software engi...|          Software|\n|    junior developer|          Software|\n|    support engineer|       Engineering|\n|analyst (technology)|      Data Analyst|\n|      data scientist|      Data Science|\n|  internal help desk|             Other|\n|senior software d...|          Software|\n|  software developer|          Software|\n|             postdoc|             Other|\n|          senior sde|          Software|\n| data mining analyst|      Data Analyst|\n|             analyst|      Data Analyst|\n|            engineer|       Engineering|\n|               sde 2|          Software|\n|    senior developer|          Software|\n|          consultant|             Other|\n|            engineer|       Engineering|\n|             pitcher|             Other|\n| chief of technology|             Other|\n|peoplesoft admini...|        Management|\n|   software engineer|          Software|\n|   software engineer|          Software|\n|   software engineer|          Software|\n|          consultant|             Other|\n|          consultant|             Other|\n|                test|             Other|\n|secondary cluster...|        Management|\n|     techops manager|        Management|\n|   software engineer|          Software|\n|senior software e...|          Software|\n|senior software e...|          Software|\n|          programmer|             Other|\n|              sde ii|          Software|\n|   software engineer|          Software|\n|     product manager|        Management|\n|      data scientist|      Data Science|\n| managing consultant|             Other|\n| sr. product manager|        Management|\n|principle member ...|             Other|\n|software developm...|          Software|\n|senior software e...|          Software|\n|  software developer|          Software|\n|senior software e...|          Software|\n|   software engineer|          Software|\n|software developm...|          Software|\n|   software engineer|          Software|\n|web solutions eng...|               Web|\n+--------------------+------------------+\nonly showing top 200 rows\n\n"
          ]
        }
      ],
      "execution_count": 110,
      "metadata": {
        "jupyter": {
          "source_hidden": false,
          "outputs_hidden": true
        },
        "nteract": {
          "transient": {
            "deleting": false
          }
        }
      }
    },
    {
      "cell_type": "markdown",
      "source": [
        "USE RANDOM FOREST TEXT CLASSIFICATION TO CATEGORIZE THE JOB_TITLE COLUMN"
      ],
      "metadata": {
        "nteract": {
          "transient": {
            "deleting": false
          }
        }
      }
    },
    {
      "cell_type": "code",
      "source": [
        "from pyspark.ml.feature import CountVectorizer, StringIndexer, IndexToString\n",
        "from pyspark.ml import Pipeline\n",
        "from pyspark.ml.classification import RandomForestClassifier\n",
        "from pyspark.ml.evaluation import MulticlassClassificationEvaluator\n",
        "from pyspark.sql.functions import col"
      ],
      "outputs": [
        {
          "output_type": "display_data",
          "data": {
            "application/vnd.livy.statement-meta+json": {
              "spark_pool": "Nurture",
              "session_id": "1296",
              "statement_id": 23,
              "state": "finished",
              "livy_statement_state": "available",
              "queued_time": "2023-09-27T21:29:42.7129029Z",
              "session_start_time": null,
              "execution_start_time": "2023-09-27T21:30:57.6586778Z",
              "execution_finish_time": "2023-09-27T21:30:57.818276Z",
              "spark_jobs": null,
              "parent_msg_id": "b2f973d5-cd17-4afe-b0a0-84f7fb40e395"
            },
            "text/plain": "StatementMeta(Nurture, 1296, 23, Finished, Available)"
          },
          "metadata": {}
        }
      ],
      "execution_count": 111,
      "metadata": {
        "jupyter": {
          "source_hidden": false,
          "outputs_hidden": false
        },
        "nteract": {
          "transient": {
            "deleting": false
          }
        }
      }
    },
    {
      "cell_type": "markdown",
      "source": [
        "Encode the column values from categorical to numerical using string indexer, so as to be suitable for running the model"
      ],
      "metadata": {
        "nteract": {
          "transient": {
            "deleting": false
          }
        }
      }
    },
    {
      "cell_type": "code",
      "source": [
        "Indexer = StringIndexer(inputCol=\"job_title_category\", outputCol=\"indexedLabel\").fit(df_train2)"
      ],
      "outputs": [
        {
          "output_type": "display_data",
          "data": {
            "application/vnd.livy.statement-meta+json": {
              "spark_pool": "Nurture",
              "session_id": "1296",
              "statement_id": 24,
              "state": "finished",
              "livy_statement_state": "available",
              "queued_time": "2023-09-27T21:29:43.090991Z",
              "session_start_time": null,
              "execution_start_time": "2023-09-27T21:30:57.9668117Z",
              "execution_finish_time": "2023-09-27T21:31:02.0414332Z",
              "spark_jobs": null,
              "parent_msg_id": "ac2cfbdd-cba6-4aee-90e3-5d601b6c6409"
            },
            "text/plain": "StatementMeta(Nurture, 1296, 24, Finished, Available)"
          },
          "metadata": {}
        }
      ],
      "execution_count": 112,
      "metadata": {
        "jupyter": {
          "source_hidden": false,
          "outputs_hidden": false
        },
        "nteract": {
          "transient": {
            "deleting": false
          }
        }
      }
    },
    {
      "cell_type": "markdown",
      "source": [
        "Transform the training data with the encoded data"
      ],
      "metadata": {
        "nteract": {
          "transient": {
            "deleting": false
          }
        }
      }
    },
    {
      "cell_type": "code",
      "source": [
        "trainingDataIndexed = Indexer.transform(df_train2)"
      ],
      "outputs": [
        {
          "output_type": "display_data",
          "data": {
            "application/vnd.livy.statement-meta+json": {
              "spark_pool": "Nurture",
              "session_id": "1296",
              "statement_id": 25,
              "state": "finished",
              "livy_statement_state": "available",
              "queued_time": "2023-09-27T21:29:43.4804185Z",
              "session_start_time": null,
              "execution_start_time": "2023-09-27T21:31:02.2170049Z",
              "execution_finish_time": "2023-09-27T21:31:02.3867024Z",
              "spark_jobs": null,
              "parent_msg_id": "a6f899e4-ad7b-4cf5-b9bb-f1326e3fb0de"
            },
            "text/plain": "StatementMeta(Nurture, 1296, 25, Finished, Available)"
          },
          "metadata": {}
        }
      ],
      "execution_count": 113,
      "metadata": {
        "jupyter": {
          "source_hidden": false,
          "outputs_hidden": false
        },
        "nteract": {
          "transient": {
            "deleting": false
          }
        }
      }
    },
    {
      "cell_type": "markdown",
      "source": [
        "Store the encoded data (indexedLabel) into the labelCopy column created"
      ],
      "metadata": {
        "nteract": {
          "transient": {
            "deleting": false
          }
        }
      }
    },
    {
      "cell_type": "code",
      "source": [
        "training_data_indexed = trainingDataIndexed.withColumn(\"labelCopy\", col(\"indexedLabel\"))"
      ],
      "outputs": [
        {
          "output_type": "display_data",
          "data": {
            "application/vnd.livy.statement-meta+json": {
              "spark_pool": "Nurture",
              "session_id": "1296",
              "statement_id": 26,
              "state": "finished",
              "livy_statement_state": "available",
              "queued_time": "2023-09-27T21:29:44.0616896Z",
              "session_start_time": null,
              "execution_start_time": "2023-09-27T21:31:02.5411389Z",
              "execution_finish_time": "2023-09-27T21:31:02.7048842Z",
              "spark_jobs": null,
              "parent_msg_id": "fe430403-1d88-4767-8514-2afaec136cff"
            },
            "text/plain": "StatementMeta(Nurture, 1296, 26, Finished, Available)"
          },
          "metadata": {}
        }
      ],
      "execution_count": 114,
      "metadata": {
        "jupyter": {
          "source_hidden": false,
          "outputs_hidden": false
        },
        "nteract": {
          "transient": {
            "deleting": false
          }
        }
      }
    },
    {
      "cell_type": "markdown",
      "source": [
        "Tokenize the training data"
      ],
      "metadata": {
        "nteract": {
          "transient": {
            "deleting": false
          }
        }
      }
    },
    {
      "cell_type": "code",
      "source": [
        "tokenizer = Tokenizer(inputCol=\"job_title\", outputCol=\"words\")"
      ],
      "outputs": [
        {
          "output_type": "display_data",
          "data": {
            "application/vnd.livy.statement-meta+json": {
              "spark_pool": "Nurture",
              "session_id": "1296",
              "statement_id": 27,
              "state": "finished",
              "livy_statement_state": "available",
              "queued_time": "2023-09-27T21:29:44.9644002Z",
              "session_start_time": null,
              "execution_start_time": "2023-09-27T21:31:02.8811292Z",
              "execution_finish_time": "2023-09-27T21:31:03.0496665Z",
              "spark_jobs": null,
              "parent_msg_id": "ee8e265d-bd2a-4e7e-bc57-94591a363f73"
            },
            "text/plain": "StatementMeta(Nurture, 1296, 27, Finished, Available)"
          },
          "metadata": {}
        }
      ],
      "execution_count": 115,
      "metadata": {
        "jupyter": {
          "source_hidden": false,
          "outputs_hidden": false
        },
        "nteract": {
          "transient": {
            "deleting": false
          }
        },
        "tags": []
      }
    },
    {
      "cell_type": "markdown",
      "source": [
        "Aggregate other variables into a list called features"
      ],
      "metadata": {
        "nteract": {
          "transient": {
            "deleting": false
          }
        }
      }
    },
    {
      "cell_type": "code",
      "source": [
        "df_countVectorizer = CountVectorizer(inputCol=tokenizer.getOutputCol(), outputCol=\"features\")"
      ],
      "outputs": [
        {
          "output_type": "display_data",
          "data": {
            "application/vnd.livy.statement-meta+json": {
              "spark_pool": "Nurture",
              "session_id": "1296",
              "statement_id": 28,
              "state": "finished",
              "livy_statement_state": "available",
              "queued_time": "2023-09-27T21:29:45.5213891Z",
              "session_start_time": null,
              "execution_start_time": "2023-09-27T21:31:03.2094064Z",
              "execution_finish_time": "2023-09-27T21:31:03.3740671Z",
              "spark_jobs": null,
              "parent_msg_id": "a22696a5-018f-49b5-aaaa-8effdd5c3b50"
            },
            "text/plain": "StatementMeta(Nurture, 1296, 28, Finished, Available)"
          },
          "metadata": {}
        }
      ],
      "execution_count": 116,
      "metadata": {
        "jupyter": {
          "source_hidden": false,
          "outputs_hidden": false
        },
        "nteract": {
          "transient": {
            "deleting": false
          }
        },
        "tags": []
      }
    },
    {
      "cell_type": "code",
      "source": [
        "#Initialize the random forest algorithm\r\n",
        "df_rf = RandomForestClassifier(labelCol=\"labelCopy\", featuresCol=\"features\")"
      ],
      "outputs": [
        {
          "output_type": "display_data",
          "data": {
            "application/vnd.livy.statement-meta+json": {
              "spark_pool": "Nurture",
              "session_id": "1296",
              "statement_id": 29,
              "state": "finished",
              "livy_statement_state": "available",
              "queued_time": "2023-09-27T21:29:45.7842262Z",
              "session_start_time": null,
              "execution_start_time": "2023-09-27T21:31:03.5456936Z",
              "execution_finish_time": "2023-09-27T21:31:03.7041952Z",
              "spark_jobs": null,
              "parent_msg_id": "4b692d94-7426-4d47-8aea-fda10fe8de77"
            },
            "text/plain": "StatementMeta(Nurture, 1296, 29, Finished, Available)"
          },
          "metadata": {}
        }
      ],
      "execution_count": 117,
      "metadata": {
        "jupyter": {
          "source_hidden": false,
          "outputs_hidden": false
        },
        "nteract": {
          "transient": {
            "deleting": false
          }
        },
        "tags": []
      }
    },
    {
      "cell_type": "markdown",
      "source": [
        "Convert the encoded column back to the original string format, this works opposite with StringIndexer"
      ],
      "metadata": {
        "nteract": {
          "transient": {
            "deleting": false
          }
        }
      }
    },
    {
      "cell_type": "code",
      "source": [
        "#Convert the encoded column back to the original string format, this works opposite with StringIndexer\n",
        "Converter = IndexToString(inputCol=\"prediction\", outputCol=\"predictedLabel\",\n",
        "                               labels=Indexer.labels)"
      ],
      "outputs": [
        {
          "output_type": "display_data",
          "data": {
            "application/vnd.livy.statement-meta+json": {
              "spark_pool": "Nurture",
              "session_id": "1296",
              "statement_id": 30,
              "state": "finished",
              "livy_statement_state": "available",
              "queued_time": "2023-09-27T21:29:46.2330867Z",
              "session_start_time": null,
              "execution_start_time": "2023-09-27T21:31:03.8624599Z",
              "execution_finish_time": "2023-09-27T21:31:04.0290729Z",
              "spark_jobs": null,
              "parent_msg_id": "0aed5869-1075-44e8-abbb-b8ba5d5a7784"
            },
            "text/plain": "StatementMeta(Nurture, 1296, 30, Finished, Available)"
          },
          "metadata": {}
        }
      ],
      "execution_count": 118,
      "metadata": {
        "jupyter": {
          "source_hidden": false,
          "outputs_hidden": false
        },
        "nteract": {
          "transient": {
            "deleting": false
          }
        },
        "tags": []
      }
    },
    {
      "cell_type": "markdown",
      "source": [
        "Define a pipeline to pass the preparatory/pre-processing steps"
      ],
      "metadata": {
        "nteract": {
          "transient": {
            "deleting": false
          }
        }
      }
    },
    {
      "cell_type": "code",
      "source": [
        "#Define a pipeline to pass the preparatory/pre-processing steps\r\n",
        "pipeline = Pipeline(stages=[tokenizer, df_countVectorizer, df_rf, Converter])"
      ],
      "outputs": [
        {
          "output_type": "display_data",
          "data": {
            "application/vnd.livy.statement-meta+json": {
              "spark_pool": "Nurture",
              "session_id": "1296",
              "statement_id": 31,
              "state": "finished",
              "livy_statement_state": "available",
              "queued_time": "2023-09-27T21:29:46.5508192Z",
              "session_start_time": null,
              "execution_start_time": "2023-09-27T21:31:04.1945631Z",
              "execution_finish_time": "2023-09-27T21:31:04.3706736Z",
              "spark_jobs": null,
              "parent_msg_id": "ba5765a7-a65b-4757-821e-c784a95db69d"
            },
            "text/plain": "StatementMeta(Nurture, 1296, 31, Finished, Available)"
          },
          "metadata": {}
        }
      ],
      "execution_count": 119,
      "metadata": {
        "jupyter": {
          "source_hidden": false,
          "outputs_hidden": false
        },
        "nteract": {
          "transient": {
            "deleting": false
          }
        }
      }
    },
    {
      "cell_type": "code",
      "source": [
        "#Split the data into training and test set\r\n",
        "(train_set, test_set) = training_data_indexed.randomSplit([0.7, 0.3])"
      ],
      "outputs": [
        {
          "output_type": "display_data",
          "data": {
            "application/vnd.livy.statement-meta+json": {
              "spark_pool": "Nurture",
              "session_id": "1296",
              "statement_id": 32,
              "state": "finished",
              "livy_statement_state": "available",
              "queued_time": "2023-09-27T21:29:46.9675171Z",
              "session_start_time": null,
              "execution_start_time": "2023-09-27T21:31:04.5269759Z",
              "execution_finish_time": "2023-09-27T21:31:04.688144Z",
              "spark_jobs": null,
              "parent_msg_id": "d7ea1fe0-9233-405f-967b-bf211115e4af"
            },
            "text/plain": "StatementMeta(Nurture, 1296, 32, Finished, Available)"
          },
          "metadata": {}
        }
      ],
      "execution_count": 120,
      "metadata": {
        "jupyter": {
          "source_hidden": false,
          "outputs_hidden": false
        },
        "nteract": {
          "transient": {
            "deleting": false
          }
        }
      }
    },
    {
      "cell_type": "markdown",
      "source": [
        "Test the model on the test dataset"
      ],
      "metadata": {
        "nteract": {
          "transient": {
            "deleting": false
          }
        }
      }
    },
    {
      "cell_type": "code",
      "source": [
        "#Test the model on the test dataset\r\n",
        "model = pipeline.fit(train_set)"
      ],
      "outputs": [
        {
          "output_type": "display_data",
          "data": {
            "application/vnd.livy.statement-meta+json": {
              "spark_pool": "Nurture",
              "session_id": "1296",
              "statement_id": 33,
              "state": "finished",
              "livy_statement_state": "available",
              "queued_time": "2023-09-27T21:29:47.3187212Z",
              "session_start_time": null,
              "execution_start_time": "2023-09-27T21:31:04.8556969Z",
              "execution_finish_time": "2023-09-27T21:31:13.5886027Z",
              "spark_jobs": null,
              "parent_msg_id": "552cb01d-49f1-4650-9866-77549d50bc21"
            },
            "text/plain": "StatementMeta(Nurture, 1296, 33, Finished, Available)"
          },
          "metadata": {}
        }
      ],
      "execution_count": 121,
      "metadata": {
        "jupyter": {
          "source_hidden": false,
          "outputs_hidden": false
        },
        "nteract": {
          "transient": {
            "deleting": false
          }
        }
      }
    },
    {
      "cell_type": "markdown",
      "source": [
        "make predictions of the built model on the test dataset"
      ],
      "metadata": {
        "nteract": {
          "transient": {
            "deleting": false
          }
        }
      }
    },
    {
      "cell_type": "code",
      "source": [
        "#make predictions of the built model on the main dataset\n",
        "predictions_test = model.transform(test_set)\n",
        "predictions_test.show()"
      ],
      "outputs": [
        {
          "output_type": "display_data",
          "data": {
            "application/vnd.livy.statement-meta+json": {
              "spark_pool": "Nurture",
              "session_id": "1296",
              "statement_id": 34,
              "state": "finished",
              "livy_statement_state": "available",
              "queued_time": "2023-09-27T21:29:47.7206937Z",
              "session_start_time": null,
              "execution_start_time": "2023-09-27T21:31:13.7491853Z",
              "execution_finish_time": "2023-09-27T21:31:14.8709069Z",
              "spark_jobs": null,
              "parent_msg_id": "0b646ca3-b027-4a59-a868-85319570c27b"
            },
            "text/plain": "StatementMeta(Nurture, 1296, 34, Finished, Available)"
          },
          "metadata": {}
        },
        {
          "output_type": "stream",
          "name": "stdout",
          "text": [
            "+--------------------+------------------+------------+---------+--------------------+--------------------+--------------------+--------------------+----------+--------------+\n|           job_title|job_title_category|indexedLabel|labelCopy|               words|            features|       rawPrediction|         probability|prediction|predictedLabel|\n+--------------------+------------------+------------+---------+--------------------+--------------------+--------------------+--------------------+----------+--------------+\n|                   2|             Other|         1.0|      1.0|                 [2]|    (377,[24],[1.0])|[9.98862631601492...|[0.49943131580074...|       0.0|      Software|\n|          accountant|             Other|         1.0|      1.0|        [accountant]|         (377,[],[])|[9.98862631601492...|[0.49943131580074...|       0.0|      Software|\n|       administrator|        Management|         3.0|      3.0|     [administrator]|    (377,[42],[1.0])|[9.43127864576402...|[0.47156393228820...|       0.0|      Software|\n|  aerospace engineer|       Engineering|         2.0|      2.0|[aerospace, engin...|     (377,[0],[1.0])|[11.1956149739359...|[0.55978074869679...|       0.0|      Software|\n|     agent developer|          Software|         0.0|      0.0|  [agent, developer]|     (377,[2],[1.0])|[10.8703658411460...|[0.54351829205730...|       0.0|      Software|\n|    algorithm expert|             Other|         1.0|      1.0| [algorithm, expert]|    (377,[71],[1.0])|[9.98862631601492...|[0.49943131580074...|       0.0|      Software|\n|algorithmic softw...|          Software|         0.0|      0.0|[algorithmic, sof...|(377,[1,2],[1.0,1...|[12.3759442626464...|[0.61879721313232...|       0.0|      Software|\n|             analyst|      Data Analyst|         5.0|      5.0|           [analyst]|     (377,[9],[1.0])|[8.37418750857322...|[0.41870937542866...|       0.0|      Software|\n|             analyst|      Data Analyst|         5.0|      5.0|           [analyst]|     (377,[9],[1.0])|[8.37418750857322...|[0.41870937542866...|       0.0|      Software|\n|             analyst|      Data Analyst|         5.0|      5.0|           [analyst]|     (377,[9],[1.0])|[8.37418750857322...|[0.41870937542866...|       0.0|      Software|\n|             analyst|      Data Analyst|         5.0|      5.0|           [analyst]|     (377,[9],[1.0])|[8.37418750857322...|[0.41870937542866...|       0.0|      Software|\n|             analyst|      Data Analyst|         5.0|      5.0|           [analyst]|     (377,[9],[1.0])|[8.37418750857322...|[0.41870937542866...|       0.0|      Software|\n|android applicati...|          Software|         0.0|      0.0|[android, applica...|(377,[2,26,88],[1...|[10.8703658411460...|[0.54351829205730...|       0.0|      Software|\n|   android developer|          Software|         0.0|      0.0|[android, developer]|(377,[2,88],[1.0,...|[10.8703658411460...|[0.54351829205730...|       0.0|      Software|\n| application analyst|      Data Analyst|         5.0|      5.0|[application, ana...|(377,[9,26],[1.0,...|[8.37418750857322...|[0.41870937542866...|       0.0|      Software|\n|application devel...|          Software|         0.0|      0.0|[application, dev...|(377,[2,26],[1.0,...|[10.8703658411460...|[0.54351829205730...|       0.0|      Software|\n|application devel...|          Software|         0.0|      0.0|[application, dev...|(377,[10,26,48],[...|[9.98862631601492...|[0.49943131580074...|       0.0|      Software|\n|           architect|             Other|         1.0|      1.0|         [architect]|    (377,[14],[1.0])|[8.41010611981371...|[0.42050530599068...|       0.0|      Software|\n|           architect|             Other|         1.0|      1.0|         [architect]|    (377,[14],[1.0])|[8.41010611981371...|[0.42050530599068...|       0.0|      Software|\n|           architect|             Other|         1.0|      1.0|         [architect]|    (377,[14],[1.0])|[8.41010611981371...|[0.42050530599068...|       0.0|      Software|\n+--------------------+------------------+------------+---------+--------------------+--------------------+--------------------+--------------------+----------+--------------+\nonly showing top 20 rows\n\n"
          ]
        }
      ],
      "execution_count": 122,
      "metadata": {
        "jupyter": {
          "source_hidden": false,
          "outputs_hidden": false
        },
        "nteract": {
          "transient": {
            "deleting": false
          }
        }
      }
    },
    {
      "cell_type": "markdown",
      "source": [
        "EVALUATING OUR MODEL"
      ],
      "metadata": {
        "nteract": {
          "transient": {
            "deleting": false
          }
        }
      }
    },
    {
      "cell_type": "code",
      "source": [
        "evaluator = MulticlassClassificationEvaluator(labelCol=\"labelCopy\", predictionCol=\"prediction\",\n",
        "                                              metricName=\"accuracy\")"
      ],
      "outputs": [
        {
          "output_type": "display_data",
          "data": {
            "application/vnd.livy.statement-meta+json": {
              "spark_pool": "Nurture",
              "session_id": "1296",
              "statement_id": 35,
              "state": "finished",
              "livy_statement_state": "available",
              "queued_time": "2023-09-27T21:29:48.4658619Z",
              "session_start_time": null,
              "execution_start_time": "2023-09-27T21:31:15.029877Z",
              "execution_finish_time": "2023-09-27T21:31:15.1878859Z",
              "spark_jobs": null,
              "parent_msg_id": "e1dc7a5e-1f9d-41f3-a629-26ba3d6cf033"
            },
            "text/plain": "StatementMeta(Nurture, 1296, 35, Finished, Available)"
          },
          "metadata": {}
        }
      ],
      "execution_count": 123,
      "metadata": {
        "jupyter": {
          "source_hidden": false,
          "outputs_hidden": false
        },
        "nteract": {
          "transient": {
            "deleting": false
          }
        }
      }
    },
    {
      "cell_type": "markdown",
      "source": [
        "Get the model accuracy"
      ],
      "metadata": {
        "nteract": {
          "transient": {
            "deleting": false
          }
        }
      }
    },
    {
      "cell_type": "code",
      "source": [
        "accuracy = evaluator.evaluate(predictions_test)\n",
        "print(\"Test Accuracy = %g\" % accuracy)"
      ],
      "outputs": [
        {
          "output_type": "display_data",
          "data": {
            "application/vnd.livy.statement-meta+json": {
              "spark_pool": "Nurture",
              "session_id": "1296",
              "statement_id": 36,
              "state": "finished",
              "livy_statement_state": "available",
              "queued_time": "2023-09-27T21:29:48.8926731Z",
              "session_start_time": null,
              "execution_start_time": "2023-09-27T21:31:15.3570051Z",
              "execution_finish_time": "2023-09-27T21:31:16.4771983Z",
              "spark_jobs": null,
              "parent_msg_id": "c72eaffa-d7fe-4e63-8a1d-2355de07ebff"
            },
            "text/plain": "StatementMeta(Nurture, 1296, 36, Finished, Available)"
          },
          "metadata": {}
        },
        {
          "output_type": "stream",
          "name": "stdout",
          "text": [
            "Test Accuracy = 0.520408\n"
          ]
        }
      ],
      "execution_count": 124,
      "metadata": {
        "jupyter": {
          "source_hidden": false,
          "outputs_hidden": false
        },
        "nteract": {
          "transient": {
            "deleting": false
          }
        }
      }
    },
    {
      "cell_type": "code",
      "source": [
        "predictions2 = model.transform(df_clean2.withColumnRenamed(\"Candidate_job_title\", \"job_title\"))"
      ],
      "outputs": [
        {
          "output_type": "display_data",
          "data": {
            "application/vnd.livy.statement-meta+json": {
              "spark_pool": "Nurture",
              "session_id": "1296",
              "statement_id": 37,
              "state": "finished",
              "livy_statement_state": "available",
              "queued_time": "2023-09-27T21:29:49.3001072Z",
              "session_start_time": null,
              "execution_start_time": "2023-09-27T21:31:16.6315252Z",
              "execution_finish_time": "2023-09-27T21:31:16.8001785Z",
              "spark_jobs": null,
              "parent_msg_id": "59598c47-b979-443b-ad56-29b56df1db14"
            },
            "text/plain": "StatementMeta(Nurture, 1296, 37, Finished, Available)"
          },
          "metadata": {}
        }
      ],
      "execution_count": 125,
      "metadata": {
        "jupyter": {
          "source_hidden": false,
          "outputs_hidden": false
        },
        "nteract": {
          "transient": {
            "deleting": false
          }
        }
      }
    },
    {
      "cell_type": "code",
      "source": [
        "predictions2.show()"
      ],
      "outputs": [
        {
          "output_type": "display_data",
          "data": {
            "application/vnd.livy.statement-meta+json": {
              "spark_pool": "Nurture",
              "session_id": "1296",
              "statement_id": 38,
              "state": "finished",
              "livy_statement_state": "available",
              "queued_time": "2023-09-27T21:29:49.6885988Z",
              "session_start_time": null,
              "execution_start_time": "2023-09-27T21:31:16.9641162Z",
              "execution_finish_time": "2023-09-27T21:31:18.1027265Z",
              "spark_jobs": null,
              "parent_msg_id": "5bfd2a9a-4e08-454f-bdd2-20ad0291952b"
            },
            "text/plain": "StatementMeta(Nurture, 1296, 38, Finished, Available)"
          },
          "metadata": {}
        },
        {
          "output_type": "stream",
          "name": "stdout",
          "text": [
            "+--------------------+--------------------+--------------------+--------------------+--------------+------------+--------+--------------------+--------------------+--------------------+--------------------+----------+--------------+\n|                  ID|      WorkHistory_ID|   Candidate_contact|           job_title|Cnd_start_date|Cnd_end_date|Duration|               words|            features|       rawPrediction|         probability|prediction|predictedLabel|\n+--------------------+--------------------+--------------------+--------------------+--------------+------------+--------+--------------------+--------------------+--------------------+--------------------+----------+--------------+\n|6ae7162b-104e-eb1...|6ae7162b-104e-eb1...|14c6701e-104e-eb1...|        data analyst|    2019-05-01|  2020-08-01|      16|     [data, analyst]|(377,[9,13],[1.0,...|[6.66505806291916...|[0.33325290314595...|       0.0|      Software|\n|44e4bc29-104e-eb1...|44e4bc29-104e-eb1...|03c6701e-104e-eb1...|reporting and dat...|    2017-01-01|        null|    null|[reporting, and, ...|(377,[9,13,312],[...|[6.66505806291916...|[0.33325290314595...|       0.0|      Software|\n|71e7162b-104e-eb1...|71e7162b-104e-eb1...|14c6701e-104e-eb1...|             analyst|    2018-04-01|  2019-05-01|      14|           [analyst]|     (377,[9],[1.0])|[8.37418750857322...|[0.41870937542866...|       0.0|      Software|\n|76e7162b-104e-eb1...|76e7162b-104e-eb1...|03c6701e-104e-eb1...|data and process ...|    2015-07-01|  2017-01-01|      19|[data, and, proce...|(377,[9,13,312],[...|[6.66505806291916...|[0.33325290314595...|       0.0|      Software|\n|53e4bc29-104e-eb1...|53e4bc29-104e-eb1...|14c6701e-104e-eb1...|           associate|    2017-05-01|  2018-03-01|      10|         [associate]|    (377,[32],[1.0])|[8.70666846490620...|[0.43533342324531...|       0.0|      Software|\n|5de4bc29-104e-eb1...|5de4bc29-104e-eb1...|14c6701e-104e-eb1...|risk analyst  ris...|    2016-05-01|  2017-03-01|      10|[risk, analyst, ,...|(377,[9,129,195],...|[8.37418750857322...|[0.41870937542866...|       0.0|      Software|\n|7ee7162b-104e-eb1...|7ee7162b-104e-eb1...|03c6701e-104e-eb1...|analystprogrammer...|    1990-02-01|  2015-07-01|     331|[analystprogramme...|(377,[29,129],[1....|[9.5233355092607,...|[0.47616677546303...|       0.0|      Software|\n|9f2bd42f-104e-eb1...|9f2bd42f-104e-eb1...|14c6701e-104e-eb1...|      risk assistant|    2015-11-01|  2016-05-01|       6|   [risk, assistant]|(377,[105,195],[1...|[9.98862631601492...|[0.49943131580074...|       0.0|      Software|\n|a92bd42f-104e-eb1...|a92bd42f-104e-eb1...|14c6701e-104e-eb1...|   finance assistant|    2015-08-01|  2015-10-01|       2|[finance, assistant]|(377,[105,326],[1...|[9.98862631601492...|[0.49943131580074...|       0.0|      Software|\n|43b9cc35-104e-eb1...|43b9cc35-104e-eb1...|e1a4d169-bc08-eb1...|cs operations dat...|    2019-01-01|  2020-01-01|      13|[cs, operations, ...|(377,[9,13,76],[1...|[6.66505806291916...|[0.33325290314595...|       0.0|      Software|\n|4bb9cc35-104e-eb1...|4bb9cc35-104e-eb1...|e1a4d169-bc08-eb1...|data analyst manager|    2012-01-01|  2019-01-01|      91|[data, analyst, m...|(377,[4,9,13],[1....|[5.67154626770417...|[0.28357731338520...|       0.0|      Software|\n|607e8f37-104e-eb1...|607e8f37-104e-eb1...|e1a4d169-bc08-eb1...|data analysis con...|    2005-01-01|  2007-01-01|      26|[data, analysis, ...|(377,[7,13],[1.0,...|[7.00091021207940...|[0.35004551060397...|       0.0|      Software|\n|59b9cc35-104e-eb1...|59b9cc35-104e-eb1...|e1a4d169-bc08-eb1...| senior data analyst|    2007-01-01|  2012-01-01|      65|[senior, data, an...|(377,[3,9,13],[1....|[7.42562144320085...|[0.37128107216004...|       0.0|      Software|\n|66b9cc35-104e-eb1...|66b9cc35-104e-eb1...|e1a4d169-bc08-eb1...|     account manager|    2001-01-01|  2002-01-01|      13|  [account, manager]|(377,[4,332],[1.0...|[8.43028926713589...|[0.42151446335679...|       0.0|      Software|\n|72b9cc35-104e-eb1...|72b9cc35-104e-eb1...|e1a4d169-bc08-eb1...|senior marketing ...|    1999-01-01|  2001-01-01|      26|[senior, marketin...|(377,[3,9,61],[1....|[7.45567866510866...|[0.37278393325543...|       0.0|      Software|\n|697e8f37-104e-eb1...|697e8f37-104e-eb1...|e1a4d169-bc08-eb1...|   marketing analyst|    1998-01-01|  1999-01-01|      13|[marketing, analyst]|(377,[9,61],[1.0,...|[7.25994053849101...|[0.36299702692455...|       0.0|      Software|\n|720e14d9-104e-eb1...|720e14d9-104e-eb1...|aea2d6ce-104e-eb1...|        data analyst|    2019-03-01|        null|    null|     [data, analyst]|(377,[9,13],[1.0,...|[6.66505806291916...|[0.33325290314595...|       0.0|      Software|\n|7d0e14d9-104e-eb1...|7d0e14d9-104e-eb1...|aea2d6ce-104e-eb1...|        data analyst|    2017-10-01|  2019-02-01|      17|     [data, analyst]|(377,[9,13],[1.0,...|[6.66505806291916...|[0.33325290314595...|       0.0|      Software|\n|870e14d9-104e-eb1...|870e14d9-104e-eb1...|aea2d6ce-104e-eb1...|  research assistant|    2017-02-01|  2017-07-01|       5|[research, assist...|(377,[59,105],[1....|[9.98862631601492...|[0.49943131580074...|       0.0|      Software|\n|900e14d9-104e-eb1...|900e14d9-104e-eb1...|71c012cd-104e-eb1...|data analyst  tab...|    2015-01-01|        null|    null|[data, analyst, ,...|(377,[2,9,13,129]...|[6.93208396066388...|[0.34660419803319...|       0.0|      Software|\n+--------------------+--------------------+--------------------+--------------------+--------------+------------+--------+--------------------+--------------------+--------------------+--------------------+----------+--------------+\nonly showing top 20 rows\n\n"
          ]
        }
      ],
      "execution_count": 126,
      "metadata": {
        "jupyter": {
          "source_hidden": false,
          "outputs_hidden": false
        },
        "nteract": {
          "transient": {
            "deleting": false
          }
        }
      }
    },
    {
      "cell_type": "code",
      "source": [
        "#Select some columns to track and inspect the predictions\n",
        "predictions3 = predictions2.select('ID', 'WorkHistory_ID', 'job_title', 'predictedLabel', 'Duration')\n",
        "predictions3.show()"
      ],
      "outputs": [
        {
          "output_type": "display_data",
          "data": {
            "application/vnd.livy.statement-meta+json": {
              "spark_pool": "Nurture",
              "session_id": "1296",
              "statement_id": 39,
              "state": "finished",
              "livy_statement_state": "available",
              "queued_time": "2023-09-27T21:29:50.1193483Z",
              "session_start_time": null,
              "execution_start_time": "2023-09-27T21:31:18.2582722Z",
              "execution_finish_time": "2023-09-27T21:31:19.393394Z",
              "spark_jobs": null,
              "parent_msg_id": "b2a6b0fe-d24c-4474-b7c9-bfbea6488ba3"
            },
            "text/plain": "StatementMeta(Nurture, 1296, 39, Finished, Available)"
          },
          "metadata": {}
        },
        {
          "output_type": "stream",
          "name": "stdout",
          "text": [
            "+--------------------+--------------------+--------------------+--------------+--------+\n|                  ID|      WorkHistory_ID|           job_title|predictedLabel|Duration|\n+--------------------+--------------------+--------------------+--------------+--------+\n|6ae7162b-104e-eb1...|6ae7162b-104e-eb1...|        data analyst|      Software|      16|\n|44e4bc29-104e-eb1...|44e4bc29-104e-eb1...|reporting and dat...|      Software|    null|\n|71e7162b-104e-eb1...|71e7162b-104e-eb1...|             analyst|      Software|      14|\n|76e7162b-104e-eb1...|76e7162b-104e-eb1...|data and process ...|      Software|      19|\n|53e4bc29-104e-eb1...|53e4bc29-104e-eb1...|           associate|      Software|      10|\n|5de4bc29-104e-eb1...|5de4bc29-104e-eb1...|risk analyst  ris...|      Software|      10|\n|7ee7162b-104e-eb1...|7ee7162b-104e-eb1...|analystprogrammer...|      Software|     331|\n|9f2bd42f-104e-eb1...|9f2bd42f-104e-eb1...|      risk assistant|      Software|       6|\n|a92bd42f-104e-eb1...|a92bd42f-104e-eb1...|   finance assistant|      Software|       2|\n|43b9cc35-104e-eb1...|43b9cc35-104e-eb1...|cs operations dat...|      Software|      13|\n|4bb9cc35-104e-eb1...|4bb9cc35-104e-eb1...|data analyst manager|      Software|      91|\n|607e8f37-104e-eb1...|607e8f37-104e-eb1...|data analysis con...|      Software|      26|\n|59b9cc35-104e-eb1...|59b9cc35-104e-eb1...| senior data analyst|      Software|      65|\n|66b9cc35-104e-eb1...|66b9cc35-104e-eb1...|     account manager|      Software|      13|\n|72b9cc35-104e-eb1...|72b9cc35-104e-eb1...|senior marketing ...|      Software|      26|\n|697e8f37-104e-eb1...|697e8f37-104e-eb1...|   marketing analyst|      Software|      13|\n|720e14d9-104e-eb1...|720e14d9-104e-eb1...|        data analyst|      Software|    null|\n|7d0e14d9-104e-eb1...|7d0e14d9-104e-eb1...|        data analyst|      Software|      17|\n|870e14d9-104e-eb1...|870e14d9-104e-eb1...|  research assistant|      Software|       5|\n|900e14d9-104e-eb1...|900e14d9-104e-eb1...|data analyst  tab...|      Software|    null|\n+--------------------+--------------------+--------------------+--------------+--------+\nonly showing top 20 rows\n\n"
          ]
        }
      ],
      "execution_count": 127,
      "metadata": {
        "jupyter": {
          "source_hidden": false,
          "outputs_hidden": false
        },
        "nteract": {
          "transient": {
            "deleting": false
          }
        }
      }
    },
    {
      "cell_type": "markdown",
      "source": [
        "Run a logistic regression model"
      ],
      "metadata": {
        "nteract": {
          "transient": {
            "deleting": false
          }
        }
      }
    },
    {
      "cell_type": "code",
      "source": [
        "from pyspark.ml.classification import LogisticRegression"
      ],
      "outputs": [
        {
          "output_type": "display_data",
          "data": {
            "application/vnd.livy.statement-meta+json": {
              "spark_pool": "Nurture",
              "session_id": "1296",
              "statement_id": 40,
              "state": "finished",
              "livy_statement_state": "available",
              "queued_time": "2023-09-27T21:29:50.526033Z",
              "session_start_time": null,
              "execution_start_time": "2023-09-27T21:31:19.5506874Z",
              "execution_finish_time": "2023-09-27T21:31:19.7201978Z",
              "spark_jobs": null,
              "parent_msg_id": "fc18ea2d-10fa-46f7-8e15-594f5b6ca0bd"
            },
            "text/plain": "StatementMeta(Nurture, 1296, 40, Finished, Available)"
          },
          "metadata": {}
        }
      ],
      "execution_count": 128,
      "metadata": {
        "jupyter": {
          "source_hidden": false,
          "outputs_hidden": false
        },
        "nteract": {
          "transient": {
            "deleting": false
          }
        }
      }
    },
    {
      "cell_type": "code",
      "source": [
        "#Initialize the logistics regression algorithm\r\n",
        "df_lr = LogisticRegression(labelCol=\"indexedLabel\", featuresCol=\"features\")"
      ],
      "outputs": [
        {
          "output_type": "display_data",
          "data": {
            "application/vnd.livy.statement-meta+json": {
              "spark_pool": "Nurture",
              "session_id": "1296",
              "statement_id": 41,
              "state": "finished",
              "livy_statement_state": "available",
              "queued_time": "2023-09-27T21:29:50.9214166Z",
              "session_start_time": null,
              "execution_start_time": "2023-09-27T21:31:19.8942763Z",
              "execution_finish_time": "2023-09-27T21:31:20.0721416Z",
              "spark_jobs": null,
              "parent_msg_id": "6839c698-1e95-422b-9a51-71924ab3fb62"
            },
            "text/plain": "StatementMeta(Nurture, 1296, 41, Finished, Available)"
          },
          "metadata": {}
        }
      ],
      "execution_count": 129,
      "metadata": {
        "jupyter": {
          "source_hidden": false,
          "outputs_hidden": false
        },
        "nteract": {
          "transient": {
            "deleting": false
          }
        }
      }
    },
    {
      "cell_type": "code",
      "source": [
        "#Initialize the stages pipeline process\r\n",
        "pipeline_lr = Pipeline(stages=[tokenizer, df_countVectorizer, df_lr, Converter])"
      ],
      "outputs": [
        {
          "output_type": "display_data",
          "data": {
            "application/vnd.livy.statement-meta+json": {
              "spark_pool": "Nurture",
              "session_id": "1296",
              "statement_id": 42,
              "state": "finished",
              "livy_statement_state": "available",
              "queued_time": "2023-09-27T21:29:51.2752888Z",
              "session_start_time": null,
              "execution_start_time": "2023-09-27T21:31:20.2260345Z",
              "execution_finish_time": "2023-09-27T21:31:20.3914598Z",
              "spark_jobs": null,
              "parent_msg_id": "b2f67c16-19bc-48e1-9394-cb228162c68c"
            },
            "text/plain": "StatementMeta(Nurture, 1296, 42, Finished, Available)"
          },
          "metadata": {}
        }
      ],
      "execution_count": 130,
      "metadata": {
        "jupyter": {
          "source_hidden": false,
          "outputs_hidden": false
        },
        "nteract": {
          "transient": {
            "deleting": false
          }
        }
      }
    },
    {
      "cell_type": "markdown",
      "source": [
        "Train the model"
      ],
      "metadata": {
        "nteract": {
          "transient": {
            "deleting": false
          }
        }
      }
    },
    {
      "cell_type": "code",
      "source": [
        "#Train the logistic regression model with the train set\r\n",
        "model_lr = pipeline_lr.fit(train_set)"
      ],
      "outputs": [
        {
          "output_type": "display_data",
          "data": {
            "application/vnd.livy.statement-meta+json": {
              "spark_pool": "Nurture",
              "session_id": "1296",
              "statement_id": 43,
              "state": "finished",
              "livy_statement_state": "available",
              "queued_time": "2023-09-27T21:29:51.7055503Z",
              "session_start_time": null,
              "execution_start_time": "2023-09-27T21:31:20.5401122Z",
              "execution_finish_time": "2023-09-27T21:31:27.6431415Z",
              "spark_jobs": null,
              "parent_msg_id": "78444791-60af-437c-a550-5ac606336792"
            },
            "text/plain": "StatementMeta(Nurture, 1296, 43, Finished, Available)"
          },
          "metadata": {}
        }
      ],
      "execution_count": 131,
      "metadata": {
        "jupyter": {
          "source_hidden": false,
          "outputs_hidden": false
        },
        "nteract": {
          "transient": {
            "deleting": false
          }
        }
      }
    },
    {
      "cell_type": "markdown",
      "source": [
        "Test the model"
      ],
      "metadata": {
        "nteract": {
          "transient": {
            "deleting": false
          }
        }
      }
    },
    {
      "cell_type": "code",
      "source": [
        "#Run predictions on the test set\r\n",
        "predictions_test_lr = model_lr.transform(test_set)"
      ],
      "outputs": [
        {
          "output_type": "display_data",
          "data": {
            "application/vnd.livy.statement-meta+json": {
              "spark_pool": "Nurture",
              "session_id": "1296",
              "statement_id": 44,
              "state": "finished",
              "livy_statement_state": "available",
              "queued_time": "2023-09-27T21:29:52.0992482Z",
              "session_start_time": null,
              "execution_start_time": "2023-09-27T21:31:27.8010836Z",
              "execution_finish_time": "2023-09-27T21:31:27.9795777Z",
              "spark_jobs": null,
              "parent_msg_id": "9d7825ea-3280-4bc7-aa18-6da48ef467f1"
            },
            "text/plain": "StatementMeta(Nurture, 1296, 44, Finished, Available)"
          },
          "metadata": {}
        }
      ],
      "execution_count": 132,
      "metadata": {
        "jupyter": {
          "source_hidden": false,
          "outputs_hidden": false
        },
        "nteract": {
          "transient": {
            "deleting": false
          }
        }
      }
    },
    {
      "cell_type": "markdown",
      "source": [
        "Evaluate the model to get the accuracy"
      ],
      "metadata": {
        "nteract": {
          "transient": {
            "deleting": false
          }
        }
      }
    },
    {
      "cell_type": "code",
      "source": [
        "#Initialize the MulticlassClassificationEvaluator\n",
        "evaluator = MulticlassClassificationEvaluator(labelCol=\"indexedLabel\", predictionCol=\"prediction\",\n",
        "                                              metricName=\"accuracy\")"
      ],
      "outputs": [
        {
          "output_type": "display_data",
          "data": {
            "application/vnd.livy.statement-meta+json": {
              "spark_pool": "Nurture",
              "session_id": "1296",
              "statement_id": 45,
              "state": "finished",
              "livy_statement_state": "available",
              "queued_time": "2023-09-27T21:29:52.460073Z",
              "session_start_time": null,
              "execution_start_time": "2023-09-27T21:31:28.1423121Z",
              "execution_finish_time": "2023-09-27T21:31:28.3116704Z",
              "spark_jobs": null,
              "parent_msg_id": "86518e04-ac88-4431-8e3b-df60f94eebc7"
            },
            "text/plain": "StatementMeta(Nurture, 1296, 45, Finished, Available)"
          },
          "metadata": {}
        }
      ],
      "execution_count": 133,
      "metadata": {
        "jupyter": {
          "source_hidden": false,
          "outputs_hidden": false
        },
        "nteract": {
          "transient": {
            "deleting": false
          }
        }
      }
    },
    {
      "cell_type": "code",
      "source": [
        "#Calculate the accuracy of the model\n",
        "accuracy_lr = evaluator.evaluate(predictions_test_lr)\n",
        "print(\"Test Accuracy (Logistic Regression) = %g\" % accuracy_lr)"
      ],
      "outputs": [
        {
          "output_type": "display_data",
          "data": {
            "application/vnd.livy.statement-meta+json": {
              "spark_pool": "Nurture",
              "session_id": "1296",
              "statement_id": 46,
              "state": "finished",
              "livy_statement_state": "available",
              "queued_time": "2023-09-27T21:29:52.8620276Z",
              "session_start_time": null,
              "execution_start_time": "2023-09-27T21:31:28.4861937Z",
              "execution_finish_time": "2023-09-27T21:31:29.5969635Z",
              "spark_jobs": null,
              "parent_msg_id": "55706943-0857-4324-89ca-2f7c6f5cbb69"
            },
            "text/plain": "StatementMeta(Nurture, 1296, 46, Finished, Available)"
          },
          "metadata": {}
        },
        {
          "output_type": "stream",
          "name": "stdout",
          "text": [
            "Test Accuracy (Logistic Regression) = 0.955102\n"
          ]
        }
      ],
      "execution_count": 134,
      "metadata": {
        "jupyter": {
          "source_hidden": false,
          "outputs_hidden": false
        },
        "nteract": {
          "transient": {
            "deleting": false
          }
        }
      }
    },
    {
      "cell_type": "code",
      "source": [
        "predictions_lr = model_lr.transform(df_clean2.withColumnRenamed(\"Candidate_job_title\", \"job_title\"))"
      ],
      "outputs": [
        {
          "output_type": "display_data",
          "data": {
            "application/vnd.livy.statement-meta+json": {
              "spark_pool": "Nurture",
              "session_id": "1296",
              "statement_id": 47,
              "state": "finished",
              "livy_statement_state": "available",
              "queued_time": "2023-09-27T21:29:53.4121746Z",
              "session_start_time": null,
              "execution_start_time": "2023-09-27T21:31:29.761857Z",
              "execution_finish_time": "2023-09-27T21:31:29.9258311Z",
              "spark_jobs": null,
              "parent_msg_id": "7862b1a5-f119-4cb7-b305-e8407b721839"
            },
            "text/plain": "StatementMeta(Nurture, 1296, 47, Finished, Available)"
          },
          "metadata": {}
        }
      ],
      "execution_count": 135,
      "metadata": {
        "jupyter": {
          "source_hidden": false,
          "outputs_hidden": false
        },
        "nteract": {
          "transient": {
            "deleting": false
          }
        }
      }
    },
    {
      "cell_type": "code",
      "source": [
        "predictions_lr.show()"
      ],
      "outputs": [
        {
          "output_type": "display_data",
          "data": {
            "application/vnd.livy.statement-meta+json": {
              "spark_pool": "Nurture",
              "session_id": "1296",
              "statement_id": 48,
              "state": "finished",
              "livy_statement_state": "available",
              "queued_time": "2023-09-27T21:29:53.8320645Z",
              "session_start_time": null,
              "execution_start_time": "2023-09-27T21:31:30.0743891Z",
              "execution_finish_time": "2023-09-27T21:31:31.2144196Z",
              "spark_jobs": null,
              "parent_msg_id": "53615e92-bd49-463d-91f7-884659c9c763"
            },
            "text/plain": "StatementMeta(Nurture, 1296, 48, Finished, Available)"
          },
          "metadata": {}
        },
        {
          "output_type": "stream",
          "name": "stdout",
          "text": [
            "+--------------------+--------------------+--------------------+--------------------+--------------+------------+--------+--------------------+--------------------+--------------------+--------------------+----------+--------------+\n|                  ID|      WorkHistory_ID|   Candidate_contact|           job_title|Cnd_start_date|Cnd_end_date|Duration|               words|            features|       rawPrediction|         probability|prediction|predictedLabel|\n+--------------------+--------------------+--------------------+--------------------+--------------+------------+--------+--------------------+--------------------+--------------------+--------------------+----------+--------------+\n|6ae7162b-104e-eb1...|6ae7162b-104e-eb1...|14c6701e-104e-eb1...|        data analyst|    2019-05-01|  2020-08-01|      16|     [data, analyst]|(377,[9,13],[1.0,...|[-60.076474454916...|[5.96035675120836...|       5.0|  Data Analyst|\n|44e4bc29-104e-eb1...|44e4bc29-104e-eb1...|03c6701e-104e-eb1...|reporting and dat...|    2017-01-01|        null|    null|[reporting, and, ...|(377,[9,13,312],[...|[-72.635412206839...|[5.16528233137930...|       5.0|  Data Analyst|\n|71e7162b-104e-eb1...|71e7162b-104e-eb1...|14c6701e-104e-eb1...|             analyst|    2018-04-01|  2019-05-01|      14|           [analyst]|     (377,[9],[1.0])|[-18.596758663569...|[4.21953122578785...|       5.0|  Data Analyst|\n|76e7162b-104e-eb1...|76e7162b-104e-eb1...|03c6701e-104e-eb1...|data and process ...|    2015-07-01|  2017-01-01|      19|[data, and, proce...|(377,[9,13,312],[...|[-72.635412206839...|[5.16528233137930...|       5.0|  Data Analyst|\n|53e4bc29-104e-eb1...|53e4bc29-104e-eb1...|14c6701e-104e-eb1...|           associate|    2017-05-01|  2018-03-01|      10|         [associate]|    (377,[32],[1.0])|[6.78752974164497...|[9.69655359549412...|       1.0|         Other|\n|5de4bc29-104e-eb1...|5de4bc29-104e-eb1...|14c6701e-104e-eb1...|risk analyst  ris...|    2016-05-01|  2017-03-01|      10|[risk, analyst, ,...|(377,[9,129,195],...|[-71.255589452221...|[1.38351174143364...|       5.0|  Data Analyst|\n|7ee7162b-104e-eb1...|7ee7162b-104e-eb1...|03c6701e-104e-eb1...|analystprogrammer...|    1990-02-01|  2015-07-01|     331|[analystprogramme...|(377,[29,129],[1....|[-6.1378328402245...|[6.08563890570048...|       1.0|         Other|\n|9f2bd42f-104e-eb1...|9f2bd42f-104e-eb1...|14c6701e-104e-eb1...|      risk assistant|    2015-11-01|  2016-05-01|       6|   [risk, assistant]|(377,[105,195],[1...|[-34.340374063655...|[6.36066321272291...|       1.0|         Other|\n|a92bd42f-104e-eb1...|a92bd42f-104e-eb1...|14c6701e-104e-eb1...|   finance assistant|    2015-08-01|  2015-10-01|       2|[finance, assistant]|(377,[105,326],[1...|[-26.729660452127...|[5.42029700324205...|       1.0|         Other|\n|43b9cc35-104e-eb1...|43b9cc35-104e-eb1...|e1a4d169-bc08-eb1...|cs operations dat...|    2019-01-01|  2020-01-01|      13|[cs, operations, ...|(377,[9,13,76],[1...|[-91.583101691657...|[7.08966326025172...|       7.0|    Operations|\n|4bb9cc35-104e-eb1...|4bb9cc35-104e-eb1...|e1a4d169-bc08-eb1...|data analyst manager|    2012-01-01|  2019-01-01|      91|[data, analyst, m...|(377,[4,9,13],[1....|[-87.819095166651...|[4.23608826902004...|       5.0|  Data Analyst|\n|607e8f37-104e-eb1...|607e8f37-104e-eb1...|e1a4d169-bc08-eb1...|data analysis con...|    2005-01-01|  2007-01-01|      26|[data, analysis, ...|(377,[7,13],[1.0,...|[-42.233897757695...|[4.48081711710188...|       9.0| Data Engineer|\n|59b9cc35-104e-eb1...|59b9cc35-104e-eb1...|e1a4d169-bc08-eb1...| senior data analyst|    2007-01-01|  2012-01-01|      65|[senior, data, an...|(377,[3,9,13],[1....|[-65.085184928761...|[2.05493972379065...|       5.0|  Data Analyst|\n|66b9cc35-104e-eb1...|66b9cc35-104e-eb1...|e1a4d169-bc08-eb1...|     account manager|    2001-01-01|  2002-01-01|      13|  [account, manager]|(377,[4,332],[1.0...|[-41.311482359382...|[3.01679170064053...|       3.0|    Management|\n|72b9cc35-104e-eb1...|72b9cc35-104e-eb1...|e1a4d169-bc08-eb1...|senior marketing ...|    1999-01-01|  2001-01-01|      26|[senior, marketin...|(377,[3,9,61],[1....|[-45.287792096733...|[7.03538925566512...|       5.0|  Data Analyst|\n|697e8f37-104e-eb1...|697e8f37-104e-eb1...|e1a4d169-bc08-eb1...|   marketing analyst|    1998-01-01|  1999-01-01|      13|[marketing, analyst]|(377,[9,61],[1.0,...|[-40.279081622888...|[2.04061605050877...|       5.0|  Data Analyst|\n|720e14d9-104e-eb1...|720e14d9-104e-eb1...|aea2d6ce-104e-eb1...|        data analyst|    2019-03-01|        null|    null|     [data, analyst]|(377,[9,13],[1.0,...|[-60.076474454916...|[5.96035675120836...|       5.0|  Data Analyst|\n|7d0e14d9-104e-eb1...|7d0e14d9-104e-eb1...|aea2d6ce-104e-eb1...|        data analyst|    2017-10-01|  2019-02-01|      17|     [data, analyst]|(377,[9,13],[1.0,...|[-60.076474454916...|[5.96035675120836...|       5.0|  Data Analyst|\n|870e14d9-104e-eb1...|870e14d9-104e-eb1...|aea2d6ce-104e-eb1...|  research assistant|    2017-02-01|  2017-07-01|       5|[research, assist...|(377,[59,105],[1....|[-36.925622141920...|[4.67070159220250...|       1.0|         Other|\n|900e14d9-104e-eb1...|900e14d9-104e-eb1...|71c012cd-104e-eb1...|data analyst  tab...|    2015-01-01|        null|    null|[data, analyst, ,...|(377,[2,9,13,129]...|[-9.4205810962628...|[6.20042617858401...|       5.0|  Data Analyst|\n+--------------------+--------------------+--------------------+--------------------+--------------+------------+--------+--------------------+--------------------+--------------------+--------------------+----------+--------------+\nonly showing top 20 rows\n\n"
          ]
        }
      ],
      "execution_count": 136,
      "metadata": {
        "jupyter": {
          "source_hidden": false,
          "outputs_hidden": false
        },
        "nteract": {
          "transient": {
            "deleting": false
          }
        }
      }
    },
    {
      "cell_type": "code",
      "source": [
        "#Track the predictions generated\n",
        "predictions_lr2 = predictions_lr.select('ID', 'Candidate_contact', 'WorkHistory_ID', 'job_title', 'predictedLabel', 'Duration')\n",
        "predictions_lr2.show()"
      ],
      "outputs": [
        {
          "output_type": "display_data",
          "data": {
            "application/vnd.livy.statement-meta+json": {
              "spark_pool": "Nurture",
              "session_id": "1296",
              "statement_id": 49,
              "state": "finished",
              "livy_statement_state": "available",
              "queued_time": "2023-09-27T21:29:54.3021881Z",
              "session_start_time": null,
              "execution_start_time": "2023-09-27T21:31:31.350703Z",
              "execution_finish_time": "2023-09-27T21:31:31.9135726Z",
              "spark_jobs": null,
              "parent_msg_id": "8f134608-bc91-48fd-80e4-14219ddd3ad9"
            },
            "text/plain": "StatementMeta(Nurture, 1296, 49, Finished, Available)"
          },
          "metadata": {}
        },
        {
          "output_type": "stream",
          "name": "stdout",
          "text": [
            "+--------------------+--------------------+--------------------+--------------------+--------------+--------+\n|                  ID|   Candidate_contact|      WorkHistory_ID|           job_title|predictedLabel|Duration|\n+--------------------+--------------------+--------------------+--------------------+--------------+--------+\n|6ae7162b-104e-eb1...|14c6701e-104e-eb1...|6ae7162b-104e-eb1...|        data analyst|  Data Analyst|      16|\n|44e4bc29-104e-eb1...|03c6701e-104e-eb1...|44e4bc29-104e-eb1...|reporting and dat...|  Data Analyst|    null|\n|71e7162b-104e-eb1...|14c6701e-104e-eb1...|71e7162b-104e-eb1...|             analyst|  Data Analyst|      14|\n|76e7162b-104e-eb1...|03c6701e-104e-eb1...|76e7162b-104e-eb1...|data and process ...|  Data Analyst|      19|\n|53e4bc29-104e-eb1...|14c6701e-104e-eb1...|53e4bc29-104e-eb1...|           associate|         Other|      10|\n|5de4bc29-104e-eb1...|14c6701e-104e-eb1...|5de4bc29-104e-eb1...|risk analyst  ris...|  Data Analyst|      10|\n|7ee7162b-104e-eb1...|03c6701e-104e-eb1...|7ee7162b-104e-eb1...|analystprogrammer...|         Other|     331|\n|9f2bd42f-104e-eb1...|14c6701e-104e-eb1...|9f2bd42f-104e-eb1...|      risk assistant|         Other|       6|\n|a92bd42f-104e-eb1...|14c6701e-104e-eb1...|a92bd42f-104e-eb1...|   finance assistant|         Other|       2|\n|43b9cc35-104e-eb1...|e1a4d169-bc08-eb1...|43b9cc35-104e-eb1...|cs operations dat...|    Operations|      13|\n|4bb9cc35-104e-eb1...|e1a4d169-bc08-eb1...|4bb9cc35-104e-eb1...|data analyst manager|  Data Analyst|      91|\n|607e8f37-104e-eb1...|e1a4d169-bc08-eb1...|607e8f37-104e-eb1...|data analysis con...| Data Engineer|      26|\n|59b9cc35-104e-eb1...|e1a4d169-bc08-eb1...|59b9cc35-104e-eb1...| senior data analyst|  Data Analyst|      65|\n|66b9cc35-104e-eb1...|e1a4d169-bc08-eb1...|66b9cc35-104e-eb1...|     account manager|    Management|      13|\n|72b9cc35-104e-eb1...|e1a4d169-bc08-eb1...|72b9cc35-104e-eb1...|senior marketing ...|  Data Analyst|      26|\n|697e8f37-104e-eb1...|e1a4d169-bc08-eb1...|697e8f37-104e-eb1...|   marketing analyst|  Data Analyst|      13|\n|720e14d9-104e-eb1...|aea2d6ce-104e-eb1...|720e14d9-104e-eb1...|        data analyst|  Data Analyst|    null|\n|7d0e14d9-104e-eb1...|aea2d6ce-104e-eb1...|7d0e14d9-104e-eb1...|        data analyst|  Data Analyst|      17|\n|870e14d9-104e-eb1...|aea2d6ce-104e-eb1...|870e14d9-104e-eb1...|  research assistant|         Other|       5|\n|900e14d9-104e-eb1...|71c012cd-104e-eb1...|900e14d9-104e-eb1...|data analyst  tab...|  Data Analyst|    null|\n+--------------------+--------------------+--------------------+--------------------+--------------+--------+\nonly showing top 20 rows\n\n"
          ]
        }
      ],
      "execution_count": 137,
      "metadata": {
        "jupyter": {
          "source_hidden": false,
          "outputs_hidden": false
        },
        "nteract": {
          "transient": {
            "deleting": false
          }
        }
      }
    },
    {
      "cell_type": "markdown",
      "source": [
        "**Trying the Decision tree model**"
      ],
      "metadata": {
        "nteract": {
          "transient": {
            "deleting": false
          }
        }
      }
    },
    {
      "cell_type": "code",
      "source": [
        "from pyspark.ml.classification import DecisionTreeClassifier"
      ],
      "outputs": [
        {
          "output_type": "display_data",
          "data": {
            "application/vnd.livy.statement-meta+json": {
              "spark_pool": "Nurture",
              "session_id": "1296",
              "statement_id": 50,
              "state": "finished",
              "livy_statement_state": "available",
              "queued_time": "2023-09-27T21:29:54.7647479Z",
              "session_start_time": null,
              "execution_start_time": "2023-09-27T21:31:32.0620981Z",
              "execution_finish_time": "2023-09-27T21:31:32.2257935Z",
              "spark_jobs": null,
              "parent_msg_id": "cc1b9fd6-711f-4360-8d93-716e56218c92"
            },
            "text/plain": "StatementMeta(Nurture, 1296, 50, Finished, Available)"
          },
          "metadata": {}
        }
      ],
      "execution_count": 138,
      "metadata": {
        "jupyter": {
          "source_hidden": false,
          "outputs_hidden": false
        },
        "nteract": {
          "transient": {
            "deleting": false
          }
        }
      }
    },
    {
      "cell_type": "code",
      "source": [
        "#Initialize the decision tree algorithm\r\n",
        "df_dt = DecisionTreeClassifier(labelCol=\"indexedLabel\", featuresCol=\"features\")"
      ],
      "outputs": [
        {
          "output_type": "display_data",
          "data": {
            "application/vnd.livy.statement-meta+json": {
              "spark_pool": "Nurture",
              "session_id": "1296",
              "statement_id": 51,
              "state": "finished",
              "livy_statement_state": "available",
              "queued_time": "2023-09-27T21:29:55.1928859Z",
              "session_start_time": null,
              "execution_start_time": "2023-09-27T21:31:32.3779972Z",
              "execution_finish_time": "2023-09-27T21:31:32.552138Z",
              "spark_jobs": null,
              "parent_msg_id": "9c14665f-5735-4615-9399-b04b32c0164e"
            },
            "text/plain": "StatementMeta(Nurture, 1296, 51, Finished, Available)"
          },
          "metadata": {}
        }
      ],
      "execution_count": 139,
      "metadata": {
        "jupyter": {
          "source_hidden": false,
          "outputs_hidden": false
        },
        "nteract": {
          "transient": {
            "deleting": false
          }
        }
      }
    },
    {
      "cell_type": "code",
      "source": [
        "#Define the pipeline stages\r\n",
        "pipeline_dt = Pipeline(stages=[tokenizer, df_countVectorizer, df_dt, Converter])"
      ],
      "outputs": [
        {
          "output_type": "display_data",
          "data": {
            "application/vnd.livy.statement-meta+json": {
              "spark_pool": "Nurture",
              "session_id": "1296",
              "statement_id": 52,
              "state": "finished",
              "livy_statement_state": "available",
              "queued_time": "2023-09-27T21:29:55.6756714Z",
              "session_start_time": null,
              "execution_start_time": "2023-09-27T21:31:32.6965316Z",
              "execution_finish_time": "2023-09-27T21:31:32.8679222Z",
              "spark_jobs": null,
              "parent_msg_id": "42082aa8-f194-47e1-bde8-26d5facf5c48"
            },
            "text/plain": "StatementMeta(Nurture, 1296, 52, Finished, Available)"
          },
          "metadata": {}
        }
      ],
      "execution_count": 140,
      "metadata": {
        "jupyter": {
          "source_hidden": false,
          "outputs_hidden": false
        },
        "nteract": {
          "transient": {
            "deleting": false
          }
        }
      }
    },
    {
      "cell_type": "code",
      "source": [
        "#Train the model with the train set\r\n",
        "model_dt = pipeline_dt.fit(train_set)"
      ],
      "outputs": [
        {
          "output_type": "display_data",
          "data": {
            "application/vnd.livy.statement-meta+json": {
              "spark_pool": "Nurture",
              "session_id": "1296",
              "statement_id": 53,
              "state": "finished",
              "livy_statement_state": "available",
              "queued_time": "2023-09-27T21:29:56.5418013Z",
              "session_start_time": null,
              "execution_start_time": "2023-09-27T21:31:33.0229271Z",
              "execution_finish_time": "2023-09-27T21:31:35.9188387Z",
              "spark_jobs": null,
              "parent_msg_id": "761afccc-7875-4873-ba8b-49c1c97ea049"
            },
            "text/plain": "StatementMeta(Nurture, 1296, 53, Finished, Available)"
          },
          "metadata": {}
        }
      ],
      "execution_count": 141,
      "metadata": {
        "jupyter": {
          "source_hidden": false,
          "outputs_hidden": false
        },
        "nteract": {
          "transient": {
            "deleting": false
          }
        }
      }
    },
    {
      "cell_type": "code",
      "source": [
        "#Deploy the model on the test set\r\n",
        "predictions_test_dt = model_dt.transform(test_set)"
      ],
      "outputs": [
        {
          "output_type": "display_data",
          "data": {
            "application/vnd.livy.statement-meta+json": {
              "spark_pool": "Nurture",
              "session_id": "1296",
              "statement_id": 54,
              "state": "finished",
              "livy_statement_state": "available",
              "queued_time": "2023-09-27T21:29:56.9617405Z",
              "session_start_time": null,
              "execution_start_time": "2023-09-27T21:31:36.0790918Z",
              "execution_finish_time": "2023-09-27T21:31:36.2414723Z",
              "spark_jobs": null,
              "parent_msg_id": "9b6f874c-b65c-4615-8517-f888ed80c41b"
            },
            "text/plain": "StatementMeta(Nurture, 1296, 54, Finished, Available)"
          },
          "metadata": {}
        }
      ],
      "execution_count": 142,
      "metadata": {
        "jupyter": {
          "source_hidden": false,
          "outputs_hidden": false
        },
        "nteract": {
          "transient": {
            "deleting": false
          }
        }
      }
    },
    {
      "cell_type": "code",
      "source": [
        "#Evaluate the model with MulticlassClassificationEvaluator\n",
        "evaluator = MulticlassClassificationEvaluator(labelCol=\"indexedLabel\", predictionCol=\"prediction\", metricName=\"accuracy\")\n",
        "accuracy_dt = evaluator.evaluate(predictions_test_dt)"
      ],
      "outputs": [
        {
          "output_type": "display_data",
          "data": {
            "application/vnd.livy.statement-meta+json": {
              "spark_pool": "Nurture",
              "session_id": "1296",
              "statement_id": 55,
              "state": "finished",
              "livy_statement_state": "available",
              "queued_time": "2023-09-27T21:29:57.3683075Z",
              "session_start_time": null,
              "execution_start_time": "2023-09-27T21:31:36.395038Z",
              "execution_finish_time": "2023-09-27T21:31:36.931729Z",
              "spark_jobs": null,
              "parent_msg_id": "02e2387f-ca2d-425c-9ae7-ede982467cfe"
            },
            "text/plain": "StatementMeta(Nurture, 1296, 55, Finished, Available)"
          },
          "metadata": {}
        }
      ],
      "execution_count": 143,
      "metadata": {
        "jupyter": {
          "source_hidden": false,
          "outputs_hidden": false
        },
        "nteract": {
          "transient": {
            "deleting": false
          }
        }
      }
    },
    {
      "cell_type": "code",
      "source": [
        "#Calculate the decision tree accuracy\r\n",
        "print(\"Test Accuracy (Decision Tree) = %g\" % accuracy_dt)"
      ],
      "outputs": [
        {
          "output_type": "display_data",
          "data": {
            "application/vnd.livy.statement-meta+json": {
              "spark_pool": "Nurture",
              "session_id": "1296",
              "statement_id": 56,
              "state": "finished",
              "livy_statement_state": "available",
              "queued_time": "2023-09-27T21:29:57.8406556Z",
              "session_start_time": null,
              "execution_start_time": "2023-09-27T21:31:37.0940644Z",
              "execution_finish_time": "2023-09-27T21:31:37.2575884Z",
              "spark_jobs": null,
              "parent_msg_id": "b0e518f7-67b1-44e4-bb46-565717ffc536"
            },
            "text/plain": "StatementMeta(Nurture, 1296, 56, Finished, Available)"
          },
          "metadata": {}
        },
        {
          "output_type": "stream",
          "name": "stdout",
          "text": [
            "Test Accuracy (Decision Tree) = 0.865306\n"
          ]
        }
      ],
      "execution_count": 144,
      "metadata": {
        "jupyter": {
          "source_hidden": false,
          "outputs_hidden": false
        },
        "nteract": {
          "transient": {
            "deleting": false
          }
        }
      }
    },
    {
      "cell_type": "code",
      "source": [
        "predictions_dt = model_dt.transform(df_clean2.withColumnRenamed(\"Candidate_job_title\", \"job_title\"))\n",
        "predictions_dt.show()"
      ],
      "outputs": [
        {
          "output_type": "display_data",
          "data": {
            "application/vnd.livy.statement-meta+json": {
              "spark_pool": "Nurture",
              "session_id": "1296",
              "statement_id": 57,
              "state": "finished",
              "livy_statement_state": "available",
              "queued_time": "2023-09-27T21:29:58.2623262Z",
              "session_start_time": null,
              "execution_start_time": "2023-09-27T21:31:37.422982Z",
              "execution_finish_time": "2023-09-27T21:31:38.5404101Z",
              "spark_jobs": null,
              "parent_msg_id": "eafebd81-7250-4fa7-8dd2-9de1f7d894ab"
            },
            "text/plain": "StatementMeta(Nurture, 1296, 57, Finished, Available)"
          },
          "metadata": {}
        },
        {
          "output_type": "stream",
          "name": "stdout",
          "text": [
            "+--------------------+--------------------+--------------------+--------------------+--------------+------------+--------+--------------------+--------------------+--------------------+--------------------+----------+--------------+\n|                  ID|      WorkHistory_ID|   Candidate_contact|           job_title|Cnd_start_date|Cnd_end_date|Duration|               words|            features|       rawPrediction|         probability|prediction|predictedLabel|\n+--------------------+--------------------+--------------------+--------------------+--------------+------------+--------+--------------------+--------------------+--------------------+--------------------+----------+--------------+\n|6ae7162b-104e-eb1...|6ae7162b-104e-eb1...|14c6701e-104e-eb1...|        data analyst|    2019-05-01|  2020-08-01|      16|     [data, analyst]|(377,[9,13],[1.0,...|[0.0,0.0,0.0,0.0,...|[0.0,0.0,0.0,0.0,...|       5.0|  Data Analyst|\n|44e4bc29-104e-eb1...|44e4bc29-104e-eb1...|03c6701e-104e-eb1...|reporting and dat...|    2017-01-01|        null|    null|[reporting, and, ...|(377,[9,13,312],[...|[0.0,0.0,0.0,0.0,...|[0.0,0.0,0.0,0.0,...|       5.0|  Data Analyst|\n|71e7162b-104e-eb1...|71e7162b-104e-eb1...|14c6701e-104e-eb1...|             analyst|    2018-04-01|  2019-05-01|      14|           [analyst]|     (377,[9],[1.0])|[0.0,0.0,0.0,0.0,...|[0.0,0.0,0.0,0.0,...|       5.0|  Data Analyst|\n|76e7162b-104e-eb1...|76e7162b-104e-eb1...|03c6701e-104e-eb1...|data and process ...|    2015-07-01|  2017-01-01|      19|[data, and, proce...|(377,[9,13,312],[...|[0.0,0.0,0.0,0.0,...|[0.0,0.0,0.0,0.0,...|       5.0|  Data Analyst|\n|53e4bc29-104e-eb1...|53e4bc29-104e-eb1...|14c6701e-104e-eb1...|           associate|    2017-05-01|  2018-03-01|      10|         [associate]|    (377,[32],[1.0])|[60.0,201.0,4.0,4...|[0.17647058823529...|       1.0|         Other|\n|5de4bc29-104e-eb1...|5de4bc29-104e-eb1...|14c6701e-104e-eb1...|risk analyst  ris...|    2016-05-01|  2017-03-01|      10|[risk, analyst, ,...|(377,[9,129,195],...|[0.0,0.0,0.0,0.0,...|[0.0,0.0,0.0,0.0,...|       5.0|  Data Analyst|\n|7ee7162b-104e-eb1...|7ee7162b-104e-eb1...|03c6701e-104e-eb1...|analystprogrammer...|    1990-02-01|  2015-07-01|     331|[analystprogramme...|(377,[29,129],[1....|[60.0,201.0,4.0,4...|[0.17647058823529...|       1.0|         Other|\n|9f2bd42f-104e-eb1...|9f2bd42f-104e-eb1...|14c6701e-104e-eb1...|      risk assistant|    2015-11-01|  2016-05-01|       6|   [risk, assistant]|(377,[105,195],[1...|[60.0,201.0,4.0,4...|[0.17647058823529...|       1.0|         Other|\n|a92bd42f-104e-eb1...|a92bd42f-104e-eb1...|14c6701e-104e-eb1...|   finance assistant|    2015-08-01|  2015-10-01|       2|[finance, assistant]|(377,[105,326],[1...|[60.0,201.0,4.0,4...|[0.17647058823529...|       1.0|         Other|\n|43b9cc35-104e-eb1...|43b9cc35-104e-eb1...|e1a4d169-bc08-eb1...|cs operations dat...|    2019-01-01|  2020-01-01|      13|[cs, operations, ...|(377,[9,13,76],[1...|[0.0,0.0,0.0,0.0,...|[0.0,0.0,0.0,0.0,...|       5.0|  Data Analyst|\n|4bb9cc35-104e-eb1...|4bb9cc35-104e-eb1...|e1a4d169-bc08-eb1...|data analyst manager|    2012-01-01|  2019-01-01|      91|[data, analyst, m...|(377,[4,9,13],[1....|[0.0,0.0,0.0,42.0...|[0.0,0.0,0.0,1.0,...|       3.0|    Management|\n|607e8f37-104e-eb1...|607e8f37-104e-eb1...|e1a4d169-bc08-eb1...|data analysis con...|    2005-01-01|  2007-01-01|      26|[data, analysis, ...|(377,[7,13],[1.0,...|[60.0,201.0,4.0,4...|[0.17647058823529...|       1.0|         Other|\n|59b9cc35-104e-eb1...|59b9cc35-104e-eb1...|e1a4d169-bc08-eb1...| senior data analyst|    2007-01-01|  2012-01-01|      65|[senior, data, an...|(377,[3,9,13],[1....|[0.0,0.0,0.0,0.0,...|[0.0,0.0,0.0,0.0,...|       5.0|  Data Analyst|\n|66b9cc35-104e-eb1...|66b9cc35-104e-eb1...|e1a4d169-bc08-eb1...|     account manager|    2001-01-01|  2002-01-01|      13|  [account, manager]|(377,[4,332],[1.0...|[0.0,0.0,0.0,42.0...|[0.0,0.0,0.0,1.0,...|       3.0|    Management|\n|72b9cc35-104e-eb1...|72b9cc35-104e-eb1...|e1a4d169-bc08-eb1...|senior marketing ...|    1999-01-01|  2001-01-01|      26|[senior, marketin...|(377,[3,9,61],[1....|[0.0,0.0,0.0,0.0,...|[0.0,0.0,0.0,0.0,...|       5.0|  Data Analyst|\n|697e8f37-104e-eb1...|697e8f37-104e-eb1...|e1a4d169-bc08-eb1...|   marketing analyst|    1998-01-01|  1999-01-01|      13|[marketing, analyst]|(377,[9,61],[1.0,...|[0.0,0.0,0.0,0.0,...|[0.0,0.0,0.0,0.0,...|       5.0|  Data Analyst|\n|720e14d9-104e-eb1...|720e14d9-104e-eb1...|aea2d6ce-104e-eb1...|        data analyst|    2019-03-01|        null|    null|     [data, analyst]|(377,[9,13],[1.0,...|[0.0,0.0,0.0,0.0,...|[0.0,0.0,0.0,0.0,...|       5.0|  Data Analyst|\n|7d0e14d9-104e-eb1...|7d0e14d9-104e-eb1...|aea2d6ce-104e-eb1...|        data analyst|    2017-10-01|  2019-02-01|      17|     [data, analyst]|(377,[9,13],[1.0,...|[0.0,0.0,0.0,0.0,...|[0.0,0.0,0.0,0.0,...|       5.0|  Data Analyst|\n|870e14d9-104e-eb1...|870e14d9-104e-eb1...|aea2d6ce-104e-eb1...|  research assistant|    2017-02-01|  2017-07-01|       5|[research, assist...|(377,[59,105],[1....|[60.0,201.0,4.0,4...|[0.17647058823529...|       1.0|         Other|\n|900e14d9-104e-eb1...|900e14d9-104e-eb1...|71c012cd-104e-eb1...|data analyst  tab...|    2015-01-01|        null|    null|[data, analyst, ,...|(377,[2,9,13,129]...|[81.0,0.0,0.0,0.0...|[0.89010989010989...|       0.0|      Software|\n+--------------------+--------------------+--------------------+--------------------+--------------+------------+--------+--------------------+--------------------+--------------------+--------------------+----------+--------------+\nonly showing top 20 rows\n\n"
          ]
        }
      ],
      "execution_count": 145,
      "metadata": {
        "jupyter": {
          "source_hidden": false,
          "outputs_hidden": false
        },
        "nteract": {
          "transient": {
            "deleting": false
          }
        }
      }
    },
    {
      "cell_type": "code",
      "source": [
        "#Track the predictions generated\n",
        "predictions_dt2 = predictions_dt.select('ID', 'Candidate_contact', 'WorkHistory_ID', 'job_title', 'predictedLabel', 'Duration')\n",
        "predictions_dt2.show()"
      ],
      "outputs": [
        {
          "output_type": "display_data",
          "data": {
            "application/vnd.livy.statement-meta+json": {
              "spark_pool": "Nurture",
              "session_id": "1296",
              "statement_id": 58,
              "state": "finished",
              "livy_statement_state": "available",
              "queued_time": "2023-09-27T21:29:58.6044236Z",
              "session_start_time": null,
              "execution_start_time": "2023-09-27T21:31:38.688009Z",
              "execution_finish_time": "2023-09-27T21:31:39.2252731Z",
              "spark_jobs": null,
              "parent_msg_id": "1c7c94a8-78e3-4375-b019-ba3b688a137d"
            },
            "text/plain": "StatementMeta(Nurture, 1296, 58, Finished, Available)"
          },
          "metadata": {}
        },
        {
          "output_type": "stream",
          "name": "stdout",
          "text": [
            "+--------------------+--------------------+--------------------+--------------------+--------------+--------+\n|                  ID|   Candidate_contact|      WorkHistory_ID|           job_title|predictedLabel|Duration|\n+--------------------+--------------------+--------------------+--------------------+--------------+--------+\n|6ae7162b-104e-eb1...|14c6701e-104e-eb1...|6ae7162b-104e-eb1...|        data analyst|  Data Analyst|      16|\n|44e4bc29-104e-eb1...|03c6701e-104e-eb1...|44e4bc29-104e-eb1...|reporting and dat...|  Data Analyst|    null|\n|71e7162b-104e-eb1...|14c6701e-104e-eb1...|71e7162b-104e-eb1...|             analyst|  Data Analyst|      14|\n|76e7162b-104e-eb1...|03c6701e-104e-eb1...|76e7162b-104e-eb1...|data and process ...|  Data Analyst|      19|\n|53e4bc29-104e-eb1...|14c6701e-104e-eb1...|53e4bc29-104e-eb1...|           associate|         Other|      10|\n|5de4bc29-104e-eb1...|14c6701e-104e-eb1...|5de4bc29-104e-eb1...|risk analyst  ris...|  Data Analyst|      10|\n|7ee7162b-104e-eb1...|03c6701e-104e-eb1...|7ee7162b-104e-eb1...|analystprogrammer...|         Other|     331|\n|9f2bd42f-104e-eb1...|14c6701e-104e-eb1...|9f2bd42f-104e-eb1...|      risk assistant|         Other|       6|\n|a92bd42f-104e-eb1...|14c6701e-104e-eb1...|a92bd42f-104e-eb1...|   finance assistant|         Other|       2|\n|43b9cc35-104e-eb1...|e1a4d169-bc08-eb1...|43b9cc35-104e-eb1...|cs operations dat...|  Data Analyst|      13|\n|4bb9cc35-104e-eb1...|e1a4d169-bc08-eb1...|4bb9cc35-104e-eb1...|data analyst manager|    Management|      91|\n|607e8f37-104e-eb1...|e1a4d169-bc08-eb1...|607e8f37-104e-eb1...|data analysis con...|         Other|      26|\n|59b9cc35-104e-eb1...|e1a4d169-bc08-eb1...|59b9cc35-104e-eb1...| senior data analyst|  Data Analyst|      65|\n|66b9cc35-104e-eb1...|e1a4d169-bc08-eb1...|66b9cc35-104e-eb1...|     account manager|    Management|      13|\n|72b9cc35-104e-eb1...|e1a4d169-bc08-eb1...|72b9cc35-104e-eb1...|senior marketing ...|  Data Analyst|      26|\n|697e8f37-104e-eb1...|e1a4d169-bc08-eb1...|697e8f37-104e-eb1...|   marketing analyst|  Data Analyst|      13|\n|720e14d9-104e-eb1...|aea2d6ce-104e-eb1...|720e14d9-104e-eb1...|        data analyst|  Data Analyst|    null|\n|7d0e14d9-104e-eb1...|aea2d6ce-104e-eb1...|7d0e14d9-104e-eb1...|        data analyst|  Data Analyst|      17|\n|870e14d9-104e-eb1...|aea2d6ce-104e-eb1...|870e14d9-104e-eb1...|  research assistant|         Other|       5|\n|900e14d9-104e-eb1...|71c012cd-104e-eb1...|900e14d9-104e-eb1...|data analyst  tab...|      Software|    null|\n+--------------------+--------------------+--------------------+--------------------+--------------+--------+\nonly showing top 20 rows\n\n"
          ]
        }
      ],
      "execution_count": 146,
      "metadata": {
        "jupyter": {
          "source_hidden": false,
          "outputs_hidden": false
        },
        "nteract": {
          "transient": {
            "deleting": false
          }
        }
      }
    },
    {
      "cell_type": "code",
      "source": [
        "candidate_workhist.show()"
      ],
      "outputs": [
        {
          "output_type": "display_data",
          "data": {
            "application/vnd.livy.statement-meta+json": {
              "spark_pool": "Nurture",
              "session_id": "1296",
              "statement_id": 59,
              "state": "finished",
              "livy_statement_state": "available",
              "queued_time": "2023-09-27T21:29:58.9449551Z",
              "session_start_time": null,
              "execution_start_time": "2023-09-27T21:31:39.420899Z",
              "execution_finish_time": "2023-09-27T21:31:39.9652058Z",
              "spark_jobs": null,
              "parent_msg_id": "55b17724-cfe8-4380-9957-57ff564d8ade"
            },
            "text/plain": "StatementMeta(Nurture, 1296, 59, Finished, Available)"
          },
          "metadata": {}
        },
        {
          "output_type": "stream",
          "name": "stdout",
          "text": [
            "+--------------------+--------------------+-----------------------+----------------------+--------------------+--------------------------+--------------------+--------------------+\n|                  ID|   Candidate_contact|Candidate_workstrt_date|Candidate_workend_date|      WorkHistory_ID|Candidate_work_description| Candidate_job_title|      Cand_workplace|\n+--------------------+--------------------+-----------------------+----------------------+--------------------+--------------------------+--------------------+--------------------+\n|6ae7162b-104e-eb1...|14c6701e-104e-eb1...|    2019-05-01 00:00:00|   2020-08-01 00:00:00|6ae7162b-104e-eb1...|      ; lendinvest - --...|        Data analyst|Data analyst - Le...|\n|44e4bc29-104e-eb1...|03c6701e-104e-eb1...|    2017-01-01 00:00:00|                  null|44e4bc29-104e-eb1...|      key achievements\\...|Reporting and Dat...|Reporting and Dat...|\n|71e7162b-104e-eb1...|14c6701e-104e-eb1...|    2018-04-01 00:00:00|   2019-05-01 00:00:00|71e7162b-104e-eb1...|      during this time ...|             analyst|analyst - Link Fi...|\n|76e7162b-104e-eb1...|03c6701e-104e-eb1...|    2015-07-01 00:00:00|   2017-01-01 00:00:00|76e7162b-104e-eb1...|      key achievements:...|Data and Process ...|Data and Process ...|\n|53e4bc29-104e-eb1...|14c6701e-104e-eb1...|    2017-05-01 00:00:00|   2018-03-01 00:00:00|53e4bc29-104e-eb1...|      ; at this time i ...|           associate|associate - Link ...|\n|5de4bc29-104e-eb1...|14c6701e-104e-eb1...|    2016-05-01 00:00:00|   2017-03-01 00:00:00|5de4bc29-104e-eb1...|      , at this time i ...|Risk Analyst / Ri...|Risk Analyst / Ri...|\n|7ee7162b-104e-eb1...|03c6701e-104e-eb1...|    1990-02-01 00:00:00|   2015-07-01 00:00:00|7ee7162b-104e-eb1...|      joined british ai...|Analyst-Programme...|Analyst-Programme...|\n|9f2bd42f-104e-eb1...|14c6701e-104e-eb1...|    2015-11-01 00:00:00|   2016-05-01 00:00:00|9f2bd42f-104e-eb1...|      ,  haven power - ...|      Risk Assistant|Risk Assistant - ...|\n|a92bd42f-104e-eb1...|14c6701e-104e-eb1...|    2015-08-01 00:00:00|   2015-10-01 00:00:00|a92bd42f-104e-eb1...|      , haven power - -...|   Finance Assistant|Finance Assistant...|\n|43b9cc35-104e-eb1...|e1a4d169-bc08-eb1...|    2019-01-01 00:00:00|   2020-01-01 00:00:00|43b9cc35-104e-eb1...|      juul labs. - lond...|CS Operations Dat...|CS Operations Dat...|\n|4bb9cc35-104e-eb1...|e1a4d169-bc08-eb1...|    2012-01-01 00:00:00|   2019-01-01 00:00:00|4bb9cc35-104e-eb1...|      accountable for m...|Data Analyst Manager|Data Analyst Mana...|\n|607e8f37-104e-eb1...|e1a4d169-bc08-eb1...|    2005-01-01 00:00:00|   2007-01-01 00:00:00|607e8f37-104e-eb1...|                      null|Data Analysis Con...|Data Analysis Con...|\n|59b9cc35-104e-eb1...|e1a4d169-bc08-eb1...|    2007-01-01 00:00:00|   2012-01-01 00:00:00|59b9cc35-104e-eb1...|      accountable for r...| Senior Data Analyst|Senior Data Analy...|\n|66b9cc35-104e-eb1...|e1a4d169-bc08-eb1...|    2001-01-01 00:00:00|   2002-01-01 00:00:00|66b9cc35-104e-eb1...|                      null|     Account Manager|Account Manager -...|\n|72b9cc35-104e-eb1...|e1a4d169-bc08-eb1...|    1999-01-01 00:00:00|   2001-01-01 00:00:00|72b9cc35-104e-eb1...|                      null|Senior Marketing ...|Senior Marketing ...|\n|697e8f37-104e-eb1...|e1a4d169-bc08-eb1...|    1998-01-01 00:00:00|   1999-01-01 00:00:00|697e8f37-104e-eb1...|                      null|   Marketing Analyst|Marketing Analyst...|\n|720e14d9-104e-eb1...|aea2d6ce-104e-eb1...|    2019-03-01 00:00:00|                  null|720e14d9-104e-eb1...|      machine learning ...|        Data Analyst|Data Analyst - Ac...|\n|7d0e14d9-104e-eb1...|aea2d6ce-104e-eb1...|    2017-10-01 00:00:00|   2019-02-01 00:00:00|7d0e14d9-104e-eb1...|      analysis to ident...|        Data Analyst| Data Analyst - JLL |\n|870e14d9-104e-eb1...|aea2d6ce-104e-eb1...|    2017-02-01 00:00:00|   2017-07-01 00:00:00|870e14d9-104e-eb1...|      *    creating a v...|  Research Assistant|Research Assistan...|\n|900e14d9-104e-eb1...|71c012cd-104e-eb1...|    2015-01-01 00:00:00|                  null|900e14d9-104e-eb1...|      haven claims - pr...|Data Analyst / Ta...|Data Analyst / Ta...|\n+--------------------+--------------------+-----------------------+----------------------+--------------------+--------------------------+--------------------+--------------------+\nonly showing top 20 rows\n\n"
          ]
        }
      ],
      "execution_count": 147,
      "metadata": {
        "jupyter": {
          "source_hidden": false,
          "outputs_hidden": false
        },
        "nteract": {
          "transient": {
            "deleting": false
          }
        }
      }
    },
    {
      "cell_type": "code",
      "source": [
        "candidate_skilllevel.show()"
      ],
      "outputs": [
        {
          "output_type": "display_data",
          "data": {
            "application/vnd.livy.statement-meta+json": {
              "spark_pool": "Nurture",
              "session_id": "1296",
              "statement_id": 60,
              "state": "finished",
              "livy_statement_state": "available",
              "queued_time": "2023-09-27T21:29:59.3418368Z",
              "session_start_time": null,
              "execution_start_time": "2023-09-27T21:31:40.1282983Z",
              "execution_finish_time": "2023-09-27T21:31:40.6676833Z",
              "spark_jobs": null,
              "parent_msg_id": "e008c7ed-4fe6-48ce-823a-8ca0c1d8c359"
            },
            "text/plain": "StatementMeta(Nurture, 1296, 60, Finished, Available)"
          },
          "metadata": {}
        },
        {
          "output_type": "stream",
          "name": "stdout",
          "text": [
            "+--------------------+--------------------+----------------+----------------+---------------+---------------+--------------------+---------+--------------------+--------------------+----------+\n|             Cand_ID| Candidate_contactno|Cand_proficiency|Cand_requirement|Cand_experience|Cand_exp_period|          Cand_skill|Cand_name|  Cand_skilllevel_ID|     Cand_skill_name|Cand_level|\n+--------------------+--------------------+----------------+----------------+---------------+---------------+--------------------+---------+--------------------+--------------------+----------+\n|ab1e9a1d-104e-eb1...|03c6701e-104e-eb1...|       143570003|       143570000|             43|      143570000|089ac1e6-27bd-ea1...|     null|ab1e9a1d-104e-eb1...|                gdpr|        97|\n|ae1e9a1d-104e-eb1...|03c6701e-104e-eb1...|       143570003|       143570000|             43|      143570000|9f9fc31c-8a59-e11...|     null|ae1e9a1d-104e-eb1...|    data warehousing|        99|\n|b51e9a1d-104e-eb1...|03c6701e-104e-eb1...|       143570003|       143570000|             62|      143570000|eda1c31c-8a59-e11...|     null|b51e9a1d-104e-eb1...|    business objects|        95|\n|90b1b823-104e-eb1...|03c6701e-104e-eb1...|       143570002|       143570000|             19|      143570000|71a0c31c-8a59-e11...|     null|90b1b823-104e-eb1...|              oracle|        70|\n|15c6701e-104e-eb1...|03c6701e-104e-eb1...|       143570002|       143570000|             19|      143570000|7fa0c31c-8a59-e11...|     null|15c6701e-104e-eb1...|         oracle 2000|        70|\n|98b1b823-104e-eb1...|03c6701e-104e-eb1...|       143570002|       143570000|             19|      143570000|85a0c31c-8a59-e11...|     null|98b1b823-104e-eb1...|            oracle 7|        70|\n|9db1b823-104e-eb1...|03c6701e-104e-eb1...|       143570002|       143570000|             19|      143570000|91a0c31c-8a59-e11...|     null|9db1b823-104e-eb1...|            oracle 9|        70|\n|9fb1b823-104e-eb1...|03c6701e-104e-eb1...|       143570002|       143570000|             19|      143570000|f3a1c31c-8a59-e11...|     null|9fb1b823-104e-eb1...|businessobjects w...|        65|\n|b79cff24-104e-eb1...|03c6701e-104e-eb1...|       143570002|       143570000|             19|      143570000|83a2c31c-8a59-e11...|     null|b79cff24-104e-eb1...|   oracle financials|        65|\n|b89cff24-104e-eb1...|14c6701e-104e-eb1...|       143570003|       143570000|             16|      143570000|c204cc5b-c3a2-e11...|     null|b89cff24-104e-eb1...|               audit|        92|\n|a6b1b823-104e-eb1...|03c6701e-104e-eb1...|       143570001|       143570000|            306|           null|85b1c31c-8a59-e11...|     null|a6b1b823-104e-eb1...|                pl/1|        55|\n|abb1b823-104e-eb1...|14c6701e-104e-eb1...|       143570003|       143570000|             16|      143570000|a406cc5b-c3a2-e11...|     null|abb1b823-104e-eb1...|            year-end|        92|\n|b99cff24-104e-eb1...|03c6701e-104e-eb1...|       143570001|       143570000|            306|      143570000|33b3c31c-8a59-e11...|     null|b99cff24-104e-eb1...|        visual basic|        54|\n|ba9cff24-104e-eb1...|14c6701e-104e-eb1...|       143570003|       143570000|             14|      143570000|d802cc5b-c3a2-e11...|     null|ba9cff24-104e-eb1...|financial report ...|        85|\n|bb9cff24-104e-eb1...|03c6701e-104e-eb1...|       143570001|       143570000|            306|      143570000|3db3c31c-8a59-e11...|     null|bb9cff24-104e-eb1...|visual basic for ...|        53|\n|bc9cff24-104e-eb1...|14c6701e-104e-eb1...|       143570003|       143570000|             18|      143570000|5806cc5b-c3a2-e11...|     null|bc9cff24-104e-eb1...|  statutory accounts|        84|\n|b8b1b823-104e-eb1...|03c6701e-104e-eb1...|            null|       143570000|              0|           null|fc99c1e6-27bd-ea1...|     null|b8b1b823-104e-eb1...|      data modelling|        13|\n|bd9cff24-104e-eb1...|14c6701e-104e-eb1...|       143570002|       143570000|             11|      143570000|a403cc5b-c3a2-e11...|     null|bd9cff24-104e-eb1...|         market risk|        66|\n|be9cff24-104e-eb1...|03c6701e-104e-eb1...|            null|       143570000|              0|           null|d9a6c31c-8a59-e11...|     null|be9cff24-104e-eb1...|        ibm hardware|        13|\n|bdb1b823-104e-eb1...|14c6701e-104e-eb1...|       143570001|       143570000|              3|      143570000|3205cc5b-c3a2-e11...|     null|bdb1b823-104e-eb1...|  financial planning|        48|\n+--------------------+--------------------+----------------+----------------+---------------+---------------+--------------------+---------+--------------------+--------------------+----------+\nonly showing top 20 rows\n\n"
          ]
        }
      ],
      "execution_count": 148,
      "metadata": {
        "jupyter": {
          "source_hidden": false,
          "outputs_hidden": false
        },
        "nteract": {
          "transient": {
            "deleting": false
          }
        }
      }
    },
    {
      "cell_type": "markdown",
      "source": [
        "Join the two tables at their candidate contact"
      ],
      "metadata": {
        "nteract": {
          "transient": {
            "deleting": false
          }
        }
      }
    },
    {
      "cell_type": "code",
      "source": [
        "#Merge the two tables at their common column (candidate contact)\n",
        "join_df = predictions_lr2.join(candidate_skilllevel, predictions_lr2.Candidate_contact == candidate_skilllevel.Candidate_contactno)\n",
        "join_df.show()"
      ],
      "outputs": [
        {
          "output_type": "display_data",
          "data": {
            "application/vnd.livy.statement-meta+json": {
              "spark_pool": "Nurture",
              "session_id": "1296",
              "statement_id": 61,
              "state": "finished",
              "livy_statement_state": "available",
              "queued_time": "2023-09-27T21:29:59.6855333Z",
              "session_start_time": null,
              "execution_start_time": "2023-09-27T21:31:40.845335Z",
              "execution_finish_time": "2023-09-27T21:31:43.7008225Z",
              "spark_jobs": null,
              "parent_msg_id": "6481c5ba-8f5c-4642-acc3-7001289c9277"
            },
            "text/plain": "StatementMeta(Nurture, 1296, 61, Finished, Available)"
          },
          "metadata": {}
        },
        {
          "output_type": "stream",
          "name": "stdout",
          "text": [
            "+--------------------+--------------------+--------------------+--------------------+--------------+--------+--------------------+--------------------+----------------+----------------+---------------+---------------+--------------------+---------+--------------------+----------------+----------+\n|                  ID|   Candidate_contact|      WorkHistory_ID|           job_title|predictedLabel|Duration|             Cand_ID| Candidate_contactno|Cand_proficiency|Cand_requirement|Cand_experience|Cand_exp_period|          Cand_skill|Cand_name|  Cand_skilllevel_ID| Cand_skill_name|Cand_level|\n+--------------------+--------------------+--------------------+--------------------+--------------+--------+--------------------+--------------------+----------------+----------------+---------------+---------------+--------------------+---------+--------------------+----------------+----------+\n|7ee7162b-104e-eb1...|03c6701e-104e-eb1...|7ee7162b-104e-eb1...|analystprogrammer...|         Other|     331|ab1e9a1d-104e-eb1...|03c6701e-104e-eb1...|       143570003|       143570000|             43|      143570000|089ac1e6-27bd-ea1...|     null|ab1e9a1d-104e-eb1...|            gdpr|        97|\n|76e7162b-104e-eb1...|03c6701e-104e-eb1...|76e7162b-104e-eb1...|data and process ...|  Data Analyst|      19|ab1e9a1d-104e-eb1...|03c6701e-104e-eb1...|       143570003|       143570000|             43|      143570000|089ac1e6-27bd-ea1...|     null|ab1e9a1d-104e-eb1...|            gdpr|        97|\n|44e4bc29-104e-eb1...|03c6701e-104e-eb1...|44e4bc29-104e-eb1...|reporting and dat...|  Data Analyst|    null|ab1e9a1d-104e-eb1...|03c6701e-104e-eb1...|       143570003|       143570000|             43|      143570000|089ac1e6-27bd-ea1...|     null|ab1e9a1d-104e-eb1...|            gdpr|        97|\n|7ee7162b-104e-eb1...|03c6701e-104e-eb1...|7ee7162b-104e-eb1...|analystprogrammer...|         Other|     331|ae1e9a1d-104e-eb1...|03c6701e-104e-eb1...|       143570003|       143570000|             43|      143570000|9f9fc31c-8a59-e11...|     null|ae1e9a1d-104e-eb1...|data warehousing|        99|\n|76e7162b-104e-eb1...|03c6701e-104e-eb1...|76e7162b-104e-eb1...|data and process ...|  Data Analyst|      19|ae1e9a1d-104e-eb1...|03c6701e-104e-eb1...|       143570003|       143570000|             43|      143570000|9f9fc31c-8a59-e11...|     null|ae1e9a1d-104e-eb1...|data warehousing|        99|\n|44e4bc29-104e-eb1...|03c6701e-104e-eb1...|44e4bc29-104e-eb1...|reporting and dat...|  Data Analyst|    null|ae1e9a1d-104e-eb1...|03c6701e-104e-eb1...|       143570003|       143570000|             43|      143570000|9f9fc31c-8a59-e11...|     null|ae1e9a1d-104e-eb1...|data warehousing|        99|\n|7ee7162b-104e-eb1...|03c6701e-104e-eb1...|7ee7162b-104e-eb1...|analystprogrammer...|         Other|     331|b51e9a1d-104e-eb1...|03c6701e-104e-eb1...|       143570003|       143570000|             62|      143570000|eda1c31c-8a59-e11...|     null|b51e9a1d-104e-eb1...|business objects|        95|\n|76e7162b-104e-eb1...|03c6701e-104e-eb1...|76e7162b-104e-eb1...|data and process ...|  Data Analyst|      19|b51e9a1d-104e-eb1...|03c6701e-104e-eb1...|       143570003|       143570000|             62|      143570000|eda1c31c-8a59-e11...|     null|b51e9a1d-104e-eb1...|business objects|        95|\n|44e4bc29-104e-eb1...|03c6701e-104e-eb1...|44e4bc29-104e-eb1...|reporting and dat...|  Data Analyst|    null|b51e9a1d-104e-eb1...|03c6701e-104e-eb1...|       143570003|       143570000|             62|      143570000|eda1c31c-8a59-e11...|     null|b51e9a1d-104e-eb1...|business objects|        95|\n|7ee7162b-104e-eb1...|03c6701e-104e-eb1...|7ee7162b-104e-eb1...|analystprogrammer...|         Other|     331|90b1b823-104e-eb1...|03c6701e-104e-eb1...|       143570002|       143570000|             19|      143570000|71a0c31c-8a59-e11...|     null|90b1b823-104e-eb1...|          oracle|        70|\n|76e7162b-104e-eb1...|03c6701e-104e-eb1...|76e7162b-104e-eb1...|data and process ...|  Data Analyst|      19|90b1b823-104e-eb1...|03c6701e-104e-eb1...|       143570002|       143570000|             19|      143570000|71a0c31c-8a59-e11...|     null|90b1b823-104e-eb1...|          oracle|        70|\n|44e4bc29-104e-eb1...|03c6701e-104e-eb1...|44e4bc29-104e-eb1...|reporting and dat...|  Data Analyst|    null|90b1b823-104e-eb1...|03c6701e-104e-eb1...|       143570002|       143570000|             19|      143570000|71a0c31c-8a59-e11...|     null|90b1b823-104e-eb1...|          oracle|        70|\n|7ee7162b-104e-eb1...|03c6701e-104e-eb1...|7ee7162b-104e-eb1...|analystprogrammer...|         Other|     331|15c6701e-104e-eb1...|03c6701e-104e-eb1...|       143570002|       143570000|             19|      143570000|7fa0c31c-8a59-e11...|     null|15c6701e-104e-eb1...|     oracle 2000|        70|\n|76e7162b-104e-eb1...|03c6701e-104e-eb1...|76e7162b-104e-eb1...|data and process ...|  Data Analyst|      19|15c6701e-104e-eb1...|03c6701e-104e-eb1...|       143570002|       143570000|             19|      143570000|7fa0c31c-8a59-e11...|     null|15c6701e-104e-eb1...|     oracle 2000|        70|\n|44e4bc29-104e-eb1...|03c6701e-104e-eb1...|44e4bc29-104e-eb1...|reporting and dat...|  Data Analyst|    null|15c6701e-104e-eb1...|03c6701e-104e-eb1...|       143570002|       143570000|             19|      143570000|7fa0c31c-8a59-e11...|     null|15c6701e-104e-eb1...|     oracle 2000|        70|\n|7ee7162b-104e-eb1...|03c6701e-104e-eb1...|7ee7162b-104e-eb1...|analystprogrammer...|         Other|     331|98b1b823-104e-eb1...|03c6701e-104e-eb1...|       143570002|       143570000|             19|      143570000|85a0c31c-8a59-e11...|     null|98b1b823-104e-eb1...|        oracle 7|        70|\n|76e7162b-104e-eb1...|03c6701e-104e-eb1...|76e7162b-104e-eb1...|data and process ...|  Data Analyst|      19|98b1b823-104e-eb1...|03c6701e-104e-eb1...|       143570002|       143570000|             19|      143570000|85a0c31c-8a59-e11...|     null|98b1b823-104e-eb1...|        oracle 7|        70|\n|44e4bc29-104e-eb1...|03c6701e-104e-eb1...|44e4bc29-104e-eb1...|reporting and dat...|  Data Analyst|    null|98b1b823-104e-eb1...|03c6701e-104e-eb1...|       143570002|       143570000|             19|      143570000|85a0c31c-8a59-e11...|     null|98b1b823-104e-eb1...|        oracle 7|        70|\n|7ee7162b-104e-eb1...|03c6701e-104e-eb1...|7ee7162b-104e-eb1...|analystprogrammer...|         Other|     331|9db1b823-104e-eb1...|03c6701e-104e-eb1...|       143570002|       143570000|             19|      143570000|91a0c31c-8a59-e11...|     null|9db1b823-104e-eb1...|        oracle 9|        70|\n|76e7162b-104e-eb1...|03c6701e-104e-eb1...|76e7162b-104e-eb1...|data and process ...|  Data Analyst|      19|9db1b823-104e-eb1...|03c6701e-104e-eb1...|       143570002|       143570000|             19|      143570000|91a0c31c-8a59-e11...|     null|9db1b823-104e-eb1...|        oracle 9|        70|\n+--------------------+--------------------+--------------------+--------------------+--------------+--------+--------------------+--------------------+----------------+----------------+---------------+---------------+--------------------+---------+--------------------+----------------+----------+\nonly showing top 20 rows\n\n"
          ]
        }
      ],
      "execution_count": 149,
      "metadata": {
        "jupyter": {
          "source_hidden": false,
          "outputs_hidden": false
        },
        "nteract": {
          "transient": {
            "deleting": false
          }
        }
      }
    },
    {
      "cell_type": "code",
      "source": [
        "#Explore the merged dataframe\n",
        "new_df = join_df.select('Candidate_contact','Cand_ID', 'job_title', 'predictedLabel', 'Cand_skill_name', 'Cand_experience', 'Cand_level', 'Duration')\n",
        "new_df.show()"
      ],
      "outputs": [
        {
          "output_type": "display_data",
          "data": {
            "application/vnd.livy.statement-meta+json": {
              "spark_pool": "Nurture",
              "session_id": "1296",
              "statement_id": 62,
              "state": "finished",
              "livy_statement_state": "available",
              "queued_time": "2023-09-27T21:30:00.0967545Z",
              "session_start_time": null,
              "execution_start_time": "2023-09-27T21:31:43.8600999Z",
              "execution_finish_time": "2023-09-27T21:31:46.6975656Z",
              "spark_jobs": null,
              "parent_msg_id": "ffb00abf-2f20-4933-a5ab-b7b792a86d32"
            },
            "text/plain": "StatementMeta(Nurture, 1296, 62, Finished, Available)"
          },
          "metadata": {}
        },
        {
          "output_type": "stream",
          "name": "stdout",
          "text": [
            "+--------------------+--------------------+--------------------+--------------+----------------+---------------+----------+--------+\n|   Candidate_contact|             Cand_ID|           job_title|predictedLabel| Cand_skill_name|Cand_experience|Cand_level|Duration|\n+--------------------+--------------------+--------------------+--------------+----------------+---------------+----------+--------+\n|03c6701e-104e-eb1...|ab1e9a1d-104e-eb1...|analystprogrammer...|         Other|            gdpr|             43|        97|     331|\n|03c6701e-104e-eb1...|ab1e9a1d-104e-eb1...|data and process ...|  Data Analyst|            gdpr|             43|        97|      19|\n|03c6701e-104e-eb1...|ab1e9a1d-104e-eb1...|reporting and dat...|  Data Analyst|            gdpr|             43|        97|    null|\n|03c6701e-104e-eb1...|ae1e9a1d-104e-eb1...|analystprogrammer...|         Other|data warehousing|             43|        99|     331|\n|03c6701e-104e-eb1...|ae1e9a1d-104e-eb1...|data and process ...|  Data Analyst|data warehousing|             43|        99|      19|\n|03c6701e-104e-eb1...|ae1e9a1d-104e-eb1...|reporting and dat...|  Data Analyst|data warehousing|             43|        99|    null|\n|03c6701e-104e-eb1...|b51e9a1d-104e-eb1...|analystprogrammer...|         Other|business objects|             62|        95|     331|\n|03c6701e-104e-eb1...|b51e9a1d-104e-eb1...|data and process ...|  Data Analyst|business objects|             62|        95|      19|\n|03c6701e-104e-eb1...|b51e9a1d-104e-eb1...|reporting and dat...|  Data Analyst|business objects|             62|        95|    null|\n|03c6701e-104e-eb1...|90b1b823-104e-eb1...|analystprogrammer...|         Other|          oracle|             19|        70|     331|\n|03c6701e-104e-eb1...|90b1b823-104e-eb1...|data and process ...|  Data Analyst|          oracle|             19|        70|      19|\n|03c6701e-104e-eb1...|90b1b823-104e-eb1...|reporting and dat...|  Data Analyst|          oracle|             19|        70|    null|\n|03c6701e-104e-eb1...|15c6701e-104e-eb1...|analystprogrammer...|         Other|     oracle 2000|             19|        70|     331|\n|03c6701e-104e-eb1...|15c6701e-104e-eb1...|data and process ...|  Data Analyst|     oracle 2000|             19|        70|      19|\n|03c6701e-104e-eb1...|15c6701e-104e-eb1...|reporting and dat...|  Data Analyst|     oracle 2000|             19|        70|    null|\n|03c6701e-104e-eb1...|98b1b823-104e-eb1...|analystprogrammer...|         Other|        oracle 7|             19|        70|     331|\n|03c6701e-104e-eb1...|98b1b823-104e-eb1...|data and process ...|  Data Analyst|        oracle 7|             19|        70|      19|\n|03c6701e-104e-eb1...|98b1b823-104e-eb1...|reporting and dat...|  Data Analyst|        oracle 7|             19|        70|    null|\n|03c6701e-104e-eb1...|9db1b823-104e-eb1...|analystprogrammer...|         Other|        oracle 9|             19|        70|     331|\n|03c6701e-104e-eb1...|9db1b823-104e-eb1...|data and process ...|  Data Analyst|        oracle 9|             19|        70|      19|\n+--------------------+--------------------+--------------------+--------------+----------------+---------------+----------+--------+\nonly showing top 20 rows\n\n"
          ]
        }
      ],
      "execution_count": 150,
      "metadata": {
        "jupyter": {
          "source_hidden": false,
          "outputs_hidden": false
        },
        "nteract": {
          "transient": {
            "deleting": false
          }
        }
      }
    },
    {
      "cell_type": "code",
      "source": [
        "from pyspark.sql.functions import when, col, lit, regexp_extract"
      ],
      "outputs": [
        {
          "output_type": "display_data",
          "data": {
            "application/vnd.livy.statement-meta+json": {
              "spark_pool": "Nurture",
              "session_id": "1296",
              "statement_id": 63,
              "state": "finished",
              "livy_statement_state": "available",
              "queued_time": "2023-09-27T21:30:00.3642338Z",
              "session_start_time": null,
              "execution_start_time": "2023-09-27T21:31:46.8631119Z",
              "execution_finish_time": "2023-09-27T21:31:47.042727Z",
              "spark_jobs": null,
              "parent_msg_id": "1655e1be-4092-4f84-9ded-a275840e13cd"
            },
            "text/plain": "StatementMeta(Nurture, 1296, 63, Finished, Available)"
          },
          "metadata": {}
        }
      ],
      "execution_count": 151,
      "metadata": {
        "jupyter": {
          "source_hidden": false,
          "outputs_hidden": false
        },
        "nteract": {
          "transient": {
            "deleting": false
          }
        }
      }
    },
    {
      "cell_type": "markdown",
      "source": [
        "Put the seniority level in a new column"
      ],
      "metadata": {
        "nteract": {
          "transient": {
            "deleting": false
          }
        }
      }
    },
    {
      "cell_type": "code",
      "source": [
        "#Create the seniority level column\n",
        "new_df2 = new_df.withColumn(\"Seniority\",\n",
        "                   when(col(\"job_title\").rlike(\"(?i)senior\"), \"Senior\")\n",
        "                   .when(col(\"job_title\").rlike(\"(?i)junior\"), \"Junior\")\n",
        "                   .when(col(\"job_title\").rlike(\"(?i)mid\"), \"Mid\")\n",
        "                   .when(col(\"job_title\").rlike(\"(?i)head\"), \"Head\")\n",
        "                   .when(col(\"job_title\").rlike(\"(?i)lead\"), \"Lead\")\n",
        "                   .otherwise(\"None\"))\n"
      ],
      "outputs": [
        {
          "output_type": "display_data",
          "data": {
            "application/vnd.livy.statement-meta+json": {
              "spark_pool": "Nurture",
              "session_id": "1296",
              "statement_id": 64,
              "state": "finished",
              "livy_statement_state": "available",
              "queued_time": "2023-09-27T21:30:00.7708295Z",
              "session_start_time": null,
              "execution_start_time": "2023-09-27T21:31:47.2106909Z",
              "execution_finish_time": "2023-09-27T21:31:47.3681495Z",
              "spark_jobs": null,
              "parent_msg_id": "75b1a3d6-1d05-4372-9813-fc0b6218c61a"
            },
            "text/plain": "StatementMeta(Nurture, 1296, 64, Finished, Available)"
          },
          "metadata": {}
        }
      ],
      "execution_count": 152,
      "metadata": {
        "jupyter": {
          "source_hidden": false,
          "outputs_hidden": false
        },
        "nteract": {
          "transient": {
            "deleting": false
          }
        }
      }
    },
    {
      "cell_type": "code",
      "source": [
        "new_df2.show(truncate = False)"
      ],
      "outputs": [
        {
          "output_type": "display_data",
          "data": {
            "application/vnd.livy.statement-meta+json": {
              "spark_pool": "Nurture",
              "session_id": "1296",
              "statement_id": 65,
              "state": "finished",
              "livy_statement_state": "available",
              "queued_time": "2023-09-27T21:30:01.1554783Z",
              "session_start_time": null,
              "execution_start_time": "2023-09-27T21:31:47.5201838Z",
              "execution_finish_time": "2023-09-27T21:31:49.4498003Z",
              "spark_jobs": null,
              "parent_msg_id": "ecdb1a83-1d33-4028-b41f-aa68d1f09f7d"
            },
            "text/plain": "StatementMeta(Nurture, 1296, 65, Finished, Available)"
          },
          "metadata": {}
        },
        {
          "output_type": "stream",
          "name": "stdout",
          "text": [
            "+------------------------------------+------------------------------------+-----------------------------+--------------+----------------+---------------+----------+--------+---------+\n|Candidate_contact                   |Cand_ID                             |job_title                    |predictedLabel|Cand_skill_name |Cand_experience|Cand_level|Duration|Seniority|\n+------------------------------------+------------------------------------+-----------------------------+--------------+----------------+---------------+----------+--------+---------+\n|03c6701e-104e-eb11-a812-000d3a8717e3|ab1e9a1d-104e-eb11-a812-00224800b0a0|analystprogrammer  programmer|Other         |gdpr            |43             |97        |331     |None     |\n|03c6701e-104e-eb11-a812-000d3a8717e3|ab1e9a1d-104e-eb11-a812-00224800b0a0|data and process analyst     |Data Analyst  |gdpr            |43             |97        |19      |None     |\n|03c6701e-104e-eb11-a812-000d3a8717e3|ab1e9a1d-104e-eb11-a812-00224800b0a0|reporting and data analyst   |Data Analyst  |gdpr            |43             |97        |null    |None     |\n|03c6701e-104e-eb11-a812-000d3a8717e3|ae1e9a1d-104e-eb11-a812-00224800b0a0|analystprogrammer  programmer|Other         |data warehousing|43             |99        |331     |None     |\n|03c6701e-104e-eb11-a812-000d3a8717e3|ae1e9a1d-104e-eb11-a812-00224800b0a0|data and process analyst     |Data Analyst  |data warehousing|43             |99        |19      |None     |\n|03c6701e-104e-eb11-a812-000d3a8717e3|ae1e9a1d-104e-eb11-a812-00224800b0a0|reporting and data analyst   |Data Analyst  |data warehousing|43             |99        |null    |None     |\n|03c6701e-104e-eb11-a812-000d3a8717e3|b51e9a1d-104e-eb11-a812-00224800b0a0|analystprogrammer  programmer|Other         |business objects|62             |95        |331     |None     |\n|03c6701e-104e-eb11-a812-000d3a8717e3|b51e9a1d-104e-eb11-a812-00224800b0a0|data and process analyst     |Data Analyst  |business objects|62             |95        |19      |None     |\n|03c6701e-104e-eb11-a812-000d3a8717e3|b51e9a1d-104e-eb11-a812-00224800b0a0|reporting and data analyst   |Data Analyst  |business objects|62             |95        |null    |None     |\n|03c6701e-104e-eb11-a812-000d3a8717e3|90b1b823-104e-eb11-a812-00224800b0a0|analystprogrammer  programmer|Other         |oracle          |19             |70        |331     |None     |\n|03c6701e-104e-eb11-a812-000d3a8717e3|90b1b823-104e-eb11-a812-00224800b0a0|data and process analyst     |Data Analyst  |oracle          |19             |70        |19      |None     |\n|03c6701e-104e-eb11-a812-000d3a8717e3|90b1b823-104e-eb11-a812-00224800b0a0|reporting and data analyst   |Data Analyst  |oracle          |19             |70        |null    |None     |\n|03c6701e-104e-eb11-a812-000d3a8717e3|15c6701e-104e-eb11-a812-000d3a8717e3|analystprogrammer  programmer|Other         |oracle 2000     |19             |70        |331     |None     |\n|03c6701e-104e-eb11-a812-000d3a8717e3|15c6701e-104e-eb11-a812-000d3a8717e3|data and process analyst     |Data Analyst  |oracle 2000     |19             |70        |19      |None     |\n|03c6701e-104e-eb11-a812-000d3a8717e3|15c6701e-104e-eb11-a812-000d3a8717e3|reporting and data analyst   |Data Analyst  |oracle 2000     |19             |70        |null    |None     |\n|03c6701e-104e-eb11-a812-000d3a8717e3|98b1b823-104e-eb11-a812-00224800b0a0|analystprogrammer  programmer|Other         |oracle 7        |19             |70        |331     |None     |\n|03c6701e-104e-eb11-a812-000d3a8717e3|98b1b823-104e-eb11-a812-00224800b0a0|data and process analyst     |Data Analyst  |oracle 7        |19             |70        |19      |None     |\n|03c6701e-104e-eb11-a812-000d3a8717e3|98b1b823-104e-eb11-a812-00224800b0a0|reporting and data analyst   |Data Analyst  |oracle 7        |19             |70        |null    |None     |\n|03c6701e-104e-eb11-a812-000d3a8717e3|9db1b823-104e-eb11-a812-00224800b0a0|analystprogrammer  programmer|Other         |oracle 9        |19             |70        |331     |None     |\n|03c6701e-104e-eb11-a812-000d3a8717e3|9db1b823-104e-eb11-a812-00224800b0a0|data and process analyst     |Data Analyst  |oracle 9        |19             |70        |19      |None     |\n+------------------------------------+------------------------------------+-----------------------------+--------------+----------------+---------------+----------+--------+---------+\nonly showing top 20 rows\n\n"
          ]
        }
      ],
      "execution_count": 153,
      "metadata": {
        "jupyter": {
          "source_hidden": false,
          "outputs_hidden": false
        },
        "nteract": {
          "transient": {
            "deleting": false
          }
        }
      }
    },
    {
      "cell_type": "markdown",
      "source": [
        "Aggregate for each job_category"
      ],
      "metadata": {
        "nteract": {
          "transient": {
            "deleting": false
          }
        }
      }
    },
    {
      "cell_type": "code",
      "source": [
        "#Aggregate for each job_category\n",
        "grouped_new = new_df2.groupBy('Candidate_contact','predictedLabel', 'job_title', 'Cand_skill_name', 'Cand_experience', 'Cand_level', 'Duration', 'Seniority').count().sort('predictedLabel', ascending=False)\n",
        "grouped_new.show()"
      ],
      "outputs": [
        {
          "output_type": "display_data",
          "data": {
            "application/vnd.livy.statement-meta+json": {
              "spark_pool": "Nurture",
              "session_id": "1296",
              "statement_id": 66,
              "state": "finished",
              "livy_statement_state": "available",
              "queued_time": "2023-09-27T21:30:01.5991807Z",
              "session_start_time": null,
              "execution_start_time": "2023-09-27T21:31:49.6039537Z",
              "execution_finish_time": "2023-09-27T21:32:00.2700383Z",
              "spark_jobs": null,
              "parent_msg_id": "b58604bd-df21-448e-852b-e58174bdfc65"
            },
            "text/plain": "StatementMeta(Nurture, 1296, 66, Finished, Available)"
          },
          "metadata": {}
        },
        {
          "output_type": "stream",
          "name": "stdout",
          "text": [
            "+--------------------+--------------+--------------------+--------------------+---------------+----------+--------+---------+-----+\n|   Candidate_contact|predictedLabel|           job_title|     Cand_skill_name|Cand_experience|Cand_level|Duration|Seniority|count|\n+--------------------+--------------+--------------------+--------------------+---------------+----------+--------+---------+-----+\n|e2a9ca41-4a65-eb1...|           Web|       web developer|          postgresql|              0|        13|       5|     None|    1|\n|a6367b21-fe69-eb1...|           Web|  lead web developer|sql server integr...|            134|        67|       8|     Lead|    1|\n|b8fcacdf-6265-eb1...|           Web|web administrator...|   microsoft asp.net|              5|        13|      26|     None|    1|\n|07a7700c-4c61-eb1...|           Web|       web developer|java 2 enterprise...|              9|        45|      41|     None|    1|\n|a6367b21-fe69-eb1...|           Web|       web developer|                ssrs|            116|        67|       4|     None|    2|\n|a6367b21-fe69-eb1...|           Web|       web developer|    computer science|              0|        91|       1|     None|    1|\n|3b13e1d6-7070-eb1...|           Web|frontend web desi...|   microsoft windows|              0|        14|     100|     None|    1|\n|34b15e53-5f9e-ed1...|           Web|sr web administrator|software as a ser...|            119|        95|      20|     None|    1|\n|cde1ef18-e106-eb1...|           Web|web designer  dev...|              oracle|              0|        13|      19|     None|    1|\n|3b13e1d6-7070-eb1...|           Web|frontend web desi...|                 api|              7|        70|     100|     None|    1|\n|28a2c793-adca-ea1...|           Web|web infrastructur...|  lotus notes/domino|             16|        91|       5|     None|    1|\n|af057636-8c61-eb1...|           Web|  frontend developer|bachelors degree ...|              0|        91|      26|     None|    2|\n|af057636-8c61-eb1...|           Web|  frontend developer|                 git|             24|        71|      26|     None|    1|\n|e2a9ca41-4a65-eb1...|           Web|       web developer|                ssas|             53|        84|      13|     None|    1|\n|e2a9ca41-4a65-eb1...|           Web|       web developer|   microsoft c-sharp|             43|        23|       5|     None|    1|\n|e2a9ca41-4a65-eb1...|           Web|       web developer|        visual basic|              0|        13|      13|     None|    1|\n|b8fcacdf-6265-eb1...|           Web|sql server dba  w...|               togaf|              0|        13|       0|     None|    1|\n|e2a9ca41-4a65-eb1...|           Web|       web developer|              hadoop|             20|        94|       5|     None|    1|\n|e2a9ca41-4a65-eb1...|           Web|       web developer|     systems analyst|              4|        21|      13|     None|    1|\n|b8fcacdf-6265-eb1...|           Web|web administrator...|  cse qualifications|              0|        81|      26|     None|    1|\n+--------------------+--------------+--------------------+--------------------+---------------+----------+--------+---------+-----+\nonly showing top 20 rows\n\n"
          ]
        }
      ],
      "execution_count": 154,
      "metadata": {
        "jupyter": {
          "source_hidden": false,
          "outputs_hidden": false
        },
        "nteract": {
          "transient": {
            "deleting": false
          }
        }
      }
    },
    {
      "cell_type": "markdown",
      "source": [
        "Aggregate for each ID"
      ],
      "metadata": {
        "nteract": {
          "transient": {
            "deleting": false
          }
        }
      }
    },
    {
      "cell_type": "code",
      "source": [
        "#Aggregate for each candidate contact ID\n",
        "grouped_ID = new_df2.groupBy('Candidate_contact','Cand_ID', 'job_title', 'predictedLabel', 'Cand_skill_name', 'Cand_experience', 'Cand_level', 'Duration', 'Seniority').count().sort('Cand_ID', ascending=False)\n",
        "grouped_ID.show()"
      ],
      "outputs": [
        {
          "output_type": "display_data",
          "data": {
            "application/vnd.livy.statement-meta+json": {
              "spark_pool": "Nurture",
              "session_id": "1296",
              "statement_id": 67,
              "state": "finished",
              "livy_statement_state": "available",
              "queued_time": "2023-09-27T21:30:01.9206805Z",
              "session_start_time": null,
              "execution_start_time": "2023-09-27T21:32:00.4319173Z",
              "execution_finish_time": "2023-09-27T21:32:09.1484Z",
              "spark_jobs": null,
              "parent_msg_id": "b0dae326-f4bc-4ea5-acf6-82fe35d7c5b4"
            },
            "text/plain": "StatementMeta(Nurture, 1296, 67, Finished, Available)"
          },
          "metadata": {}
        },
        {
          "output_type": "stream",
          "name": "stdout",
          "text": [
            "+--------------------+--------------------+--------------------+--------------+------------------+---------------+----------+--------+---------+-----+\n|   Candidate_contact|             Cand_ID|           job_title|predictedLabel|   Cand_skill_name|Cand_experience|Cand_level|Duration|Seniority|count|\n+--------------------+--------------------+--------------------+--------------+------------------+---------------+----------+--------+---------+-----+\n|4a95b4fe-6961-eb1...|ffffd810-6a61-eb1...|business data ana...|  Data Analyst|project management|              0|        13|      13|     None|    1|\n|4a95b4fe-6961-eb1...|ffffd810-6a61-eb1...|senior business i...|         Other|project management|              0|        13|      31|   Senior|    1|\n|4a95b4fe-6961-eb1...|ffffd810-6a61-eb1...|profit and loss a...|  Data Analyst|project management|              0|        13|      21|     None|    1|\n|4a95b4fe-6961-eb1...|ffffd810-6a61-eb1...|           assistant|         Other|project management|              0|        13|       1|     None|    1|\n|4a95b4fe-6961-eb1...|ffffd810-6a61-eb1...|business data ana...|  Data Analyst|project management|              0|        13|      15|     None|    1|\n|4a95b4fe-6961-eb1...|ffffd810-6a61-eb1...|  revenue accountant|         Other|project management|              0|        13|      28|     None|    1|\n|4a95b4fe-6961-eb1...|ffffd810-6a61-eb1...|accounts receivab...|         Other|project management|              0|        13|      17|     None|    1|\n|4a95b4fe-6961-eb1...|ffffd810-6a61-eb1...|data analyst  qua...|  Data Analyst|project management|              0|        13|    null|     None|    1|\n|4a95b4fe-6961-eb1...|ffffd810-6a61-eb1...|senior business i...|      Software|project management|              0|        13|      45|   Senior|    1|\n|4a95b4fe-6961-eb1...|ffffd810-6a61-eb1...|  product controller|      Software|project management|              0|        13|       5|     None|    1|\n|4a95b4fe-6961-eb1...|ffffd810-6a61-eb1...|senior business i...|         Other|project management|              0|        13|       4|   Senior|    1|\n|4a95b4fe-6961-eb1...|ffffd810-6a61-eb1...|analyst  settleme...|  Data Analyst|project management|              0|        13|       9|     None|    1|\n|4a95b4fe-6961-eb1...|ffffd810-6a61-eb1...| lavastorm developer|      Software|project management|              0|        13|       6|     None|    1|\n|4a95b4fe-6961-eb1...|ffffd810-6a61-eb1...|profit and loss a...|  Data Analyst|project management|              0|        13|      13|     None|    1|\n|9effb87c-d3f5-eb1...|ffffb87c-d3f5-eb1...|digital business ...|      Software|              gdpr|             25|        51|      11|     None|    1|\n|9effb87c-d3f5-eb1...|ffffb87c-d3f5-eb1...|senior business a...|  Data Analyst|              gdpr|             25|        51|       5|   Senior|    1|\n|9effb87c-d3f5-eb1...|ffffb87c-d3f5-eb1...|    business analyst|  Data Analyst|              gdpr|             25|        51|       6|     None|    1|\n|9effb87c-d3f5-eb1...|ffffb87c-d3f5-eb1...|    business analyst|  Data Analyst|              gdpr|             25|        51|      26|     None|    1|\n|9effb87c-d3f5-eb1...|ffffb87c-d3f5-eb1...|    business analyst|  Data Analyst|              gdpr|             25|        51|       3|     None|    1|\n|9effb87c-d3f5-eb1...|ffffb87c-d3f5-eb1...|digital business ...|      Software|              gdpr|             25|        51|      17|     None|    1|\n+--------------------+--------------------+--------------------+--------------+------------------+---------------+----------+--------+---------+-----+\nonly showing top 20 rows\n\n"
          ]
        }
      ],
      "execution_count": 155,
      "metadata": {
        "jupyter": {
          "source_hidden": false,
          "outputs_hidden": false
        },
        "nteract": {
          "transient": {
            "deleting": false
          }
        }
      }
    },
    {
      "cell_type": "code",
      "source": [
        "#Aggregate for each candidate contact ID\n",
        "grouped_ID = new_df2.groupBy('Candidate_contact','Cand_ID', 'job_title', 'predictedLabel', 'Cand_skill_name', 'Cand_experience', 'Cand_level','Duration', 'Seniority').count().sort('Cand_ID', ascending=False)\n",
        "grouped_ID.show(100,truncate = False)"
      ],
      "outputs": [
        {
          "output_type": "display_data",
          "data": {
            "application/vnd.livy.statement-meta+json": {
              "spark_pool": "Nurture",
              "session_id": "1296",
              "statement_id": 68,
              "state": "finished",
              "livy_statement_state": "available",
              "queued_time": "2023-09-27T21:30:02.3297251Z",
              "session_start_time": null,
              "execution_start_time": "2023-09-27T21:32:09.3029875Z",
              "execution_finish_time": "2023-09-27T21:32:16.324695Z",
              "spark_jobs": null,
              "parent_msg_id": "96591737-50fc-4e00-ab0f-676c96bb1cad"
            },
            "text/plain": "StatementMeta(Nurture, 1296, 68, Finished, Available)"
          },
          "metadata": {}
        },
        {
          "output_type": "stream",
          "name": "stdout",
          "text": [
            "+------------------------------------+------------------------------------+---------------------------------------------------------------+---------------+--------------------------------------+---------------+----------+--------+---------+-----+\n|Candidate_contact                   |Cand_ID                             |job_title                                                      |predictedLabel |Cand_skill_name                       |Cand_experience|Cand_level|Duration|Seniority|count|\n+------------------------------------+------------------------------------+---------------------------------------------------------------+---------------+--------------------------------------+---------------+----------+--------+---------+-----+\n|4a95b4fe-6961-eb11-a812-0022481a6ace|ffffd810-6a61-eb11-a812-0022481a6ace|profit and loss analyst                                        |Data Analyst   |project management                    |0              |13        |21      |None     |1    |\n|4a95b4fe-6961-eb11-a812-0022481a6ace|ffffd810-6a61-eb11-a812-0022481a6ace|business data analyst  credit risk                             |Data Analyst   |project management                    |0              |13        |13      |None     |1    |\n|4a95b4fe-6961-eb11-a812-0022481a6ace|ffffd810-6a61-eb11-a812-0022481a6ace|business data analyst                                          |Data Analyst   |project management                    |0              |13        |15      |None     |1    |\n|4a95b4fe-6961-eb11-a812-0022481a6ace|ffffd810-6a61-eb11-a812-0022481a6ace|senior business intelligence consultant                        |Other          |project management                    |0              |13        |31      |Senior   |1    |\n|4a95b4fe-6961-eb11-a812-0022481a6ace|ffffd810-6a61-eb11-a812-0022481a6ace|senior business intelligence consultant                        |Other          |project management                    |0              |13        |4       |Senior   |1    |\n|4a95b4fe-6961-eb11-a812-0022481a6ace|ffffd810-6a61-eb11-a812-0022481a6ace|assistant                                                      |Other          |project management                    |0              |13        |1       |None     |1    |\n|4a95b4fe-6961-eb11-a812-0022481a6ace|ffffd810-6a61-eb11-a812-0022481a6ace|data analyst  quality and performance                          |Data Analyst   |project management                    |0              |13        |null    |None     |1    |\n|4a95b4fe-6961-eb11-a812-0022481a6ace|ffffd810-6a61-eb11-a812-0022481a6ace|profit and loss analyst                                        |Data Analyst   |project management                    |0              |13        |13      |None     |1    |\n|4a95b4fe-6961-eb11-a812-0022481a6ace|ffffd810-6a61-eb11-a812-0022481a6ace|product controller                                             |Software       |project management                    |0              |13        |5       |None     |1    |\n|4a95b4fe-6961-eb11-a812-0022481a6ace|ffffd810-6a61-eb11-a812-0022481a6ace|senior business intelligence consultant  developer             |Software       |project management                    |0              |13        |45      |Senior   |1    |\n|4a95b4fe-6961-eb11-a812-0022481a6ace|ffffd810-6a61-eb11-a812-0022481a6ace|revenue accountant                                             |Other          |project management                    |0              |13        |28      |None     |1    |\n|4a95b4fe-6961-eb11-a812-0022481a6ace|ffffd810-6a61-eb11-a812-0022481a6ace|accounts receivablepayable clerk                               |Other          |project management                    |0              |13        |17      |None     |1    |\n|4a95b4fe-6961-eb11-a812-0022481a6ace|ffffd810-6a61-eb11-a812-0022481a6ace|analyst  settlements cash dept                                 |Data Analyst   |project management                    |0              |13        |9       |None     |1    |\n|4a95b4fe-6961-eb11-a812-0022481a6ace|ffffd810-6a61-eb11-a812-0022481a6ace|lavastorm developer                                            |Software       |project management                    |0              |13        |6       |None     |1    |\n|9effb87c-d3f5-eb11-94ef-0022481a5643|ffffb87c-d3f5-eb11-94ef-0022481a5643|senior business analyst                                        |Data Analyst   |gdpr                                  |25             |51        |5       |Senior   |1    |\n|9effb87c-d3f5-eb11-94ef-0022481a5643|ffffb87c-d3f5-eb11-94ef-0022481a5643|business analyst                                               |Data Analyst   |gdpr                                  |25             |51        |6       |None     |1    |\n|9effb87c-d3f5-eb11-94ef-0022481a5643|ffffb87c-d3f5-eb11-94ef-0022481a5643|digital business analyst                                       |Software       |gdpr                                  |25             |51        |11      |None     |1    |\n|9effb87c-d3f5-eb11-94ef-0022481a5643|ffffb87c-d3f5-eb11-94ef-0022481a5643|senior business analyst                                        |Data Analyst   |gdpr                                  |25             |51        |11      |Senior   |1    |\n|9effb87c-d3f5-eb11-94ef-0022481a5643|ffffb87c-d3f5-eb11-94ef-0022481a5643|digital customer experience business analyst                   |Data Analyst   |gdpr                                  |25             |51        |4       |None     |1    |\n|9effb87c-d3f5-eb11-94ef-0022481a5643|ffffb87c-d3f5-eb11-94ef-0022481a5643|business analyst                                               |Data Analyst   |gdpr                                  |25             |51        |26      |None     |1    |\n|9effb87c-d3f5-eb11-94ef-0022481a5643|ffffb87c-d3f5-eb11-94ef-0022481a5643|lead business analyst                                          |Data Analyst   |gdpr                                  |25             |51        |19      |Lead     |1    |\n|9effb87c-d3f5-eb11-94ef-0022481a5643|ffffb87c-d3f5-eb11-94ef-0022481a5643|business analyst                                               |Data Analyst   |gdpr                                  |25             |51        |3       |None     |1    |\n|9effb87c-d3f5-eb11-94ef-0022481a5643|ffffb87c-d3f5-eb11-94ef-0022481a5643|digital business analyst                                       |Software       |gdpr                                  |25             |51        |19      |None     |1    |\n|9effb87c-d3f5-eb11-94ef-0022481a5643|ffffb87c-d3f5-eb11-94ef-0022481a5643|digital business analyst                                       |Software       |gdpr                                  |25             |51        |17      |None     |1    |\n|bcefb25a-f48a-eb11-b1ac-0022481a94b7|fffe955f-f48a-eb11-b1ac-0022481a920e|laboratory technician  quality assurance  quality control      |Other          |other technical                       |0              |13        |null    |None     |1    |\n|e22537f6-270e-eb11-a813-000d3a86ac4e|fffe7b0a-280e-eb11-a813-000d3a0cc0cf|senior sql server dba                                          |Other          |ole                                   |78             |24        |5       |Senior   |2    |\n|e22537f6-270e-eb11-a813-000d3a86ac4e|fffe7b0a-280e-eb11-a813-000d3a0cc0cf|senior sql server dba                                          |Other          |ole                                   |78             |24        |6       |Senior   |1    |\n|e22537f6-270e-eb11-a813-000d3a86ac4e|fffe7b0a-280e-eb11-a813-000d3a0cc0cf|sql server dba  developer                                      |Software       |ole                                   |78             |24        |7       |None     |1    |\n|e22537f6-270e-eb11-a813-000d3a86ac4e|fffe7b0a-280e-eb11-a813-000d3a0cc0cf|sql server developer                                           |Software       |ole                                   |78             |24        |10      |None     |1    |\n|e22537f6-270e-eb11-a813-000d3a86ac4e|fffe7b0a-280e-eb11-a813-000d3a0cc0cf|technical lead                                                 |Software       |ole                                   |78             |24        |21      |Lead     |1    |\n|e22537f6-270e-eb11-a813-000d3a86ac4e|fffe7b0a-280e-eb11-a813-000d3a0cc0cf|senior analystprogrammer                                       |Other          |ole                                   |78             |24        |28      |Senior   |1    |\n|e22537f6-270e-eb11-a813-000d3a86ac4e|fffe7b0a-280e-eb11-a813-000d3a0cc0cf|senior analystprogrammer  technical lead                       |Software       |ole                                   |78             |24        |33      |Senior   |1    |\n|e22537f6-270e-eb11-a813-000d3a86ac4e|fffe7b0a-280e-eb11-a813-000d3a0cc0cf|sql server database administrator                              |Data Management|ole                                   |78             |24        |16      |None     |1    |\n|e22537f6-270e-eb11-a813-000d3a86ac4e|fffe7b0a-280e-eb11-a813-000d3a0cc0cf|senior sql server dba                                          |Other          |ole                                   |78             |24        |25      |Senior   |1    |\n|e22537f6-270e-eb11-a813-000d3a86ac4e|fffe7b0a-280e-eb11-a813-000d3a0cc0cf|sql server database administrator                              |Data Management|ole                                   |78             |24        |3       |None     |1    |\n|e22537f6-270e-eb11-a813-000d3a86ac4e|fffe7b0a-280e-eb11-a813-000d3a0cc0cf|senior sql server dba                                          |Other          |ole                                   |78             |24        |4       |Senior   |1    |\n|e22537f6-270e-eb11-a813-000d3a86ac4e|fffe7b0a-280e-eb11-a813-000d3a0cc0cf|senior sql server dba                                          |Other          |ole                                   |78             |24        |60      |Senior   |1    |\n|e22537f6-270e-eb11-a813-000d3a86ac4e|fffe7b0a-280e-eb11-a813-000d3a0cc0cf|senior sql server dba                                          |Other          |ole                                   |78             |24        |38      |Senior   |1    |\n|e22537f6-270e-eb11-a813-000d3a86ac4e|fffe7b0a-280e-eb11-a813-000d3a0cc0cf|senior analystprogrammer  contractor                           |Other          |ole                                   |78             |24        |6       |Senior   |1    |\n|e22537f6-270e-eb11-a813-000d3a86ac4e|fffe7b0a-280e-eb11-a813-000d3a0cc0cf|senior sql server dba                                          |Other          |ole                                   |78             |24        |1       |Senior   |1    |\n|e22537f6-270e-eb11-a813-000d3a86ac4e|fffe7b0a-280e-eb11-a813-000d3a0cc0cf|sql server dba                                                 |Other          |ole                                   |78             |24        |11      |None     |1    |\n|e22537f6-270e-eb11-a813-000d3a86ac4e|fffe7b0a-280e-eb11-a813-000d3a0cc0cf|senior sql server dba                                          |Other          |ole                                   |78             |24        |null    |Senior   |1    |\n|e22537f6-270e-eb11-a813-000d3a86ac4e|fffe7b0a-280e-eb11-a813-000d3a0cc0cf|sql server dba                                                 |Other          |ole                                   |78             |24        |16      |None     |1    |\n|884c06b5-65a1-ec11-b400-000d3a873708|fffe57c2-65a1-ec11-b400-000d3a873708|senior business developer                                      |Software       |tableau                               |44             |95        |44      |Senior   |1    |\n|884c06b5-65a1-ec11-b400-000d3a873708|fffe57c2-65a1-ec11-b400-000d3a873708|data science engineer                                          |Data Engineer  |tableau                               |44             |95        |null    |None     |1    |\n|884c06b5-65a1-ec11-b400-000d3a873708|fffe57c2-65a1-ec11-b400-000d3a873708|junior business developer                                      |Software       |tableau                               |44             |95        |29      |Junior   |1    |\n|cfb3219e-b0f6-eb11-94ef-0022481a5643|fffe16aa-b0f6-eb11-94ef-0022481a5643|lead pm                                                        |Other          |a levels/grades > a levels            |0              |83        |17      |Lead     |1    |\n|cfb3219e-b0f6-eb11-94ef-0022481a5643|fffe16aa-b0f6-eb11-94ef-0022481a5643|delivery lead                                                  |Other          |a levels/grades > a levels            |0              |83        |3       |Lead     |1    |\n|cfb3219e-b0f6-eb11-94ef-0022481a5643|fffe16aa-b0f6-eb11-94ef-0022481a5643|delivery lead                                                  |Other          |a levels/grades > a levels            |0              |83        |10      |Lead     |1    |\n|cfb3219e-b0f6-eb11-94ef-0022481a5643|fffe16aa-b0f6-eb11-94ef-0022481a5643|agile digital project manager  digital marketing delivery lead |Management     |a levels/grades > a levels            |0              |83        |15      |Lead     |1    |\n|cfb3219e-b0f6-eb11-94ef-0022481a5643|fffe16aa-b0f6-eb11-94ef-0022481a5643|project manager                                                |Management     |a levels/grades > a levels            |0              |83        |6       |None     |1    |\n|cfb3219e-b0f6-eb11-94ef-0022481a5643|fffe16aa-b0f6-eb11-94ef-0022481a5643|hybris replatform project manager  project manager as          |Management     |a levels/grades > a levels            |0              |83        |5       |None     |1    |\n|7660d280-ac60-eb11-a812-0022481a6ace|fffdfa98-ac60-eb11-a812-0022481a6ace|strategy  business development manager                         |Management     |web application development           |0              |13        |23      |None     |1    |\n|7660d280-ac60-eb11-a812-0022481a6ace|fffdfa98-ac60-eb11-a812-0022481a6ace|director  investment manager                                   |Management     |web application development           |0              |13        |43      |None     |1    |\n|7660d280-ac60-eb11-a812-0022481a6ace|fffdfa98-ac60-eb11-a812-0022481a6ace|head of analytics                                              |Other          |web application development           |0              |13        |11      |Head     |1    |\n|7660d280-ac60-eb11-a812-0022481a6ace|fffdfa98-ac60-eb11-a812-0022481a6ace|head of strategy finance  analytics                            |Management     |web application development           |0              |13        |13      |Head     |1    |\n|7660d280-ac60-eb11-a812-0022481a6ace|fffdfa98-ac60-eb11-a812-0022481a6ace|freelance                                                      |Other          |web application development           |0              |13        |null    |None     |1    |\n|7660d280-ac60-eb11-a812-0022481a6ace|fffdfa98-ac60-eb11-a812-0022481a6ace|senior strategy  business development manager                  |Management     |web application development           |0              |13        |44      |Senior   |1    |\n|7660d280-ac60-eb11-a812-0022481a6ace|fffdfa98-ac60-eb11-a812-0022481a6ace|business analyst                                               |Data Analyst   |web application development           |0              |13        |11      |None     |1    |\n|7660d280-ac60-eb11-a812-0022481a6ace|fffdfa98-ac60-eb11-a812-0022481a6ace|strategy  development consultant                               |Software       |web application development           |0              |13        |13      |None     |1    |\n|835fa224-6965-eb11-a812-0022481a89bf|fffdb93d-6965-eb11-a812-0022481a89bf|business analyst scrum                                         |Data Analyst   |shell scripting                       |77             |95        |19      |None     |1    |\n|835fa224-6965-eb11-a812-0022481a89bf|fffdb93d-6965-eb11-a812-0022481a89bf|bi analyst                                                     |Data Analyst   |shell scripting                       |77             |95        |20      |None     |1    |\n|835fa224-6965-eb11-a812-0022481a89bf|fffdb93d-6965-eb11-a812-0022481a89bf|vertica consultant                                             |Other          |shell scripting                       |77             |95        |4       |None     |1    |\n|835fa224-6965-eb11-a812-0022481a89bf|fffdb93d-6965-eb11-a812-0022481a89bf|hadoop developer                                               |Software       |shell scripting                       |77             |95        |3       |None     |1    |\n|835fa224-6965-eb11-a812-0022481a89bf|fffdb93d-6965-eb11-a812-0022481a89bf|analyst  developer agile methodology waterfall                 |Data Analyst   |shell scripting                       |77             |95        |56      |None     |1    |\n|835fa224-6965-eb11-a812-0022481a89bf|fffdb93d-6965-eb11-a812-0022481a89bf|analyst  developer waterfall                                   |Data Analyst   |shell scripting                       |77             |95        |14      |None     |1    |\n|92d0c406-5d61-eb11-a812-0022481a6ace|fffdb81e-5d61-eb11-a812-0022481a6ace|head of database and bi development                            |Data Management|bachelors degree > bachelor of science|0              |91        |133     |Head     |1    |\n|92d0c406-5d61-eb11-a812-0022481a6ace|fffdb81e-5d61-eb11-a812-0022481a6ace|senior solution engineer                                       |Engineering    |bachelors degree > bachelor of science|0              |91        |23      |Senior   |1    |\n|92d0c406-5d61-eb11-a812-0022481a6ace|fffdb81e-5d61-eb11-a812-0022481a6ace|principle solution engineer                                    |Engineering    |bachelors degree > bachelor of science|0              |91        |null    |None     |1    |\n|92d0c406-5d61-eb11-a812-0022481a6ace|fffdb81e-5d61-eb11-a812-0022481a6ace|senior solution engineer                                       |Engineering    |bachelors degree > bachelor of science|0              |91        |18      |Senior   |2    |\n|8d610b75-3baf-eb11-8236-00224800e64b|fffd8587-3baf-eb11-8236-00224800e64b|contractor  ssas developer                                     |Software       |microsoft transact-sql                |55             |26        |2       |None     |1    |\n|8d610b75-3baf-eb11-8236-00224800e64b|fffd8587-3baf-eb11-8236-00224800e64b|sql business intelligence developer                            |Software       |microsoft transact-sql                |55             |26        |10      |None     |1    |\n|8d610b75-3baf-eb11-8236-00224800e64b|fffd8587-3baf-eb11-8236-00224800e64b|1st line support  programmer business intelligence             |Other          |microsoft transact-sql                |55             |26        |28      |None     |1    |\n|8d610b75-3baf-eb11-8236-00224800e64b|fffd8587-3baf-eb11-8236-00224800e64b|sql business intelligence developer                            |Software       |microsoft transact-sql                |55             |26        |6       |None     |1    |\n|8d610b75-3baf-eb11-8236-00224800e64b|fffd8587-3baf-eb11-8236-00224800e64b|business intelligence designer development and implementation  |Other          |microsoft transact-sql                |55             |26        |5       |None     |1    |\n|8d610b75-3baf-eb11-8236-00224800e64b|fffd8587-3baf-eb11-8236-00224800e64b|contractor  business analyst                                   |Data Analyst   |microsoft transact-sql                |55             |26        |3       |None     |1    |\n|8d610b75-3baf-eb11-8236-00224800e64b|fffd8587-3baf-eb11-8236-00224800e64b|contractor  etl developer                                      |Software       |microsoft transact-sql                |55             |26        |13      |None     |1    |\n|8d610b75-3baf-eb11-8236-00224800e64b|fffd8587-3baf-eb11-8236-00224800e64b|senior consultant                                              |Other          |microsoft transact-sql                |55             |26        |3       |Senior   |1    |\n|8d610b75-3baf-eb11-8236-00224800e64b|fffd8587-3baf-eb11-8236-00224800e64b|sql developer  financial reporting                             |Software       |microsoft transact-sql                |55             |26        |2       |None     |1    |\n|8d610b75-3baf-eb11-8236-00224800e64b|fffd8587-3baf-eb11-8236-00224800e64b|sql server developer  solutions architect business intelligence|Other          |microsoft transact-sql                |55             |26        |8       |None     |1    |\n|8d610b75-3baf-eb11-8236-00224800e64b|fffd8587-3baf-eb11-8236-00224800e64b|financial data warehouse developer                             |Data Engineer  |microsoft transact-sql                |55             |26        |6       |None     |1    |\n|8d610b75-3baf-eb11-8236-00224800e64b|fffd8587-3baf-eb11-8236-00224800e64b|technical lead  bi  etl developer                              |Software       |microsoft transact-sql                |55             |26        |18      |Lead     |1    |\n|8d610b75-3baf-eb11-8236-00224800e64b|fffd8587-3baf-eb11-8236-00224800e64b|sql developer                                                  |Software       |microsoft transact-sql                |55             |26        |3       |None     |1    |\n|8d610b75-3baf-eb11-8236-00224800e64b|fffd8587-3baf-eb11-8236-00224800e64b|sql business intelligence developer                            |Software       |microsoft transact-sql                |55             |26        |23      |None     |1    |\n|8d610b75-3baf-eb11-8236-00224800e64b|fffd8587-3baf-eb11-8236-00224800e64b|sql server developer  data analyst business intelligence       |Data Analyst   |microsoft transact-sql                |55             |26        |22      |None     |1    |\n|37a55dd0-cfac-eb11-8236-00224800e99b|fffd80d6-cfac-eb11-8236-00224800e99b|solution architect                                             |Other          |aws                                   |0              |13        |null    |None     |1    |\n|37a55dd0-cfac-eb11-8236-00224800e99b|fffd80d6-cfac-eb11-8236-00224800e99b|architectural analyst                                          |Data Analyst   |aws                                   |0              |13        |41      |None     |1    |\n|37a55dd0-cfac-eb11-8236-00224800e99b|fffd80d6-cfac-eb11-8236-00224800e99b|virtualization project manager                                 |Management     |aws                                   |0              |13        |26      |None     |1    |\n|37a55dd0-cfac-eb11-8236-00224800e99b|fffd80d6-cfac-eb11-8236-00224800e99b|project support coordinator                                    |Other          |aws                                   |0              |13        |14      |None     |1    |\n|37a55dd0-cfac-eb11-8236-00224800e99b|fffd80d6-cfac-eb11-8236-00224800e99b|project coordinator                                            |Other          |aws                                   |0              |13        |13      |None     |1    |\n|7f55463a-318e-eb11-b1ac-0022481a920e|fffd6b3c-318e-eb11-b1ac-0022481a94b7|integration architect                                          |Other          |tibco enterprise message service      |51             |96        |12      |None     |1    |\n|7f55463a-318e-eb11-b1ac-0022481a920e|fffd6b3c-318e-eb11-b1ac-0022481a94b7|system analyst                                                 |Data Analyst   |tibco enterprise message service      |51             |96        |14      |None     |1    |\n|7f55463a-318e-eb11-b1ac-0022481a920e|fffd6b3c-318e-eb11-b1ac-0022481a94b7|full stack developer                                           |Web            |tibco enterprise message service      |51             |96        |13      |None     |1    |\n|7f55463a-318e-eb11-b1ac-0022481a920e|fffd6b3c-318e-eb11-b1ac-0022481a94b7|expert                                                         |Other          |tibco enterprise message service      |51             |96        |54      |None     |1    |\n|7f55463a-318e-eb11-b1ac-0022481a920e|fffd6b3c-318e-eb11-b1ac-0022481a94b7|devops engineer  orchestrated docker                           |Engineering    |tibco enterprise message service      |51             |96        |null    |None     |1    |\n|7f55463a-318e-eb11-b1ac-0022481a920e|fffd6b3c-318e-eb11-b1ac-0022481a94b7|solution architect                                             |Other          |tibco enterprise message service      |51             |96        |10      |None     |1    |\n|7f55463a-318e-eb11-b1ac-0022481a920e|fffd6b3c-318e-eb11-b1ac-0022481a94b7|principal software engineer                                    |Software       |tibco enterprise message service      |51             |96        |9       |None     |1    |\n|e07712bf-dcb3-eb11-8236-000d3a87429a|fffd02cb-dcb3-eb11-8236-000d3a87429a|data modeler  analyst                                          |Data Analyst   |data warehousing                      |83             |24        |7       |None     |1    |\n|e07712bf-dcb3-eb11-8236-000d3a87429a|fffd02cb-dcb3-eb11-8236-000d3a87429a|sr data architect                                              |Data Architect |data warehousing                      |83             |24        |16      |None     |1    |\n|e07712bf-dcb3-eb11-8236-000d3a87429a|fffd02cb-dcb3-eb11-8236-000d3a87429a|oracleetl developer                                            |Software       |data warehousing                      |83             |24        |28      |None     |1    |\n+------------------------------------+------------------------------------+---------------------------------------------------------------+---------------+--------------------------------------+---------------+----------+--------+---------+-----+\nonly showing top 100 rows\n\n"
          ]
        }
      ],
      "execution_count": 156,
      "metadata": {
        "jupyter": {
          "source_hidden": false,
          "outputs_hidden": false
        },
        "nteract": {
          "transient": {
            "deleting": false
          }
        }
      }
    },
    {
      "cell_type": "code",
      "source": [
        "candidateID = '4a95b4fe-6961-eb11-a812-0022481a6ace'"
      ],
      "outputs": [
        {
          "output_type": "display_data",
          "data": {
            "application/vnd.livy.statement-meta+json": {
              "spark_pool": "Nurture",
              "session_id": "1296",
              "statement_id": 69,
              "state": "finished",
              "livy_statement_state": "available",
              "queued_time": "2023-09-27T21:30:03.1684913Z",
              "session_start_time": null,
              "execution_start_time": "2023-09-27T21:32:16.5055369Z",
              "execution_finish_time": "2023-09-27T21:32:16.6711644Z",
              "spark_jobs": null,
              "parent_msg_id": "ded3262b-8356-47ad-8038-06f385d53a25"
            },
            "text/plain": "StatementMeta(Nurture, 1296, 69, Finished, Available)"
          },
          "metadata": {}
        }
      ],
      "execution_count": 157,
      "metadata": {
        "jupyter": {
          "source_hidden": false,
          "outputs_hidden": false
        },
        "nteract": {
          "transient": {
            "deleting": false
          }
        },
        "tags": []
      }
    },
    {
      "cell_type": "code",
      "source": [
        "#Get the profile of the candidate ID defined\n",
        "df_ID = grouped_ID.filter(grouped_ID.Candidate_contact == candidateID)\n",
        "df_ID.show(50, truncate=False)"
      ],
      "outputs": [
        {
          "output_type": "display_data",
          "data": {
            "application/vnd.livy.statement-meta+json": {
              "spark_pool": "Nurture",
              "session_id": "1296",
              "statement_id": 70,
              "state": "finished",
              "livy_statement_state": "available",
              "queued_time": "2023-09-27T21:30:03.6588034Z",
              "session_start_time": null,
              "execution_start_time": "2023-09-27T21:32:16.8280277Z",
              "execution_finish_time": "2023-09-27T21:32:19.6958628Z",
              "spark_jobs": null,
              "parent_msg_id": "5184d49c-f231-4105-86c1-12be7629854b"
            },
            "text/plain": "StatementMeta(Nurture, 1296, 70, Finished, Available)"
          },
          "metadata": {}
        },
        {
          "output_type": "stream",
          "name": "stdout",
          "text": [
            "+------------------------------------+------------------------------------+--------------------------------------------------+--------------+------------------+---------------+----------+--------+---------+-----+\n|Candidate_contact                   |Cand_ID                             |job_title                                         |predictedLabel|Cand_skill_name   |Cand_experience|Cand_level|Duration|Seniority|count|\n+------------------------------------+------------------------------------+--------------------------------------------------+--------------+------------------+---------------+----------+--------+---------+-----+\n|4a95b4fe-6961-eb11-a812-0022481a6ace|ffffd810-6a61-eb11-a812-0022481a6ace|profit and loss analyst                           |Data Analyst  |project management|0              |13        |13      |None     |1    |\n|4a95b4fe-6961-eb11-a812-0022481a6ace|ffffd810-6a61-eb11-a812-0022481a6ace|accounts receivablepayable clerk                  |Other         |project management|0              |13        |17      |None     |1    |\n|4a95b4fe-6961-eb11-a812-0022481a6ace|ffffd810-6a61-eb11-a812-0022481a6ace|assistant                                         |Other         |project management|0              |13        |1       |None     |1    |\n|4a95b4fe-6961-eb11-a812-0022481a6ace|ffffd810-6a61-eb11-a812-0022481a6ace|revenue accountant                                |Other         |project management|0              |13        |28      |None     |1    |\n|4a95b4fe-6961-eb11-a812-0022481a6ace|ffffd810-6a61-eb11-a812-0022481a6ace|senior business intelligence consultant  developer|Software      |project management|0              |13        |45      |Senior   |1    |\n|4a95b4fe-6961-eb11-a812-0022481a6ace|ffffd810-6a61-eb11-a812-0022481a6ace|lavastorm developer                               |Software      |project management|0              |13        |6       |None     |1    |\n|4a95b4fe-6961-eb11-a812-0022481a6ace|ffffd810-6a61-eb11-a812-0022481a6ace|profit and loss analyst                           |Data Analyst  |project management|0              |13        |21      |None     |1    |\n|4a95b4fe-6961-eb11-a812-0022481a6ace|ffffd810-6a61-eb11-a812-0022481a6ace|senior business intelligence consultant           |Other         |project management|0              |13        |31      |Senior   |1    |\n|4a95b4fe-6961-eb11-a812-0022481a6ace|ffffd810-6a61-eb11-a812-0022481a6ace|analyst  settlements cash dept                    |Data Analyst  |project management|0              |13        |9       |None     |1    |\n|4a95b4fe-6961-eb11-a812-0022481a6ace|ffffd810-6a61-eb11-a812-0022481a6ace|product controller                                |Software      |project management|0              |13        |5       |None     |1    |\n|4a95b4fe-6961-eb11-a812-0022481a6ace|ffffd810-6a61-eb11-a812-0022481a6ace|business data analyst                             |Data Analyst  |project management|0              |13        |15      |None     |1    |\n|4a95b4fe-6961-eb11-a812-0022481a6ace|ffffd810-6a61-eb11-a812-0022481a6ace|business data analyst  credit risk                |Data Analyst  |project management|0              |13        |13      |None     |1    |\n|4a95b4fe-6961-eb11-a812-0022481a6ace|ffffd810-6a61-eb11-a812-0022481a6ace|data analyst  quality and performance             |Data Analyst  |project management|0              |13        |null    |None     |1    |\n|4a95b4fe-6961-eb11-a812-0022481a6ace|ffffd810-6a61-eb11-a812-0022481a6ace|senior business intelligence consultant           |Other         |project management|0              |13        |4       |Senior   |1    |\n|4a95b4fe-6961-eb11-a812-0022481a6ace|f2b8e00a-6a61-eb11-a812-0022481a6ace|senior business intelligence consultant  developer|Software      |data modelling    |48             |95        |45      |Senior   |1    |\n|4a95b4fe-6961-eb11-a812-0022481a6ace|f2b8e00a-6a61-eb11-a812-0022481a6ace|revenue accountant                                |Other         |data modelling    |48             |95        |28      |None     |1    |\n|4a95b4fe-6961-eb11-a812-0022481a6ace|f2b8e00a-6a61-eb11-a812-0022481a6ace|senior business intelligence consultant           |Other         |data modelling    |48             |95        |31      |Senior   |1    |\n|4a95b4fe-6961-eb11-a812-0022481a6ace|f2b8e00a-6a61-eb11-a812-0022481a6ace|product controller                                |Software      |data modelling    |48             |95        |5       |None     |1    |\n|4a95b4fe-6961-eb11-a812-0022481a6ace|f2b8e00a-6a61-eb11-a812-0022481a6ace|accounts receivablepayable clerk                  |Other         |data modelling    |48             |95        |17      |None     |1    |\n|4a95b4fe-6961-eb11-a812-0022481a6ace|f2b8e00a-6a61-eb11-a812-0022481a6ace|business data analyst                             |Data Analyst  |data modelling    |48             |95        |15      |None     |1    |\n|4a95b4fe-6961-eb11-a812-0022481a6ace|f2b8e00a-6a61-eb11-a812-0022481a6ace|lavastorm developer                               |Software      |data modelling    |48             |95        |6       |None     |1    |\n|4a95b4fe-6961-eb11-a812-0022481a6ace|f2b8e00a-6a61-eb11-a812-0022481a6ace|profit and loss analyst                           |Data Analyst  |data modelling    |48             |95        |13      |None     |1    |\n|4a95b4fe-6961-eb11-a812-0022481a6ace|f2b8e00a-6a61-eb11-a812-0022481a6ace|profit and loss analyst                           |Data Analyst  |data modelling    |48             |95        |21      |None     |1    |\n|4a95b4fe-6961-eb11-a812-0022481a6ace|f2b8e00a-6a61-eb11-a812-0022481a6ace|business data analyst  credit risk                |Data Analyst  |data modelling    |48             |95        |13      |None     |1    |\n|4a95b4fe-6961-eb11-a812-0022481a6ace|f2b8e00a-6a61-eb11-a812-0022481a6ace|analyst  settlements cash dept                    |Data Analyst  |data modelling    |48             |95        |9       |None     |1    |\n|4a95b4fe-6961-eb11-a812-0022481a6ace|f2b8e00a-6a61-eb11-a812-0022481a6ace|assistant                                         |Other         |data modelling    |48             |95        |1       |None     |1    |\n|4a95b4fe-6961-eb11-a812-0022481a6ace|f2b8e00a-6a61-eb11-a812-0022481a6ace|senior business intelligence consultant           |Other         |data modelling    |48             |95        |4       |Senior   |1    |\n|4a95b4fe-6961-eb11-a812-0022481a6ace|f2b8e00a-6a61-eb11-a812-0022481a6ace|data analyst  quality and performance             |Data Analyst  |data modelling    |48             |95        |null    |None     |1    |\n|4a95b4fe-6961-eb11-a812-0022481a6ace|eeffd810-6a61-eb11-a812-0022481a6ace|revenue accountant                                |Other         |profit and loss   |33             |26        |28      |None     |1    |\n|4a95b4fe-6961-eb11-a812-0022481a6ace|eeffd810-6a61-eb11-a812-0022481a6ace|profit and loss analyst                           |Data Analyst  |profit and loss   |33             |26        |13      |None     |1    |\n|4a95b4fe-6961-eb11-a812-0022481a6ace|eeffd810-6a61-eb11-a812-0022481a6ace|business data analyst  credit risk                |Data Analyst  |profit and loss   |33             |26        |13      |None     |1    |\n|4a95b4fe-6961-eb11-a812-0022481a6ace|eeffd810-6a61-eb11-a812-0022481a6ace|lavastorm developer                               |Software      |profit and loss   |33             |26        |6       |None     |1    |\n|4a95b4fe-6961-eb11-a812-0022481a6ace|eeffd810-6a61-eb11-a812-0022481a6ace|profit and loss analyst                           |Data Analyst  |profit and loss   |33             |26        |21      |None     |1    |\n|4a95b4fe-6961-eb11-a812-0022481a6ace|eeffd810-6a61-eb11-a812-0022481a6ace|analyst  settlements cash dept                    |Data Analyst  |profit and loss   |33             |26        |9       |None     |1    |\n|4a95b4fe-6961-eb11-a812-0022481a6ace|eeffd810-6a61-eb11-a812-0022481a6ace|product controller                                |Software      |profit and loss   |33             |26        |5       |None     |1    |\n|4a95b4fe-6961-eb11-a812-0022481a6ace|eeffd810-6a61-eb11-a812-0022481a6ace|accounts receivablepayable clerk                  |Other         |profit and loss   |33             |26        |17      |None     |1    |\n|4a95b4fe-6961-eb11-a812-0022481a6ace|eeffd810-6a61-eb11-a812-0022481a6ace|business data analyst                             |Data Analyst  |profit and loss   |33             |26        |15      |None     |1    |\n|4a95b4fe-6961-eb11-a812-0022481a6ace|eeffd810-6a61-eb11-a812-0022481a6ace|senior business intelligence consultant  developer|Software      |profit and loss   |33             |26        |45      |Senior   |1    |\n|4a95b4fe-6961-eb11-a812-0022481a6ace|eeffd810-6a61-eb11-a812-0022481a6ace|senior business intelligence consultant           |Other         |profit and loss   |33             |26        |31      |Senior   |1    |\n|4a95b4fe-6961-eb11-a812-0022481a6ace|eeffd810-6a61-eb11-a812-0022481a6ace|assistant                                         |Other         |profit and loss   |33             |26        |1       |None     |1    |\n|4a95b4fe-6961-eb11-a812-0022481a6ace|eeffd810-6a61-eb11-a812-0022481a6ace|data analyst  quality and performance             |Data Analyst  |profit and loss   |33             |26        |null    |None     |1    |\n|4a95b4fe-6961-eb11-a812-0022481a6ace|eeffd810-6a61-eb11-a812-0022481a6ace|senior business intelligence consultant           |Other         |profit and loss   |33             |26        |4       |Senior   |1    |\n|4a95b4fe-6961-eb11-a812-0022481a6ace|eab8e00a-6a61-eb11-a812-0022481a6ace|analyst  settlements cash dept                    |Data Analyst  |etl               |43             |96        |9       |None     |1    |\n|4a95b4fe-6961-eb11-a812-0022481a6ace|eab8e00a-6a61-eb11-a812-0022481a6ace|senior business intelligence consultant           |Other         |etl               |43             |96        |31      |Senior   |1    |\n|4a95b4fe-6961-eb11-a812-0022481a6ace|eab8e00a-6a61-eb11-a812-0022481a6ace|profit and loss analyst                           |Data Analyst  |etl               |43             |96        |13      |None     |1    |\n|4a95b4fe-6961-eb11-a812-0022481a6ace|eab8e00a-6a61-eb11-a812-0022481a6ace|accounts receivablepayable clerk                  |Other         |etl               |43             |96        |17      |None     |1    |\n|4a95b4fe-6961-eb11-a812-0022481a6ace|eab8e00a-6a61-eb11-a812-0022481a6ace|data analyst  quality and performance             |Data Analyst  |etl               |43             |96        |null    |None     |1    |\n|4a95b4fe-6961-eb11-a812-0022481a6ace|eab8e00a-6a61-eb11-a812-0022481a6ace|product controller                                |Software      |etl               |43             |96        |5       |None     |1    |\n|4a95b4fe-6961-eb11-a812-0022481a6ace|eab8e00a-6a61-eb11-a812-0022481a6ace|senior business intelligence consultant  developer|Software      |etl               |43             |96        |45      |Senior   |1    |\n|4a95b4fe-6961-eb11-a812-0022481a6ace|eab8e00a-6a61-eb11-a812-0022481a6ace|business data analyst                             |Data Analyst  |etl               |43             |96        |15      |None     |1    |\n+------------------------------------+------------------------------------+--------------------------------------------------+--------------+------------------+---------------+----------+--------+---------+-----+\nonly showing top 50 rows\n\n"
          ]
        }
      ],
      "execution_count": 158,
      "metadata": {
        "jupyter": {
          "source_hidden": false,
          "outputs_hidden": false
        },
        "nteract": {
          "transient": {
            "deleting": false
          }
        }
      }
    },
    {
      "cell_type": "markdown",
      "source": [
        "***EXTRACT SKILLS FROM A CV***"
      ],
      "metadata": {
        "nteract": {
          "transient": {
            "deleting": false
          }
        }
      }
    },
    {
      "cell_type": "code",
      "source": [
        "cv = \"\"\"\r\n",
        "PERSONAL PROFILE\r\n",
        "Personal Statement\r\n",
        "A highly focused Data Analyst undergoing a master's in Data Science seeks a challenging position with your\r\n",
        "organization that will enable him to capitalize on sound technical expertise with opportunities for personal and\r\n",
        "professional growth.\r\n",
        "EDUCATION AND TRAINING\r\n",
        "Masters of Science\r\n",
        "University of Salford [ 16 Jan 2023 – 30 Apr 2024 ]\r\n",
        "Address: The Crescent Salford, M5 4WT Greater Manchester (United Kingdom)\r\n",
        "Website: www.salford.ac.uk\r\n",
        "Field(s) of study: Data Science\r\n",
        "Masters of Engineering\r\n",
        "University of Leeds [ 19 Sep 2017 – 27 Feb 2019 ]\r\n",
        "Address: Buslingthorpe Lane, LS7 2DG Leeds\r\n",
        "Website: www.leeds.ac.uk\r\n",
        "Field(s) of study: Electronics and Electrical Engineering\r\n",
        "Bachelor of Technology\r\n",
        "Rivers State University of Science and Technology [ 7 Oct 2008 – 28 Aug 2014 ]\r\n",
        "Address: PMB 5080 Port Harcourt (Nigeria)\r\n",
        "Website: www.ust.edu.ng\r\n",
        "Field(s) of study: Electrical Engineering\r\n",
        "Final grade: First Class\r\n",
        "WORK EXPERIENCE\r\n",
        "Database Developer\r\n",
        "Cracking Good Food C.I.C. [ 18 Jun 2023 – Current ]\r\n",
        "City: Manchester\r\n",
        "Country: United Kingdom\r\n",
        "• Designed and developed a comprehensive, user-friendly database system for managing all aspects of the\r\n",
        "business.\r\n",
        "• Implemented advanced data analysis functionality and reporting capabilities to improve day-to-day\r\n",
        "efficiency.\r\n",
        "• Assisted in the seamless transfer of raw data from existing sources to the new database.\r\n",
        "• Conducted training sessions to educate users on database functions and ensure effective utilization.\r\n",
        "• Demonstrated exceptional organizational skills in managing multiple tasks within deadlines.\r\n",
        "• Motivated by the organization's mission, paid close attention to detail in project management, design, and\r\n",
        "communications.\r\n",
        "IT Support Assistant (Voluntary)\r\n",
        "SOVEREIGN HOUSE GH [ 23 May 2023 – Current ]\r\n",
        "City: Salford\r\n",
        "Dagogo Godwin Orifama\r\n",
        "Gender: Male  Phone number: (+44) 7425363844  Email address: dagoris2010@gmail.com\r\n",
        " LinkedIn: https://www.linkedin.com/in/dagogoorifama/\r\n",
        " Home: 9 Co-Operative Street, M6 5DW Salford (United Kingdom)\r\n",
        "Country: United Kingdom\r\n",
        "• Provided essential computer coding skills and comprehensive IT support to children in the Salford\r\n",
        "community, fostering their self-esteem and enhancing their life chances.\r\n",
        "• Taught and guided children on fundamental concepts such as sequences, variables, algorithms, HTML, CSS,\r\n",
        "JavaScript, coding, and e-safety.\r\n",
        "• Expanded the curriculum beyond standard coding education by introducing game development, database\r\n",
        "management, and Python programming, equipping children with versatile technical skills and promoting\r\n",
        "critical thinking and problem-solving abilities.\r\n",
        "• Collaborated with an enthusiastic team to create a supportive learning environment, where students' talents\r\n",
        "were nurtured and their potential maximized.\r\n",
        "• Made a positive impact on children's lives by volunteering multiple evenings per week and witnessing their\r\n",
        "growth and development in both technical proficiency and self-confidence.\r\n",
        "Regional Financial Analyst\r\n",
        "CJC Markets Nigeria [ 16 Jun 2022 – 16 Dec 2022 ]\r\n",
        "City: Port Harcourt\r\n",
        "Country: Nigeria\r\n",
        "Website: https://cjcmarketsglobal.com/\r\n",
        "• Reviewed statistical information to determine financial trends for use in investment planning\r\n",
        "• Completed thorough research into the financial exchange market and reported on relevant trends.\r\n",
        "• Reviewed monthly requisitions for accuracy and completeness, reconciled transactions and determining\r\n",
        "payment approval statuses.\r\n",
        "• Delivered financial oversight and provided detailed training to corporate clients.\r\n",
        "• Developed forecasting tools to analyze the financial exchange market for clients.\r\n",
        "• Worked with regional teams leads to identify issues affecting financial results and profitability.\r\n",
        "• Reviewed financial reports and recommended strategies to streamline operations, increase productivity and\r\n",
        "grow company profits.\r\n",
        "NETWORKS AND MEMBERSHIPS\r\n",
        "Graduate Member\r\n",
        "[ 18 Jun 2020 – Current ]\r\n",
        "The Nigerian Society of Engineers\r\n",
        "Graduate Member\r\n",
        "[ Sep 2017 – Current ]\r\n",
        "Institute of Electrical and Electronics Engineers, IEEE\r\n",
        "HOBBIES AND INTERESTS\r\n",
        "Musics, Movies and Games\r\n",
        "Karate Player\r\n",
        "RECOMMENDATIONS\r\n",
        "Provided on request.\r\n",
        "\r\n",
        "\"\"\""
      ],
      "outputs": [
        {
          "output_type": "display_data",
          "data": {
            "application/vnd.livy.statement-meta+json": {
              "spark_pool": "Nurture",
              "session_id": "1296",
              "statement_id": 71,
              "state": "finished",
              "livy_statement_state": "available",
              "queued_time": "2023-09-27T21:30:04.2380951Z",
              "session_start_time": null,
              "execution_start_time": "2023-09-27T21:32:19.8711076Z",
              "execution_finish_time": "2023-09-27T21:32:20.0636177Z",
              "spark_jobs": null,
              "parent_msg_id": "c7523929-d3ec-4994-8bea-33e63d91e7c4"
            },
            "text/plain": "StatementMeta(Nurture, 1296, 71, Finished, Available)"
          },
          "metadata": {}
        }
      ],
      "execution_count": 159,
      "metadata": {
        "jupyter": {
          "source_hidden": false,
          "outputs_hidden": false
        },
        "nteract": {
          "transient": {
            "deleting": false
          }
        }
      }
    },
    {
      "cell_type": "code",
      "source": [
        "cv"
      ],
      "outputs": [
        {
          "output_type": "display_data",
          "data": {
            "application/vnd.livy.statement-meta+json": {
              "spark_pool": "Nurture",
              "session_id": "1296",
              "statement_id": 72,
              "state": "finished",
              "livy_statement_state": "available",
              "queued_time": "2023-09-27T21:30:04.5369071Z",
              "session_start_time": null,
              "execution_start_time": "2023-09-27T21:32:20.2179366Z",
              "execution_finish_time": "2023-09-27T21:32:20.3989977Z",
              "spark_jobs": null,
              "parent_msg_id": "218d62ea-a90d-4eb6-b16a-d9e6831752f5"
            },
            "text/plain": "StatementMeta(Nurture, 1296, 72, Finished, Available)"
          },
          "metadata": {}
        },
        {
          "output_type": "execute_result",
          "execution_count": 145,
          "data": {
            "text/plain": "\"\\nPERSONAL PROFILE\\nPersonal Statement\\nA highly focused Data Analyst undergoing a master's in Data Science seeks a challenging position with your\\norganization that will enable him to capitalize on sound technical expertise with opportunities for personal and\\nprofessional growth.\\nEDUCATION AND TRAINING\\nMasters of Science\\nUniversity of Salford [ 16 Jan 2023 – 30 Apr 2024 ]\\nAddress: The Crescent Salford, M5 4WT Greater Manchester (United Kingdom)\\nWebsite: www.salford.ac.uk\\nField(s) of study: Data Science\\nMasters of Engineering\\nUniversity of Leeds [ 19 Sep 2017 – 27 Feb 2019 ]\\nAddress: Buslingthorpe Lane, LS7 2DG Leeds\\nWebsite: www.leeds.ac.uk\\nField(s) of study: Electronics and Electrical Engineering\\nBachelor of Technology\\nRivers State University of Science and Technology [ 7 Oct 2008 – 28 Aug 2014 ]\\nAddress: PMB 5080 Port Harcourt (Nigeria)\\nWebsite: www.ust.edu.ng\\nField(s) of study: Electrical Engineering\\nFinal grade: First Class\\nWORK EXPERIENCE\\nDatabase Developer\\nCracking Good Food C.I.C. [ 18 Jun 2023 – Current ]\\nCity: Manchester\\nCountry: United Kingdom\\n• Designed and developed a comprehensive, user-friendly database system for managing all aspects of the\\nbusiness.\\n• Implemented advanced data analysis functionality and reporting capabilities to improve day-to-day\\nefficiency.\\n• Assisted in the seamless transfer of raw data from existing sources to the new database.\\n• Conducted training sessions to educate users on database functions and ensure effective utilization.\\n• Demonstrated exceptional organizational skills in managing multiple tasks within deadlines.\\n• Motivated by the organization's mission, paid close attention to detail in project management, design, and\\ncommunications.\\nIT Support Assistant (Voluntary)\\nSOVEREIGN HOUSE GH [ 23 May 2023 – Current ]\\nCity: Salford\\nDagogo Godwin Orifama\\nGender: Male \\uf879 Phone number: (+44) 7425363844 \\uf0e0 Email address: dagoris2010@gmail.com\\n\\uf08c LinkedIn: https://www.linkedin.com/in/dagogoorifama/\\n\\uf3c5 Home: 9 Co-Operative Street, M6 5DW Salford (United Kingdom)\\nCountry: United Kingdom\\n• Provided essential computer coding skills and comprehensive IT support to children in the Salford\\ncommunity, fostering their self-esteem and enhancing their life chances.\\n• Taught and guided children on fundamental concepts such as sequences, variables, algorithms, HTML, CSS,\\nJavaScript, coding, and e-safety.\\n• Expanded the curriculum beyond standard coding education by introducing game development, database\\nmanagement, and Python programming, equipping children with versatile technical skills and promoting\\ncritical thinking and problem-solving abilities.\\n• Collaborated with an enthusiastic team to create a supportive learning environment, where students' talents\\nwere nurtured and their potential maximized.\\n• Made a positive impact on children's lives by volunteering multiple evenings per week and witnessing their\\ngrowth and development in both technical proficiency and self-confidence.\\nRegional Financial Analyst\\nCJC Markets Nigeria [ 16 Jun 2022 – 16 Dec 2022 ]\\nCity: Port Harcourt\\nCountry: Nigeria\\nWebsite: https://cjcmarketsglobal.com/\\n• Reviewed statistical information to determine financial trends for use in investment planning\\n• Completed thorough research into the financial exchange market and reported on relevant trends.\\n• Reviewed monthly requisitions for accuracy and completeness, reconciled transactions and determining\\npayment approval statuses.\\n• Delivered financial oversight and provided detailed training to corporate clients.\\n• Developed forecasting tools to analyze the financial exchange market for clients.\\n• Worked with regional teams leads to identify issues affecting financial results and profitability.\\n• Reviewed financial reports and recommended strategies to streamline operations, increase productivity and\\ngrow company profits.\\nNETWORKS AND MEMBERSHIPS\\nGraduate Member\\n[ 18 Jun 2020 – Current ]\\nThe Nigerian Society of Engineers\\nGraduate Member\\n[ Sep 2017 – Current ]\\nInstitute of Electrical and Electronics Engineers, IEEE\\nHOBBIES AND INTERESTS\\nMusics, Movies and Games\\nKarate Player\\nRECOMMENDATIONS\\nProvided on request.\\n\\n\""
          },
          "metadata": {}
        }
      ],
      "execution_count": 160,
      "metadata": {
        "jupyter": {
          "source_hidden": false,
          "outputs_hidden": false
        },
        "nteract": {
          "transient": {
            "deleting": false
          }
        }
      }
    },
    {
      "cell_type": "code",
      "source": [
        "import re"
      ],
      "outputs": [
        {
          "output_type": "display_data",
          "data": {
            "application/vnd.livy.statement-meta+json": {
              "spark_pool": "Nurture",
              "session_id": "1296",
              "statement_id": 73,
              "state": "finished",
              "livy_statement_state": "available",
              "queued_time": "2023-09-27T21:30:04.8509894Z",
              "session_start_time": null,
              "execution_start_time": "2023-09-27T21:32:20.5533021Z",
              "execution_finish_time": "2023-09-27T21:32:20.7181537Z",
              "spark_jobs": null,
              "parent_msg_id": "74383f9c-f86d-4c61-8c95-f79502546678"
            },
            "text/plain": "StatementMeta(Nurture, 1296, 73, Finished, Available)"
          },
          "metadata": {}
        }
      ],
      "execution_count": 161,
      "metadata": {
        "jupyter": {
          "source_hidden": false,
          "outputs_hidden": false
        },
        "nteract": {
          "transient": {
            "deleting": false
          }
        }
      }
    },
    {
      "cell_type": "code",
      "source": [
        "#Create a function to preprocess the cv text\r\n",
        "def resume_skills(text, skill_list):\r\n",
        "    skill = []\r\n",
        "    \r\n",
        "    for Candskill in skill_list:\r\n",
        "        pattern = r\"\\b{}\\b\".format(re.escape(Candskill))\r\n",
        "        match = re.search(pattern, text, re.IGNORECASE)\r\n",
        "        if match:\r\n",
        "            skill.append(Candskill)\r\n",
        "    return skill"
      ],
      "outputs": [
        {
          "output_type": "display_data",
          "data": {
            "application/vnd.livy.statement-meta+json": {
              "spark_pool": "Nurture",
              "session_id": "1296",
              "statement_id": 74,
              "state": "finished",
              "livy_statement_state": "available",
              "queued_time": "2023-09-27T21:30:05.2622512Z",
              "session_start_time": null,
              "execution_start_time": "2023-09-27T21:32:20.8792665Z",
              "execution_finish_time": "2023-09-27T21:32:21.0454266Z",
              "spark_jobs": null,
              "parent_msg_id": "4ada6d7c-f869-47ef-825c-696e9000c787"
            },
            "text/plain": "StatementMeta(Nurture, 1296, 74, Finished, Available)"
          },
          "metadata": {}
        }
      ],
      "execution_count": 162,
      "metadata": {
        "jupyter": {
          "source_hidden": false,
          "outputs_hidden": false
        },
        "nteract": {
          "transient": {
            "deleting": false
          }
        }
      }
    },
    {
      "cell_type": "markdown",
      "source": [
        "**Edensmith's skills list library**"
      ],
      "metadata": {
        "nteract": {
          "transient": {
            "deleting": false
          }
        }
      }
    },
    {
      "cell_type": "code",
      "source": [
        "crimson_skills = spark.read.load('abfss://enriched@esgadls2.dfs.core.windows.net/nurture/skills/skills_database/v1', format='delta'\r\n",
        "\r\n",
        ")\r\n",
        "\r\n",
        "crimson_skills.show(10)\r\n",
        "\r\n",
        "crimson_skills=crimson_skills.select(lower(col('crimson_name')))\r\n",
        "\r\n",
        "crimson_skills.show(10)\r\n",
        "\r\n",
        "skill_exists=crimson_skills.rdd.map(lambda x: x[0]).collect()"
      ],
      "outputs": [
        {
          "output_type": "display_data",
          "data": {
            "application/vnd.livy.statement-meta+json": {
              "spark_pool": "Nurture",
              "session_id": "1296",
              "statement_id": 75,
              "state": "finished",
              "livy_statement_state": "available",
              "queued_time": "2023-09-27T21:30:05.5086054Z",
              "session_start_time": null,
              "execution_start_time": "2023-09-27T21:32:21.2124621Z",
              "execution_finish_time": "2023-09-27T21:32:38.6884068Z",
              "spark_jobs": null,
              "parent_msg_id": "6ba5f36a-3756-442e-ad3c-9fc0ae964b42"
            },
            "text/plain": "StatementMeta(Nurture, 1296, 75, Finished, Available)"
          },
          "metadata": {}
        },
        {
          "output_type": "stream",
          "name": "stdout",
          "text": [
            "+----------------+--------+----------+\n|    crimson_name|JobTitle|All_skills|\n+----------------+--------+----------+\n|          Python|    null|      null|\n|        Power BI|    null|      null|\n|         PowerBI|    null|      null|\n|  Power Platform|    null|      null|\n|   Amazon Athena|    null|      null|\n|Data Engineering|    null|      null|\n|      Amazon EMR|    null|      null|\n|             Git|    null|      null|\n|      AWS Lambda|    null|      null|\n|      Amazon EC2|    null|      null|\n+----------------+--------+----------+\nonly showing top 10 rows\n\n+-------------------+\n|lower(crimson_name)|\n+-------------------+\n|             python|\n|           power bi|\n|            powerbi|\n|     power platform|\n|      amazon athena|\n|   data engineering|\n|         amazon emr|\n|                git|\n|         aws lambda|\n|         amazon ec2|\n+-------------------+\nonly showing top 10 rows\n\n"
          ]
        }
      ],
      "execution_count": 163,
      "metadata": {
        "jupyter": {
          "source_hidden": false,
          "outputs_hidden": false
        },
        "nteract": {
          "transient": {
            "deleting": false
          }
        }
      }
    },
    {
      "cell_type": "markdown",
      "source": [
        "Extract the skills from the cv"
      ],
      "metadata": {
        "nteract": {
          "transient": {
            "deleting": false
          }
        }
      }
    },
    {
      "cell_type": "code",
      "source": [
        "if __name__ == '__main__':\r\n",
        "    text = cv\r\n",
        "    \r\n",
        "    skill_list = skill_exists\r\n",
        "    \r\n",
        "    extracted_skills = resume_skills(text, skill_list)\r\n",
        "    \r\n",
        "    if extracted_skills:\r\n",
        "        print('Skills_extracted', extracted_skills)\r\n",
        "    else:\r\n",
        "            print('No skills matched')"
      ],
      "outputs": [
        {
          "output_type": "display_data",
          "data": {
            "application/vnd.livy.statement-meta+json": {
              "spark_pool": "Nurture",
              "session_id": "1296",
              "statement_id": 76,
              "state": "finished",
              "livy_statement_state": "available",
              "queued_time": "2023-09-27T21:30:05.8193462Z",
              "session_start_time": null,
              "execution_start_time": "2023-09-27T21:32:38.8405052Z",
              "execution_finish_time": "2023-09-27T21:32:40.6882098Z",
              "spark_jobs": null,
              "parent_msg_id": "7f71145e-83fe-4c3b-8c2d-2ef02e1824d1"
            },
            "text/plain": "StatementMeta(Nurture, 1296, 76, Finished, Available)"
          },
          "metadata": {}
        },
        {
          "output_type": "stream",
          "name": "stdout",
          "text": [
            "Skills_extracted ['python', 'data analysis', 'data science', 'algorithms', 'streamline', 'society of engineers', 'request', 'python programming', 'project management', 'project management', 'master', 'master', ' engineering', ' engineering', ' engineering', ' engineering', 'javascript', ' science and technology', 'html', 'forecasting', 'forecasting', 'communications', 'aspects', 'approval', 'a']\n"
          ]
        }
      ],
      "execution_count": 164,
      "metadata": {
        "jupyter": {
          "source_hidden": false,
          "outputs_hidden": false
        },
        "nteract": {
          "transient": {
            "deleting": false
          }
        }
      }
    },
    {
      "cell_type": "code",
      "source": [
        "##Convert the skills to lowercase\r\n",
        "extracted_skills2 = [skill.lower() for skill in extracted_skills]\r\n",
        "print(extracted_skills2)"
      ],
      "outputs": [
        {
          "output_type": "display_data",
          "data": {
            "application/vnd.livy.statement-meta+json": {
              "spark_pool": "Nurture",
              "session_id": "1296",
              "statement_id": 77,
              "state": "finished",
              "livy_statement_state": "available",
              "queued_time": "2023-09-27T21:30:06.1996465Z",
              "session_start_time": null,
              "execution_start_time": "2023-09-27T21:32:40.8838033Z",
              "execution_finish_time": "2023-09-27T21:32:41.0500347Z",
              "spark_jobs": null,
              "parent_msg_id": "89e4ba2a-4948-4ece-bee1-cd6c1fd2426a"
            },
            "text/plain": "StatementMeta(Nurture, 1296, 77, Finished, Available)"
          },
          "metadata": {}
        },
        {
          "output_type": "stream",
          "name": "stdout",
          "text": [
            "['python', 'data analysis', 'data science', 'algorithms', 'streamline', 'society of engineers', 'request', 'python programming', 'project management', 'project management', 'master', 'master', ' engineering', ' engineering', ' engineering', ' engineering', 'javascript', ' science and technology', 'html', 'forecasting', 'forecasting', 'communications', 'aspects', 'approval', 'a']\n"
          ]
        }
      ],
      "execution_count": 165,
      "metadata": {
        "jupyter": {
          "source_hidden": false,
          "outputs_hidden": false
        },
        "nteract": {
          "transient": {
            "deleting": false
          }
        }
      }
    },
    {
      "cell_type": "code",
      "source": [
        "from pyspark.sql.functions import sum"
      ],
      "outputs": [
        {
          "output_type": "display_data",
          "data": {
            "application/vnd.livy.statement-meta+json": {
              "spark_pool": "Nurture",
              "session_id": "1296",
              "statement_id": 78,
              "state": "finished",
              "livy_statement_state": "available",
              "queued_time": "2023-09-27T21:30:06.5720025Z",
              "session_start_time": null,
              "execution_start_time": "2023-09-27T21:32:41.2002614Z",
              "execution_finish_time": "2023-09-27T21:32:41.3866982Z",
              "spark_jobs": null,
              "parent_msg_id": "4518ef00-e787-4c55-a162-ef179ba82d91"
            },
            "text/plain": "StatementMeta(Nurture, 1296, 78, Finished, Available)"
          },
          "metadata": {}
        }
      ],
      "execution_count": 166,
      "metadata": {
        "jupyter": {
          "source_hidden": false,
          "outputs_hidden": false
        },
        "nteract": {
          "transient": {
            "deleting": false
          }
        }
      }
    },
    {
      "cell_type": "markdown",
      "source": [
        "**RECOMMENDER SYSTEM**"
      ],
      "metadata": {
        "nteract": {
          "transient": {
            "deleting": false
          }
        }
      }
    },
    {
      "cell_type": "markdown",
      "source": [
        "**COSINE SIMILARITY**"
      ],
      "metadata": {
        "nteract": {
          "transient": {
            "deleting": false
          }
        }
      }
    },
    {
      "cell_type": "code",
      "source": [
        "from pyspark.ml.feature import CountVectorizer\r\n",
        "from pyspark.sql.functions import split, col\r\n",
        "from pyspark.ml.linalg import Vectors\r\n",
        "from pyspark.ml.feature import VectorAssembler\r\n",
        "from pyspark.ml.linalg import SparseVector\r\n",
        "from pyspark.sql.functions import udf\r\n",
        "from pyspark.sql.types import DoubleType\r\n",
        "from pyspark.sql.functions import array, udf\r\n",
        "from pyspark.ml.linalg import SparseVector, DenseVector, Vectors\r\n",
        "from pyspark.sql.types import ArrayType, DoubleType\r\n",
        "from pyspark.sql.types import IntegerType, ArrayType, StringType\r\n",
        "import pandas as pd\r\n",
        "import numpy as np\r\n",
        "from sklearn.feature_extraction.text import TfidfVectorizer\r\n",
        "from sklearn.metrics.pairwise import linear_kernel"
      ],
      "outputs": [
        {
          "output_type": "display_data",
          "data": {
            "application/vnd.livy.statement-meta+json": {
              "spark_pool": "Nurture",
              "session_id": "1296",
              "statement_id": 79,
              "state": "finished",
              "livy_statement_state": "available",
              "queued_time": "2023-09-27T21:30:06.9142353Z",
              "session_start_time": null,
              "execution_start_time": "2023-09-27T21:32:41.5532136Z",
              "execution_finish_time": "2023-09-27T21:32:42.1104531Z",
              "spark_jobs": null,
              "parent_msg_id": "f37a95aa-1be0-4cd6-8f62-b56c57443c38"
            },
            "text/plain": "StatementMeta(Nurture, 1296, 79, Finished, Available)"
          },
          "metadata": {}
        }
      ],
      "execution_count": 167,
      "metadata": {
        "jupyter": {
          "source_hidden": false,
          "outputs_hidden": false
        },
        "nteract": {
          "transient": {
            "deleting": false
          }
        }
      }
    },
    {
      "cell_type": "code",
      "source": [
        "grouped_ID_pd = grouped_ID.toPandas()\r\n",
        "grouped_ID_pd"
      ],
      "outputs": [
        {
          "output_type": "display_data",
          "data": {
            "application/vnd.livy.statement-meta+json": {
              "spark_pool": "Nurture",
              "session_id": "1296",
              "statement_id": 80,
              "state": "finished",
              "livy_statement_state": "available",
              "queued_time": "2023-09-27T21:30:07.2858432Z",
              "session_start_time": null,
              "execution_start_time": "2023-09-27T21:32:42.2850416Z",
              "execution_finish_time": "2023-09-27T21:32:55.3356616Z",
              "spark_jobs": null,
              "parent_msg_id": "467482a9-79f7-4a34-920a-c3977b103ca4"
            },
            "text/plain": "StatementMeta(Nurture, 1296, 80, Finished, Available)"
          },
          "metadata": {}
        },
        {
          "output_type": "execute_result",
          "execution_count": 161,
          "data": {
            "text/plain": "                            Candidate_contact  \\\n0        4a95b4fe-6961-eb11-a812-0022481a6ace   \n1        4a95b4fe-6961-eb11-a812-0022481a6ace   \n2        4a95b4fe-6961-eb11-a812-0022481a6ace   \n3        4a95b4fe-6961-eb11-a812-0022481a6ace   \n4        4a95b4fe-6961-eb11-a812-0022481a6ace   \n...                                       ...   \n1642867  81b013fa-e629-ed11-9db2-0022481b8794   \n1642868  81b013fa-e629-ed11-9db2-0022481b8794   \n1642869  81b013fa-e629-ed11-9db2-0022481b8794   \n1642870  81b013fa-e629-ed11-9db2-0022481b8794   \n1642871  81b013fa-e629-ed11-9db2-0022481b8794   \n\n                                      Cand_ID  \\\n0        ffffd810-6a61-eb11-a812-0022481a6ace   \n1        ffffd810-6a61-eb11-a812-0022481a6ace   \n2        ffffd810-6a61-eb11-a812-0022481a6ace   \n3        ffffd810-6a61-eb11-a812-0022481a6ace   \n4        ffffd810-6a61-eb11-a812-0022481a6ace   \n...                                       ...   \n1642867  0000359f-a22a-ed11-9db2-0022481b8b3b   \n1642868  0000359f-a22a-ed11-9db2-0022481b8b3b   \n1642869  0000359f-a22a-ed11-9db2-0022481b8b3b   \n1642870  0000359f-a22a-ed11-9db2-0022481b8b3b   \n1642871  0000359f-a22a-ed11-9db2-0022481b8b3b   \n\n                                                 job_title predictedLabel  \\\n0                    data analyst  quality and performance   Data Analyst   \n1                                  profit and loss analyst   Data Analyst   \n2                                       product controller       Software   \n3                                       revenue accountant          Other   \n4                  senior business intelligence consultant          Other   \n...                                                    ...            ...   \n1642867                  business objects platinum partner          Other   \n1642868       enterprise information architect  head of bi          Other   \n1642869  sap business objects business intelligence con...       Software   \n1642870        business intelligence  analytics consultant       Software   \n1642871                                          operative          Other   \n\n            Cand_skill_name  Cand_experience  Cand_level  Duration Seniority  \\\n0        project management              0.0        13.0       NaN      None   \n1        project management              0.0        13.0      21.0      None   \n2        project management              0.0        13.0       5.0      None   \n3        project management              0.0        13.0      28.0      None   \n4        project management              0.0        13.0      31.0    Senior   \n...                     ...              ...         ...       ...       ...   \n1642867                 tm1             11.0        45.0      22.0      None   \n1642868                 tm1             11.0        45.0       NaN      Head   \n1642869                 tm1             11.0        45.0       9.0      None   \n1642870                 tm1             11.0        45.0       6.0      None   \n1642871                 tm1             11.0        45.0      35.0      None   \n\n         count  \n0            1  \n1            1  \n2            1  \n3            1  \n4            1  \n...        ...  \n1642867      1  \n1642868      1  \n1642869      1  \n1642870      1  \n1642871      1  \n\n[1642872 rows x 10 columns]",
            "text/html": "<div>\n<style scoped>\n    .dataframe tbody tr th:only-of-type {\n        vertical-align: middle;\n    }\n\n    .dataframe tbody tr th {\n        vertical-align: top;\n    }\n\n    .dataframe thead th {\n        text-align: right;\n    }\n</style>\n<table border=\"1\" class=\"dataframe\">\n  <thead>\n    <tr style=\"text-align: right;\">\n      <th></th>\n      <th>Candidate_contact</th>\n      <th>Cand_ID</th>\n      <th>job_title</th>\n      <th>predictedLabel</th>\n      <th>Cand_skill_name</th>\n      <th>Cand_experience</th>\n      <th>Cand_level</th>\n      <th>Duration</th>\n      <th>Seniority</th>\n      <th>count</th>\n    </tr>\n  </thead>\n  <tbody>\n    <tr>\n      <th>0</th>\n      <td>4a95b4fe-6961-eb11-a812-0022481a6ace</td>\n      <td>ffffd810-6a61-eb11-a812-0022481a6ace</td>\n      <td>data analyst  quality and performance</td>\n      <td>Data Analyst</td>\n      <td>project management</td>\n      <td>0.0</td>\n      <td>13.0</td>\n      <td>NaN</td>\n      <td>None</td>\n      <td>1</td>\n    </tr>\n    <tr>\n      <th>1</th>\n      <td>4a95b4fe-6961-eb11-a812-0022481a6ace</td>\n      <td>ffffd810-6a61-eb11-a812-0022481a6ace</td>\n      <td>profit and loss analyst</td>\n      <td>Data Analyst</td>\n      <td>project management</td>\n      <td>0.0</td>\n      <td>13.0</td>\n      <td>21.0</td>\n      <td>None</td>\n      <td>1</td>\n    </tr>\n    <tr>\n      <th>2</th>\n      <td>4a95b4fe-6961-eb11-a812-0022481a6ace</td>\n      <td>ffffd810-6a61-eb11-a812-0022481a6ace</td>\n      <td>product controller</td>\n      <td>Software</td>\n      <td>project management</td>\n      <td>0.0</td>\n      <td>13.0</td>\n      <td>5.0</td>\n      <td>None</td>\n      <td>1</td>\n    </tr>\n    <tr>\n      <th>3</th>\n      <td>4a95b4fe-6961-eb11-a812-0022481a6ace</td>\n      <td>ffffd810-6a61-eb11-a812-0022481a6ace</td>\n      <td>revenue accountant</td>\n      <td>Other</td>\n      <td>project management</td>\n      <td>0.0</td>\n      <td>13.0</td>\n      <td>28.0</td>\n      <td>None</td>\n      <td>1</td>\n    </tr>\n    <tr>\n      <th>4</th>\n      <td>4a95b4fe-6961-eb11-a812-0022481a6ace</td>\n      <td>ffffd810-6a61-eb11-a812-0022481a6ace</td>\n      <td>senior business intelligence consultant</td>\n      <td>Other</td>\n      <td>project management</td>\n      <td>0.0</td>\n      <td>13.0</td>\n      <td>31.0</td>\n      <td>Senior</td>\n      <td>1</td>\n    </tr>\n    <tr>\n      <th>...</th>\n      <td>...</td>\n      <td>...</td>\n      <td>...</td>\n      <td>...</td>\n      <td>...</td>\n      <td>...</td>\n      <td>...</td>\n      <td>...</td>\n      <td>...</td>\n      <td>...</td>\n    </tr>\n    <tr>\n      <th>1642867</th>\n      <td>81b013fa-e629-ed11-9db2-0022481b8794</td>\n      <td>0000359f-a22a-ed11-9db2-0022481b8b3b</td>\n      <td>business objects platinum partner</td>\n      <td>Other</td>\n      <td>tm1</td>\n      <td>11.0</td>\n      <td>45.0</td>\n      <td>22.0</td>\n      <td>None</td>\n      <td>1</td>\n    </tr>\n    <tr>\n      <th>1642868</th>\n      <td>81b013fa-e629-ed11-9db2-0022481b8794</td>\n      <td>0000359f-a22a-ed11-9db2-0022481b8b3b</td>\n      <td>enterprise information architect  head of bi</td>\n      <td>Other</td>\n      <td>tm1</td>\n      <td>11.0</td>\n      <td>45.0</td>\n      <td>NaN</td>\n      <td>Head</td>\n      <td>1</td>\n    </tr>\n    <tr>\n      <th>1642869</th>\n      <td>81b013fa-e629-ed11-9db2-0022481b8794</td>\n      <td>0000359f-a22a-ed11-9db2-0022481b8b3b</td>\n      <td>sap business objects business intelligence con...</td>\n      <td>Software</td>\n      <td>tm1</td>\n      <td>11.0</td>\n      <td>45.0</td>\n      <td>9.0</td>\n      <td>None</td>\n      <td>1</td>\n    </tr>\n    <tr>\n      <th>1642870</th>\n      <td>81b013fa-e629-ed11-9db2-0022481b8794</td>\n      <td>0000359f-a22a-ed11-9db2-0022481b8b3b</td>\n      <td>business intelligence  analytics consultant</td>\n      <td>Software</td>\n      <td>tm1</td>\n      <td>11.0</td>\n      <td>45.0</td>\n      <td>6.0</td>\n      <td>None</td>\n      <td>1</td>\n    </tr>\n    <tr>\n      <th>1642871</th>\n      <td>81b013fa-e629-ed11-9db2-0022481b8794</td>\n      <td>0000359f-a22a-ed11-9db2-0022481b8b3b</td>\n      <td>operative</td>\n      <td>Other</td>\n      <td>tm1</td>\n      <td>11.0</td>\n      <td>45.0</td>\n      <td>35.0</td>\n      <td>None</td>\n      <td>1</td>\n    </tr>\n  </tbody>\n</table>\n<p>1642872 rows × 10 columns</p>\n</div>"
          },
          "metadata": {}
        }
      ],
      "execution_count": 168,
      "metadata": {
        "jupyter": {
          "source_hidden": false,
          "outputs_hidden": false
        },
        "nteract": {
          "transient": {
            "deleting": false
          }
        }
      }
    },
    {
      "cell_type": "code",
      "source": [
        "#Treat null values\r\n",
        "data = grouped_ID_pd.dropna(subset=['Cand_skill_name'])\r\n",
        "data2 = data.dropna(subset=['predictedLabel'])"
      ],
      "outputs": [
        {
          "output_type": "display_data",
          "data": {
            "application/vnd.livy.statement-meta+json": {
              "spark_pool": "Nurture",
              "session_id": "1296",
              "statement_id": 81,
              "state": "finished",
              "livy_statement_state": "available",
              "queued_time": "2023-09-27T21:30:07.6793093Z",
              "session_start_time": null,
              "execution_start_time": "2023-09-27T21:32:55.4932883Z",
              "execution_finish_time": "2023-09-27T21:32:56.0514392Z",
              "spark_jobs": null,
              "parent_msg_id": "a56e0205-89d3-4419-b6e2-2d71202b3005"
            },
            "text/plain": "StatementMeta(Nurture, 1296, 81, Finished, Available)"
          },
          "metadata": {}
        }
      ],
      "execution_count": 169,
      "metadata": {
        "jupyter": {
          "source_hidden": false,
          "outputs_hidden": false
        },
        "nteract": {
          "transient": {
            "deleting": false
          }
        }
      }
    },
    {
      "cell_type": "code",
      "source": [
        "#Join the job category and the the skills for that category, such that for each job category, all the skills will be assiciated to it.\r\n",
        "grouped_ID_pd2 = data2.groupby('predictedLabel')['Cand_skill_name'].apply(','.join).reset_index()"
      ],
      "outputs": [
        {
          "output_type": "display_data",
          "data": {
            "application/vnd.livy.statement-meta+json": {
              "spark_pool": "Nurture",
              "session_id": "1296",
              "statement_id": 82,
              "state": "finished",
              "livy_statement_state": "available",
              "queued_time": "2023-09-27T21:30:08.0096049Z",
              "session_start_time": null,
              "execution_start_time": "2023-09-27T21:32:56.2036008Z",
              "execution_finish_time": "2023-09-27T21:32:56.7615242Z",
              "spark_jobs": null,
              "parent_msg_id": "f6498ee2-7715-4b96-9a64-18b4f3737be7"
            },
            "text/plain": "StatementMeta(Nurture, 1296, 82, Finished, Available)"
          },
          "metadata": {}
        }
      ],
      "execution_count": 170,
      "metadata": {
        "jupyter": {
          "source_hidden": false,
          "outputs_hidden": false
        },
        "nteract": {
          "transient": {
            "deleting": false
          }
        }
      }
    },
    {
      "cell_type": "code",
      "source": [
        "#Embed the resulting dataframe using the TF-IDF vectorizer\r\n",
        "tfidf = TfidfVectorizer()\r\n",
        "tfidf_matrix = tfidf.fit_transform(grouped_ID_pd2['Cand_skill_name'])"
      ],
      "outputs": [
        {
          "output_type": "display_data",
          "data": {
            "application/vnd.livy.statement-meta+json": {
              "spark_pool": "Nurture",
              "session_id": "1296",
              "statement_id": 83,
              "state": "finished",
              "livy_statement_state": "available",
              "queued_time": "2023-09-27T21:30:08.4212229Z",
              "session_start_time": null,
              "execution_start_time": "2023-09-27T21:32:56.9195199Z",
              "execution_finish_time": "2023-09-27T21:32:59.7923705Z",
              "spark_jobs": null,
              "parent_msg_id": "b396d957-18c2-4a1f-8fa8-6650f5eca37f"
            },
            "text/plain": "StatementMeta(Nurture, 1296, 83, Finished, Available)"
          },
          "metadata": {}
        }
      ],
      "execution_count": 171,
      "metadata": {
        "jupyter": {
          "source_hidden": false,
          "outputs_hidden": false
        },
        "nteract": {
          "transient": {
            "deleting": false
          }
        }
      }
    },
    {
      "cell_type": "code",
      "source": [
        "#Initialize the cosine similarity\r\n",
        "cosSim = linear_kernel(tfidf_matrix, tfidf_matrix)"
      ],
      "outputs": [
        {
          "output_type": "display_data",
          "data": {
            "application/vnd.livy.statement-meta+json": {
              "spark_pool": "Nurture",
              "session_id": "1296",
              "statement_id": 84,
              "state": "finished",
              "livy_statement_state": "available",
              "queued_time": "2023-09-27T21:30:08.761531Z",
              "session_start_time": null,
              "execution_start_time": "2023-09-27T21:32:59.9453047Z",
              "execution_finish_time": "2023-09-27T21:33:00.1117556Z",
              "spark_jobs": null,
              "parent_msg_id": "ead669b9-2398-4e73-817e-daf1e02d9d8b"
            },
            "text/plain": "StatementMeta(Nurture, 1296, 84, Finished, Available)"
          },
          "metadata": {}
        }
      ],
      "execution_count": 172,
      "metadata": {
        "jupyter": {
          "source_hidden": false,
          "outputs_hidden": false
        },
        "nteract": {
          "transient": {
            "deleting": false
          }
        }
      }
    },
    {
      "cell_type": "code",
      "source": [
        "#Attach an index value to each vector feature as a unique identifier\r\n",
        "indices2 = pd.Series(grouped_ID_pd2.index, index=grouped_ID_pd2['predictedLabel']).drop_duplicates()"
      ],
      "outputs": [
        {
          "output_type": "display_data",
          "data": {
            "application/vnd.livy.statement-meta+json": {
              "spark_pool": "Nurture",
              "session_id": "1296",
              "statement_id": 85,
              "state": "finished",
              "livy_statement_state": "available",
              "queued_time": "2023-09-27T21:30:09.1125466Z",
              "session_start_time": null,
              "execution_start_time": "2023-09-27T21:33:00.3052193Z",
              "execution_finish_time": "2023-09-27T21:33:00.4665001Z",
              "spark_jobs": null,
              "parent_msg_id": "4a1df7e2-620e-4f7a-a3f6-8be2b82af9b2"
            },
            "text/plain": "StatementMeta(Nurture, 1296, 85, Finished, Available)"
          },
          "metadata": {}
        }
      ],
      "execution_count": 173,
      "metadata": {
        "jupyter": {
          "source_hidden": false,
          "outputs_hidden": false
        },
        "nteract": {
          "transient": {
            "deleting": false
          }
        }
      }
    },
    {
      "cell_type": "code",
      "source": [
        "indices2"
      ],
      "outputs": [
        {
          "output_type": "display_data",
          "data": {
            "application/vnd.livy.statement-meta+json": {
              "spark_pool": "Nurture",
              "session_id": "1296",
              "statement_id": 86,
              "state": "finished",
              "livy_statement_state": "available",
              "queued_time": "2023-09-27T21:30:09.4454304Z",
              "session_start_time": null,
              "execution_start_time": "2023-09-27T21:33:00.6248907Z",
              "execution_finish_time": "2023-09-27T21:33:00.7827231Z",
              "spark_jobs": null,
              "parent_msg_id": "9bd37755-4d21-4203-896c-2e62c73e29fb"
            },
            "text/plain": "StatementMeta(Nurture, 1296, 86, Finished, Available)"
          },
          "metadata": {}
        },
        {
          "output_type": "execute_result",
          "execution_count": 173,
          "data": {
            "text/plain": "predictedLabel\nApplied Science     0\nData Analyst        1\nData Architect      2\nData Engineer       3\nData Management     4\nData Science        5\nEngineering         6\nManagement          7\nOperations          8\nOther               9\nSoftware           10\nWeb                11\ndtype: int64"
          },
          "metadata": {}
        }
      ],
      "execution_count": 174,
      "metadata": {
        "jupyter": {
          "source_hidden": false,
          "outputs_hidden": false
        },
        "nteract": {
          "transient": {
            "deleting": false
          }
        }
      }
    },
    {
      "cell_type": "code",
      "source": [
        "grouped_ID_pd2.head()"
      ],
      "outputs": [
        {
          "output_type": "display_data",
          "data": {
            "application/vnd.livy.statement-meta+json": {
              "spark_pool": "Nurture",
              "session_id": "1296",
              "statement_id": 87,
              "state": "finished",
              "livy_statement_state": "available",
              "queued_time": "2023-09-27T21:30:09.8109866Z",
              "session_start_time": null,
              "execution_start_time": "2023-09-27T21:33:00.9437272Z",
              "execution_finish_time": "2023-09-27T21:33:01.1121088Z",
              "spark_jobs": null,
              "parent_msg_id": "008f697c-1f08-4c90-9df6-6cc14b55c93b"
            },
            "text/plain": "StatementMeta(Nurture, 1296, 87, Finished, Available)"
          },
          "metadata": {}
        },
        {
          "output_type": "execute_result",
          "execution_count": 175,
          "data": {
            "text/plain": "    predictedLabel                                    Cand_skill_name\n0  Applied Science  power bi,power bi,natural language processing,...\n1     Data Analyst  project management,project management,project ...\n2   Data Architect  data warehousing,data warehousing,data warehou...\n3    Data Engineer  tableau,microsoft transact-sql,data warehousin...\n4  Data Management  ole,ole,bachelors degree > bachelor of science...",
            "text/html": "<div>\n<style scoped>\n    .dataframe tbody tr th:only-of-type {\n        vertical-align: middle;\n    }\n\n    .dataframe tbody tr th {\n        vertical-align: top;\n    }\n\n    .dataframe thead th {\n        text-align: right;\n    }\n</style>\n<table border=\"1\" class=\"dataframe\">\n  <thead>\n    <tr style=\"text-align: right;\">\n      <th></th>\n      <th>predictedLabel</th>\n      <th>Cand_skill_name</th>\n    </tr>\n  </thead>\n  <tbody>\n    <tr>\n      <th>0</th>\n      <td>Applied Science</td>\n      <td>power bi,power bi,natural language processing,...</td>\n    </tr>\n    <tr>\n      <th>1</th>\n      <td>Data Analyst</td>\n      <td>project management,project management,project ...</td>\n    </tr>\n    <tr>\n      <th>2</th>\n      <td>Data Architect</td>\n      <td>data warehousing,data warehousing,data warehou...</td>\n    </tr>\n    <tr>\n      <th>3</th>\n      <td>Data Engineer</td>\n      <td>tableau,microsoft transact-sql,data warehousin...</td>\n    </tr>\n    <tr>\n      <th>4</th>\n      <td>Data Management</td>\n      <td>ole,ole,bachelors degree &gt; bachelor of science...</td>\n    </tr>\n  </tbody>\n</table>\n</div>"
          },
          "metadata": {}
        }
      ],
      "execution_count": 175,
      "metadata": {
        "jupyter": {
          "source_hidden": false,
          "outputs_hidden": false
        },
        "nteract": {
          "transient": {
            "deleting": false
          }
        }
      }
    },
    {
      "cell_type": "code",
      "source": [
        "#Define the Cosine similarity recommender system while calculating the cosine similarity between the two careers\r\n",
        "def recommender_system(current_job_title, target_job_title):\r\n",
        "    \r\n",
        "    # Get the index of the current job title and target job title\r\n",
        "    idx_current = indices2[current_job_title]\r\n",
        "    idx_target = indices2[target_job_title]\r\n",
        "    \r\n",
        "    # Calculate the similarity scores for the current job title\r\n",
        "    sim_scores = list(enumerate(cosSim[idx_current]))\r\n",
        "    \r\n",
        "    # Sort the job titles based on the similarity scores\r\n",
        "    sim_scores = sorted(sim_scores, key=lambda x: x[1], reverse=True)\r\n",
        "    \r\n",
        "    # Get the scores of the most similar job titles\r\n",
        "    sim_scores = sim_scores[1:6]\r\n",
        "    \r\n",
        "    # Get the job title indices\r\n",
        "    job_indices = [i[0] for i in sim_scores]\r\n",
        "    \r\n",
        "    # Extract the skills of the most similar job titles and the target job\r\n",
        "    current_skills = set(grouped_ID_pd2['Cand_skill_name'].iloc[idx_current].split(','))\r\n",
        "    target_skills = set(grouped_ID_pd2['Cand_skill_name'].iloc[idx_target].split(','))\r\n",
        "    \r\n",
        "    # Calculate the missing skills\r\n",
        "    missing_skills = target_skills - current_skills\r\n",
        "    \r\n",
        "    return missing_skills"
      ],
      "outputs": [
        {
          "output_type": "display_data",
          "data": {
            "application/vnd.livy.statement-meta+json": {
              "spark_pool": "Nurture",
              "session_id": "1296",
              "statement_id": 88,
              "state": "finished",
              "livy_statement_state": "available",
              "queued_time": "2023-09-27T21:30:10.1306414Z",
              "session_start_time": null,
              "execution_start_time": "2023-09-27T21:33:01.2780016Z",
              "execution_finish_time": "2023-09-27T21:33:01.4445806Z",
              "spark_jobs": null,
              "parent_msg_id": "263789e8-03db-4fcc-853f-4277f3eba602"
            },
            "text/plain": "StatementMeta(Nurture, 1296, 88, Finished, Available)"
          },
          "metadata": {}
        }
      ],
      "execution_count": 176,
      "metadata": {
        "jupyter": {
          "source_hidden": false,
          "outputs_hidden": false
        },
        "nteract": {
          "transient": {
            "deleting": false
          }
        }
      }
    },
    {
      "cell_type": "code",
      "source": [
        "#Deploy the recommender model on the current and target job\r\n",
        "current_job = \"Data Science\"\r\n",
        "target_job = \"Data Engineer\"\r\n",
        "print(recommender_system(current_job, target_job))"
      ],
      "outputs": [
        {
          "output_type": "display_data",
          "data": {
            "application/vnd.livy.statement-meta+json": {
              "spark_pool": "Nurture",
              "session_id": "1296",
              "statement_id": 89,
              "state": "finished",
              "livy_statement_state": "available",
              "queued_time": "2023-09-27T21:30:10.5523918Z",
              "session_start_time": null,
              "execution_start_time": "2023-09-27T21:33:01.6243664Z",
              "execution_finish_time": "2023-09-27T21:33:01.7844851Z",
              "spark_jobs": null,
              "parent_msg_id": "5f9fd762-7103-4955-8982-10d2e072567a"
            },
            "text/plain": "StatementMeta(Nurture, 1296, 89, Finished, Available)"
          },
          "metadata": {}
        },
        {
          "output_type": "stream",
          "name": "stdout",
          "text": [
            "{'sonic esb', 'sap apo technical skills', 'neolane', 'oracle standard benefits', 'shona', 'microsoft certified product specialist', 'sap sd md', 'institute of leadership & management', 'noc', 'catv', 'oracle sqlnet', 'sun hardware > sun fire servers', 'ecosystems', 'leveraging resources', 'cat 5 ethernet', 'token ring', 'sap wm', 'sap sd sales', 'sage business management software > sage 50 suite', 'icm qualification', 'appc', 'reuters kondor+', 'jdedwards suite', 'retek', 'veritas', 'security clearance > security clearance ctc', 'system implementation', 'cae', 'sage accounting software > sage line 500', 'pegasus opera', 'cosmos', 'progress 4gl', 'investment administration qualification', 'external reporting', 'petty cash', 'o/a levels/grades', 'royal astronomical society', 'uniface', 'hyperion enterprise', 'pdms', 'altova > altova xmlspy', 'computer associates unicenter ca-7', 'electrical engineer', 'lec', 'sybase replication server', 'bachelors degree > bachelor of informatics', 'microsoft mail', 'focal', 'welsh', 'sap abap rfc', 'singl.eview', 'hp openview configuration management', 'ica', 'money markets', 'oracle 7 application server', 'xforms', 'sap pp mrp', 'remote access services', 'tds', 'rexx', 'vendor liaison', 'informatica analytics package > informatica powermart', 'member of the institute of sales promotion', 'civil aviation authority', 'dbdesigner 4', 'doc', 'sap is pharma', 'cognos reportnet', 'solcorp ingenium', 'nomad1', 'tas', 'myfaces', 'lean manufacturing', 'transaction processing monitor', 'channels', 'c1 licence', 'bank reconciliations', 'ws-security', 'coral 66', 'insurance application architecture', 'sap hr tax', 'booch methodology', 'oracle 9i application server', 'vax/vms', 'protel', 'british psychological society', 'certified cash manager', 'case methodology', 'ss7', 'mercury interactive testdirector', 'novell netware > novell netware 4.x', 'sap fi am', 'geologist', 'ibm system 36', 'btec national certificate', 'certified product instructor', 'sap for chemicals', 'maestro batch controller', 'infor erp > infor erp system21', 'omgeo oasys global', 'martini financial software', 'ibm sp2', 'regulatory accounting', 'sap abap oo', 'microsoft sql*menu', 'gemini', 'eagle pace financial software', 'siebel escript', 'sap is cs', 'accent', 'sap basis', 'oracle scm', 'business to customer', 'pastel evolution', 'oracle 10g application server', 'peoplesoft campus solutions', 'unique', 'livesite', 'trial balance', 'firstclass', 'retail marketing', 'microsoft windows nt application server', 'mercury interactive sitemanager', 'ada', 'vse', 'vsam (virtual storage access method)', 'brand marketing', 'sap v3.1', 'bachelors degree > bachelor of social science', 'java awt', 'lpi certification > linux professional institute certified level 1', 'peoplesoft crm', 'transaction processing system', 'microsoft operations manager', 'association of certified fraud examiners', 'royal college of organists choral directing diploma (dipchd)', 'red hat certified engineer', 'sap abap lsmw', 'charles river trading system', 'cirrus', 'certified information security manager', 'cons', 'information security level restricted', 'siebel incentive compensation', 'associate member of the royal town planning institute', 'skilled persons', 'acquisition finance', 'oracle aq', 'sap is ps', 'account reconciliations', 'bs7799 standard', 'ims-dc', 'tandem', 'other design', 'certified information systems auditor', 'mvs', 'agora', 'mpls (multiprotocol label switching)', 'fujitsu hardware', 'currency management', 'sybase enterprise application server', 'vsat (very small aperture terminal)', 'network file system', 'unix system vii', 'percussion cms', 'siebel finance', 'microstrategy certified engineer', 'dsl', 'dec alpha hardware', 'dtp', 'cashiering', 'caml', 'quickbooks', 'oracle hrms', 'mfg/pro', 'final cut pro', 'registered financial associate (rfa)', 'legal aid', 'bluetooth technology', 'fidessa latentzero', 'omnigraffle', 'sun accounts', 'ole db', 'member of the association for project management', 'hyperion intelligence', 'certified management accountant', 'sun unify', 'sap im', 'ingress rdbms', 'microsoft certified it professional (mcitp)', 'primavera p3', 'apl', 'installshield', 'global topic', 'securities dealing', 'sap ps pln', 'apt systems', 'health benefits', 'days sales outstanding', 'siebel eenergy', 'private companies', 'structured finance', 'query/36', 'siebel efinance', 'doctoral degree > juris doctor', 'operations specialist', 'ibm certified developer', 'ipsec', 'sdh', 'systems accounting', 'coda', 'powerbuilder', 'malay', 'sap mm invoicing', 'geneva billing', 'consolidations', 'informatica analytics package', 'microsoft certified database administrator', 'btrieve', 'macromedia flash', 'sql query analyzer', 'clips', 'apache axis', 'six sigma certified', 'oracle certified professional 9i', 'sap abap', 'oracle express', 'six sigma certified > green belt', 'adabas natural', 'flex', 'worksite', 'cat 6 ethernet', 'pdq', 'mux', 'peoplesoft accounts receivable', 'sap best practices', 'orchestrate', 'ds2', 'compensation and benefits', 'city & guilds', 'structuring product', 'sunos', 'clarity', 'institution of analysts and programmers', 'codagl', 'sap mm pur', 'masm', 'greenlight', 'sap fi tr', 'sap fi tr cm', 'credit derivatives', 'java stored procedures', '68000 assembler', 'sap sd', 'asset swaps', 'netcool', 'broadvision', 'cobol 2 microfocus', 'businessobjects data integrator', 'facets', 'sql service broker', 'businessobjects business intelligence', 'managing successful programmes practitioner', 'lotus cc:mail', 'idol', 'oracle sales analyzer', 'wallstreet financial software', 'sap qm', 'sap is insurance', 'chief financial officer', 'adobe dimensions', 'part qualified accountant', 'avaya switches', 'wins', 'system 1032', 'university degree', 'birst', 'xsl-fo', 'ca arcserve', 'optical fibre', 'financial control', 'seebeyond e*gate', 'groupwise', 'btec first diploma', 'hyperion reports', 'microsoft project server', 'magicdraw', 'murex financial software', 'global portfolio', 'web 3.0', 'diphe', 'tqm', 'bachman methodology', 'active template library', 'ims db', 'autodesk inventor', 'sap is u', 'telnet', 'activity based costing', 'tso', 'rubix master', 'sap hr mss', 'gp fundholding', 'siebel configuration & implementation', 'microsoft sms', 'corporate actions', 'initial public offerings', 'fellow of the british computer society (fbcs)', 'sage business management software > sage 200 suite', 'ibatis', 'am', 'clean', 'onc', 'chordiant marketing director', 'ibm os/400', 'garageband', 'sunguard devon system', 'technical author', 'fixed income settlements', 'ca-idms x', 'cash management', 'artifical intelligence', 'openlink financial software', 'cash reconciliations', 'blaze advisor', 'ccc', 'cadence software', 'subsea systems', '.net web services', 'interbase', 'glosshv', 'sap bw sem bps', 'winsock api', 'financial planning certificate > financial planning certificate level 1', 'log4j', 'macromedia suite', 'sap business bydesign', 'jdedwards enterpriseone', 'earned value management', 'sol', 'compaq accredited systems engineer', 'is 2000', 'sap abap repository', 'modula-2', 'sitecore cms', 'sap ps os', 'ibm system 360 hardware', 'xilinx', 'mumps', 'shipyard', 'rap', 'primavera p6', 'service provisioning', 'management buyin', 'consul', 'flemish', 'unit trust accounts', 'sap abap smartform', 'ibm hardware > ibm system x', 'managed services', 'm-code', 'o2', 'asset-backed financing', 'calypso financial software', 'bachelors degree > bachelor of laws', 'derivative operations', 'public switched telephone network', 'msql', 'british computer society', 'automation engineer', 'icmp', 'voip (voice over ip)', 'ip telephony', 'altova > altova stylevision', 'nvq level 2', 'straight through processing', 'toad data modeler', 'royal college of nursing', 'certificate of professional aptitude', 'system 1022', 'primavera contract manager', 'thinkfolio', 'pl/1', 'print', 'microstrategy desktop', 'provisioning', 'spreadsheet analyst', 'fellow of the chartered institute of marketing', 'certified professional security specialist', 'ibm os/390', 'sap project manager', 'comptia a+ certified professional', 'ibm spufi', 'certified auditor', 'ade', 'sap configuration', 'isda', 'sun certified web component developer (scwcd)', 'dft', 'pimbok', 'maximo', 'apollo software', 'asic', 'client services', 'advantage 2e', 'edition', 'institution of occupational safety and health', 'sage accounting software > sage line 50', 'apple iwork', 'sap abap ale', 'microsoft dynamics nav', 'slam', 'sap le', 'sap ep', 'jme', 'pat', 'order taking', 'sap is ec&o', 'leveraged buyout', 'tftp', 'borland turbo c++', 'stp', 'microsoft windows nt', 'opendoc', 'oracle application development framework', 'chartered public finance accountant', 'masters degree > master of surgery', 'kronos', 'sap abap idoc', 'sap wf', 'clist', 'arp', 'econ', 'ibm certified solutions developer - ibm visualage for java', 'activex', 'xpath', 'sap erp hcm', 'svq', 'dividend payments', 'commissions', 'documentum', 'maximo asset management', 'sap abap sapscript', 'vietnamese', 'english sign language', 'royal society of arts', 'financial controller', 'comptia network+ certified professional', 'member of cipd', 'checkpoint firewall', 'microstrategy office', 'celta', 'maithili', 'cal', 'websphere mq', 'silverstream', 'ds3', 'andyne gql', 'aca qualification > aca ireland', 'multifonds', 'bachelors degree > bachelor of computer applications', 'six sigma certified > black belt', 'chartered information technology professional', 'sage business management software > sage 1000 suite', 'management buyout', 'arb', 'fact', 'bpel', 'firebug', 'capital gains tax', 'pro-iv', 'sap 4.7 enterprise', 'nms', 'rational robot', 'sap grc', 'oracle 8i application server', 'fcb', 'balance sheet reconciliations', 'tax analysis', 'foreign exchange options', 'origination', 'citrix certified sales professional', 'oracle groupware', 'computer associates ca-openroad', 'olap reports/analysis', 'modaf', 'bos/lan', 'oracle certified professional (ocp) - application developer', 'microsoft certified professional + site building', 'business process management', 'sap pp pi', 'open ended investment companies', 'los', 'sap co pa', 'selcopy', 'sap ecc', 'sap hr recruitment', 'fql', 'us gaap', 'stcw', 'institute of field archaeologists', 'trade queries', 'cisco certified network associate voice', 'qa engineer', 'business procedures', 'complex derivatives', 'isaca', 'sap lo pr', 'novell netware > novell netware 3.x', 'ibm websphere application server', 'crew', 'orcad', 'oracle case', 'mnp', 'it procurement', 'novell netware', 'java management extensions', 'assyst', 'chartered institute of building', 'fellow of the library association (fla)', 'sophos puremessage', 'activity diagrams', 'council tax', 'ca-endevor', 'sap hr sp', 'nortel', 'oracle customer hub', 'gnvq', 'rfc', 'cti', 'oracle real application clusters', 'bachelors degree > bachelor of chemistry', 'treasury management', 'siebel tools', 'sap abap dictionary', 'x++', 'san', 'service technician', 'sun certified programmer for the java 2 platform', 'post-graduate degree', 'printer hardware', 'sap hr travel expenses', 'sap hr app', 'pan', 'ifs applications', 'mercator integration broker', 'institution of lighting engineers', 'ledger reconciliations', 'fellow of institite of chartered accountants (fca)', 'dbschema', 'interdev', 'business objects certified professional (bocp)', 'mosaic netscape', 'computer associates ca-telon', 'safety officer', 'digital unix', 'indirect procurement', 'treasury operations', 'iden', 'royal blue fidessa', 'saturn', 'intellect', 'idm', 'grails', 'ceridian', 'delta', 'hitachi hardware', 'sap is ehs', 'standard settlement instructions', 'field service engineer', 'fellow of the chartered quality institute (fcqi cqp)', 'corel paradox for windows', 'ibm crossworlds interchange server', 'application layer', 'sap scm', 'bachelors degree > bachelor of music', 'safety advisor', 'server+', 'optima', 'isdn', 'netegrity siteminder', 'confluent', 'korn shell', 'sap is oil', 'compaq/digital hardware', 'sage carpe diem', 'cache', 'sap abap workbench', 'solidatus', 'unisure', 'hp server hardware', 'sap ps', 'sap ps wbs', 'other engineering', 'detica netreveal', 'intercom', 'system hardening', 'oracle cm', 'amdocs', 'rumbaugh methodology', 'trading partner', 'm-commerce', 'jdedwards financial suite', 'equities as derivatives', 'idee financial software', 'network appliance', 'pcb', 'info', 'dvb', 'fibre optic cable', 'novell consoleone', 'unipay', 'aas degree', 'oracle cost management', 'bal', 'kazakh', 'tibco enterprise message service', 'sap hr ben', 'forth', 'sqlwindows', 'j-sox', 'eftpos', 'sap office', 'investment casting', 'pick os', 'websphere mqmon', 'business process modelling notation', 'amazon athena', 'enterprise application integration', 'masters degree > master of business', 'ipswitch ws_ftp pro', 'cluster server', 'webfocus', 'ibm visual age', 'together', 'sdl', 'sqlbase for windows', 'oracle ap', 'hp star - digital workplace professional', 'objective caml', 'new business development', 'holos', 'sap web as', 'bookkeeping', 'modelright', 'sap sd bil > sap sd billing', 'just-in-time', 'rapid application development rad', 'mediabin', 'certificate in company direction', 'aqua data studio er modeler', 'dynamic data exchange', 'sap is oil downstream', 'centura', 'sap v4.6c', 'sap pm', 'forte', 'siebel call center', 'adp human resources', 'pop', 'tornado', 'hp server hardware > hp 3000 servers', 'intrusion prevention system', 'workgroup', 'networking engineer', 'personal equity plan accounts', 'gilts', 'sap mysap', 'nondestructive testing', 'microstrategy architect', 'request for proposal', 'eft', 'sun certified java developer (scjd)', 'sap is t', 'corba', 'sap infrastructure', 'withholding tax', 'oracle sql developer data modeler', 'oracle administration', 'hrms', 'provision', 'sap is procurement', 'ca-datacom', 'windows script', 'visual basic 3', 'counterparty risk', 'cics/esa', 'powerful', 'sap apo dp', 'dspace', 'sap cloud', 'p11d form', 'eudora', 'nant', 'sun certified java programmer (scjp)', 'ambit', 'maintenance engineer', 'international accounting standards', 'embedded c++', 'oracle report writer', 'dacs', 'investment accounting', 'siebel epharma', 'seismic', 'inspector', 'seagate crystal', 'oracle purchasing', 'royalty payments', 'agresso financials', 'gl trade', 'uddi', 'network attached storage', 'institute for certification of computing professionals associate computing professional', 'swap', 'cweb', 'javamail api', 'indian > malayalam', 'hp openview', 'clearing bank', 'saleslogix', 'sas web report studio', 'sap pp', 'sax', 'oracle installation', 'supra server', 'material requirements planning', 'enterprise video platform', 'nvq level 3', 'security clearance > security clearance crb', 'chaps', 'synchronous digital hierarchy', 'statutory accounts', 'bachelors degree > bachelor of surgery', 'certified data processor (cdp)', 'chartered institute of loss adjusters - fellow', 'intercompany reconciliations', 'sap is oil & gas', 'network access control', 'dsdm', 'os/370 assembler', 'ssadm certificate of proficiency', 'computer associates ca-superproject', 'ibm rs6000 hardware', 'debit notes', 'dbase', 'specification writing', 'mark to market', 'microsoft sql*net', 'prime brokerage', 'doctoral degree > doctor of divinity', 'geoscientist', 'businessobjects broadcast agent', 'database maintenance', 'jndi', 'information security level protected', 'powerflow', 'bachelors degree > bachelor of pharmacy', 'adapt software', 'vision plus', 'jython', 'security clearance > security clearance secret', 'credient financial software', 'airbus a350 aircraft', 'btec national award', 'tasm', 'forensic accounting', 'distinguished logistics professional', 'sap lo logistics', 'claims administration', 'os/360 assembler', 'faster payments', 'metacobol', 'sap v4.7 enterprise', 'websphere studio application developer', 'rsa text processing', 'city & guilds first diploma', 'sap hr pay', 'artemis', 'pipeline engineer', 'internet access', 'intuit quicken', 'microsoft frontpage', 'dynix', 'scorm', 'open modelsphere', 'minute taking', 'alps', 'turbo pascal', 'incorporated association of architects and surveyors', 'websphere mq integrator', 'icp', 'transfer pricing tax', 'american sign language', 'sun hardware > sun sparc series', 'ssp', 'vme', '51forth', 'sybase certified powerbuilder developer', 'sap hr comp', 'collateral management', 'sap plm', 'cisco certified security professional', 'logix', 'elements', 'elk', 'jad', 'interwoven', 'serbian', 'quark xpress', 'cobol ii', 'unix system v', 'sap bpc', 'leaseholds', 'sap netweaver pi', 'rational suite', 'jackson structured design methodology', 'brokerage', 'mis reporting', 'corel wordperfect', 'aegis', 'bank of england returns', 'retail performance manager', 'singleview', 'report writer', 'embedded sql', 'associate financial planner', 'minerva', 'request', 'symantec ghost', 'plex', 'gds', 'foundation degree', 'office migration', 's levels/grades', 'minstd', 'fsa qualified', 'nic', 'legato networker', 'sap netweaver mobile', 'openlink endur', 'albanian', 'sap abap xml', 'personal loans', 'supervisory skills', 'hmi', 'sap sd vc', 'alaire jrun', 'eroom', 'chartered engineer', 'ibm system 38', 'informix newera', 'system 21', 'mongolian', 'rts', 'cib qualification', 'associate member of the british computer society (ambcs)', 'cisco asa', 'oracle ar', 'fixed assets', 'sap abap bapi', 'datascan', 'sap abap edi', 'microstation', 'sas management console', 'pro c++', 'demantra', 'oracle gl', 'cnc', 'bachelors degree > bachelor of education', 'kashmiri', 'part qualified cima accountant', 'nebosh general certificate', 'peoplesoft peoplecode', 'lagan enterprise case management', 'business process outsourcing', 'sap is banking', 'dataflex', 'big-ip', 'service activation', 'doctoral degree > doctor of laws', 'bar vocational course', 'object pascal', 'bond derivatives', 'bosiet certificate', 'sarbanes-oxley', '4gl', 'oracle treasury', 'european computer driving licence', 'sap is re', 'iso 14001 standard', 'syndicated loans', 'peoplesoft people tools', 'sap bw bex', 'reuters 3000', 'sap bw infocube', 'institute of quality assurance', 'cognos planning', 'ibm system 34', 'sap is oil downstream ps', 'tm1', 'baan 4', 'sap co io', 'navision', 'ucits', 'enterasys systems engineer', 'edi', 'investment analysis', 'rpg', 'microsoft publisher', 'qmf', 'ariba', 'opendeploy', 'sap is auto', 'oracle c++', 'approval', 'netscape navigator', 'oracle certified solution developer', 'altran', 'sed', 'red hat certified technician', 'alfresco', 'pro/engineer', 'orbit', 'bmc software', 'investment administration', 'sna', 'pension fund accounts', 'accounts payable', 'mule esb', 'institute of highway incorporated engineers', 'adobe air', 'liffe connect', 'oracle recovery manager', 'global one', 'corporate risk', 'ppp', 'sap v4', 'virtuoso software', 'capital gains', 'association of planning supervisors', 'chartered manager', 'bachelors degree > bachelor of chemical engineering', 'city & guilds qualification', 'spectre software', 'eti extract', 'oracle time and labour', 'certified management consultant', 'microsoft internet security and acceleration (isa) server', 'ddp', 'cashbook', 'unix free bsd', 'white-box testing', 'acma qualification', 'corel draw suite', 'siebel eim', 'citrix certified enterprise administrator', 'customer data integration', 'sap is pricing', 'fund accounting', 'code 2.0', '3com', 'novell netware > novell netware 5.x', 'mercury interactive loadtest', 'microsoft windows nt > microsoft windows nt workstation', 'argus', 'microsoft .net remoting', 'nvq', 'lotus 1-2-3', 'symbian', 'chartered marketer', 'public companies', 'aion', 'dal', 'siebel sales', 'sfa qualification', 'faculty of actuaries', 'chartered insurance institute', 'oracle manufacturing', 'microsoft crm', 'hacmp', 'cl', 'cim certificate in selling', 'lan/wan', 'sap v2.2', 'fixed income products', 'vax', 'tibco rendezvous', 'oracle parallel server', 'cad 3d', 'sap ec pca', 'java foundation classes (jfc)', 'avro/hawker siddeley 748 aircraft', 'integra', 'field engineer', 'macromedia freehand', 'hris', 'sap srm', 'affinium', 'sage accounting software > sage line 100', 'sdm/link', 'rpg4', 'mimeche', 'denodo', 'easel', 'microsoft great plains dynamics', 'rup', 'ca qualification', 'com+', 'oracle fa', 'bos', 'afp', 'loops', 'microsoft visual c/c++', 'credit notes', 'crest financial software', 'masters degree > master of philosophy', 'summit financial software', 'stac', 'sap r/2', 'connect:direct', 'wise for windows', 'sap is health', 'oracle sql *plus', 'visual basic 5', 'cazena', 'peregrine network', 'microsoft developer studio', 'x25', 'sap business connector', 'sap hr ess', 'sap fi fa', 'pgdca', 'a+', 'nmc', 'ipc', 'rational requisitepro', 'macromedia fireworks', 'axiom', 'data access object', 'emacs', 'rate fixings', 'standard template library', 'pal', 'servicemix', 'tso > tso ispf', 'aca qualification', 'intellegent miner', 'sap is oil upstream', 'bachelors degree > bachelor of architecture', 'cognos powerplay', 'bourne shell', 'mcafee epolicy orchestrator', 'aep', 'futures margining'}\n"
          ]
        }
      ],
      "execution_count": 177,
      "metadata": {
        "jupyter": {
          "source_hidden": false,
          "outputs_hidden": false
        },
        "nteract": {
          "transient": {
            "deleting": false
          }
        }
      }
    },
    {
      "cell_type": "code",
      "source": [
        "#Get the recommendations\r\n",
        "recommender_system(current_job, target_job)"
      ],
      "outputs": [
        {
          "output_type": "display_data",
          "data": {
            "application/vnd.livy.statement-meta+json": {
              "spark_pool": "Nurture",
              "session_id": "1296",
              "statement_id": 90,
              "state": "finished",
              "livy_statement_state": "available",
              "queued_time": "2023-09-27T21:30:10.9596814Z",
              "session_start_time": null,
              "execution_start_time": "2023-09-27T21:33:01.9616088Z",
              "execution_finish_time": "2023-09-27T21:33:02.1320163Z",
              "spark_jobs": null,
              "parent_msg_id": "4a8d1ea9-4ffd-4548-9a4c-c0d5b7b9fa84"
            },
            "text/plain": "StatementMeta(Nurture, 1296, 90, Finished, Available)"
          },
          "metadata": {}
        },
        {
          "output_type": "execute_result",
          "execution_count": 181,
          "data": {
            "text/plain": "{'sonic esb',\n 'sap apo technical skills',\n 'neolane',\n 'oracle standard benefits',\n 'shona',\n 'microsoft certified product specialist',\n 'sap sd md',\n 'institute of leadership & management',\n 'noc',\n 'catv',\n 'oracle sqlnet',\n 'sun hardware > sun fire servers',\n 'ecosystems',\n 'leveraging resources',\n 'cat 5 ethernet',\n 'token ring',\n 'sap wm',\n 'sap sd sales',\n 'sage business management software > sage 50 suite',\n 'icm qualification',\n 'appc',\n 'reuters kondor+',\n 'jdedwards suite',\n 'retek',\n 'veritas',\n 'security clearance > security clearance ctc',\n 'system implementation',\n 'cae',\n 'sage accounting software > sage line 500',\n 'pegasus opera',\n 'cosmos',\n 'progress 4gl',\n 'investment administration qualification',\n 'external reporting',\n 'petty cash',\n 'o/a levels/grades',\n 'royal astronomical society',\n 'uniface',\n 'hyperion enterprise',\n 'pdms',\n 'altova > altova xmlspy',\n 'computer associates unicenter ca-7',\n 'electrical engineer',\n 'lec',\n 'sybase replication server',\n 'bachelors degree > bachelor of informatics',\n 'microsoft mail',\n 'focal',\n 'welsh',\n 'sap abap rfc',\n 'singl.eview',\n 'hp openview configuration management',\n 'ica',\n 'money markets',\n 'oracle 7 application server',\n 'xforms',\n 'sap pp mrp',\n 'remote access services',\n 'tds',\n 'rexx',\n 'vendor liaison',\n 'informatica analytics package > informatica powermart',\n 'member of the institute of sales promotion',\n 'civil aviation authority',\n 'dbdesigner 4',\n 'doc',\n 'sap is pharma',\n 'cognos reportnet',\n 'solcorp ingenium',\n 'nomad1',\n 'tas',\n 'myfaces',\n 'lean manufacturing',\n 'transaction processing monitor',\n 'channels',\n 'c1 licence',\n 'bank reconciliations',\n 'ws-security',\n 'coral 66',\n 'insurance application architecture',\n 'sap hr tax',\n 'booch methodology',\n 'oracle 9i application server',\n 'vax/vms',\n 'protel',\n 'british psychological society',\n 'certified cash manager',\n 'case methodology',\n 'ss7',\n 'mercury interactive testdirector',\n 'novell netware > novell netware 4.x',\n 'sap fi am',\n 'geologist',\n 'ibm system 36',\n 'btec national certificate',\n 'certified product instructor',\n 'sap for chemicals',\n 'maestro batch controller',\n 'infor erp > infor erp system21',\n 'omgeo oasys global',\n 'martini financial software',\n 'ibm sp2',\n 'regulatory accounting',\n 'sap abap oo',\n 'microsoft sql*menu',\n 'gemini',\n 'eagle pace financial software',\n 'siebel escript',\n 'sap is cs',\n 'accent',\n 'sap basis',\n 'oracle scm',\n 'business to customer',\n 'pastel evolution',\n 'oracle 10g application server',\n 'peoplesoft campus solutions',\n 'unique',\n 'livesite',\n 'trial balance',\n 'firstclass',\n 'retail marketing',\n 'microsoft windows nt application server',\n 'mercury interactive sitemanager',\n 'ada',\n 'vse',\n 'vsam (virtual storage access method)',\n 'brand marketing',\n 'sap v3.1',\n 'bachelors degree > bachelor of social science',\n 'java awt',\n 'lpi certification > linux professional institute certified level 1',\n 'peoplesoft crm',\n 'transaction processing system',\n 'microsoft operations manager',\n 'association of certified fraud examiners',\n 'royal college of organists choral directing diploma (dipchd)',\n 'red hat certified engineer',\n 'sap abap lsmw',\n 'charles river trading system',\n 'cirrus',\n 'certified information security manager',\n 'cons',\n 'information security level restricted',\n 'siebel incentive compensation',\n 'associate member of the royal town planning institute',\n 'skilled persons',\n 'acquisition finance',\n 'oracle aq',\n 'sap is ps',\n 'account reconciliations',\n 'bs7799 standard',\n 'ims-dc',\n 'tandem',\n 'other design',\n 'certified information systems auditor',\n 'mvs',\n 'agora',\n 'mpls (multiprotocol label switching)',\n 'fujitsu hardware',\n 'currency management',\n 'sybase enterprise application server',\n 'vsat (very small aperture terminal)',\n 'network file system',\n 'unix system vii',\n 'percussion cms',\n 'siebel finance',\n 'microstrategy certified engineer',\n 'dsl',\n 'dec alpha hardware',\n 'dtp',\n 'cashiering',\n 'caml',\n 'quickbooks',\n 'oracle hrms',\n 'mfg/pro',\n 'final cut pro',\n 'registered financial associate (rfa)',\n 'legal aid',\n 'bluetooth technology',\n 'fidessa latentzero',\n 'omnigraffle',\n 'sun accounts',\n 'ole db',\n 'member of the association for project management',\n 'hyperion intelligence',\n 'certified management accountant',\n 'sun unify',\n 'sap im',\n 'ingress rdbms',\n 'microsoft certified it professional (mcitp)',\n 'primavera p3',\n 'apl',\n 'installshield',\n 'global topic',\n 'securities dealing',\n 'sap ps pln',\n 'apt systems',\n 'health benefits',\n 'days sales outstanding',\n 'siebel eenergy',\n 'private companies',\n 'structured finance',\n 'query/36',\n 'siebel efinance',\n 'doctoral degree > juris doctor',\n 'operations specialist',\n 'ibm certified developer',\n 'ipsec',\n 'sdh',\n 'systems accounting',\n 'coda',\n 'powerbuilder',\n 'malay',\n 'sap mm invoicing',\n 'geneva billing',\n 'consolidations',\n 'informatica analytics package',\n 'microsoft certified database administrator',\n 'btrieve',\n 'macromedia flash',\n 'sql query analyzer',\n 'clips',\n 'apache axis',\n 'six sigma certified',\n 'oracle certified professional 9i',\n 'sap abap',\n 'oracle express',\n 'six sigma certified > green belt',\n 'adabas natural',\n 'flex',\n 'worksite',\n 'cat 6 ethernet',\n 'pdq',\n 'mux',\n 'peoplesoft accounts receivable',\n 'sap best practices',\n 'orchestrate',\n 'ds2',\n 'compensation and benefits',\n 'city & guilds',\n 'structuring product',\n 'sunos',\n 'clarity',\n 'institution of analysts and programmers',\n 'codagl',\n 'sap mm pur',\n 'masm',\n 'greenlight',\n 'sap fi tr',\n 'sap fi tr cm',\n 'credit derivatives',\n 'java stored procedures',\n '68000 assembler',\n 'sap sd',\n 'asset swaps',\n 'netcool',\n 'broadvision',\n 'cobol 2 microfocus',\n 'businessobjects data integrator',\n 'facets',\n 'sql service broker',\n 'businessobjects business intelligence',\n 'managing successful programmes practitioner',\n 'lotus cc:mail',\n 'idol',\n 'oracle sales analyzer',\n 'wallstreet financial software',\n 'sap qm',\n 'sap is insurance',\n 'chief financial officer',\n 'adobe dimensions',\n 'part qualified accountant',\n 'avaya switches',\n 'wins',\n 'system 1032',\n 'university degree',\n 'birst',\n 'xsl-fo',\n 'ca arcserve',\n 'optical fibre',\n 'financial control',\n 'seebeyond e*gate',\n 'groupwise',\n 'btec first diploma',\n 'hyperion reports',\n 'microsoft project server',\n 'magicdraw',\n 'murex financial software',\n 'global portfolio',\n 'web 3.0',\n 'diphe',\n 'tqm',\n 'bachman methodology',\n 'active template library',\n 'ims db',\n 'autodesk inventor',\n 'sap is u',\n 'telnet',\n 'activity based costing',\n 'tso',\n 'rubix master',\n 'sap hr mss',\n 'gp fundholding',\n 'siebel configuration & implementation',\n 'microsoft sms',\n 'corporate actions',\n 'initial public offerings',\n 'fellow of the british computer society (fbcs)',\n 'sage business management software > sage 200 suite',\n 'ibatis',\n 'am',\n 'clean',\n 'onc',\n 'chordiant marketing director',\n 'ibm os/400',\n 'garageband',\n 'sunguard devon system',\n 'technical author',\n 'fixed income settlements',\n 'ca-idms x',\n 'cash management',\n 'artifical intelligence',\n 'openlink financial software',\n 'cash reconciliations',\n 'blaze advisor',\n 'ccc',\n 'cadence software',\n 'subsea systems',\n '.net web services',\n 'interbase',\n 'glosshv',\n 'sap bw sem bps',\n 'winsock api',\n 'financial planning certificate > financial planning certificate level 1',\n 'log4j',\n 'macromedia suite',\n 'sap business bydesign',\n 'jdedwards enterpriseone',\n 'earned value management',\n 'sol',\n 'compaq accredited systems engineer',\n 'is 2000',\n 'sap abap repository',\n 'modula-2',\n 'sitecore cms',\n 'sap ps os',\n 'ibm system 360 hardware',\n 'xilinx',\n 'mumps',\n 'shipyard',\n 'rap',\n 'primavera p6',\n 'service provisioning',\n 'management buyin',\n 'consul',\n 'flemish',\n 'unit trust accounts',\n 'sap abap smartform',\n 'ibm hardware > ibm system x',\n 'managed services',\n 'm-code',\n 'o2',\n 'asset-backed financing',\n 'calypso financial software',\n 'bachelors degree > bachelor of laws',\n 'derivative operations',\n 'public switched telephone network',\n 'msql',\n 'british computer society',\n 'automation engineer',\n 'icmp',\n 'voip (voice over ip)',\n 'ip telephony',\n 'altova > altova stylevision',\n 'nvq level 2',\n 'straight through processing',\n 'toad data modeler',\n 'royal college of nursing',\n 'certificate of professional aptitude',\n 'system 1022',\n 'primavera contract manager',\n 'thinkfolio',\n 'pl/1',\n 'print',\n 'microstrategy desktop',\n 'provisioning',\n 'spreadsheet analyst',\n 'fellow of the chartered institute of marketing',\n 'certified professional security specialist',\n 'ibm os/390',\n 'sap project manager',\n 'comptia a+ certified professional',\n 'ibm spufi',\n 'certified auditor',\n 'ade',\n 'sap configuration',\n 'isda',\n 'sun certified web component developer (scwcd)',\n 'dft',\n 'pimbok',\n 'maximo',\n 'apollo software',\n 'asic',\n 'client services',\n 'advantage 2e',\n 'edition',\n 'institution of occupational safety and health',\n 'sage accounting software > sage line 50',\n 'apple iwork',\n 'sap abap ale',\n 'microsoft dynamics nav',\n 'slam',\n 'sap le',\n 'sap ep',\n 'jme',\n 'pat',\n 'order taking',\n 'sap is ec&o',\n 'leveraged buyout',\n 'tftp',\n 'borland turbo c++',\n 'stp',\n 'microsoft windows nt',\n 'opendoc',\n 'oracle application development framework',\n 'chartered public finance accountant',\n 'masters degree > master of surgery',\n 'kronos',\n 'sap abap idoc',\n 'sap wf',\n 'clist',\n 'arp',\n 'econ',\n 'ibm certified solutions developer - ibm visualage for java',\n 'activex',\n 'xpath',\n 'sap erp hcm',\n 'svq',\n 'dividend payments',\n 'commissions',\n 'documentum',\n 'maximo asset management',\n 'sap abap sapscript',\n 'vietnamese',\n 'english sign language',\n 'royal society of arts',\n 'financial controller',\n 'comptia network+ certified professional',\n 'member of cipd',\n 'checkpoint firewall',\n 'microstrategy office',\n 'celta',\n 'maithili',\n 'cal',\n 'websphere mq',\n 'silverstream',\n 'ds3',\n 'andyne gql',\n 'aca qualification > aca ireland',\n 'multifonds',\n 'bachelors degree > bachelor of computer applications',\n 'six sigma certified > black belt',\n 'chartered information technology professional',\n 'sage business management software > sage 1000 suite',\n 'management buyout',\n 'arb',\n 'fact',\n 'bpel',\n 'firebug',\n 'capital gains tax',\n 'pro-iv',\n 'sap 4.7 enterprise',\n 'nms',\n 'rational robot',\n 'sap grc',\n 'oracle 8i application server',\n 'fcb',\n 'balance sheet reconciliations',\n 'tax analysis',\n 'foreign exchange options',\n 'origination',\n 'citrix certified sales professional',\n 'oracle groupware',\n 'computer associates ca-openroad',\n 'olap reports/analysis',\n 'modaf',\n 'bos/lan',\n 'oracle certified professional (ocp) - application developer',\n 'microsoft certified professional + site building',\n 'business process management',\n 'sap pp pi',\n 'open ended investment companies',\n 'los',\n 'sap co pa',\n 'selcopy',\n 'sap ecc',\n 'sap hr recruitment',\n 'fql',\n 'us gaap',\n 'stcw',\n 'institute of field archaeologists',\n 'trade queries',\n 'cisco certified network associate voice',\n 'qa engineer',\n 'business procedures',\n 'complex derivatives',\n 'isaca',\n 'sap lo pr',\n 'novell netware > novell netware 3.x',\n 'ibm websphere application server',\n 'crew',\n 'orcad',\n 'oracle case',\n 'mnp',\n 'it procurement',\n 'novell netware',\n 'java management extensions',\n 'assyst',\n 'chartered institute of building',\n 'fellow of the library association (fla)',\n 'sophos puremessage',\n 'activity diagrams',\n 'council tax',\n 'ca-endevor',\n 'sap hr sp',\n 'nortel',\n 'oracle customer hub',\n 'gnvq',\n 'rfc',\n 'cti',\n 'oracle real application clusters',\n 'bachelors degree > bachelor of chemistry',\n 'treasury management',\n 'siebel tools',\n 'sap abap dictionary',\n 'x++',\n 'san',\n 'service technician',\n 'sun certified programmer for the java 2 platform',\n 'post-graduate degree',\n 'printer hardware',\n 'sap hr travel expenses',\n 'sap hr app',\n 'pan',\n 'ifs applications',\n 'mercator integration broker',\n 'institution of lighting engineers',\n 'ledger reconciliations',\n 'fellow of institite of chartered accountants (fca)',\n 'dbschema',\n 'interdev',\n 'business objects certified professional (bocp)',\n 'mosaic netscape',\n 'computer associates ca-telon',\n 'safety officer',\n 'digital unix',\n 'indirect procurement',\n 'treasury operations',\n 'iden',\n 'royal blue fidessa',\n 'saturn',\n 'intellect',\n 'idm',\n 'grails',\n 'ceridian',\n 'delta',\n 'hitachi hardware',\n 'sap is ehs',\n 'standard settlement instructions',\n 'field service engineer',\n 'fellow of the chartered quality institute (fcqi cqp)',\n 'corel paradox for windows',\n 'ibm crossworlds interchange server',\n 'application layer',\n 'sap scm',\n 'bachelors degree > bachelor of music',\n 'safety advisor',\n 'server+',\n 'optima',\n 'isdn',\n 'netegrity siteminder',\n 'confluent',\n 'korn shell',\n 'sap is oil',\n 'compaq/digital hardware',\n 'sage carpe diem',\n 'cache',\n 'sap abap workbench',\n 'solidatus',\n 'unisure',\n 'hp server hardware',\n 'sap ps',\n 'sap ps wbs',\n 'other engineering',\n 'detica netreveal',\n 'intercom',\n 'system hardening',\n 'oracle cm',\n 'amdocs',\n 'rumbaugh methodology',\n 'trading partner',\n 'm-commerce',\n 'jdedwards financial suite',\n 'equities as derivatives',\n 'idee financial software',\n 'network appliance',\n 'pcb',\n 'info',\n 'dvb',\n 'fibre optic cable',\n 'novell consoleone',\n 'unipay',\n 'aas degree',\n 'oracle cost management',\n 'bal',\n 'kazakh',\n 'tibco enterprise message service',\n 'sap hr ben',\n 'forth',\n 'sqlwindows',\n 'j-sox',\n 'eftpos',\n 'sap office',\n 'investment casting',\n 'pick os',\n 'websphere mqmon',\n 'business process modelling notation',\n 'amazon athena',\n 'enterprise application integration',\n 'masters degree > master of business',\n 'ipswitch ws_ftp pro',\n 'cluster server',\n 'webfocus',\n 'ibm visual age',\n 'together',\n 'sdl',\n 'sqlbase for windows',\n 'oracle ap',\n 'hp star - digital workplace professional',\n 'objective caml',\n 'new business development',\n 'holos',\n 'sap web as',\n 'bookkeeping',\n 'modelright',\n 'sap sd bil > sap sd billing',\n 'just-in-time',\n 'rapid application development rad',\n 'mediabin',\n 'certificate in company direction',\n 'aqua data studio er modeler',\n 'dynamic data exchange',\n 'sap is oil downstream',\n 'centura',\n 'sap v4.6c',\n 'sap pm',\n 'forte',\n 'siebel call center',\n 'adp human resources',\n 'pop',\n 'tornado',\n 'hp server hardware > hp 3000 servers',\n 'intrusion prevention system',\n 'workgroup',\n 'networking engineer',\n 'personal equity plan accounts',\n 'gilts',\n 'sap mysap',\n 'nondestructive testing',\n 'microstrategy architect',\n 'request for proposal',\n 'eft',\n 'sun certified java developer (scjd)',\n 'sap is t',\n 'corba',\n 'sap infrastructure',\n 'withholding tax',\n 'oracle sql developer data modeler',\n 'oracle administration',\n 'hrms',\n 'provision',\n 'sap is procurement',\n 'ca-datacom',\n 'windows script',\n 'visual basic 3',\n 'counterparty risk',\n 'cics/esa',\n 'powerful',\n 'sap apo dp',\n 'dspace',\n 'sap cloud',\n 'p11d form',\n 'eudora',\n 'nant',\n 'sun certified java programmer (scjp)',\n 'ambit',\n 'maintenance engineer',\n 'international accounting standards',\n 'embedded c++',\n 'oracle report writer',\n 'dacs',\n 'investment accounting',\n 'siebel epharma',\n 'seismic',\n 'inspector',\n 'seagate crystal',\n 'oracle purchasing',\n 'royalty payments',\n 'agresso financials',\n 'gl trade',\n 'uddi',\n 'network attached storage',\n 'institute for certification of computing professionals associate computing professional',\n 'swap',\n 'cweb',\n 'javamail api',\n 'indian > malayalam',\n 'hp openview',\n 'clearing bank',\n 'saleslogix',\n 'sas web report studio',\n 'sap pp',\n 'sax',\n 'oracle installation',\n 'supra server',\n 'material requirements planning',\n 'enterprise video platform',\n 'nvq level 3',\n 'security clearance > security clearance crb',\n 'chaps',\n 'synchronous digital hierarchy',\n 'statutory accounts',\n 'bachelors degree > bachelor of surgery',\n 'certified data processor (cdp)',\n 'chartered institute of loss adjusters - fellow',\n 'intercompany reconciliations',\n 'sap is oil & gas',\n 'network access control',\n 'dsdm',\n 'os/370 assembler',\n 'ssadm certificate of proficiency',\n 'computer associates ca-superproject',\n 'ibm rs6000 hardware',\n 'debit notes',\n 'dbase',\n 'specification writing',\n 'mark to market',\n 'microsoft sql*net',\n 'prime brokerage',\n 'doctoral degree > doctor of divinity',\n 'geoscientist',\n 'businessobjects broadcast agent',\n 'database maintenance',\n 'jndi',\n 'information security level protected',\n 'powerflow',\n 'bachelors degree > bachelor of pharmacy',\n 'adapt software',\n 'vision plus',\n 'jython',\n 'security clearance > security clearance secret',\n 'credient financial software',\n 'airbus a350 aircraft',\n 'btec national award',\n 'tasm',\n 'forensic accounting',\n 'distinguished logistics professional',\n 'sap lo logistics',\n 'claims administration',\n 'os/360 assembler',\n 'faster payments',\n 'metacobol',\n 'sap v4.7 enterprise',\n 'websphere studio application developer',\n 'rsa text processing',\n 'city & guilds first diploma',\n 'sap hr pay',\n 'artemis',\n 'pipeline engineer',\n 'internet access',\n 'intuit quicken',\n 'microsoft frontpage',\n 'dynix',\n 'scorm',\n 'open modelsphere',\n 'minute taking',\n 'alps',\n 'turbo pascal',\n 'incorporated association of architects and surveyors',\n 'websphere mq integrator',\n 'icp',\n 'transfer pricing tax',\n 'american sign language',\n 'sun hardware > sun sparc series',\n 'ssp',\n 'vme',\n '51forth',\n 'sybase certified powerbuilder developer',\n 'sap hr comp',\n 'collateral management',\n 'sap plm',\n 'cisco certified security professional',\n 'logix',\n 'elements',\n 'elk',\n 'jad',\n 'interwoven',\n 'serbian',\n 'quark xpress',\n 'cobol ii',\n 'unix system v',\n 'sap bpc',\n 'leaseholds',\n 'sap netweaver pi',\n 'rational suite',\n 'jackson structured design methodology',\n 'brokerage',\n 'mis reporting',\n 'corel wordperfect',\n 'aegis',\n 'bank of england returns',\n 'retail performance manager',\n 'singleview',\n 'report writer',\n 'embedded sql',\n 'associate financial planner',\n 'minerva',\n 'request',\n 'symantec ghost',\n 'plex',\n 'gds',\n 'foundation degree',\n 'office migration',\n 's levels/grades',\n 'minstd',\n 'fsa qualified',\n 'nic',\n 'legato networker',\n 'sap netweaver mobile',\n 'openlink endur',\n 'albanian',\n 'sap abap xml',\n 'personal loans',\n 'supervisory skills',\n 'hmi',\n 'sap sd vc',\n 'alaire jrun',\n 'eroom',\n 'chartered engineer',\n 'ibm system 38',\n 'informix newera',\n 'system 21',\n 'mongolian',\n 'rts',\n 'cib qualification',\n 'associate member of the british computer society (ambcs)',\n 'cisco asa',\n 'oracle ar',\n 'fixed assets',\n 'sap abap bapi',\n 'datascan',\n 'sap abap edi',\n 'microstation',\n 'sas management console',\n 'pro c++',\n 'demantra',\n 'oracle gl',\n 'cnc',\n 'bachelors degree > bachelor of education',\n 'kashmiri',\n 'part qualified cima accountant',\n 'nebosh general certificate',\n 'peoplesoft peoplecode',\n 'lagan enterprise case management',\n 'business process outsourcing',\n 'sap is banking',\n 'dataflex',\n 'big-ip',\n 'service activation',\n 'doctoral degree > doctor of laws',\n 'bar vocational course',\n 'object pascal',\n 'bond derivatives',\n 'bosiet certificate',\n 'sarbanes-oxley',\n '4gl',\n 'oracle treasury',\n 'european computer driving licence',\n 'sap is re',\n 'iso 14001 standard',\n 'syndicated loans',\n 'peoplesoft people tools',\n 'sap bw bex',\n 'reuters 3000',\n 'sap bw infocube',\n 'institute of quality assurance',\n 'cognos planning',\n 'ibm system 34',\n 'sap is oil downstream ps',\n 'tm1',\n 'baan 4',\n 'sap co io',\n 'navision',\n 'ucits',\n 'enterasys systems engineer',\n 'edi',\n 'investment analysis',\n 'rpg',\n 'microsoft publisher',\n 'qmf',\n 'ariba',\n 'opendeploy',\n 'sap is auto',\n 'oracle c++',\n 'approval',\n 'netscape navigator',\n 'oracle certified solution developer',\n 'altran',\n 'sed',\n 'red hat certified technician',\n 'alfresco',\n 'pro/engineer',\n 'orbit',\n 'bmc software',\n 'investment administration',\n 'sna',\n 'pension fund accounts',\n 'accounts payable',\n 'mule esb',\n 'institute of highway incorporated engineers',\n 'adobe air',\n 'liffe connect',\n 'oracle recovery manager',\n 'global one',\n 'corporate risk',\n 'ppp',\n 'sap v4',\n 'virtuoso software',\n 'capital gains',\n 'association of planning supervisors',\n 'chartered manager',\n 'bachelors degree > bachelor of chemical engineering',\n 'city & guilds qualification',\n 'spectre software',\n 'eti extract',\n 'oracle time and labour',\n 'certified management consultant',\n 'microsoft internet security and acceleration (isa) server',\n 'ddp',\n 'cashbook',\n 'unix free bsd',\n 'white-box testing',\n 'acma qualification',\n 'corel draw suite',\n 'siebel eim',\n 'citrix certified enterprise administrator',\n 'customer data integration',\n 'sap is pricing',\n 'fund accounting',\n 'code 2.0',\n '3com',\n 'novell netware > novell netware 5.x',\n 'mercury interactive loadtest',\n 'microsoft windows nt > microsoft windows nt workstation',\n 'argus',\n 'microsoft .net remoting',\n 'nvq',\n 'lotus 1-2-3',\n 'symbian',\n 'chartered marketer',\n 'public companies',\n 'aion',\n 'dal',\n 'siebel sales',\n 'sfa qualification',\n 'faculty of actuaries',\n 'chartered insurance institute',\n 'oracle manufacturing',\n 'microsoft crm',\n 'hacmp',\n 'cl',\n 'cim certificate in selling',\n 'lan/wan',\n 'sap v2.2',\n 'fixed income products',\n 'vax',\n 'tibco rendezvous',\n 'oracle parallel server',\n 'cad 3d',\n 'sap ec pca',\n 'java foundation classes (jfc)',\n 'avro/hawker siddeley 748 aircraft',\n 'integra',\n 'field engineer',\n 'macromedia freehand',\n 'hris',\n 'sap srm',\n 'affinium',\n 'sage accounting software > sage line 100',\n 'sdm/link',\n ...}"
          },
          "metadata": {}
        }
      ],
      "execution_count": 178,
      "metadata": {
        "jupyter": {
          "source_hidden": false,
          "outputs_hidden": false
        },
        "nteract": {
          "transient": {
            "deleting": false
          }
        }
      }
    }
  ],
  "metadata": {
    "kernelspec": {
      "name": "synapse_pyspark",
      "language": "Python",
      "display_name": "Synapse PySpark"
    },
    "language_info": {
      "name": "python"
    },
    "kernel_info": {
      "name": "synapse_pyspark"
    },
    "description": "Building a career path recommender system",
    "save_output": true,
    "synapse_widget": {
      "version": "0.1",
      "state": {}
    }
  },
  "nbformat": 4,
  "nbformat_minor": 2
}