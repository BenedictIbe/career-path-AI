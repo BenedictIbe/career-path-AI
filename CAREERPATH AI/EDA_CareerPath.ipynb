{
  "cells": [
    {
      "cell_type": "markdown",
      "source": [
        "**Title**: EXPLORATORY DATA ANALYSIS\r\n",
        "\r\n",
        "**Description**: Exploring the skills and job history datasets to generate important insights\r\n",
        "\r\n",
        "**Author**: Benedict Ibe\r\n",
        "\r\n",
        "**Date Created**: 14/07/2023"
      ],
      "metadata": {
        "nteract": {
          "transient": {
            "deleting": false
          }
        }
      }
    },
    {
      "cell_type": "code",
      "source": [
        "import nltk"
      ],
      "outputs": [
        {
          "output_type": "display_data",
          "data": {
            "application/vnd.livy.statement-meta+json": {
              "spark_pool": "Nurture",
              "session_id": "1299",
              "statement_id": 2,
              "state": "finished",
              "livy_statement_state": "available",
              "queued_time": "2023-09-27T22:25:22.9319528Z",
              "session_start_time": "2023-09-27T22:25:23.0012098Z",
              "execution_start_time": "2023-09-27T22:26:11.9957556Z",
              "execution_finish_time": "2023-09-27T22:26:13.7573204Z",
              "spark_jobs": null,
              "parent_msg_id": "f3064c42-862c-4a38-ab36-ae15e52ee929"
            },
            "text/plain": "StatementMeta(Nurture, 1299, 2, Finished, Available)"
          },
          "metadata": {}
        }
      ],
      "execution_count": 78,
      "metadata": {}
    },
    {
      "cell_type": "code",
      "source": [
        "pip install seaborn"
      ],
      "outputs": [
        {
          "output_type": "display_data",
          "data": {
            "application/vnd.livy.statement-meta+json": {
              "spark_pool": "Nurture",
              "session_id": "1299",
              "statement_id": 3,
              "state": "finished",
              "livy_statement_state": "available",
              "queued_time": "2023-09-27T22:25:23.4996953Z",
              "session_start_time": null,
              "execution_start_time": "2023-09-27T22:26:13.927408Z",
              "execution_finish_time": "2023-09-27T22:26:19.3588105Z",
              "spark_jobs": null,
              "parent_msg_id": "3babb9c4-9239-45d1-bfd6-af554d9612a3"
            },
            "text/plain": "StatementMeta(Nurture, 1299, 3, Finished, Available)"
          },
          "metadata": {}
        },
        {
          "output_type": "stream",
          "name": "stdout",
          "text": [
            "Requirement already satisfied: seaborn in /home/trusted-service-user/cluster-env/env/lib/python3.8/site-packages (0.11.1)\nRequirement already satisfied: pandas>=0.23 in /home/trusted-service-user/cluster-env/env/lib/python3.8/site-packages (from seaborn) (1.2.3)\nRequirement already satisfied: matplotlib>=2.2 in /home/trusted-service-user/cluster-env/env/lib/python3.8/site-packages (from seaborn) (3.4.2)\nRequirement already satisfied: scipy>=1.0 in /home/trusted-service-user/cluster-env/env/lib/python3.8/site-packages (from seaborn) (1.5.3)\nRequirement already satisfied: numpy>=1.15 in /home/trusted-service-user/cluster-env/env/lib/python3.8/site-packages (from seaborn) (1.19.4)\nRequirement already satisfied: pillow>=6.2.0 in /home/trusted-service-user/cluster-env/env/lib/python3.8/site-packages (from matplotlib>=2.2->seaborn) (8.2.0)\nRequirement already satisfied: cycler>=0.10 in /home/trusted-service-user/cluster-env/env/lib/python3.8/site-packages (from matplotlib>=2.2->seaborn) (0.10.0)\nRequirement already satisfied: kiwisolver>=1.0.1 in /home/trusted-service-user/cluster-env/env/lib/python3.8/site-packages (from matplotlib>=2.2->seaborn) (1.3.1)\nRequirement already satisfied: python-dateutil>=2.7 in /home/trusted-service-user/cluster-env/env/lib/python3.8/site-packages (from matplotlib>=2.2->seaborn) (2.8.1)\nRequirement already satisfied: pyparsing>=2.2.1 in /home/trusted-service-user/cluster-env/env/lib/python3.8/site-packages (from matplotlib>=2.2->seaborn) (2.4.7)\nRequirement already satisfied: six in /home/trusted-service-user/cluster-env/env/lib/python3.8/site-packages (from cycler>=0.10->matplotlib>=2.2->seaborn) (1.16.0)\nRequirement already satisfied: pytz>=2017.3 in /home/trusted-service-user/cluster-env/env/lib/python3.8/site-packages (from pandas>=0.23->seaborn) (2021.1)\nNote: you may need to restart the kernel to use updated packages.\n"
          ]
        }
      ],
      "execution_count": 79,
      "metadata": {
        "jupyter": {
          "source_hidden": false,
          "outputs_hidden": false
        },
        "nteract": {
          "transient": {
            "deleting": false
          }
        }
      }
    },
    {
      "cell_type": "code",
      "source": [
        "%%pyspark\n",
        "\n",
        "spark.sql(\"set spark.sql.legacy.timeParserPolicy=LEGACY\")\n",
        "candidate_skilllevel= spark.sql(\"SELECT \\\n",
        "Id                                          as Cand_ID, \\\n",
        "recruit_candidatecontact                    as Candidate_contactno, \\\n",
        "crimson_proficiency                         as Cand_proficiency, \\\n",
        "crimson_requirement                         as Cand_requirement, \\\n",
        "crimson_experience                          as Cand_experience, \\\n",
        "crimson_experienceperiod                    as Cand_exp_period, \\\n",
        "crimson_skill                               as Cand_skill, \\\n",
        "crimson_name                                as Cand_name, \\\n",
        "crimson_skilllevelid                        as Cand_skilllevel_ID, \\\n",
        "lower(crimson_skillname)                    as Cand_skill_name, \\\n",
        "crimson_level                               as Cand_level \\\n",
        "FROM dataverse_edensmithcon_org87f26120.crimson_skilllevel\")"
      ],
      "outputs": [
        {
          "output_type": "display_data",
          "data": {
            "application/vnd.livy.statement-meta+json": {
              "spark_pool": "Nurture",
              "session_id": "1299",
              "statement_id": 4,
              "state": "finished",
              "livy_statement_state": "available",
              "queued_time": "2023-09-27T22:25:23.9140721Z",
              "session_start_time": null,
              "execution_start_time": "2023-09-27T22:26:19.5343945Z",
              "execution_finish_time": "2023-09-27T22:26:34.4050588Z",
              "spark_jobs": null,
              "parent_msg_id": "3fc7040d-a217-43a1-9206-82debfa7b7a9"
            },
            "text/plain": "StatementMeta(Nurture, 1299, 4, Finished, Available)"
          },
          "metadata": {}
        }
      ],
      "execution_count": 80,
      "metadata": {
        "jupyter": {
          "source_hidden": false,
          "outputs_hidden": false
        },
        "nteract": {
          "transient": {
            "deleting": false
          }
        },
        "microsoft": {
          "language": "python"
        }
      }
    },
    {
      "cell_type": "code",
      "source": [
        "%%pyspark\n",
        "\n",
        "spark.sql(\"set spark.sql.legacy.timeParserPolicy=LEGACY\")\n",
        "candidate_workhist =spark.sql(\"SELECT \\\n",
        "Id                                  as ID , \\\n",
        "recruit_candidatecontact            as Candidate_contact,\\\n",
        "crimson_startdate                   as Candidate_workstrt_date,\\\n",
        "crimson_enddate                     as Candidate_workend_date, \\\n",
        "crimson_workhistoryid               as WorkHistory_ID,\\\n",
        "lower(crimson_description)          as Candidate_work_description,\\\n",
        "crimson_jobtitle                    as Candidate_job_title ,\\\n",
        "crimson_name                        as Cand_workplace \\\n",
        "FROM dataverse_edensmithcon_org87f26120.crimson_workhistory\")"
      ],
      "outputs": [
        {
          "output_type": "display_data",
          "data": {
            "application/vnd.livy.statement-meta+json": {
              "spark_pool": "Nurture",
              "session_id": "1299",
              "statement_id": 5,
              "state": "finished",
              "livy_statement_state": "available",
              "queued_time": "2023-09-27T22:25:24.2493402Z",
              "session_start_time": null,
              "execution_start_time": "2023-09-27T22:26:34.5767547Z",
              "execution_finish_time": "2023-09-27T22:26:35.6982666Z",
              "spark_jobs": null,
              "parent_msg_id": "b865068b-7911-43dc-90d4-41f86b0a1f2b"
            },
            "text/plain": "StatementMeta(Nurture, 1299, 5, Finished, Available)"
          },
          "metadata": {}
        }
      ],
      "execution_count": 81,
      "metadata": {
        "jupyter": {
          "source_hidden": false,
          "outputs_hidden": false
        },
        "nteract": {
          "transient": {
            "deleting": false
          }
        },
        "microsoft": {
          "language": "python"
        }
      }
    },
    {
      "cell_type": "code",
      "source": [
        "candidate_skilllevel.show()"
      ],
      "outputs": [
        {
          "output_type": "display_data",
          "data": {
            "application/vnd.livy.statement-meta+json": {
              "spark_pool": "Nurture",
              "session_id": "1299",
              "statement_id": 6,
              "state": "finished",
              "livy_statement_state": "available",
              "queued_time": "2023-09-27T22:25:24.6928972Z",
              "session_start_time": null,
              "execution_start_time": "2023-09-27T22:26:35.8583457Z",
              "execution_finish_time": "2023-09-27T22:26:38.7523245Z",
              "spark_jobs": null,
              "parent_msg_id": "42c96a36-23f1-411b-9999-3c63081091a0"
            },
            "text/plain": "StatementMeta(Nurture, 1299, 6, Finished, Available)"
          },
          "metadata": {}
        },
        {
          "output_type": "stream",
          "name": "stdout",
          "text": [
            "+--------------------+--------------------+----------------+----------------+---------------+---------------+--------------------+---------+--------------------+--------------------+----------+\n|             Cand_ID| Candidate_contactno|Cand_proficiency|Cand_requirement|Cand_experience|Cand_exp_period|          Cand_skill|Cand_name|  Cand_skilllevel_ID|     Cand_skill_name|Cand_level|\n+--------------------+--------------------+----------------+----------------+---------------+---------------+--------------------+---------+--------------------+--------------------+----------+\n|ab1e9a1d-104e-eb1...|03c6701e-104e-eb1...|       143570003|       143570000|             43|      143570000|089ac1e6-27bd-ea1...|     null|ab1e9a1d-104e-eb1...|                gdpr|        97|\n|ae1e9a1d-104e-eb1...|03c6701e-104e-eb1...|       143570003|       143570000|             43|      143570000|9f9fc31c-8a59-e11...|     null|ae1e9a1d-104e-eb1...|    data warehousing|        99|\n|b51e9a1d-104e-eb1...|03c6701e-104e-eb1...|       143570003|       143570000|             62|      143570000|eda1c31c-8a59-e11...|     null|b51e9a1d-104e-eb1...|    business objects|        95|\n|90b1b823-104e-eb1...|03c6701e-104e-eb1...|       143570002|       143570000|             19|      143570000|71a0c31c-8a59-e11...|     null|90b1b823-104e-eb1...|              oracle|        70|\n|15c6701e-104e-eb1...|03c6701e-104e-eb1...|       143570002|       143570000|             19|      143570000|7fa0c31c-8a59-e11...|     null|15c6701e-104e-eb1...|         oracle 2000|        70|\n|98b1b823-104e-eb1...|03c6701e-104e-eb1...|       143570002|       143570000|             19|      143570000|85a0c31c-8a59-e11...|     null|98b1b823-104e-eb1...|            oracle 7|        70|\n|9db1b823-104e-eb1...|03c6701e-104e-eb1...|       143570002|       143570000|             19|      143570000|91a0c31c-8a59-e11...|     null|9db1b823-104e-eb1...|            oracle 9|        70|\n|9fb1b823-104e-eb1...|03c6701e-104e-eb1...|       143570002|       143570000|             19|      143570000|f3a1c31c-8a59-e11...|     null|9fb1b823-104e-eb1...|businessobjects w...|        65|\n|b79cff24-104e-eb1...|03c6701e-104e-eb1...|       143570002|       143570000|             19|      143570000|83a2c31c-8a59-e11...|     null|b79cff24-104e-eb1...|   oracle financials|        65|\n|b89cff24-104e-eb1...|14c6701e-104e-eb1...|       143570003|       143570000|             16|      143570000|c204cc5b-c3a2-e11...|     null|b89cff24-104e-eb1...|               audit|        92|\n|a6b1b823-104e-eb1...|03c6701e-104e-eb1...|       143570001|       143570000|            306|           null|85b1c31c-8a59-e11...|     null|a6b1b823-104e-eb1...|                pl/1|        55|\n|abb1b823-104e-eb1...|14c6701e-104e-eb1...|       143570003|       143570000|             16|      143570000|a406cc5b-c3a2-e11...|     null|abb1b823-104e-eb1...|            year-end|        92|\n|b99cff24-104e-eb1...|03c6701e-104e-eb1...|       143570001|       143570000|            306|      143570000|33b3c31c-8a59-e11...|     null|b99cff24-104e-eb1...|        visual basic|        54|\n|ba9cff24-104e-eb1...|14c6701e-104e-eb1...|       143570003|       143570000|             14|      143570000|d802cc5b-c3a2-e11...|     null|ba9cff24-104e-eb1...|financial report ...|        85|\n|bb9cff24-104e-eb1...|03c6701e-104e-eb1...|       143570001|       143570000|            306|      143570000|3db3c31c-8a59-e11...|     null|bb9cff24-104e-eb1...|visual basic for ...|        53|\n|bc9cff24-104e-eb1...|14c6701e-104e-eb1...|       143570003|       143570000|             18|      143570000|5806cc5b-c3a2-e11...|     null|bc9cff24-104e-eb1...|  statutory accounts|        84|\n|b8b1b823-104e-eb1...|03c6701e-104e-eb1...|            null|       143570000|              0|           null|fc99c1e6-27bd-ea1...|     null|b8b1b823-104e-eb1...|      data modelling|        13|\n|bd9cff24-104e-eb1...|14c6701e-104e-eb1...|       143570002|       143570000|             11|      143570000|a403cc5b-c3a2-e11...|     null|bd9cff24-104e-eb1...|         market risk|        66|\n|be9cff24-104e-eb1...|03c6701e-104e-eb1...|            null|       143570000|              0|           null|d9a6c31c-8a59-e11...|     null|be9cff24-104e-eb1...|        ibm hardware|        13|\n|bdb1b823-104e-eb1...|14c6701e-104e-eb1...|       143570001|       143570000|              3|      143570000|3205cc5b-c3a2-e11...|     null|bdb1b823-104e-eb1...|  financial planning|        48|\n+--------------------+--------------------+----------------+----------------+---------------+---------------+--------------------+---------+--------------------+--------------------+----------+\nonly showing top 20 rows\n\n"
          ]
        }
      ],
      "execution_count": 82,
      "metadata": {
        "jupyter": {
          "source_hidden": false,
          "outputs_hidden": false
        },
        "nteract": {
          "transient": {
            "deleting": false
          }
        }
      }
    },
    {
      "cell_type": "code",
      "source": [
        "candidate_skilllevel.summary()"
      ],
      "outputs": [
        {
          "output_type": "display_data",
          "data": {
            "application/vnd.livy.statement-meta+json": {
              "spark_pool": "Nurture",
              "session_id": "1299",
              "statement_id": 7,
              "state": "finished",
              "livy_statement_state": "available",
              "queued_time": "2023-09-27T22:25:25.0403027Z",
              "session_start_time": null,
              "execution_start_time": "2023-09-27T22:26:38.9143172Z",
              "execution_finish_time": "2023-09-27T22:26:51.6998876Z",
              "spark_jobs": null,
              "parent_msg_id": "c576c322-b8b4-4fce-b38b-5747dd91f891"
            },
            "text/plain": "StatementMeta(Nurture, 1299, 7, Finished, Available)"
          },
          "metadata": {}
        },
        {
          "output_type": "execute_result",
          "execution_count": 15,
          "data": {
            "text/plain": "DataFrame[summary: string, Cand_ID: string, Candidate_contactno: string, Cand_proficiency: string, Cand_requirement: string, Cand_experience: string, Cand_exp_period: string, Cand_skill: string, Cand_name: string, Cand_skilllevel_ID: string, Cand_skill_name: string, Cand_level: string]"
          },
          "metadata": {}
        }
      ],
      "execution_count": 83,
      "metadata": {
        "jupyter": {
          "source_hidden": false,
          "outputs_hidden": false
        },
        "nteract": {
          "transient": {
            "deleting": false
          }
        }
      }
    },
    {
      "cell_type": "code",
      "source": [
        "candidate_skilllevel.printSchema()"
      ],
      "outputs": [
        {
          "output_type": "display_data",
          "data": {
            "application/vnd.livy.statement-meta+json": {
              "spark_pool": "Nurture",
              "session_id": "1299",
              "statement_id": 8,
              "state": "finished",
              "livy_statement_state": "available",
              "queued_time": "2023-09-27T22:25:25.3729102Z",
              "session_start_time": null,
              "execution_start_time": "2023-09-27T22:26:51.865689Z",
              "execution_finish_time": "2023-09-27T22:26:52.0432351Z",
              "spark_jobs": null,
              "parent_msg_id": "7fffe483-a0d1-457a-8dc1-0c238807a916"
            },
            "text/plain": "StatementMeta(Nurture, 1299, 8, Finished, Available)"
          },
          "metadata": {}
        },
        {
          "output_type": "stream",
          "name": "stdout",
          "text": [
            "root\n |-- Cand_ID: string (nullable = true)\n |-- Candidate_contactno: string (nullable = true)\n |-- Cand_proficiency: long (nullable = true)\n |-- Cand_requirement: long (nullable = true)\n |-- Cand_experience: long (nullable = true)\n |-- Cand_exp_period: long (nullable = true)\n |-- Cand_skill: string (nullable = true)\n |-- Cand_name: string (nullable = true)\n |-- Cand_skilllevel_ID: string (nullable = true)\n |-- Cand_skill_name: string (nullable = true)\n |-- Cand_level: long (nullable = true)\n\n"
          ]
        }
      ],
      "execution_count": 84,
      "metadata": {
        "jupyter": {
          "source_hidden": false,
          "outputs_hidden": false
        },
        "nteract": {
          "transient": {
            "deleting": false
          }
        }
      }
    },
    {
      "cell_type": "code",
      "source": [
        "candidate_skilllevel.describe().show()"
      ],
      "outputs": [
        {
          "output_type": "display_data",
          "data": {
            "application/vnd.livy.statement-meta+json": {
              "spark_pool": "Nurture",
              "session_id": "1299",
              "statement_id": 9,
              "state": "finished",
              "livy_statement_state": "available",
              "queued_time": "2023-09-27T22:25:25.6527275Z",
              "session_start_time": null,
              "execution_start_time": "2023-09-27T22:26:52.228439Z",
              "execution_finish_time": "2023-09-27T22:26:57.6142674Z",
              "spark_jobs": null,
              "parent_msg_id": "ab88a370-fcf9-48e7-bd9b-fe2661ae7575"
            },
            "text/plain": "StatementMeta(Nurture, 1299, 9, Finished, Available)"
          },
          "metadata": {}
        },
        {
          "output_type": "stream",
          "name": "stdout",
          "text": [
            "+-------+--------------------+--------------------+--------------------+----------------+------------------+--------------------+--------------------+---------+--------------------+-----------------+-----------------+\n|summary|             Cand_ID| Candidate_contactno|    Cand_proficiency|Cand_requirement|   Cand_experience|     Cand_exp_period|          Cand_skill|Cand_name|  Cand_skilllevel_ID|  Cand_skill_name|       Cand_level|\n+-------+--------------------+--------------------+--------------------+----------------+------------------+--------------------+--------------------+---------+--------------------+-----------------+-----------------+\n|  count|              187910|              187910|              114335|          187910|            187909|              103028|              187903|        0|              187910|           187903|           187904|\n|   mean|                null|                null|1.4357000168471596E8|        1.4357E8|22.471137625127056|1.4357000000896844E8|                null|     null|                null|             null|48.55665126873297|\n| stddev|                null|                null|  1.2680403167158751|             0.0| 36.18797430935213| 0.09427670083081215|                null|     null|                null|             null|33.70321642477875|\n|    min|0000359f-a22a-ed1...|0002a3f0-ddf1-ea1...|           143570000|       143570000|                 0|           143570000|0002cc5b-c3a2-e11...|     null|0000359f-a22a-ed1...|.net web services|               12|\n|    max|ffffd810-6a61-eb1...|fff7b27a-c030-ec1...|           143570003|       143570000|               739|           143570001|fff95d25-8a59-e11...|     null|ffffd810-6a61-eb1...|             zulu|              100|\n+-------+--------------------+--------------------+--------------------+----------------+------------------+--------------------+--------------------+---------+--------------------+-----------------+-----------------+\n\n"
          ]
        }
      ],
      "execution_count": 85,
      "metadata": {
        "jupyter": {
          "source_hidden": false,
          "outputs_hidden": false
        },
        "nteract": {
          "transient": {
            "deleting": false
          }
        }
      }
    },
    {
      "cell_type": "code",
      "source": [
        "candidate_skilllevel.select('Cand_proficiency', 'Cand_requirement', 'Cand_experience', 'Cand_exp_period', 'Cand_level')"
      ],
      "outputs": [
        {
          "output_type": "display_data",
          "data": {
            "application/vnd.livy.statement-meta+json": {
              "spark_pool": "Nurture",
              "session_id": "1299",
              "statement_id": 10,
              "state": "finished",
              "livy_statement_state": "available",
              "queued_time": "2023-09-27T22:25:25.9635297Z",
              "session_start_time": null,
              "execution_start_time": "2023-09-27T22:26:57.7700847Z",
              "execution_finish_time": "2023-09-27T22:26:57.9651267Z",
              "spark_jobs": null,
              "parent_msg_id": "28f37f6c-e7e1-4beb-8dae-167fdf21f74e"
            },
            "text/plain": "StatementMeta(Nurture, 1299, 10, Finished, Available)"
          },
          "metadata": {}
        },
        {
          "output_type": "execute_result",
          "execution_count": 21,
          "data": {
            "text/plain": "DataFrame[Cand_proficiency: bigint, Cand_requirement: bigint, Cand_experience: bigint, Cand_exp_period: bigint, Cand_level: bigint]"
          },
          "metadata": {}
        }
      ],
      "execution_count": 86,
      "metadata": {
        "jupyter": {
          "source_hidden": false,
          "outputs_hidden": false
        },
        "nteract": {
          "transient": {
            "deleting": false
          }
        }
      }
    },
    {
      "cell_type": "code",
      "source": [
        "candidate_skilllevel.show(10)"
      ],
      "outputs": [
        {
          "output_type": "display_data",
          "data": {
            "application/vnd.livy.statement-meta+json": {
              "spark_pool": "Nurture",
              "session_id": "1299",
              "statement_id": 11,
              "state": "finished",
              "livy_statement_state": "available",
              "queued_time": "2023-09-27T22:25:26.2740097Z",
              "session_start_time": null,
              "execution_start_time": "2023-09-27T22:26:58.1290208Z",
              "execution_finish_time": "2023-09-27T22:26:58.6918204Z",
              "spark_jobs": null,
              "parent_msg_id": "09d70255-92bc-4084-a89b-04e72494e95a"
            },
            "text/plain": "StatementMeta(Nurture, 1299, 11, Finished, Available)"
          },
          "metadata": {}
        },
        {
          "output_type": "stream",
          "name": "stdout",
          "text": [
            "+--------------------+--------------------+----------------+----------------+---------------+---------------+--------------------+---------+--------------------+--------------------+----------+\n|             Cand_ID| Candidate_contactno|Cand_proficiency|Cand_requirement|Cand_experience|Cand_exp_period|          Cand_skill|Cand_name|  Cand_skilllevel_ID|     Cand_skill_name|Cand_level|\n+--------------------+--------------------+----------------+----------------+---------------+---------------+--------------------+---------+--------------------+--------------------+----------+\n|ab1e9a1d-104e-eb1...|03c6701e-104e-eb1...|       143570003|       143570000|             43|      143570000|089ac1e6-27bd-ea1...|     null|ab1e9a1d-104e-eb1...|                gdpr|        97|\n|ae1e9a1d-104e-eb1...|03c6701e-104e-eb1...|       143570003|       143570000|             43|      143570000|9f9fc31c-8a59-e11...|     null|ae1e9a1d-104e-eb1...|    data warehousing|        99|\n|b51e9a1d-104e-eb1...|03c6701e-104e-eb1...|       143570003|       143570000|             62|      143570000|eda1c31c-8a59-e11...|     null|b51e9a1d-104e-eb1...|    business objects|        95|\n|90b1b823-104e-eb1...|03c6701e-104e-eb1...|       143570002|       143570000|             19|      143570000|71a0c31c-8a59-e11...|     null|90b1b823-104e-eb1...|              oracle|        70|\n|15c6701e-104e-eb1...|03c6701e-104e-eb1...|       143570002|       143570000|             19|      143570000|7fa0c31c-8a59-e11...|     null|15c6701e-104e-eb1...|         oracle 2000|        70|\n|98b1b823-104e-eb1...|03c6701e-104e-eb1...|       143570002|       143570000|             19|      143570000|85a0c31c-8a59-e11...|     null|98b1b823-104e-eb1...|            oracle 7|        70|\n|9db1b823-104e-eb1...|03c6701e-104e-eb1...|       143570002|       143570000|             19|      143570000|91a0c31c-8a59-e11...|     null|9db1b823-104e-eb1...|            oracle 9|        70|\n|9fb1b823-104e-eb1...|03c6701e-104e-eb1...|       143570002|       143570000|             19|      143570000|f3a1c31c-8a59-e11...|     null|9fb1b823-104e-eb1...|businessobjects w...|        65|\n|b79cff24-104e-eb1...|03c6701e-104e-eb1...|       143570002|       143570000|             19|      143570000|83a2c31c-8a59-e11...|     null|b79cff24-104e-eb1...|   oracle financials|        65|\n|b89cff24-104e-eb1...|14c6701e-104e-eb1...|       143570003|       143570000|             16|      143570000|c204cc5b-c3a2-e11...|     null|b89cff24-104e-eb1...|               audit|        92|\n+--------------------+--------------------+----------------+----------------+---------------+---------------+--------------------+---------+--------------------+--------------------+----------+\nonly showing top 10 rows\n\n"
          ]
        }
      ],
      "execution_count": 87,
      "metadata": {
        "jupyter": {
          "source_hidden": false,
          "outputs_hidden": false
        },
        "nteract": {
          "transient": {
            "deleting": false
          }
        }
      }
    },
    {
      "cell_type": "code",
      "source": [
        "df2 = candidate_skilllevel.select('Cand_ID', 'Cand_proficiency', 'Cand_experience', 'Cand_skill_name', 'Cand_level')\n",
        "df2.show()"
      ],
      "outputs": [
        {
          "output_type": "display_data",
          "data": {
            "application/vnd.livy.statement-meta+json": {
              "spark_pool": "Nurture",
              "session_id": "1299",
              "statement_id": 12,
              "state": "finished",
              "livy_statement_state": "available",
              "queued_time": "2023-09-27T22:25:26.5003012Z",
              "session_start_time": null,
              "execution_start_time": "2023-09-27T22:26:58.8764328Z",
              "execution_finish_time": "2023-09-27T22:26:59.4283978Z",
              "spark_jobs": null,
              "parent_msg_id": "bd286e8d-9f61-41fd-8706-e3f862328e39"
            },
            "text/plain": "StatementMeta(Nurture, 1299, 12, Finished, Available)"
          },
          "metadata": {}
        },
        {
          "output_type": "stream",
          "name": "stdout",
          "text": [
            "+--------------------+----------------+---------------+--------------------+----------+\n|             Cand_ID|Cand_proficiency|Cand_experience|     Cand_skill_name|Cand_level|\n+--------------------+----------------+---------------+--------------------+----------+\n|ab1e9a1d-104e-eb1...|       143570003|             43|                gdpr|        97|\n|ae1e9a1d-104e-eb1...|       143570003|             43|    data warehousing|        99|\n|b51e9a1d-104e-eb1...|       143570003|             62|    business objects|        95|\n|90b1b823-104e-eb1...|       143570002|             19|              oracle|        70|\n|15c6701e-104e-eb1...|       143570002|             19|         oracle 2000|        70|\n|98b1b823-104e-eb1...|       143570002|             19|            oracle 7|        70|\n|9db1b823-104e-eb1...|       143570002|             19|            oracle 9|        70|\n|9fb1b823-104e-eb1...|       143570002|             19|businessobjects w...|        65|\n|b79cff24-104e-eb1...|       143570002|             19|   oracle financials|        65|\n|b89cff24-104e-eb1...|       143570003|             16|               audit|        92|\n|a6b1b823-104e-eb1...|       143570001|            306|                pl/1|        55|\n|abb1b823-104e-eb1...|       143570003|             16|            year-end|        92|\n|b99cff24-104e-eb1...|       143570001|            306|        visual basic|        54|\n|ba9cff24-104e-eb1...|       143570003|             14|financial report ...|        85|\n|bb9cff24-104e-eb1...|       143570001|            306|visual basic for ...|        53|\n|bc9cff24-104e-eb1...|       143570003|             18|  statutory accounts|        84|\n|b8b1b823-104e-eb1...|            null|              0|      data modelling|        13|\n|bd9cff24-104e-eb1...|       143570002|             11|         market risk|        66|\n|be9cff24-104e-eb1...|            null|              0|        ibm hardware|        13|\n|bdb1b823-104e-eb1...|       143570001|              3|  financial planning|        48|\n+--------------------+----------------+---------------+--------------------+----------+\nonly showing top 20 rows\n\n"
          ]
        }
      ],
      "execution_count": 88,
      "metadata": {
        "jupyter": {
          "source_hidden": false,
          "outputs_hidden": false
        },
        "nteract": {
          "transient": {
            "deleting": false
          }
        }
      }
    },
    {
      "cell_type": "markdown",
      "source": [
        "It means that the skills listed in the dataframe for each candidate is unique from the count frequency results. That is to say each candidate with a candidate id has a seperate skill"
      ],
      "metadata": {
        "nteract": {
          "transient": {
            "deleting": false
          }
        }
      }
    },
    {
      "cell_type": "code",
      "source": [
        "grouped_df = df2.groupBy(\"Cand_ID\", \"Cand_proficiency\", \"Cand_experience\", \"Cand_skill_name\", \"Cand_level\").count().sort('count', ascending=False)\n",
        "grouped_df.show()"
      ],
      "outputs": [
        {
          "output_type": "display_data",
          "data": {
            "application/vnd.livy.statement-meta+json": {
              "spark_pool": "Nurture",
              "session_id": "1299",
              "statement_id": 13,
              "state": "finished",
              "livy_statement_state": "available",
              "queued_time": "2023-09-27T22:25:26.7261873Z",
              "session_start_time": null,
              "execution_start_time": "2023-09-27T22:26:59.5836382Z",
              "execution_finish_time": "2023-09-27T22:27:03.6268519Z",
              "spark_jobs": null,
              "parent_msg_id": "0c2dad65-b350-4de0-9745-48acd7ba3b8b"
            },
            "text/plain": "StatementMeta(Nurture, 1299, 13, Finished, Available)"
          },
          "metadata": {}
        },
        {
          "output_type": "stream",
          "name": "stdout",
          "text": [
            "+--------------------+----------------+---------------+--------------------+----------+-----+\n|             Cand_ID|Cand_proficiency|Cand_experience|     Cand_skill_name|Cand_level|count|\n+--------------------+----------------+---------------+--------------------+----------+-----+\n|332e8005-b34e-eb1...|       143570000|            168|      connect:direct|        24|    1|\n|fa30df07-b34e-eb1...|       143570000|            161|mercator integrat...|        24|    1|\n|03b81636-7d4f-eb1...|       143570003|             29|                 etl|        95|    1|\n|4246e3f7-af51-eb1...|       143570003|             20|             jupyter|        93|    1|\n|7fba7251-b151-eb1...|       143570003|             32|              docker|       100|    1|\n|25e30ec1-b251-eb1...|       143570003|             68|                  ad|        93|    1|\n|d4f585cd-b251-eb1...|       143570003|             16|    data warehousing|        94|    1|\n|87a77dd9-b251-eb1...|       143570000|             38|              django|        24|    1|\n|2ff1efd8-b251-eb1...|       143570003|             11|            power bi|        83|    1|\n|6ff1efd8-b251-eb1...|       143570003|            100|               scala|        96|    1|\n|213ce8de-b251-eb1...|       143570000|             36|           sap mysap|        25|    1|\n|be4f78df-b251-eb1...|       143570002|             12|   stored procedures|        63|    1|\n|a25078df-b251-eb1...|       143570001|             36|                 sql|        49|    1|\n|25d6855c-a860-eb1...|       143570000|             71|database administ...|        24|    1|\n|369bc524-a960-eb1...|       143570003|            180|microsoft sql server|        92|    1|\n|2d932bc3-a960-eb1...|       143570003|            105|   variance analysis|        94|    1|\n|516cf2c8-a960-eb1...|       143570003|             12|            oracle 7|        84|    1|\n|5cb957cf-a960-eb1...|       143570003|             27|database administ...|        86|    1|\n|a86a3ce1-a960-eb1...|       143570000|             20|           brokerage|        25|    1|\n|dbb931ed-a960-eb1...|       143570000|              7|              sybase|        21|    1|\n+--------------------+----------------+---------------+--------------------+----------+-----+\nonly showing top 20 rows\n\n"
          ]
        }
      ],
      "execution_count": 89,
      "metadata": {
        "jupyter": {
          "source_hidden": false,
          "outputs_hidden": false
        },
        "nteract": {
          "transient": {
            "deleting": false
          }
        }
      }
    },
    {
      "cell_type": "code",
      "source": [
        "from pyspark.sql.functions import col\n",
        "from pyspark.sql import SparkSession"
      ],
      "outputs": [
        {
          "output_type": "display_data",
          "data": {
            "application/vnd.livy.statement-meta+json": {
              "spark_pool": "Nurture",
              "session_id": "1299",
              "statement_id": 14,
              "state": "finished",
              "livy_statement_state": "available",
              "queued_time": "2023-09-27T22:25:26.956225Z",
              "session_start_time": null,
              "execution_start_time": "2023-09-27T22:27:03.8155445Z",
              "execution_finish_time": "2023-09-27T22:27:03.9877594Z",
              "spark_jobs": null,
              "parent_msg_id": "4ed27d0e-ca87-48b7-be5f-b3e64522bf91"
            },
            "text/plain": "StatementMeta(Nurture, 1299, 14, Finished, Available)"
          },
          "metadata": {}
        }
      ],
      "execution_count": 90,
      "metadata": {
        "jupyter": {
          "source_hidden": false,
          "outputs_hidden": false
        },
        "nteract": {
          "transient": {
            "deleting": false
          }
        }
      }
    },
    {
      "cell_type": "code",
      "source": [
        "#Define the search Parameter\r\n",
        "skillName = 'data'"
      ],
      "outputs": [
        {
          "output_type": "display_data",
          "data": {
            "application/vnd.livy.statement-meta+json": {
              "spark_pool": "Nurture",
              "session_id": "1299",
              "statement_id": 15,
              "state": "finished",
              "livy_statement_state": "available",
              "queued_time": "2023-09-27T22:25:27.2463729Z",
              "session_start_time": null,
              "execution_start_time": "2023-09-27T22:27:04.1692785Z",
              "execution_finish_time": "2023-09-27T22:27:04.3310773Z",
              "spark_jobs": null,
              "parent_msg_id": "bc1b29ec-8d56-4fd1-a1dc-e5863255ca4b"
            },
            "text/plain": "StatementMeta(Nurture, 1299, 15, Finished, Available)"
          },
          "metadata": {}
        }
      ],
      "execution_count": 91,
      "metadata": {
        "jupyter": {
          "source_hidden": false,
          "outputs_hidden": false
        },
        "nteract": {
          "transient": {
            "deleting": false
          }
        },
        "tags": []
      }
    },
    {
      "cell_type": "code",
      "source": [
        "#Search for the wild character defined\n",
        "grouped_df2 = (grouped_df\n",
        "               .filter(grouped_df.Cand_skill_name.rlike(skillName))\n",
        "               .select(\"Cand_skill_name\")\n",
        "               .distinct()\n",
        "               .sort(\"Cand_skill_name\"))\n",
        "grouped_df2.show(30,truncate=False)"
      ],
      "outputs": [
        {
          "output_type": "display_data",
          "data": {
            "application/vnd.livy.statement-meta+json": {
              "spark_pool": "Nurture",
              "session_id": "1299",
              "statement_id": 16,
              "state": "finished",
              "livy_statement_state": "available",
              "queued_time": "2023-09-27T22:25:27.5701316Z",
              "session_start_time": null,
              "execution_start_time": "2023-09-27T22:27:04.5060563Z",
              "execution_finish_time": "2023-09-27T22:27:07.414644Z",
              "spark_jobs": null,
              "parent_msg_id": "98bd5387-b048-4909-9c06-be032e11a67a"
            },
            "text/plain": "StatementMeta(Nurture, 1299, 16, Finished, Available)"
          },
          "metadata": {}
        },
        {
          "output_type": "stream",
          "name": "stdout",
          "text": [
            "+-------------------------------+\n|Cand_skill_name                |\n+-------------------------------+\n|aqua data studio er modeler    |\n|ascential datastage            |\n|azure data factory             |\n|big data                       |\n|businessobjects data integrator|\n|ca-datacom                     |\n|certified data processor (cdp) |\n|customer data integration      |\n|data access object             |\n|data analysis                  |\n|data architecture              |\n|data centre                    |\n|data engineering               |\n|data entry                     |\n|data lake                      |\n|data management                |\n|data migration                 |\n|data mining                    |\n|data modelling                 |\n|data privacy                   |\n|data protection                |\n|data quality                   |\n|data reconciliation            |\n|data science                   |\n|data strategy                  |\n|data transformation services   |\n|data warehousing               |\n|data/basic                     |\n|database administration        |\n|database administrator         |\n+-------------------------------+\nonly showing top 30 rows\n\n"
          ]
        }
      ],
      "execution_count": 92,
      "metadata": {
        "jupyter": {
          "source_hidden": false,
          "outputs_hidden": false
        },
        "nteract": {
          "transient": {
            "deleting": false
          }
        }
      }
    },
    {
      "cell_type": "code",
      "source": [
        "pandas_df = grouped_df2.toPandas()"
      ],
      "outputs": [
        {
          "output_type": "display_data",
          "data": {
            "application/vnd.livy.statement-meta+json": {
              "spark_pool": "Nurture",
              "session_id": "1299",
              "statement_id": 17,
              "state": "finished",
              "livy_statement_state": "available",
              "queued_time": "2023-09-27T22:25:27.8399367Z",
              "session_start_time": null,
              "execution_start_time": "2023-09-27T22:27:07.5765912Z",
              "execution_finish_time": "2023-09-27T22:27:10.4624319Z",
              "spark_jobs": null,
              "parent_msg_id": "d56ccac4-c84d-4f00-a341-2a6a54f208fd"
            },
            "text/plain": "StatementMeta(Nurture, 1299, 17, Finished, Available)"
          },
          "metadata": {}
        }
      ],
      "execution_count": 93,
      "metadata": {
        "jupyter": {
          "source_hidden": false,
          "outputs_hidden": false
        },
        "nteract": {
          "transient": {
            "deleting": false
          }
        }
      }
    },
    {
      "cell_type": "markdown",
      "source": [
        "text = ' '.join(pandas_df['Cand_skill_name'].tolist())"
      ],
      "metadata": {
        "nteract": {
          "transient": {
            "deleting": false
          }
        }
      }
    },
    {
      "cell_type": "code",
      "source": [
        "#Group by the candidate skill name\n",
        "grouped_skill = df2.groupBy(\"Cand_skill_name\").count().sort('count', ascending=False)\n",
        "grouped_skill.show(50)"
      ],
      "outputs": [
        {
          "output_type": "display_data",
          "data": {
            "application/vnd.livy.statement-meta+json": {
              "spark_pool": "Nurture",
              "session_id": "1299",
              "statement_id": 18,
              "state": "finished",
              "livy_statement_state": "available",
              "queued_time": "2023-09-27T22:25:28.1134557Z",
              "session_start_time": null,
              "execution_start_time": "2023-09-27T22:27:10.6245263Z",
              "execution_finish_time": "2023-09-27T22:27:12.5510402Z",
              "spark_jobs": null,
              "parent_msg_id": "d2616538-9902-41db-bc00-564bd1b70e11"
            },
            "text/plain": "StatementMeta(Nurture, 1299, 18, Finished, Available)"
          },
          "metadata": {}
        },
        {
          "output_type": "stream",
          "name": "stdout",
          "text": [
            "+--------------------+-----+\n|     Cand_skill_name|count|\n+--------------------+-----+\n|                 sql| 3148|\n|  python programming| 2437|\n|     microsoft excel| 2004|\n|            power bi| 1934|\n|                 etl| 1893|\n|microsoft sql server| 1850|\n|             tableau| 1848|\n|    data warehousing| 1778|\n|   agile methodology| 1682|\n|              master| 1640|\n|      data modelling| 1631|\n|              oracle| 1631|\n|               azure| 1597|\n|windows azure pla...| 1591|\n|            engineer| 1550|\n|business intellig...| 1463|\n|  project management| 1454|\n|    machine learning| 1412|\n|                 aws| 1403|\n|            big data| 1369|\n|     data management| 1291|\n|                 sas| 1255|\n|        data quality| 1250|\n|            oracle 7| 1110|\n|            oracle 9| 1108|\n|         oracle 2000| 1100|\n|sql server integr...| 1097|\n|                ssis| 1096|\n|bachelors degree ...| 1086|\n|   microsoft windows| 1085|\n|      data migration| 1070|\n|requirements gath...| 1019|\n|                java| 1017|\n|    microsoft office| 1012|\n|     team management| 1002|\n|            oracle 8|  992|\n|            oracle 6|  985|\n|          oracle 11i|  985|\n|             english|  983|\n|sql server report...|  954|\n|                ssrs|  953|\n|              hadoop|  950|\n|    microsoft access|  939|\n|               mysql|  932|\n|microsoft transac...|  910|\n|        data science|  897|\n|          algorithms|  894|\n|   scrum methodology|  887|\n|                 git|  860|\n|microsoft sql ser...|  857|\n+--------------------+-----+\nonly showing top 50 rows\n\n"
          ]
        }
      ],
      "execution_count": 94,
      "metadata": {
        "jupyter": {
          "source_hidden": false,
          "outputs_hidden": false
        },
        "nteract": {
          "transient": {
            "deleting": false
          }
        }
      }
    },
    {
      "cell_type": "code",
      "source": [
        "grouped_skill_pd = grouped_skill.toPandas()"
      ],
      "outputs": [
        {
          "output_type": "display_data",
          "data": {
            "application/vnd.livy.statement-meta+json": {
              "spark_pool": "Nurture",
              "session_id": "1299",
              "statement_id": 19,
              "state": "finished",
              "livy_statement_state": "available",
              "queued_time": "2023-09-27T22:25:28.3650491Z",
              "session_start_time": null,
              "execution_start_time": "2023-09-27T22:27:12.7126623Z",
              "execution_finish_time": "2023-09-27T22:27:14.5985401Z",
              "spark_jobs": null,
              "parent_msg_id": "2c0ed942-bc87-4c90-91fc-b4f5f65e9196"
            },
            "text/plain": "StatementMeta(Nurture, 1299, 19, Finished, Available)"
          },
          "metadata": {}
        }
      ],
      "execution_count": 95,
      "metadata": {
        "jupyter": {
          "source_hidden": false,
          "outputs_hidden": false
        },
        "nteract": {
          "transient": {
            "deleting": false
          }
        }
      }
    },
    {
      "cell_type": "code",
      "source": [
        "#Group by the candidate job title\r\n",
        "grouped_jobHistory = candidate_workhist.groupBy(\"Candidate_job_title\").count().sort('count', ascending=False)\r\n",
        "grouped_jobHistory.show(50)"
      ],
      "outputs": [
        {
          "output_type": "display_data",
          "data": {
            "application/vnd.livy.statement-meta+json": {
              "spark_pool": "Nurture",
              "session_id": "1299",
              "statement_id": 20,
              "state": "finished",
              "livy_statement_state": "available",
              "queued_time": "2023-09-27T22:25:28.6557287Z",
              "session_start_time": null,
              "execution_start_time": "2023-09-27T22:27:14.7805979Z",
              "execution_finish_time": "2023-09-27T22:27:16.66337Z",
              "spark_jobs": null,
              "parent_msg_id": "d65e7653-9d0f-4c7a-baea-147ba0439bb1"
            },
            "text/plain": "StatementMeta(Nurture, 1299, 20, Finished, Available)"
          },
          "metadata": {}
        },
        {
          "output_type": "stream",
          "name": "stdout",
          "text": [
            "+--------------------+-----+\n| Candidate_job_title|count|\n+--------------------+-----+\n|        Data Analyst|  577|\n|    Business Analyst|  498|\n|      Data Scientist|  395|\n|       Data Engineer|  353|\n|        BI Developer|  251|\n|          Consultant|  216|\n|      Data Architect|  213|\n|   Software Engineer|  184|\n|     Project Manager|  158|\n|Senior Business A...|  155|\n|           Developer|  149|\n|Senior Data Engineer|  146|\n|  Solution Architect|  136|\n|       BI Consultant|  133|\n|             Analyst|  126|\n|  Software Developer|  125|\n|Business Intellig...|  118|\n|            Director|  112|\n|Senior Data Scien...|  104|\n|Senior Software E...|  103|\n|             Manager|   99|\n|   Senior Consultant|   97|\n|       SQL Developer|   88|\n|    Senior Developer|   85|\n|      Technical Lead|   78|\n|Business Intellig...|   78|\n| Senior Data Analyst|   77|\n| Solutions Architect|   72|\n|Business Data Ana...|   71|\n|  Analyst Programmer|   71|\n|  Database Developer|   70|\n| Technical Architect|   69|\n|   Programme Manager|   64|\n|Business Intellig...|   62|\n| Information Analyst|   61|\n|      Senior Analyst|   61|\n|Database Administ...|   60|\n| Senior BI Developer|   60|\n|       ETL Developer|   60|\n|   Big Data Engineer|   59|\n|  Research Assistant|   58|\n|Technical Consultant|   57|\n| Lead Data Scientist|   57|\n|  Power BI Developer|   55|\n|Lead Business Ana...|   55|\n| Azure Data Engineer|   54|\n|           Architect|   52|\n|Enterprise Data A...|   48|\n|          Contractor|   45|\n|  Lead Data Engineer|   44|\n+--------------------+-----+\nonly showing top 50 rows\n\n"
          ]
        }
      ],
      "execution_count": 96,
      "metadata": {
        "jupyter": {
          "source_hidden": false,
          "outputs_hidden": false
        },
        "nteract": {
          "transient": {
            "deleting": false
          }
        }
      }
    },
    {
      "cell_type": "code",
      "source": [
        "grouped_jobHistory_pd = grouped_jobHistory.toPandas()"
      ],
      "outputs": [
        {
          "output_type": "display_data",
          "data": {
            "application/vnd.livy.statement-meta+json": {
              "spark_pool": "Nurture",
              "session_id": "1299",
              "statement_id": 21,
              "state": "finished",
              "livy_statement_state": "available",
              "queued_time": "2023-09-27T22:25:28.9513625Z",
              "session_start_time": null,
              "execution_start_time": "2023-09-27T22:27:16.8174294Z",
              "execution_finish_time": "2023-09-27T22:27:18.7118752Z",
              "spark_jobs": null,
              "parent_msg_id": "23fe206f-48c6-4b96-b00e-63a2dc236fbc"
            },
            "text/plain": "StatementMeta(Nurture, 1299, 21, Finished, Available)"
          },
          "metadata": {}
        }
      ],
      "execution_count": 97,
      "metadata": {
        "jupyter": {
          "source_hidden": false,
          "outputs_hidden": false
        },
        "nteract": {
          "transient": {
            "deleting": false
          }
        }
      }
    },
    {
      "cell_type": "code",
      "source": [
        "#Plot the grouped skill names in a horizontal bar plot\r\n",
        "import seaborn as sns\r\n",
        "import matplotlib.pyplot as plt\r\n",
        "sns.set_style('whitegrid')\r\n",
        "sns.barplot(x='count', y='Cand_skill_name', data=grouped_skill_pd.head(10))\r\n",
        "plt.xlabel('Frequency')\r\n",
        "plt.ylabel('Skills')\r\n",
        "sns.despine(left=True, bottom=True)"
      ],
      "outputs": [
        {
          "output_type": "display_data",
          "data": {
            "application/vnd.livy.statement-meta+json": {
              "spark_pool": "Nurture",
              "session_id": "1299",
              "statement_id": 22,
              "state": "finished",
              "livy_statement_state": "available",
              "queued_time": "2023-09-27T22:25:29.2654075Z",
              "session_start_time": null,
              "execution_start_time": "2023-09-27T22:27:18.8782815Z",
              "execution_finish_time": "2023-09-27T22:27:19.9770061Z",
              "spark_jobs": null,
              "parent_msg_id": "1f06a646-6625-4b30-b333-9a78ce3c6384"
            },
            "text/plain": "StatementMeta(Nurture, 1299, 22, Finished, Available)"
          },
          "metadata": {}
        },
        {
          "output_type": "display_data",
          "data": {
            "text/plain": "<Figure size 432x288 with 1 Axes>",
            "image/png": "[encoded data removed]"
          },
          "metadata": {}
        }
      ],
      "execution_count": 98,
      "metadata": {
        "jupyter": {
          "source_hidden": false,
          "outputs_hidden": false
        },
        "nteract": {
          "transient": {
            "deleting": false
          }
        }
      }
    },
    {
      "cell_type": "code",
      "source": [
        "#Plot the grouped jo title in a horizontal bar plot\r\n",
        "import seaborn as sns\r\n",
        "import matplotlib.pyplot as plt\r\n",
        "sns.set_style('whitegrid')\r\n",
        "sns.barplot(x='count', y='Candidate_job_title', data=grouped_jobHistory_pd.head(10))\r\n",
        "plt.xlabel('Frequency')\r\n",
        "plt.ylabel('Job Titles')\r\n",
        "sns.despine(left=True, bottom=True)"
      ],
      "outputs": [
        {
          "output_type": "display_data",
          "data": {
            "application/vnd.livy.statement-meta+json": {
              "spark_pool": "Nurture",
              "session_id": "1299",
              "statement_id": 23,
              "state": "finished",
              "livy_statement_state": "available",
              "queued_time": "2023-09-27T22:25:29.5915874Z",
              "session_start_time": null,
              "execution_start_time": "2023-09-27T22:27:20.1639155Z",
              "execution_finish_time": "2023-09-27T22:27:20.729778Z",
              "spark_jobs": null,
              "parent_msg_id": "c224409a-016b-48d5-a4a6-71a417e7bb30"
            },
            "text/plain": "StatementMeta(Nurture, 1299, 23, Finished, Available)"
          },
          "metadata": {}
        },
        {
          "output_type": "display_data",
          "data": {
            "text/plain": "<Figure size 432x288 with 1 Axes>",
            "image/png": "[encoded data removed]"
          },
          "metadata": {}
        }
      ],
      "execution_count": 99,
      "metadata": {
        "jupyter": {
          "source_hidden": false,
          "outputs_hidden": false
        },
        "nteract": {
          "transient": {
            "deleting": false
          }
        }
      }
    },
    {
      "cell_type": "code",
      "source": [
        "import pandas as pd\r\n",
        "from pandas.plotting import scatter_matrix\r\n",
        "import matplotlib.pyplot as plt"
      ],
      "outputs": [
        {
          "output_type": "display_data",
          "data": {
            "application/vnd.livy.statement-meta+json": {
              "spark_pool": "Nurture",
              "session_id": "1299",
              "statement_id": 24,
              "state": "finished",
              "livy_statement_state": "available",
              "queued_time": "2023-09-27T22:25:29.9036587Z",
              "session_start_time": null,
              "execution_start_time": "2023-09-27T22:27:20.9155589Z",
              "execution_finish_time": "2023-09-27T22:27:21.0948624Z",
              "spark_jobs": null,
              "parent_msg_id": "36245ef9-fb96-43d9-b44b-0e811abc4493"
            },
            "text/plain": "StatementMeta(Nurture, 1299, 24, Finished, Available)"
          },
          "metadata": {}
        }
      ],
      "execution_count": 100,
      "metadata": {
        "jupyter": {
          "source_hidden": false,
          "outputs_hidden": false
        },
        "nteract": {
          "transient": {
            "deleting": false
          }
        }
      }
    },
    {
      "cell_type": "code",
      "source": [
        "skill_features = candidate_skilllevel.select('Cand_proficiency', 'Cand_requirement', 'Cand_experience', 'Cand_exp_period', 'Cand_level')\r\n",
        "skill_features.show()"
      ],
      "outputs": [
        {
          "output_type": "display_data",
          "data": {
            "application/vnd.livy.statement-meta+json": {
              "spark_pool": "Nurture",
              "session_id": "1299",
              "statement_id": 25,
              "state": "finished",
              "livy_statement_state": "available",
              "queued_time": "2023-09-27T22:25:30.2461802Z",
              "session_start_time": null,
              "execution_start_time": "2023-09-27T22:27:21.2542644Z",
              "execution_finish_time": "2023-09-27T22:27:21.804463Z",
              "spark_jobs": null,
              "parent_msg_id": "5b714f62-7180-4994-a9df-b4fe17d5f83e"
            },
            "text/plain": "StatementMeta(Nurture, 1299, 25, Finished, Available)"
          },
          "metadata": {}
        },
        {
          "output_type": "stream",
          "name": "stdout",
          "text": [
            "+----------------+----------------+---------------+---------------+----------+\n|Cand_proficiency|Cand_requirement|Cand_experience|Cand_exp_period|Cand_level|\n+----------------+----------------+---------------+---------------+----------+\n|       143570003|       143570000|             43|      143570000|        97|\n|       143570003|       143570000|             43|      143570000|        99|\n|       143570003|       143570000|             62|      143570000|        95|\n|       143570002|       143570000|             19|      143570000|        70|\n|       143570002|       143570000|             19|      143570000|        70|\n|       143570002|       143570000|             19|      143570000|        70|\n|       143570002|       143570000|             19|      143570000|        70|\n|       143570002|       143570000|             19|      143570000|        65|\n|       143570002|       143570000|             19|      143570000|        65|\n|       143570003|       143570000|             16|      143570000|        92|\n|       143570001|       143570000|            306|           null|        55|\n|       143570003|       143570000|             16|      143570000|        92|\n|       143570001|       143570000|            306|      143570000|        54|\n|       143570003|       143570000|             14|      143570000|        85|\n|       143570001|       143570000|            306|      143570000|        53|\n|       143570003|       143570000|             18|      143570000|        84|\n|            null|       143570000|              0|           null|        13|\n|       143570002|       143570000|             11|      143570000|        66|\n|            null|       143570000|              0|           null|        13|\n|       143570001|       143570000|              3|      143570000|        48|\n+----------------+----------------+---------------+---------------+----------+\nonly showing top 20 rows\n\n"
          ]
        }
      ],
      "execution_count": 101,
      "metadata": {
        "jupyter": {
          "source_hidden": false,
          "outputs_hidden": false
        },
        "nteract": {
          "transient": {
            "deleting": false
          }
        }
      }
    },
    {
      "cell_type": "code",
      "source": [
        "skill_featuresPD = skill_features.toPandas()\r\n",
        "skill_featuresPD"
      ],
      "outputs": [
        {
          "output_type": "display_data",
          "data": {
            "application/vnd.livy.statement-meta+json": {
              "spark_pool": "Nurture",
              "session_id": "1299",
              "statement_id": 26,
              "state": "finished",
              "livy_statement_state": "available",
              "queued_time": "2023-09-27T22:25:30.5597185Z",
              "session_start_time": null,
              "execution_start_time": "2023-09-27T22:27:21.9636358Z",
              "execution_finish_time": "2023-09-27T22:27:23.0864313Z",
              "spark_jobs": null,
              "parent_msg_id": "bb3675ea-d13f-4e48-b40b-59996e971540"
            },
            "text/plain": "StatementMeta(Nurture, 1299, 26, Finished, Available)"
          },
          "metadata": {}
        },
        {
          "output_type": "execute_result",
          "execution_count": 53,
          "data": {
            "text/plain": "        Cand_proficiency  Cand_requirement  Cand_experience  Cand_exp_period  \\\n0            143570003.0         143570000             43.0      143570000.0   \n1            143570003.0         143570000             43.0      143570000.0   \n2            143570003.0         143570000             62.0      143570000.0   \n3            143570002.0         143570000             19.0      143570000.0   \n4            143570002.0         143570000             19.0      143570000.0   \n...                  ...               ...              ...              ...   \n187905               NaN         143570000              0.0              NaN   \n187906               NaN         143570000              0.0              NaN   \n187907       143570002.0         143570000             30.0      143570000.0   \n187908       143570000.0         143570000              2.0      143570000.0   \n187909               NaN         143570000              0.0              NaN   \n\n        Cand_level  \n0             97.0  \n1             99.0  \n2             95.0  \n3             70.0  \n4             70.0  \n...            ...  \n187905        14.0  \n187906        14.0  \n187907        75.0  \n187908        23.0  \n187909        91.0  \n\n[187910 rows x 5 columns]",
            "text/html": "<div>\n<style scoped>\n    .dataframe tbody tr th:only-of-type {\n        vertical-align: middle;\n    }\n\n    .dataframe tbody tr th {\n        vertical-align: top;\n    }\n\n    .dataframe thead th {\n        text-align: right;\n    }\n</style>\n<table border=\"1\" class=\"dataframe\">\n  <thead>\n    <tr style=\"text-align: right;\">\n      <th></th>\n      <th>Cand_proficiency</th>\n      <th>Cand_requirement</th>\n      <th>Cand_experience</th>\n      <th>Cand_exp_period</th>\n      <th>Cand_level</th>\n    </tr>\n  </thead>\n  <tbody>\n    <tr>\n      <th>0</th>\n      <td>143570003.0</td>\n      <td>143570000</td>\n      <td>43.0</td>\n      <td>143570000.0</td>\n      <td>97.0</td>\n    </tr>\n    <tr>\n      <th>1</th>\n      <td>143570003.0</td>\n      <td>143570000</td>\n      <td>43.0</td>\n      <td>143570000.0</td>\n      <td>99.0</td>\n    </tr>\n    <tr>\n      <th>2</th>\n      <td>143570003.0</td>\n      <td>143570000</td>\n      <td>62.0</td>\n      <td>143570000.0</td>\n      <td>95.0</td>\n    </tr>\n    <tr>\n      <th>3</th>\n      <td>143570002.0</td>\n      <td>143570000</td>\n      <td>19.0</td>\n      <td>143570000.0</td>\n      <td>70.0</td>\n    </tr>\n    <tr>\n      <th>4</th>\n      <td>143570002.0</td>\n      <td>143570000</td>\n      <td>19.0</td>\n      <td>143570000.0</td>\n      <td>70.0</td>\n    </tr>\n    <tr>\n      <th>...</th>\n      <td>...</td>\n      <td>...</td>\n      <td>...</td>\n      <td>...</td>\n      <td>...</td>\n    </tr>\n    <tr>\n      <th>187905</th>\n      <td>NaN</td>\n      <td>143570000</td>\n      <td>0.0</td>\n      <td>NaN</td>\n      <td>14.0</td>\n    </tr>\n    <tr>\n      <th>187906</th>\n      <td>NaN</td>\n      <td>143570000</td>\n      <td>0.0</td>\n      <td>NaN</td>\n      <td>14.0</td>\n    </tr>\n    <tr>\n      <th>187907</th>\n      <td>143570002.0</td>\n      <td>143570000</td>\n      <td>30.0</td>\n      <td>143570000.0</td>\n      <td>75.0</td>\n    </tr>\n    <tr>\n      <th>187908</th>\n      <td>143570000.0</td>\n      <td>143570000</td>\n      <td>2.0</td>\n      <td>143570000.0</td>\n      <td>23.0</td>\n    </tr>\n    <tr>\n      <th>187909</th>\n      <td>NaN</td>\n      <td>143570000</td>\n      <td>0.0</td>\n      <td>NaN</td>\n      <td>91.0</td>\n    </tr>\n  </tbody>\n</table>\n<p>187910 rows × 5 columns</p>\n</div>"
          },
          "metadata": {}
        }
      ],
      "execution_count": 102,
      "metadata": {
        "jupyter": {
          "source_hidden": false,
          "outputs_hidden": false
        },
        "nteract": {
          "transient": {
            "deleting": false
          }
        }
      }
    },
    {
      "cell_type": "code",
      "source": [
        "#Remove null values from the dataframe\r\n",
        "skill_featuresPD2 = skill_featuresPD.dropna()"
      ],
      "outputs": [
        {
          "output_type": "display_data",
          "data": {
            "application/vnd.livy.statement-meta+json": {
              "spark_pool": "Nurture",
              "session_id": "1299",
              "statement_id": 27,
              "state": "finished",
              "livy_statement_state": "available",
              "queued_time": "2023-09-27T22:25:30.9867297Z",
              "session_start_time": null,
              "execution_start_time": "2023-09-27T22:27:23.2445482Z",
              "execution_finish_time": "2023-09-27T22:27:23.4129617Z",
              "spark_jobs": null,
              "parent_msg_id": "672d4758-4f1d-4ca5-a233-df86066187bd"
            },
            "text/plain": "StatementMeta(Nurture, 1299, 27, Finished, Available)"
          },
          "metadata": {}
        }
      ],
      "execution_count": 103,
      "metadata": {
        "jupyter": {
          "source_hidden": false,
          "outputs_hidden": false
        },
        "nteract": {
          "transient": {
            "deleting": false
          }
        }
      }
    },
    {
      "cell_type": "code",
      "source": [
        "#Plot a pair plot with seaborn to show relationship between variables\r\n",
        "sns.pairplot(data=skill_featuresPD,vars=['Cand_proficiency', 'Cand_requirement', 'Cand_experience', 'Cand_exp_period', 'Cand_level'],diag_kind='hist')\r\n",
        "plt.show()"
      ],
      "outputs": [
        {
          "output_type": "display_data",
          "data": {
            "application/vnd.livy.statement-meta+json": {
              "spark_pool": "Nurture",
              "session_id": "1299",
              "statement_id": 28,
              "state": "finished",
              "livy_statement_state": "available",
              "queued_time": "2023-09-27T22:25:31.6027168Z",
              "session_start_time": null,
              "execution_start_time": "2023-09-27T22:27:23.5993226Z",
              "execution_finish_time": "2023-09-27T22:27:34.3035981Z",
              "spark_jobs": null,
              "parent_msg_id": "69e999fc-46fa-4d6d-ab63-0c01a7e0fb88"
            },
            "text/plain": "StatementMeta(Nurture, 1299, 28, Finished, Available)"
          },
          "metadata": {}
        },
        {
          "output_type": "display_data",
          "data": {
            "text/plain": "<Figure size 900x900 with 30 Axes>",
            "image/png": "[encoded data removed]"
          },
          "metadata": {}
        }
      ],
      "execution_count": 104,
      "metadata": {
        "jupyter": {
          "source_hidden": false,
          "outputs_hidden": false
        },
        "nteract": {
          "transient": {
            "deleting": false
          }
        }
      }
    },
    {
      "cell_type": "code",
      "source": [
        "#Plot a pair plot with matplotlib to show relationship between variables\r\n",
        "scatter_matrix(skill_featuresPD, figsize=(10, 10), diagonal='hist', alpha=1)\r\n",
        "plt.suptitle('Pairwise Scatter Plots')\r\n",
        "plt.show()"
      ],
      "outputs": [
        {
          "output_type": "display_data",
          "data": {
            "application/vnd.livy.statement-meta+json": {
              "spark_pool": "Nurture",
              "session_id": "1299",
              "statement_id": 29,
              "state": "finished",
              "livy_statement_state": "available",
              "queued_time": "2023-09-27T22:25:32.4218023Z",
              "session_start_time": null,
              "execution_start_time": "2023-09-27T22:27:34.4711984Z",
              "execution_finish_time": "2023-09-27T22:27:45.2661948Z",
              "spark_jobs": null,
              "parent_msg_id": "beac0b2f-c6f0-4250-b2ad-9a16905de1f1"
            },
            "text/plain": "StatementMeta(Nurture, 1299, 29, Finished, Available)"
          },
          "metadata": {}
        },
        {
          "output_type": "stream",
          "name": "stderr",
          "text": [
            "/home/trusted-service-user/cluster-env/env/lib/python3.8/site-packages/pandas/plotting/_matplotlib/tools.py:400: MatplotlibDeprecationWarning: \nThe is_first_col function was deprecated in Matplotlib 3.4 and will be removed two minor releases later. Use ax.get_subplotspec().is_first_col() instead.\n  if ax.is_first_col():\n/home/trusted-service-user/cluster-env/env/lib/python3.8/site-packages/pandas/plotting/_matplotlib/misc.py:89: UserWarning: Attempting to set identical left == right == 143570000.0 results in singular transformations; automatically expanding.\n  ax.set_xlim(boundaries_list[j])\n/home/trusted-service-user/cluster-env/env/lib/python3.8/site-packages/pandas/plotting/_matplotlib/misc.py:90: UserWarning: Attempting to set identical bottom == top == 143570000.0 results in singular transformations; automatically expanding.\n  ax.set_ylim(boundaries_list[i])\n/home/trusted-service-user/cluster-env/env/lib/python3.8/site-packages/pandas/plotting/_matplotlib/misc.py:80: UserWarning: Attempting to set identical left == right == 143570000.0 results in singular transformations; automatically expanding.\n  ax.set_xlim(boundaries_list[i])\n"
          ]
        },
        {
          "output_type": "display_data",
          "data": {
            "text/plain": "<Figure size 720x720 with 25 Axes>",
            "image/png": "[encoded data removed]"
          },
          "metadata": {}
        }
      ],
      "execution_count": 105,
      "metadata": {
        "jupyter": {
          "source_hidden": false,
          "outputs_hidden": false
        },
        "nteract": {
          "transient": {
            "deleting": false
          }
        }
      }
    },
    {
      "cell_type": "code",
      "source": [
        "#Plot a boxplot to investigate the presence of outliers\r\n",
        "plt.boxplot(skill_featuresPD2)\r\n",
        "plt.title('Box plot')\r\n",
        "plt.xlabel('Sample Number')\r\n",
        "plt.ylabel('Value')\r\n",
        "plt.show()"
      ],
      "outputs": [
        {
          "output_type": "display_data",
          "data": {
            "application/vnd.livy.statement-meta+json": {
              "spark_pool": "Nurture",
              "session_id": "1299",
              "statement_id": 30,
              "state": "finished",
              "livy_statement_state": "available",
              "queued_time": "2023-09-27T22:25:32.9502757Z",
              "session_start_time": null,
              "execution_start_time": "2023-09-27T22:27:45.4388563Z",
              "execution_finish_time": "2023-09-27T22:27:45.9937206Z",
              "spark_jobs": null,
              "parent_msg_id": "68a6c7de-1bc6-40de-ba8d-722ce30bed60"
            },
            "text/plain": "StatementMeta(Nurture, 1299, 30, Finished, Available)"
          },
          "metadata": {}
        },
        {
          "output_type": "display_data",
          "data": {
            "text/plain": "<Figure size 432x288 with 1 Axes>",
            "image/png": "[encoded data removed]"
          },
          "metadata": {}
        }
      ],
      "execution_count": 106,
      "metadata": {
        "jupyter": {
          "source_hidden": false,
          "outputs_hidden": false
        },
        "nteract": {
          "transient": {
            "deleting": false
          }
        }
      }
    },
    {
      "cell_type": "code",
      "source": [
        "fig = plt.figure(figsize =(10, 7))\r\n",
        "\r\n",
        "# Creating plot\r\n",
        "plt.boxplot(skill_featuresPD2)\r\n",
        "\r\n",
        "# show plot\r\n",
        "plt.show()"
      ],
      "outputs": [
        {
          "output_type": "display_data",
          "data": {
            "application/vnd.livy.statement-meta+json": {
              "spark_pool": "Nurture",
              "session_id": "1299",
              "statement_id": 31,
              "state": "finished",
              "livy_statement_state": "available",
              "queued_time": "2023-09-27T22:25:33.1860394Z",
              "session_start_time": null,
              "execution_start_time": "2023-09-27T22:27:46.1729404Z",
              "execution_finish_time": "2023-09-27T22:27:46.7148433Z",
              "spark_jobs": null,
              "parent_msg_id": "539f35d5-0a00-4967-8265-8f1ce7867a42"
            },
            "text/plain": "StatementMeta(Nurture, 1299, 31, Finished, Available)"
          },
          "metadata": {}
        },
        {
          "output_type": "display_data",
          "data": {
            "text/plain": "<Figure size 720x504 with 1 Axes>",
            "image/png": "[encoded data removed]"
          },
          "metadata": {}
        }
      ],
      "execution_count": 107,
      "metadata": {
        "jupyter": {
          "source_hidden": false,
          "outputs_hidden": false
        },
        "nteract": {
          "transient": {
            "deleting": false
          }
        }
      }
    },
    {
      "cell_type": "code",
      "source": [
        "#Plot a correlation matrix to calculat the extent of relationship\r\n",
        "ax = sns.heatmap(skill_featuresPD2.corr(), annot=True)"
      ],
      "outputs": [
        {
          "output_type": "display_data",
          "data": {
            "application/vnd.livy.statement-meta+json": {
              "spark_pool": "Nurture",
              "session_id": "1299",
              "statement_id": 32,
              "state": "finished",
              "livy_statement_state": "available",
              "queued_time": "2023-09-27T22:25:33.4616203Z",
              "session_start_time": null,
              "execution_start_time": "2023-09-27T22:27:46.8725468Z",
              "execution_finish_time": "2023-09-27T22:27:47.4530436Z",
              "spark_jobs": null,
              "parent_msg_id": "03c6caf9-a702-4dba-a0aa-7767356a6f7e"
            },
            "text/plain": "StatementMeta(Nurture, 1299, 32, Finished, Available)"
          },
          "metadata": {}
        },
        {
          "output_type": "display_data",
          "data": {
            "text/plain": "<Figure size 432x288 with 2 Axes>",
            "image/png": "[encoded data removed]"
          },
          "metadata": {}
        }
      ],
      "execution_count": 108,
      "metadata": {
        "jupyter": {
          "source_hidden": false,
          "outputs_hidden": false
        },
        "nteract": {
          "transient": {
            "deleting": false
          }
        }
      }
    },
    {
      "cell_type": "code",
      "source": [
        "#Serch the skill dataframe for the presence of a wild character(Finance)\n",
        "data = df2.filter(df2.Cand_skill_name.rlike('finance')).sort(df2.Cand_skill_name.asc())\n",
        "data.show(50, truncate = False)"
      ],
      "outputs": [
        {
          "output_type": "display_data",
          "data": {
            "application/vnd.livy.statement-meta+json": {
              "spark_pool": "Nurture",
              "session_id": "1299",
              "statement_id": 33,
              "state": "finished",
              "livy_statement_state": "available",
              "queued_time": "2023-09-27T22:25:33.7477697Z",
              "session_start_time": null,
              "execution_start_time": "2023-09-27T22:27:47.6072424Z",
              "execution_finish_time": "2023-09-27T22:27:49.4834279Z",
              "spark_jobs": null,
              "parent_msg_id": "90db4198-7b37-409b-bf87-474f6046b654"
            },
            "text/plain": "StatementMeta(Nurture, 1299, 33, Finished, Available)"
          },
          "metadata": {}
        },
        {
          "output_type": "stream",
          "name": "stdout",
          "text": [
            "+------------------------------------+----------------+---------------+-----------------------------------+----------+\n|Cand_ID                             |Cand_proficiency|Cand_experience|Cand_skill_name                    |Cand_level|\n+------------------------------------+----------------+---------------+-----------------------------------+----------+\n|b95689ad-6761-eb11-a812-0022481a613a|null            |0              |acquisition finance                |13        |\n|72fabd46-1daf-eb11-8236-00224800e64b|null            |0              |chartered public finance accountant|82        |\n|76b85ff9-23a4-eb11-b1ac-000d3a86d6ec|null            |0              |chartered public finance accountant|82        |\n|9f96de78-ebc5-ea11-a812-000d3a0cc0cf|null            |0              |chartered public finance accountant|82        |\n|43e017f4-c51d-eb11-a813-000d3a86ac4e|143570003       |14             |corporate finance                  |85        |\n|098e8cc2-9898-ec11-b400-000d3a0cd2ec|null            |0              |corporate finance                  |92        |\n|248e4289-0f12-ec11-b6e6-0022481b403b|143570003       |30             |corporate finance                  |96        |\n|76b9ecda-368f-ec11-b400-0022481aa803|null            |0              |corporate finance                  |14        |\n|e0b22335-8119-ed11-b83f-0022481b8794|143570003       |18             |corporate finance                  |98        |\n|0fc22a0e-82e1-ec11-bb3d-002248005703|null            |0              |corporate finance                  |13        |\n|a50fc3be-9e53-ee11-be6f-0022481b5a9b|null            |0              |corporate finance                  |13        |\n|40e4a650-055b-eb11-a812-000d3a0cc197|null            |0              |corporate finance                  |13        |\n|8fdd4d06-246b-ed11-81ac-0022481b5e1f|null            |0              |corporate finance                  |12        |\n|e330d486-ac60-eb11-a812-0022481a6ace|143570003       |53             |corporate finance                  |91        |\n|d1b11001-5e61-eb11-a812-0022481a6ace|143570002       |3              |corporate finance                  |64        |\n|ad6d0740-bb60-eb11-a812-0022481a6ace|143570000       |1              |corporate finance                  |28        |\n|6c922ef1-a060-eb11-a812-0022481a613a|null            |0              |corporate finance                  |88        |\n|84107a5a-b260-eb11-a812-0022481a6ace|null            |0              |corporate finance                  |14        |\n|8ba960cb-a260-eb11-a812-0022481a6ace|null            |0              |corporate finance                  |18        |\n|51d126c3-c2fa-eb11-94ef-0022481b42cc|143570000       |7              |corporate finance                  |21        |\n|11a6ea92-5361-eb11-a812-0022481a613a|null            |0              |corporate finance                  |14        |\n|274485ae-384c-ec11-8f8e-000d3a0ce077|143570000       |62             |corporate finance                  |26        |\n|11217b99-48fc-ec11-82e6-0022481b8794|null            |0              |corporate finance                  |13        |\n|a7708091-e5dc-ec11-bb3c-002248005703|null            |0              |corporate finance                  |14        |\n|a7ce5834-3ee7-ec11-bb3c-002248005703|null            |0              |corporate finance                  |12        |\n|0d3833ff-eb0c-ed11-b83e-0022481b8b3b|null            |0              |corporate finance                  |15        |\n|03523724-956b-eb11-a812-000d3a8702ce|null            |0              |corporate finance                  |92        |\n|fd6a7e9d-7c09-eb11-a813-000d3a86ac4e|null            |0              |corporate finance                  |93        |\n|ba9afd72-d971-eb11-a812-0022481a65bc|null            |0              |corporate finance                  |13        |\n|d4a18105-91c6-ea11-a812-000d3a0cc0cf|null            |0              |corporate finance                  |14        |\n|0223821c-f08c-ed11-81ad-0022481b522f|143570002       |19             |corporate finance                  |67        |\n|909b8ecf-48d2-ea11-a813-000d3a86ac4e|null            |0              |corporate finance                  |14        |\n|c202d99e-0d98-ed11-aad1-0022481b5e1f|143570000       |44             |corporate finance                  |27        |\n|177abf0c-5d61-eb11-a812-0022481a6ace|143570001       |0              |corporate finance                  |48        |\n|4c884a44-f724-eb11-a813-000d3a86ac4e|null            |0              |corporate finance                  |13        |\n|02690f86-4c78-ec11-8d21-000d3a872ce8|143570002       |6              |debt finance                       |65        |\n|9a2a1c6f-6461-eb11-a812-0022481a613a|143570003       |3              |debt finance                       |85        |\n|dd693cfd-cb67-eb11-a812-0022481a89bf|null            |0              |debt finance                       |13        |\n|7dc58bf1-356d-eb11-a812-000d3a8702ce|143570000       |0              |debt finance                       |23        |\n|b7c53a49-c435-ee11-bdf4-0022481b57b1|143570000       |7              |debt finance                       |21        |\n|bdc80249-5775-ec11-8943-002248006522|143570002       |70             |debt finance                       |71        |\n|91d0c406-5d61-eb11-a812-0022481a6ace|143570000       |21             |debt finance                       |22        |\n|f56cffcc-b251-eb11-a812-000d3a8717e3|143570001       |50             |debt finance                       |51        |\n|7c8168c8-8161-eb11-a812-0022481a6ace|143570003       |3              |debt finance                       |85        |\n|47605159-4d61-eb11-a812-0022481a6ace|143570002       |19             |debt finance                       |67        |\n|35cc69fe-24c3-eb11-bacc-000d3a874d9a|143570002       |6              |debt finance                       |61        |\n|7aaaa361-d5da-ed11-a7c7-0022481b5444|143570003       |16             |debt finance                       |87        |\n|b99c2caa-249b-ed11-aad1-0022481b53bd|143570002       |6              |debt finance                       |61        |\n|b65828b8-4e61-eb11-a812-0022481a613a|143570001       |14             |debt finance                       |49        |\n|8ed7deed-c21d-eb11-a813-000d3a86ac4e|143570003       |10             |debt finance                       |94        |\n+------------------------------------+----------------+---------------+-----------------------------------+----------+\nonly showing top 50 rows\n\n"
          ]
        }
      ],
      "execution_count": 109,
      "metadata": {
        "jupyter": {
          "source_hidden": false,
          "outputs_hidden": false
        },
        "nteract": {
          "transient": {
            "deleting": false
          }
        }
      }
    },
    {
      "cell_type": "code",
      "source": [
        "candidate_workhist.show()"
      ],
      "outputs": [
        {
          "output_type": "display_data",
          "data": {
            "application/vnd.livy.statement-meta+json": {
              "spark_pool": "Nurture",
              "session_id": "1299",
              "statement_id": 34,
              "state": "finished",
              "livy_statement_state": "available",
              "queued_time": "2023-09-27T22:25:34.0202691Z",
              "session_start_time": null,
              "execution_start_time": "2023-09-27T22:27:49.6401661Z",
              "execution_finish_time": "2023-09-27T22:27:50.1979891Z",
              "spark_jobs": null,
              "parent_msg_id": "88281a48-5fb8-49ae-a3fc-dbe5dceebea8"
            },
            "text/plain": "StatementMeta(Nurture, 1299, 34, Finished, Available)"
          },
          "metadata": {}
        },
        {
          "output_type": "stream",
          "name": "stdout",
          "text": [
            "+--------------------+--------------------+-----------------------+----------------------+--------------------+--------------------------+--------------------+--------------------+\n|                  ID|   Candidate_contact|Candidate_workstrt_date|Candidate_workend_date|      WorkHistory_ID|Candidate_work_description| Candidate_job_title|      Cand_workplace|\n+--------------------+--------------------+-----------------------+----------------------+--------------------+--------------------------+--------------------+--------------------+\n|6ae7162b-104e-eb1...|14c6701e-104e-eb1...|    2019-05-01 00:00:00|   2020-08-01 00:00:00|6ae7162b-104e-eb1...|      ; lendinvest - --...|        Data analyst|Data analyst - Le...|\n|44e4bc29-104e-eb1...|03c6701e-104e-eb1...|    2017-01-01 00:00:00|                  null|44e4bc29-104e-eb1...|      key achievements\\...|Reporting and Dat...|Reporting and Dat...|\n|71e7162b-104e-eb1...|14c6701e-104e-eb1...|    2018-04-01 00:00:00|   2019-05-01 00:00:00|71e7162b-104e-eb1...|      during this time ...|             analyst|analyst - Link Fi...|\n|76e7162b-104e-eb1...|03c6701e-104e-eb1...|    2015-07-01 00:00:00|   2017-01-01 00:00:00|76e7162b-104e-eb1...|      key achievements:...|Data and Process ...|Data and Process ...|\n|53e4bc29-104e-eb1...|14c6701e-104e-eb1...|    2017-05-01 00:00:00|   2018-03-01 00:00:00|53e4bc29-104e-eb1...|      ; at this time i ...|           associate|associate - Link ...|\n|5de4bc29-104e-eb1...|14c6701e-104e-eb1...|    2016-05-01 00:00:00|   2017-03-01 00:00:00|5de4bc29-104e-eb1...|      , at this time i ...|Risk Analyst / Ri...|Risk Analyst / Ri...|\n|7ee7162b-104e-eb1...|03c6701e-104e-eb1...|    1990-02-01 00:00:00|   2015-07-01 00:00:00|7ee7162b-104e-eb1...|      joined british ai...|Analyst-Programme...|Analyst-Programme...|\n|9f2bd42f-104e-eb1...|14c6701e-104e-eb1...|    2015-11-01 00:00:00|   2016-05-01 00:00:00|9f2bd42f-104e-eb1...|      ,  haven power - ...|      Risk Assistant|Risk Assistant - ...|\n|a92bd42f-104e-eb1...|14c6701e-104e-eb1...|    2015-08-01 00:00:00|   2015-10-01 00:00:00|a92bd42f-104e-eb1...|      , haven power - -...|   Finance Assistant|Finance Assistant...|\n|43b9cc35-104e-eb1...|e1a4d169-bc08-eb1...|    2019-01-01 00:00:00|   2020-01-01 00:00:00|43b9cc35-104e-eb1...|      juul labs. - lond...|CS Operations Dat...|CS Operations Dat...|\n|4bb9cc35-104e-eb1...|e1a4d169-bc08-eb1...|    2012-01-01 00:00:00|   2019-01-01 00:00:00|4bb9cc35-104e-eb1...|      accountable for m...|Data Analyst Manager|Data Analyst Mana...|\n|607e8f37-104e-eb1...|e1a4d169-bc08-eb1...|    2005-01-01 00:00:00|   2007-01-01 00:00:00|607e8f37-104e-eb1...|                      null|Data Analysis Con...|Data Analysis Con...|\n|59b9cc35-104e-eb1...|e1a4d169-bc08-eb1...|    2007-01-01 00:00:00|   2012-01-01 00:00:00|59b9cc35-104e-eb1...|      accountable for r...| Senior Data Analyst|Senior Data Analy...|\n|66b9cc35-104e-eb1...|e1a4d169-bc08-eb1...|    2001-01-01 00:00:00|   2002-01-01 00:00:00|66b9cc35-104e-eb1...|                      null|     Account Manager|Account Manager -...|\n|72b9cc35-104e-eb1...|e1a4d169-bc08-eb1...|    1999-01-01 00:00:00|   2001-01-01 00:00:00|72b9cc35-104e-eb1...|                      null|Senior Marketing ...|Senior Marketing ...|\n|697e8f37-104e-eb1...|e1a4d169-bc08-eb1...|    1998-01-01 00:00:00|   1999-01-01 00:00:00|697e8f37-104e-eb1...|                      null|   Marketing Analyst|Marketing Analyst...|\n|720e14d9-104e-eb1...|aea2d6ce-104e-eb1...|    2019-03-01 00:00:00|                  null|720e14d9-104e-eb1...|      machine learning ...|        Data Analyst|Data Analyst - Ac...|\n|7d0e14d9-104e-eb1...|aea2d6ce-104e-eb1...|    2017-10-01 00:00:00|   2019-02-01 00:00:00|7d0e14d9-104e-eb1...|      analysis to ident...|        Data Analyst| Data Analyst - JLL |\n|870e14d9-104e-eb1...|aea2d6ce-104e-eb1...|    2017-02-01 00:00:00|   2017-07-01 00:00:00|870e14d9-104e-eb1...|      *    creating a v...|  Research Assistant|Research Assistan...|\n|900e14d9-104e-eb1...|71c012cd-104e-eb1...|    2015-01-01 00:00:00|                  null|900e14d9-104e-eb1...|      haven claims - pr...|Data Analyst / Ta...|Data Analyst / Ta...|\n+--------------------+--------------------+-----------------------+----------------------+--------------------+--------------------------+--------------------+--------------------+\nonly showing top 20 rows\n\n"
          ]
        }
      ],
      "execution_count": 110,
      "metadata": {
        "jupyter": {
          "source_hidden": false,
          "outputs_hidden": false
        },
        "nteract": {
          "transient": {
            "deleting": false
          }
        }
      }
    },
    {
      "cell_type": "code",
      "source": [
        "candidate_workhist.printSchema()"
      ],
      "outputs": [
        {
          "output_type": "display_data",
          "data": {
            "application/vnd.livy.statement-meta+json": {
              "spark_pool": "Nurture",
              "session_id": "1299",
              "statement_id": 35,
              "state": "finished",
              "livy_statement_state": "available",
              "queued_time": "2023-09-27T22:25:34.3061931Z",
              "session_start_time": null,
              "execution_start_time": "2023-09-27T22:27:50.353617Z",
              "execution_finish_time": "2023-09-27T22:27:50.5127436Z",
              "spark_jobs": null,
              "parent_msg_id": "20a47b4e-7d55-456d-8870-b67817de58b3"
            },
            "text/plain": "StatementMeta(Nurture, 1299, 35, Finished, Available)"
          },
          "metadata": {}
        },
        {
          "output_type": "stream",
          "name": "stdout",
          "text": [
            "root\n |-- ID: string (nullable = true)\n |-- Candidate_contact: string (nullable = true)\n |-- Candidate_workstrt_date: timestamp (nullable = true)\n |-- Candidate_workend_date: timestamp (nullable = true)\n |-- WorkHistory_ID: string (nullable = true)\n |-- Candidate_work_description: string (nullable = true)\n |-- Candidate_job_title: string (nullable = true)\n |-- Cand_workplace: string (nullable = true)\n\n"
          ]
        }
      ],
      "execution_count": 111,
      "metadata": {
        "jupyter": {
          "source_hidden": false,
          "outputs_hidden": false
        },
        "nteract": {
          "transient": {
            "deleting": false
          }
        }
      }
    },
    {
      "cell_type": "code",
      "source": [
        "candidate_workhist.describe().show()"
      ],
      "outputs": [
        {
          "output_type": "display_data",
          "data": {
            "application/vnd.livy.statement-meta+json": {
              "spark_pool": "Nurture",
              "session_id": "1299",
              "statement_id": 36,
              "state": "finished",
              "livy_statement_state": "available",
              "queued_time": "2023-09-27T22:25:34.7062776Z",
              "session_start_time": null,
              "execution_start_time": "2023-09-27T22:27:50.7021307Z",
              "execution_finish_time": "2023-09-27T22:27:53.5721284Z",
              "spark_jobs": null,
              "parent_msg_id": "92554763-d5b4-46cc-8e7c-dd7619602a5e"
            },
            "text/plain": "StatementMeta(Nurture, 1299, 36, Finished, Available)"
          },
          "metadata": {}
        },
        {
          "output_type": "stream",
          "name": "stdout",
          "text": [
            "+-------+--------------------+--------------------+--------------------+--------------------------+--------------------+--------------------+\n|summary|                  ID|   Candidate_contact|      WorkHistory_ID|Candidate_work_description| Candidate_job_title|      Cand_workplace|\n+-------+--------------------+--------------------+--------------------+--------------------------+--------------------+--------------------+\n|  count|               31777|               31777|               31777|                     28098|               31777|               31765|\n|   mean|                null|                null|                null|                      null|                null|                null|\n| stddev|                null|                null|                null|                      null|                null|                null|\n|    min|00014d10-3d8d-ed1...|0002a3f0-ddf1-ea1...|00014d10-3d8d-ed1...|      ! kastle universa...|(.NET and SQL Dat...|(.NET and SQL Dat...|\n|    max|fffa02a5-aa60-eb1...|fff7b27a-c030-ec1...|fffa02a5-aa60-eb1...|      🔹prosci change m...|å Application Sup...|å Application Sup...|\n+-------+--------------------+--------------------+--------------------+--------------------------+--------------------+--------------------+\n\n"
          ]
        }
      ],
      "execution_count": 112,
      "metadata": {
        "jupyter": {
          "source_hidden": false,
          "outputs_hidden": false
        },
        "nteract": {
          "transient": {
            "deleting": false
          }
        }
      }
    },
    {
      "cell_type": "code",
      "source": [
        "from pyspark.sql.functions import to_date"
      ],
      "outputs": [
        {
          "output_type": "display_data",
          "data": {
            "application/vnd.livy.statement-meta+json": {
              "spark_pool": "Nurture",
              "session_id": "1299",
              "statement_id": 37,
              "state": "finished",
              "livy_statement_state": "available",
              "queued_time": "2023-09-27T22:25:34.9555243Z",
              "session_start_time": null,
              "execution_start_time": "2023-09-27T22:27:53.7289843Z",
              "execution_finish_time": "2023-09-27T22:27:53.8851984Z",
              "spark_jobs": null,
              "parent_msg_id": "ba217334-11aa-457d-8d74-115805243e65"
            },
            "text/plain": "StatementMeta(Nurture, 1299, 37, Finished, Available)"
          },
          "metadata": {}
        }
      ],
      "execution_count": 113,
      "metadata": {
        "jupyter": {
          "source_hidden": false,
          "outputs_hidden": false
        },
        "nteract": {
          "transient": {
            "deleting": false
          }
        }
      }
    },
    {
      "cell_type": "code",
      "source": [
        "#Convert the start date to date format\n",
        "df_hist = candidate_workhist.withColumn(\"Cnd_start_date\", to_date(\"Candidate_workstrt_date\"))\n",
        "df_hist.show()"
      ],
      "outputs": [
        {
          "output_type": "display_data",
          "data": {
            "application/vnd.livy.statement-meta+json": {
              "spark_pool": "Nurture",
              "session_id": "1299",
              "statement_id": 38,
              "state": "finished",
              "livy_statement_state": "available",
              "queued_time": "2023-09-27T22:25:35.210249Z",
              "session_start_time": null,
              "execution_start_time": "2023-09-27T22:27:54.0511178Z",
              "execution_finish_time": "2023-09-27T22:27:55.1688344Z",
              "spark_jobs": null,
              "parent_msg_id": "63ba85eb-6ea8-46e3-bf49-0f784adea5f3"
            },
            "text/plain": "StatementMeta(Nurture, 1299, 38, Finished, Available)"
          },
          "metadata": {}
        },
        {
          "output_type": "stream",
          "name": "stdout",
          "text": [
            "+--------------------+--------------------+-----------------------+----------------------+--------------------+--------------------------+--------------------+--------------------+--------------+\n|                  ID|   Candidate_contact|Candidate_workstrt_date|Candidate_workend_date|      WorkHistory_ID|Candidate_work_description| Candidate_job_title|      Cand_workplace|Cnd_start_date|\n+--------------------+--------------------+-----------------------+----------------------+--------------------+--------------------------+--------------------+--------------------+--------------+\n|6ae7162b-104e-eb1...|14c6701e-104e-eb1...|    2019-05-01 00:00:00|   2020-08-01 00:00:00|6ae7162b-104e-eb1...|      ; lendinvest - --...|        Data analyst|Data analyst - Le...|    2019-05-01|\n|44e4bc29-104e-eb1...|03c6701e-104e-eb1...|    2017-01-01 00:00:00|                  null|44e4bc29-104e-eb1...|      key achievements\\...|Reporting and Dat...|Reporting and Dat...|    2017-01-01|\n|71e7162b-104e-eb1...|14c6701e-104e-eb1...|    2018-04-01 00:00:00|   2019-05-01 00:00:00|71e7162b-104e-eb1...|      during this time ...|             analyst|analyst - Link Fi...|    2018-04-01|\n|76e7162b-104e-eb1...|03c6701e-104e-eb1...|    2015-07-01 00:00:00|   2017-01-01 00:00:00|76e7162b-104e-eb1...|      key achievements:...|Data and Process ...|Data and Process ...|    2015-07-01|\n|53e4bc29-104e-eb1...|14c6701e-104e-eb1...|    2017-05-01 00:00:00|   2018-03-01 00:00:00|53e4bc29-104e-eb1...|      ; at this time i ...|           associate|associate - Link ...|    2017-05-01|\n|5de4bc29-104e-eb1...|14c6701e-104e-eb1...|    2016-05-01 00:00:00|   2017-03-01 00:00:00|5de4bc29-104e-eb1...|      , at this time i ...|Risk Analyst / Ri...|Risk Analyst / Ri...|    2016-05-01|\n|7ee7162b-104e-eb1...|03c6701e-104e-eb1...|    1990-02-01 00:00:00|   2015-07-01 00:00:00|7ee7162b-104e-eb1...|      joined british ai...|Analyst-Programme...|Analyst-Programme...|    1990-02-01|\n|9f2bd42f-104e-eb1...|14c6701e-104e-eb1...|    2015-11-01 00:00:00|   2016-05-01 00:00:00|9f2bd42f-104e-eb1...|      ,  haven power - ...|      Risk Assistant|Risk Assistant - ...|    2015-11-01|\n|a92bd42f-104e-eb1...|14c6701e-104e-eb1...|    2015-08-01 00:00:00|   2015-10-01 00:00:00|a92bd42f-104e-eb1...|      , haven power - -...|   Finance Assistant|Finance Assistant...|    2015-08-01|\n|43b9cc35-104e-eb1...|e1a4d169-bc08-eb1...|    2019-01-01 00:00:00|   2020-01-01 00:00:00|43b9cc35-104e-eb1...|      juul labs. - lond...|CS Operations Dat...|CS Operations Dat...|    2019-01-01|\n|4bb9cc35-104e-eb1...|e1a4d169-bc08-eb1...|    2012-01-01 00:00:00|   2019-01-01 00:00:00|4bb9cc35-104e-eb1...|      accountable for m...|Data Analyst Manager|Data Analyst Mana...|    2012-01-01|\n|607e8f37-104e-eb1...|e1a4d169-bc08-eb1...|    2005-01-01 00:00:00|   2007-01-01 00:00:00|607e8f37-104e-eb1...|                      null|Data Analysis Con...|Data Analysis Con...|    2005-01-01|\n|59b9cc35-104e-eb1...|e1a4d169-bc08-eb1...|    2007-01-01 00:00:00|   2012-01-01 00:00:00|59b9cc35-104e-eb1...|      accountable for r...| Senior Data Analyst|Senior Data Analy...|    2007-01-01|\n|66b9cc35-104e-eb1...|e1a4d169-bc08-eb1...|    2001-01-01 00:00:00|   2002-01-01 00:00:00|66b9cc35-104e-eb1...|                      null|     Account Manager|Account Manager -...|    2001-01-01|\n|72b9cc35-104e-eb1...|e1a4d169-bc08-eb1...|    1999-01-01 00:00:00|   2001-01-01 00:00:00|72b9cc35-104e-eb1...|                      null|Senior Marketing ...|Senior Marketing ...|    1999-01-01|\n|697e8f37-104e-eb1...|e1a4d169-bc08-eb1...|    1998-01-01 00:00:00|   1999-01-01 00:00:00|697e8f37-104e-eb1...|                      null|   Marketing Analyst|Marketing Analyst...|    1998-01-01|\n|720e14d9-104e-eb1...|aea2d6ce-104e-eb1...|    2019-03-01 00:00:00|                  null|720e14d9-104e-eb1...|      machine learning ...|        Data Analyst|Data Analyst - Ac...|    2019-03-01|\n|7d0e14d9-104e-eb1...|aea2d6ce-104e-eb1...|    2017-10-01 00:00:00|   2019-02-01 00:00:00|7d0e14d9-104e-eb1...|      analysis to ident...|        Data Analyst| Data Analyst - JLL |    2017-10-01|\n|870e14d9-104e-eb1...|aea2d6ce-104e-eb1...|    2017-02-01 00:00:00|   2017-07-01 00:00:00|870e14d9-104e-eb1...|      *    creating a v...|  Research Assistant|Research Assistan...|    2017-02-01|\n|900e14d9-104e-eb1...|71c012cd-104e-eb1...|    2015-01-01 00:00:00|                  null|900e14d9-104e-eb1...|      haven claims - pr...|Data Analyst / Ta...|Data Analyst / Ta...|    2015-01-01|\n+--------------------+--------------------+-----------------------+----------------------+--------------------+--------------------------+--------------------+--------------------+--------------+\nonly showing top 20 rows\n\n"
          ]
        }
      ],
      "execution_count": 114,
      "metadata": {
        "jupyter": {
          "source_hidden": false,
          "outputs_hidden": false
        },
        "nteract": {
          "transient": {
            "deleting": false
          }
        }
      }
    },
    {
      "cell_type": "code",
      "source": [
        "#Convert the end date to date format\n",
        "df_hist2 = df_hist.withColumn(\"Cnd_end_date\", to_date(\"Candidate_workend_date\"))\n",
        "df_hist2.show()"
      ],
      "outputs": [
        {
          "output_type": "display_data",
          "data": {
            "application/vnd.livy.statement-meta+json": {
              "spark_pool": "Nurture",
              "session_id": "1299",
              "statement_id": 39,
              "state": "finished",
              "livy_statement_state": "available",
              "queued_time": "2023-09-27T22:25:35.4766607Z",
              "session_start_time": null,
              "execution_start_time": "2023-09-27T22:27:55.3251275Z",
              "execution_finish_time": "2023-09-27T22:27:55.8726024Z",
              "spark_jobs": null,
              "parent_msg_id": "1aa907ab-5319-47f8-ad8a-67c4ff1e1129"
            },
            "text/plain": "StatementMeta(Nurture, 1299, 39, Finished, Available)"
          },
          "metadata": {}
        },
        {
          "output_type": "stream",
          "name": "stdout",
          "text": [
            "+--------------------+--------------------+-----------------------+----------------------+--------------------+--------------------------+--------------------+--------------------+--------------+------------+\n|                  ID|   Candidate_contact|Candidate_workstrt_date|Candidate_workend_date|      WorkHistory_ID|Candidate_work_description| Candidate_job_title|      Cand_workplace|Cnd_start_date|Cnd_end_date|\n+--------------------+--------------------+-----------------------+----------------------+--------------------+--------------------------+--------------------+--------------------+--------------+------------+\n|6ae7162b-104e-eb1...|14c6701e-104e-eb1...|    2019-05-01 00:00:00|   2020-08-01 00:00:00|6ae7162b-104e-eb1...|      ; lendinvest - --...|        Data analyst|Data analyst - Le...|    2019-05-01|  2020-08-01|\n|44e4bc29-104e-eb1...|03c6701e-104e-eb1...|    2017-01-01 00:00:00|                  null|44e4bc29-104e-eb1...|      key achievements\\...|Reporting and Dat...|Reporting and Dat...|    2017-01-01|        null|\n|71e7162b-104e-eb1...|14c6701e-104e-eb1...|    2018-04-01 00:00:00|   2019-05-01 00:00:00|71e7162b-104e-eb1...|      during this time ...|             analyst|analyst - Link Fi...|    2018-04-01|  2019-05-01|\n|76e7162b-104e-eb1...|03c6701e-104e-eb1...|    2015-07-01 00:00:00|   2017-01-01 00:00:00|76e7162b-104e-eb1...|      key achievements:...|Data and Process ...|Data and Process ...|    2015-07-01|  2017-01-01|\n|53e4bc29-104e-eb1...|14c6701e-104e-eb1...|    2017-05-01 00:00:00|   2018-03-01 00:00:00|53e4bc29-104e-eb1...|      ; at this time i ...|           associate|associate - Link ...|    2017-05-01|  2018-03-01|\n|5de4bc29-104e-eb1...|14c6701e-104e-eb1...|    2016-05-01 00:00:00|   2017-03-01 00:00:00|5de4bc29-104e-eb1...|      , at this time i ...|Risk Analyst / Ri...|Risk Analyst / Ri...|    2016-05-01|  2017-03-01|\n|7ee7162b-104e-eb1...|03c6701e-104e-eb1...|    1990-02-01 00:00:00|   2015-07-01 00:00:00|7ee7162b-104e-eb1...|      joined british ai...|Analyst-Programme...|Analyst-Programme...|    1990-02-01|  2015-07-01|\n|9f2bd42f-104e-eb1...|14c6701e-104e-eb1...|    2015-11-01 00:00:00|   2016-05-01 00:00:00|9f2bd42f-104e-eb1...|      ,  haven power - ...|      Risk Assistant|Risk Assistant - ...|    2015-11-01|  2016-05-01|\n|a92bd42f-104e-eb1...|14c6701e-104e-eb1...|    2015-08-01 00:00:00|   2015-10-01 00:00:00|a92bd42f-104e-eb1...|      , haven power - -...|   Finance Assistant|Finance Assistant...|    2015-08-01|  2015-10-01|\n|43b9cc35-104e-eb1...|e1a4d169-bc08-eb1...|    2019-01-01 00:00:00|   2020-01-01 00:00:00|43b9cc35-104e-eb1...|      juul labs. - lond...|CS Operations Dat...|CS Operations Dat...|    2019-01-01|  2020-01-01|\n|4bb9cc35-104e-eb1...|e1a4d169-bc08-eb1...|    2012-01-01 00:00:00|   2019-01-01 00:00:00|4bb9cc35-104e-eb1...|      accountable for m...|Data Analyst Manager|Data Analyst Mana...|    2012-01-01|  2019-01-01|\n|607e8f37-104e-eb1...|e1a4d169-bc08-eb1...|    2005-01-01 00:00:00|   2007-01-01 00:00:00|607e8f37-104e-eb1...|                      null|Data Analysis Con...|Data Analysis Con...|    2005-01-01|  2007-01-01|\n|59b9cc35-104e-eb1...|e1a4d169-bc08-eb1...|    2007-01-01 00:00:00|   2012-01-01 00:00:00|59b9cc35-104e-eb1...|      accountable for r...| Senior Data Analyst|Senior Data Analy...|    2007-01-01|  2012-01-01|\n|66b9cc35-104e-eb1...|e1a4d169-bc08-eb1...|    2001-01-01 00:00:00|   2002-01-01 00:00:00|66b9cc35-104e-eb1...|                      null|     Account Manager|Account Manager -...|    2001-01-01|  2002-01-01|\n|72b9cc35-104e-eb1...|e1a4d169-bc08-eb1...|    1999-01-01 00:00:00|   2001-01-01 00:00:00|72b9cc35-104e-eb1...|                      null|Senior Marketing ...|Senior Marketing ...|    1999-01-01|  2001-01-01|\n|697e8f37-104e-eb1...|e1a4d169-bc08-eb1...|    1998-01-01 00:00:00|   1999-01-01 00:00:00|697e8f37-104e-eb1...|                      null|   Marketing Analyst|Marketing Analyst...|    1998-01-01|  1999-01-01|\n|720e14d9-104e-eb1...|aea2d6ce-104e-eb1...|    2019-03-01 00:00:00|                  null|720e14d9-104e-eb1...|      machine learning ...|        Data Analyst|Data Analyst - Ac...|    2019-03-01|        null|\n|7d0e14d9-104e-eb1...|aea2d6ce-104e-eb1...|    2017-10-01 00:00:00|   2019-02-01 00:00:00|7d0e14d9-104e-eb1...|      analysis to ident...|        Data Analyst| Data Analyst - JLL |    2017-10-01|  2019-02-01|\n|870e14d9-104e-eb1...|aea2d6ce-104e-eb1...|    2017-02-01 00:00:00|   2017-07-01 00:00:00|870e14d9-104e-eb1...|      *    creating a v...|  Research Assistant|Research Assistan...|    2017-02-01|  2017-07-01|\n|900e14d9-104e-eb1...|71c012cd-104e-eb1...|    2015-01-01 00:00:00|                  null|900e14d9-104e-eb1...|      haven claims - pr...|Data Analyst / Ta...|Data Analyst / Ta...|    2015-01-01|        null|\n+--------------------+--------------------+-----------------------+----------------------+--------------------+--------------------------+--------------------+--------------------+--------------+------------+\nonly showing top 20 rows\n\n"
          ]
        }
      ],
      "execution_count": 115,
      "metadata": {
        "jupyter": {
          "source_hidden": false,
          "outputs_hidden": false
        },
        "nteract": {
          "transient": {
            "deleting": false
          }
        }
      }
    },
    {
      "cell_type": "code",
      "source": [
        "#Select the required columns\n",
        "df_hist3 = df_hist2.select('ID', 'WorkHistory_ID', 'Candidate_job_title', 'Cnd_start_date', 'Cnd_end_date')\n",
        "df_hist3.show()"
      ],
      "outputs": [
        {
          "output_type": "display_data",
          "data": {
            "application/vnd.livy.statement-meta+json": {
              "spark_pool": "Nurture",
              "session_id": "1299",
              "statement_id": 40,
              "state": "finished",
              "livy_statement_state": "available",
              "queued_time": "2023-09-27T22:25:35.7204539Z",
              "session_start_time": null,
              "execution_start_time": "2023-09-27T22:27:56.0240584Z",
              "execution_finish_time": "2023-09-27T22:27:56.6192743Z",
              "spark_jobs": null,
              "parent_msg_id": "b517fab9-055a-4cc0-b55e-c700a21ada50"
            },
            "text/plain": "StatementMeta(Nurture, 1299, 40, Finished, Available)"
          },
          "metadata": {}
        },
        {
          "output_type": "stream",
          "name": "stdout",
          "text": [
            "+--------------------+--------------------+--------------------+--------------+------------+\n|                  ID|      WorkHistory_ID| Candidate_job_title|Cnd_start_date|Cnd_end_date|\n+--------------------+--------------------+--------------------+--------------+------------+\n|6ae7162b-104e-eb1...|6ae7162b-104e-eb1...|        Data analyst|    2019-05-01|  2020-08-01|\n|44e4bc29-104e-eb1...|44e4bc29-104e-eb1...|Reporting and Dat...|    2017-01-01|        null|\n|71e7162b-104e-eb1...|71e7162b-104e-eb1...|             analyst|    2018-04-01|  2019-05-01|\n|76e7162b-104e-eb1...|76e7162b-104e-eb1...|Data and Process ...|    2015-07-01|  2017-01-01|\n|53e4bc29-104e-eb1...|53e4bc29-104e-eb1...|           associate|    2017-05-01|  2018-03-01|\n|5de4bc29-104e-eb1...|5de4bc29-104e-eb1...|Risk Analyst / Ri...|    2016-05-01|  2017-03-01|\n|7ee7162b-104e-eb1...|7ee7162b-104e-eb1...|Analyst-Programme...|    1990-02-01|  2015-07-01|\n|9f2bd42f-104e-eb1...|9f2bd42f-104e-eb1...|      Risk Assistant|    2015-11-01|  2016-05-01|\n|a92bd42f-104e-eb1...|a92bd42f-104e-eb1...|   Finance Assistant|    2015-08-01|  2015-10-01|\n|43b9cc35-104e-eb1...|43b9cc35-104e-eb1...|CS Operations Dat...|    2019-01-01|  2020-01-01|\n|4bb9cc35-104e-eb1...|4bb9cc35-104e-eb1...|Data Analyst Manager|    2012-01-01|  2019-01-01|\n|607e8f37-104e-eb1...|607e8f37-104e-eb1...|Data Analysis Con...|    2005-01-01|  2007-01-01|\n|59b9cc35-104e-eb1...|59b9cc35-104e-eb1...| Senior Data Analyst|    2007-01-01|  2012-01-01|\n|66b9cc35-104e-eb1...|66b9cc35-104e-eb1...|     Account Manager|    2001-01-01|  2002-01-01|\n|72b9cc35-104e-eb1...|72b9cc35-104e-eb1...|Senior Marketing ...|    1999-01-01|  2001-01-01|\n|697e8f37-104e-eb1...|697e8f37-104e-eb1...|   Marketing Analyst|    1998-01-01|  1999-01-01|\n|720e14d9-104e-eb1...|720e14d9-104e-eb1...|        Data Analyst|    2019-03-01|        null|\n|7d0e14d9-104e-eb1...|7d0e14d9-104e-eb1...|        Data Analyst|    2017-10-01|  2019-02-01|\n|870e14d9-104e-eb1...|870e14d9-104e-eb1...|  Research Assistant|    2017-02-01|  2017-07-01|\n|900e14d9-104e-eb1...|900e14d9-104e-eb1...|Data Analyst / Ta...|    2015-01-01|        null|\n+--------------------+--------------------+--------------------+--------------+------------+\nonly showing top 20 rows\n\n"
          ]
        }
      ],
      "execution_count": 116,
      "metadata": {
        "jupyter": {
          "source_hidden": false,
          "outputs_hidden": false
        },
        "nteract": {
          "transient": {
            "deleting": false
          }
        }
      }
    },
    {
      "cell_type": "code",
      "source": [
        "from pyspark.sql import SparkSession\n",
        "from pyspark.sql.functions import datediff, floor\n",
        "from pyspark.sql.functions import lit"
      ],
      "outputs": [
        {
          "output_type": "display_data",
          "data": {
            "application/vnd.livy.statement-meta+json": {
              "spark_pool": "Nurture",
              "session_id": "1299",
              "statement_id": 41,
              "state": "finished",
              "livy_statement_state": "available",
              "queued_time": "2023-09-27T22:25:35.9917724Z",
              "session_start_time": null,
              "execution_start_time": "2023-09-27T22:27:56.8005289Z",
              "execution_finish_time": "2023-09-27T22:27:56.972245Z",
              "spark_jobs": null,
              "parent_msg_id": "25311c66-82bf-4138-83f4-79a1d0ffbd9e"
            },
            "text/plain": "StatementMeta(Nurture, 1299, 41, Finished, Available)"
          },
          "metadata": {}
        }
      ],
      "execution_count": 117,
      "metadata": {
        "jupyter": {
          "source_hidden": false,
          "outputs_hidden": false
        },
        "nteract": {
          "transient": {
            "deleting": false
          }
        }
      }
    },
    {
      "cell_type": "code",
      "source": [
        "#Calculate the number of months present between the start and end dates\n",
        "df_hist4 = df_hist3.withColumn(\"weeks_duration\", floor((datediff(df_hist3[\"Cnd_end_date\"], df_hist3[\"Cnd_start_date\"]) / 7)/4))\n",
        "df_hist4.show()"
      ],
      "outputs": [
        {
          "output_type": "display_data",
          "data": {
            "application/vnd.livy.statement-meta+json": {
              "spark_pool": "Nurture",
              "session_id": "1299",
              "statement_id": 42,
              "state": "finished",
              "livy_statement_state": "available",
              "queued_time": "2023-09-27T22:25:36.2961519Z",
              "session_start_time": null,
              "execution_start_time": "2023-09-27T22:27:57.1397547Z",
              "execution_finish_time": "2023-09-27T22:27:57.7070054Z",
              "spark_jobs": null,
              "parent_msg_id": "4f55932c-c5ae-4f92-a52f-83988e19e127"
            },
            "text/plain": "StatementMeta(Nurture, 1299, 42, Finished, Available)"
          },
          "metadata": {}
        },
        {
          "output_type": "stream",
          "name": "stdout",
          "text": [
            "+--------------------+--------------------+--------------------+--------------+------------+--------------+\n|                  ID|      WorkHistory_ID| Candidate_job_title|Cnd_start_date|Cnd_end_date|weeks_duration|\n+--------------------+--------------------+--------------------+--------------+------------+--------------+\n|6ae7162b-104e-eb1...|6ae7162b-104e-eb1...|        Data analyst|    2019-05-01|  2020-08-01|            16|\n|44e4bc29-104e-eb1...|44e4bc29-104e-eb1...|Reporting and Dat...|    2017-01-01|        null|          null|\n|71e7162b-104e-eb1...|71e7162b-104e-eb1...|             analyst|    2018-04-01|  2019-05-01|            14|\n|76e7162b-104e-eb1...|76e7162b-104e-eb1...|Data and Process ...|    2015-07-01|  2017-01-01|            19|\n|53e4bc29-104e-eb1...|53e4bc29-104e-eb1...|           associate|    2017-05-01|  2018-03-01|            10|\n|5de4bc29-104e-eb1...|5de4bc29-104e-eb1...|Risk Analyst / Ri...|    2016-05-01|  2017-03-01|            10|\n|7ee7162b-104e-eb1...|7ee7162b-104e-eb1...|Analyst-Programme...|    1990-02-01|  2015-07-01|           331|\n|9f2bd42f-104e-eb1...|9f2bd42f-104e-eb1...|      Risk Assistant|    2015-11-01|  2016-05-01|             6|\n|a92bd42f-104e-eb1...|a92bd42f-104e-eb1...|   Finance Assistant|    2015-08-01|  2015-10-01|             2|\n|43b9cc35-104e-eb1...|43b9cc35-104e-eb1...|CS Operations Dat...|    2019-01-01|  2020-01-01|            13|\n|4bb9cc35-104e-eb1...|4bb9cc35-104e-eb1...|Data Analyst Manager|    2012-01-01|  2019-01-01|            91|\n|607e8f37-104e-eb1...|607e8f37-104e-eb1...|Data Analysis Con...|    2005-01-01|  2007-01-01|            26|\n|59b9cc35-104e-eb1...|59b9cc35-104e-eb1...| Senior Data Analyst|    2007-01-01|  2012-01-01|            65|\n|66b9cc35-104e-eb1...|66b9cc35-104e-eb1...|     Account Manager|    2001-01-01|  2002-01-01|            13|\n|72b9cc35-104e-eb1...|72b9cc35-104e-eb1...|Senior Marketing ...|    1999-01-01|  2001-01-01|            26|\n|697e8f37-104e-eb1...|697e8f37-104e-eb1...|   Marketing Analyst|    1998-01-01|  1999-01-01|            13|\n|720e14d9-104e-eb1...|720e14d9-104e-eb1...|        Data Analyst|    2019-03-01|        null|          null|\n|7d0e14d9-104e-eb1...|7d0e14d9-104e-eb1...|        Data Analyst|    2017-10-01|  2019-02-01|            17|\n|870e14d9-104e-eb1...|870e14d9-104e-eb1...|  Research Assistant|    2017-02-01|  2017-07-01|             5|\n|900e14d9-104e-eb1...|900e14d9-104e-eb1...|Data Analyst / Ta...|    2015-01-01|        null|          null|\n+--------------------+--------------------+--------------------+--------------+------------+--------------+\nonly showing top 20 rows\n\n"
          ]
        }
      ],
      "execution_count": 118,
      "metadata": {
        "jupyter": {
          "source_hidden": false,
          "outputs_hidden": false
        },
        "nteract": {
          "transient": {
            "deleting": false
          }
        }
      }
    },
    {
      "cell_type": "code",
      "source": [
        "#Define the search parameter\r\n",
        "job_titleSearch = 'data'"
      ],
      "outputs": [
        {
          "output_type": "display_data",
          "data": {
            "application/vnd.livy.statement-meta+json": {
              "spark_pool": "Nurture",
              "session_id": "1299",
              "statement_id": 43,
              "state": "finished",
              "livy_statement_state": "available",
              "queued_time": "2023-09-27T22:25:36.6256251Z",
              "session_start_time": null,
              "execution_start_time": "2023-09-27T22:27:57.8623599Z",
              "execution_finish_time": "2023-09-27T22:27:58.0305358Z",
              "spark_jobs": null,
              "parent_msg_id": "9b23a45f-8bf7-43d5-8ef9-89bcd52192b3"
            },
            "text/plain": "StatementMeta(Nurture, 1299, 43, Finished, Available)"
          },
          "metadata": {}
        }
      ],
      "execution_count": 119,
      "metadata": {
        "jupyter": {
          "source_hidden": false,
          "outputs_hidden": false
        },
        "nteract": {
          "transient": {
            "deleting": false
          }
        },
        "tags": [
          "parameters"
        ]
      }
    },
    {
      "cell_type": "code",
      "source": [
        "#Search for the presence of the wild character defined\n",
        "df_hist5 = df_hist4.filter(df_hist4.Candidate_job_title.rlike(job_titleSearch)).sort(df_hist4.Candidate_job_title.asc())\n",
        "df_hist5.show(50)"
      ],
      "outputs": [
        {
          "output_type": "display_data",
          "data": {
            "application/vnd.livy.statement-meta+json": {
              "spark_pool": "Nurture",
              "session_id": "1299",
              "statement_id": 44,
              "state": "finished",
              "livy_statement_state": "available",
              "queued_time": "2023-09-27T22:25:36.9003461Z",
              "session_start_time": null,
              "execution_start_time": "2023-09-27T22:27:58.2068734Z",
              "execution_finish_time": "2023-09-27T22:28:00.0934284Z",
              "spark_jobs": null,
              "parent_msg_id": "5344c57b-cab8-4f10-98e6-46a71916a195"
            },
            "text/plain": "StatementMeta(Nurture, 1299, 44, Finished, Available)"
          },
          "metadata": {}
        },
        {
          "output_type": "stream",
          "name": "stdout",
          "text": [
            "+--------------------+--------------------+--------------------+--------------+------------+--------------+\n|                  ID|      WorkHistory_ID| Candidate_job_title|Cnd_start_date|Cnd_end_date|weeks_duration|\n+--------------------+--------------------+--------------------+--------------+------------+--------------+\n|085adb9a-96f8-ec1...|085adb9a-96f8-ec1...|AML/KYC data Anal...|    2008-04-01|  2009-06-01|            15|\n|833aaae0-b66c-ed1...|833aaae0-b66c-ed1...|Analyst / first d...|    2007-09-01|  2010-09-01|            39|\n|d87123bc-6139-eb1...|d87123bc-6139-eb1...|Analyst / first d...|    2007-09-01|  2010-09-01|            39|\n|6f6396f1-6161-eb1...|6f6396f1-6161-eb1...|Architecture, Des...|    2016-02-01|  2017-03-01|            14|\n|4f912272-8931-ec1...|4f912272-8931-ec1...|Associate data sc...|    2018-05-01|  2018-09-01|             4|\n|6e4476af-ab5c-eb1...|6e4476af-ab5c-eb1...|BI/Data Analyst /...|    2018-05-01|  2018-11-01|             6|\n|19e45217-379c-eb1...|19e45217-379c-eb1...|BIRT developer / ...|    2017-08-01|  2017-10-30|             3|\n|f1cea374-6265-eb1...|f1cea374-6265-eb1...|Big data Administ...|    2012-10-01|  2014-11-01|            27|\n|3b8d2598-4c78-ec1...|3b8d2598-4c78-ec1...|    Big data analyst|    2017-09-01|  2018-07-01|            10|\n|f23335e4-6461-eb1...|f23335e4-6461-eb1...|Big data engineer...|    2019-09-01|  2020-03-01|             6|\n|a76692e1-6461-eb1...|a76692e1-6461-eb1...|Big data engineer...|    2019-04-01|  2019-08-01|             4|\n|3a271827-aae3-ea1...|3a271827-aae3-ea1...|  Bigdata Consultant|    2016-12-01|  2019-03-01|            29|\n|39010cef-6565-eb1...|39010cef-6565-eb1...|   Bigdata Developer|    2017-09-01|        null|          null|\n|ba4e66d6-f911-eb1...|ba4e66d6-f911-eb1...|Bigdata Platform ...|    2016-02-01|  2018-09-01|            33|\n|ff25a88e-8802-ed1...|ff25a88e-8802-ed1...|Business data Ana...|    2007-05-01|  2008-09-01|            17|\n|a51fab88-8802-ed1...|a51fab88-8802-ed1...|Business data ana...|    2014-06-01|  2014-11-01|             5|\n|861fab88-8802-ed1...|861fab88-8802-ed1...|Business data ana...|    2015-02-01|  2015-12-01|            10|\n|43bd8c8d-7d24-ed1...|43bd8c8d-7d24-ed1...|Business data ana...|    2014-12-01|  2015-03-01|             3|\n|de25a88e-8802-ed1...|de25a88e-8802-ed1...|Business data ana...|    2009-11-01|  2011-08-01|            22|\n|a06d0127-deea-eb1...|a06d0127-deea-eb1...|CRM Database Admi...|    2017-08-01|  2018-10-01|            15|\n|679cee3e-8264-eb1...|679cee3e-8264-eb1...|Chief data archit...|    2017-08-01|  2019-09-01|            27|\n|0bf80375-ba55-eb1...|0bf80375-ba55-eb1...|Compact Muon Sole...|    2018-01-01|  2020-01-01|            26|\n|af5933bb-90a7-ed1...|af5933bb-90a7-ed1...|Consultant / Prin...|    2022-07-01|  2022-11-01|             4|\n|91f65a23-91c6-ea1...|91f65a23-91c6-ea1...|Consultant / data...|    2017-05-01|  2017-11-01|             6|\n|a130c110-b7d5-ec1...|a130c110-b7d5-ec1...|Data Analyst / Te...|    2014-12-01|  2015-05-01|             5|\n|f3c61422-a89e-eb1...|f3c61422-a89e-eb1...|Data Analyst / da...|    2017-08-01|  2017-10-01|             2|\n|591f24d3-5361-eb1...|591f24d3-5361-eb1...|Data Architect / ...|    2014-04-01|  2015-05-01|            14|\n|afc58319-7bc7-ea1...|afc58319-7bc7-ea1...|Data Management A...|    2018-09-01|  2019-08-01|            11|\n|7a1be1fb-2f3d-eb1...|7a1be1fb-2f3d-eb1...|Data Science Team...|    2017-08-01|  2019-02-01|            19|\n|3bf485cd-b251-eb1...|3bf485cd-b251-eb1...|Data Science Team...|    2017-08-01|  2019-02-01|            19|\n|947539e7-a960-eb1...|947539e7-a960-eb1...|Data Scientist / ...|    2016-08-01|  2016-12-01|             4|\n|5ee24a6b-4d61-eb1...|5ee24a6b-4d61-eb1...|Data Scientist / ...|    2015-09-01|  2016-09-01|            13|\n|cc70fc2f-8161-eb1...|cc70fc2f-8161-eb1...|Data Scientist / ...|    2017-01-01|        null|          null|\n|90ab9896-c060-eb1...|90ab9896-c060-eb1...|Data Scientist / ...|    2017-01-01|        null|          null|\n|d225a88e-8802-ed1...|d225a88e-8802-ed1...|Data architect / ...|    2011-09-01|  2011-12-01|             3|\n|b61fab88-8802-ed1...|b61fab88-8802-ed1...|Data modeler / da...|    2012-01-01|  2014-06-01|            31|\n|916d0127-deea-eb1...|916d0127-deea-eb1...|Database Officer ...|    2018-11-01|  2019-12-01|            14|\n|81af49aa-6761-eb1...|81af49aa-6761-eb1...|Developer / data ...|    2016-01-01|  2016-05-25|             5|\n|4c84f864-632e-eb1...|4c84f864-632e-eb1...|ETL Developer / D...|    2015-04-01|  2018-09-01|            44|\n|de8610d5-f911-eb1...|de8610d5-f911-eb1...|ETL and Bigdata D...|    2012-10-01|  2016-02-01|            43|\n|d43a2b0f-aae3-ea1...|d43a2b0f-aae3-ea1...| Equity data analyst|    2016-08-01|  2017-07-01|            11|\n|d520eb9e-5aae-eb1...|d520eb9e-5aae-eb1...|  Exadata Consultant|    2014-04-01|  2015-07-01|            16|\n|324b9db2-aafe-ec1...|324b9db2-aafe-ec1...|Governance & Data...|    2019-01-01|        null|          null|\n|0418e62d-3bbd-ea1...|0418e62d-3bbd-ea1...|Graduate software...|    1995-11-01|  1998-11-01|            39|\n|8d028fa5-4a61-eb1...|8d028fa5-4a61-eb1...|Head of data anal...|    2013-09-01|  2014-06-01|             9|\n|7af94525-2fd4-eb1...|7af94525-2fd4-eb1...|Head of data scie...|    2012-08-01|  2018-12-01|            82|\n|d6292e5d-398d-ed1...|d6292e5d-398d-ed1...|Head of group cus...|    2011-09-01|  2012-05-01|             8|\n|39433679-a160-eb1...|39433679-a160-eb1...|Junior Analyst, d...|    2017-08-01|  2018-06-01|            10|\n|61b1adcd-f919-ec1...|61b1adcd-f919-ec1...|Lead Bigdata Engi...|    2017-01-01|  2017-11-01|            10|\n|e6792762-56fc-ec1...|e6792762-56fc-ec1...|Lead Data Archite...|    2021-03-01|        null|          null|\n+--------------------+--------------------+--------------------+--------------+------------+--------------+\nonly showing top 50 rows\n\n"
          ]
        }
      ],
      "execution_count": 120,
      "metadata": {
        "jupyter": {
          "source_hidden": false,
          "outputs_hidden": false
        },
        "nteract": {
          "transient": {
            "deleting": false
          }
        }
      }
    },
    {
      "cell_type": "code",
      "source": [
        "new_value = 'Analyst'"
      ],
      "outputs": [
        {
          "output_type": "display_data",
          "data": {
            "application/vnd.livy.statement-meta+json": {
              "spark_pool": "Nurture",
              "session_id": "1299",
              "statement_id": 45,
              "state": "finished",
              "livy_statement_state": "available",
              "queued_time": "2023-09-27T22:25:37.1894577Z",
              "session_start_time": null,
              "execution_start_time": "2023-09-27T22:28:00.2501613Z",
              "execution_finish_time": "2023-09-27T22:28:00.4199422Z",
              "spark_jobs": null,
              "parent_msg_id": "b7b3ab37-a848-4ce6-bd7c-2a9286d587b8"
            },
            "text/plain": "StatementMeta(Nurture, 1299, 45, Finished, Available)"
          },
          "metadata": {}
        }
      ],
      "execution_count": 121,
      "metadata": {
        "jupyter": {
          "source_hidden": false,
          "outputs_hidden": false
        },
        "nteract": {
          "transient": {
            "deleting": false
          }
        }
      }
    },
    {
      "cell_type": "code",
      "source": [
        "#Search for the wild character in the job title dataframe\n",
        "df_hist6 = df_hist5.withColumn(\"Candidate_job_title\", lit(new_value))\n",
        "df_hist6.show()"
      ],
      "outputs": [
        {
          "output_type": "display_data",
          "data": {
            "application/vnd.livy.statement-meta+json": {
              "spark_pool": "Nurture",
              "session_id": "1299",
              "statement_id": 46,
              "state": "finished",
              "livy_statement_state": "available",
              "queued_time": "2023-09-27T22:25:37.4462312Z",
              "session_start_time": null,
              "execution_start_time": "2023-09-27T22:28:00.5948148Z",
              "execution_finish_time": "2023-09-27T22:28:01.707626Z",
              "spark_jobs": null,
              "parent_msg_id": "6439538f-6ad4-4078-8354-bbb2a6b3d26a"
            },
            "text/plain": "StatementMeta(Nurture, 1299, 46, Finished, Available)"
          },
          "metadata": {}
        },
        {
          "output_type": "stream",
          "name": "stdout",
          "text": [
            "+--------------------+--------------------+-------------------+--------------+------------+--------------+\n|                  ID|      WorkHistory_ID|Candidate_job_title|Cnd_start_date|Cnd_end_date|weeks_duration|\n+--------------------+--------------------+-------------------+--------------+------------+--------------+\n|085adb9a-96f8-ec1...|085adb9a-96f8-ec1...|            Analyst|    2008-04-01|  2009-06-01|            15|\n|833aaae0-b66c-ed1...|833aaae0-b66c-ed1...|            Analyst|    2007-09-01|  2010-09-01|            39|\n|d87123bc-6139-eb1...|d87123bc-6139-eb1...|            Analyst|    2007-09-01|  2010-09-01|            39|\n|6f6396f1-6161-eb1...|6f6396f1-6161-eb1...|            Analyst|    2016-02-01|  2017-03-01|            14|\n|4f912272-8931-ec1...|4f912272-8931-ec1...|            Analyst|    2018-05-01|  2018-09-01|             4|\n|6e4476af-ab5c-eb1...|6e4476af-ab5c-eb1...|            Analyst|    2018-05-01|  2018-11-01|             6|\n|19e45217-379c-eb1...|19e45217-379c-eb1...|            Analyst|    2017-08-01|  2017-10-30|             3|\n|f1cea374-6265-eb1...|f1cea374-6265-eb1...|            Analyst|    2012-10-01|  2014-11-01|            27|\n|3b8d2598-4c78-ec1...|3b8d2598-4c78-ec1...|            Analyst|    2017-09-01|  2018-07-01|            10|\n|f23335e4-6461-eb1...|f23335e4-6461-eb1...|            Analyst|    2019-09-01|  2020-03-01|             6|\n|a76692e1-6461-eb1...|a76692e1-6461-eb1...|            Analyst|    2019-04-01|  2019-08-01|             4|\n|3a271827-aae3-ea1...|3a271827-aae3-ea1...|            Analyst|    2016-12-01|  2019-03-01|            29|\n|39010cef-6565-eb1...|39010cef-6565-eb1...|            Analyst|    2017-09-01|        null|          null|\n|ba4e66d6-f911-eb1...|ba4e66d6-f911-eb1...|            Analyst|    2016-02-01|  2018-09-01|            33|\n|ff25a88e-8802-ed1...|ff25a88e-8802-ed1...|            Analyst|    2007-05-01|  2008-09-01|            17|\n|861fab88-8802-ed1...|861fab88-8802-ed1...|            Analyst|    2015-02-01|  2015-12-01|            10|\n|a51fab88-8802-ed1...|a51fab88-8802-ed1...|            Analyst|    2014-06-01|  2014-11-01|             5|\n|43bd8c8d-7d24-ed1...|43bd8c8d-7d24-ed1...|            Analyst|    2014-12-01|  2015-03-01|             3|\n|de25a88e-8802-ed1...|de25a88e-8802-ed1...|            Analyst|    2009-11-01|  2011-08-01|            22|\n|a06d0127-deea-eb1...|a06d0127-deea-eb1...|            Analyst|    2017-08-01|  2018-10-01|            15|\n+--------------------+--------------------+-------------------+--------------+------------+--------------+\nonly showing top 20 rows\n\n"
          ]
        }
      ],
      "execution_count": 122,
      "metadata": {
        "jupyter": {
          "source_hidden": false,
          "outputs_hidden": false
        },
        "nteract": {
          "transient": {
            "deleting": false
          }
        }
      }
    },
    {
      "cell_type": "code",
      "source": [
        "#GroupBy according to the job title\n",
        "df_hist7 = df_hist5.groupBy(\"Candidate_job_title\").count().sort('count', ascending = False)\n",
        "df_hist7.show()"
      ],
      "outputs": [
        {
          "output_type": "display_data",
          "data": {
            "application/vnd.livy.statement-meta+json": {
              "spark_pool": "Nurture",
              "session_id": "1299",
              "statement_id": 47,
              "state": "finished",
              "livy_statement_state": "available",
              "queued_time": "2023-09-27T22:25:37.6803236Z",
              "session_start_time": null,
              "execution_start_time": "2023-09-27T22:28:01.8586338Z",
              "execution_finish_time": "2023-09-27T22:28:03.0146236Z",
              "spark_jobs": null,
              "parent_msg_id": "f83668d9-f6d8-481d-9c39-8b2363021ec2"
            },
            "text/plain": "StatementMeta(Nurture, 1299, 47, Finished, Available)"
          },
          "metadata": {}
        },
        {
          "output_type": "stream",
          "name": "stdout",
          "text": [
            "+--------------------+-----+\n| Candidate_job_title|count|\n+--------------------+-----+\n|Senior data scien...|    5|\n|  Teradata Developer|    5|\n|        data analyst|    4|\n|       data engineer|    3|\n|Teradata Designer...|    2|\n|Data Science Team...|    2|\n|Senior Bigdata En...|    2|\n|      data scientist|    2|\n|Data Scientist / ...|    2|\n|Analyst / first d...|    2|\n|Business data ana...|    2|\n|        Teradata DBA|    2|\n|Big data engineer...|    2|\n|Teradata and Info...|    2|\n|junior data scien...|    1|\n|senior data engineer|    1|\n|ETL and Bigdata D...|    1|\n|Head of group cus...|    1|\n|MI Data Analyst /...|    1|\n|market data integ...|    1|\n+--------------------+-----+\nonly showing top 20 rows\n\n"
          ]
        }
      ],
      "execution_count": 123,
      "metadata": {
        "jupyter": {
          "source_hidden": false,
          "outputs_hidden": false
        },
        "nteract": {
          "transient": {
            "deleting": false
          }
        }
      }
    },
    {
      "cell_type": "markdown",
      "source": [
        "Grouping the job title column into a new column"
      ],
      "metadata": {
        "nteract": {
          "transient": {
            "deleting": false
          }
        }
      }
    },
    {
      "cell_type": "code",
      "source": [
        "from pyspark.ml.feature import Tokenizer, StopWordsRemover, Word2Vec\n",
        "from pyspark.ml.clustering import KMeans\n",
        "from pyspark.sql import SparkSession"
      ],
      "outputs": [
        {
          "output_type": "display_data",
          "data": {
            "application/vnd.livy.statement-meta+json": {
              "spark_pool": "Nurture",
              "session_id": "1299",
              "statement_id": 48,
              "state": "finished",
              "livy_statement_state": "available",
              "queued_time": "2023-09-27T22:25:37.9403465Z",
              "session_start_time": null,
              "execution_start_time": "2023-09-27T22:28:03.1782604Z",
              "execution_finish_time": "2023-09-27T22:28:03.7995289Z",
              "spark_jobs": null,
              "parent_msg_id": "032bc126-2098-41a1-9471-ddfabcd27b6f"
            },
            "text/plain": "StatementMeta(Nurture, 1299, 48, Finished, Available)"
          },
          "metadata": {}
        }
      ],
      "execution_count": 124,
      "metadata": {
        "jupyter": {
          "source_hidden": false,
          "outputs_hidden": false
        },
        "nteract": {
          "transient": {
            "deleting": false
          }
        }
      }
    },
    {
      "cell_type": "code",
      "source": [
        "%%pyspark\n",
        "df_salaries = spark.read.load('abfss://landing@esgadls2.dfs.core.windows.net/salaries_clean.csv', format='csv'\n",
        ",header=True\n",
        ")\n",
        "df_salaries.show()"
      ],
      "outputs": [
        {
          "output_type": "display_data",
          "data": {
            "application/vnd.livy.statement-meta+json": {
              "spark_pool": "Nurture",
              "session_id": "1299",
              "statement_id": 49,
              "state": "finished",
              "livy_statement_state": "available",
              "queued_time": "2023-09-27T22:25:38.2830124Z",
              "session_start_time": null,
              "execution_start_time": "2023-09-27T22:28:03.988123Z",
              "execution_finish_time": "2023-09-27T22:28:05.1307654Z",
              "spark_jobs": null,
              "parent_msg_id": "31073439-dbeb-44e0-825e-30922af3298d"
            },
            "text/plain": "StatementMeta(Nurture, 1299, 49, Finished, Available)"
          },
          "metadata": {}
        },
        {
          "output_type": "stream",
          "name": "stdout",
          "text": [
            "+-----+---------+--------------------+------------------+--------------+----------------+-----------------+------------------+--------------------+------------------+--------------+----------------------+-------------------------+---------------+-------------+------------+-----------------+--------------------+-------------+\n|index|salary_id|       employer_name|     location_name|location_state|location_country|location_latitude|location_longitude|           job_title|job_title_category|job_title_rank|total_experience_years|employer_experience_years|annual_base_pay|signing_bonus|annual_bonus|stock_value_bonus|            comments| submitted_at|\n+-----+---------+--------------------+------------------+--------------+----------------+-----------------+------------------+--------------------+------------------+--------------+----------------------+-------------------------+---------------+-------------+------------+-----------------+--------------------+-------------+\n|    0|        1|              opower| san francisco, ca|            CA|              US|            37.77|           -122.41|    systems engineer|       Engineering|          null|                  13.0|                      2.0|       125000.0|       5000.0|         0.0|      5000 shares|    Don't work here.|3/21/16 12:58|\n|    1|        3|             walmart|   bentonville, ar|            AR|              US|            36.36|             -94.2|    senior developer|          Software|        Senior|                  15.0|                      8.0|        65000.0|         null|      5000.0|            3,000|                null|3/21/16 12:58|\n|    2|        4|  vertical knowledge|     cleveland, oh|            OH|              US|            41.47|            -81.67|   software engineer|          Software|          null|                   4.0|                      1.0|        86000.0|       5000.0|      6000.0|                0|                null|3/21/16 12:59|\n|    3|        6|              netapp|           waltham|          null|            null|             null|              null|                 mts|             Other|          null|                   4.0|                      0.0|       105000.0|       5000.0|      8500.0|                0|                null|3/21/16 13:00|\n|    4|       12|               apple|         cupertino|          null|            null|             null|              null|   software engineer|          Software|          null|                   4.0|                      3.0|       110000.0|       5000.0|      7000.0|           150000|                null|3/21/16 13:02|\n|    5|       14|              casino|    eastern oregon|            OR|              US|             38.0|             -97.0|       it technician|             Other|          null|                   5.0|                      1.5|        40000.0|          0.0|       500.0|                0|                null|3/21/16 13:03|\n|    6|       16|          tetra tech|       madison, wi|            WI|              US|             43.1|             -89.5|    lead interviewer|             Other|          null|                   4.0|                      2.5|        45000.0|          0.0|      1500.0|             null|                null|3/21/16 13:03|\n|    7|       17|             knewton|     new york city|            NY|              US|             38.0|             -97.0|senior software e...|          Software|        Senior|                   8.0|                      2.0|       135000.0|          0.0|         0.0|             null|                null|3/21/16 13:03|\n|    8|       21|             amplify|               nyc|          null|            null|             null|              null|   software engineer|          Software|          null|                   2.0|                      1.0|       105000.0|          0.0|     47000.0|                0|                null|3/21/16 13:04|\n|    9|       23|                sqor|     san francisco|          null|            null|             null|              null|infrastructure/pl...|       Engineering|          null|                   1.0|                      1.0|        80000.0|          0.0|         0.0|              500|                null|3/21/16 13:04|\n|   10|       24|pensco trust company|        denver, co|            CO|              US|            39.82|            -105.1|senior software e...|          Software|        Senior|                  10.0|                      1.5|       120000.0|          0.0|      6000.0|                0|                null|3/21/16 13:04|\n|   11|       25|        thoughtworks|           chicago|          null|            null|             null|              null|software develope...|          Software|          null|                   2.0|                      2.0|        78000.0|          0.0|         0.0|                0|                null|3/21/16 13:04|\n|   12|       30|              purdue|west lafayette, in|            IN|              US|            40.44|            -86.91|       web developer|               Web|          null|                   2.0|                      1.5|        60000.0|         null|        null|             null|Discounted educat...|3/21/16 13:05|\n|   13|       34|   small b2b company|       minneapolis|          null|            null|             null|              null|             analyst|              Data|          null|                   4.0|                      1.0|        63000.0|          0.0|      2000.0|                0|                null|3/21/16 13:05|\n|   14|       35|   small b2b company|       minneapolis|          null|            null|             null|              null|             analyst|              Data|          null|                   4.0|                      1.0|        63000.0|          0.0|      2000.0|                0|                null|3/21/16 13:05|\n|   15|       36|                sqli|          bordeaux|          null|            null|             null|              null|  it project manager|        Management|          null|                   8.0|                      3.0|           38.0|          0.0|         0.0|                0|                null|3/21/16 13:05|\n|   16|       37|              slalom|           seattle|          null|            null|             null|              null|     senior engineer|       Engineering|        Senior|                   5.0|                      1.0|        93000.0|          0.0|     15000.0|                0|                null|3/21/16 13:05|\n|   17|       39|    magento commerce|    charleston, sc|            SC|              US|            32.78|            -79.99|member of technic...|             Other|          null|                  19.0|                      1.0|       131000.0|         null|        null|            80000|              Remote|3/21/16 13:06|\n|   18|       40|              oracle|   bala cynwyd, pa|            PA|              US|            40.01|            -75.22|student intern co-op|             Other|        Intern|                   0.0|                      0.0|           24.0|          0.0|         0.0|               $0|                null|3/21/16 13:06|\n|   19|       45|               klick|   toronto, canada|          null|              CA|             60.0|             -95.0|full stack developer|               Web|          null|                   5.0|                      3.0|        85000.0|          0.0|      5000.0|                0|                null|3/21/16 13:06|\n+-----+---------+--------------------+------------------+--------------+----------------+-----------------+------------------+--------------------+------------------+--------------+----------------------+-------------------------+---------------+-------------+------------+-----------------+--------------------+-------------+\nonly showing top 20 rows\n\n"
          ]
        }
      ],
      "execution_count": 125,
      "metadata": {
        "jupyter": {
          "source_hidden": false,
          "outputs_hidden": false
        },
        "nteract": {
          "transient": {
            "deleting": false
          }
        },
        "microsoft": {
          "language": "python"
        }
      }
    },
    {
      "cell_type": "code",
      "source": [
        "df_train = df_salaries.select('job_title', 'job_title_category')\n",
        "df_train.show()"
      ],
      "outputs": [
        {
          "output_type": "display_data",
          "data": {
            "application/vnd.livy.statement-meta+json": {
              "spark_pool": "Nurture",
              "session_id": "1299",
              "statement_id": 50,
              "state": "finished",
              "livy_statement_state": "available",
              "queued_time": "2023-09-27T22:25:38.8912776Z",
              "session_start_time": null,
              "execution_start_time": "2023-09-27T22:28:05.2930352Z",
              "execution_finish_time": "2023-09-27T22:28:05.8494573Z",
              "spark_jobs": null,
              "parent_msg_id": "50d54949-b46b-4df7-98ee-39118372f929"
            },
            "text/plain": "StatementMeta(Nurture, 1299, 50, Finished, Available)"
          },
          "metadata": {}
        },
        {
          "output_type": "stream",
          "name": "stdout",
          "text": [
            "+--------------------+------------------+\n|           job_title|job_title_category|\n+--------------------+------------------+\n|    systems engineer|       Engineering|\n|    senior developer|          Software|\n|   software engineer|          Software|\n|                 mts|             Other|\n|   software engineer|          Software|\n|       it technician|             Other|\n|    lead interviewer|             Other|\n|senior software e...|          Software|\n|   software engineer|          Software|\n|infrastructure/pl...|       Engineering|\n|senior software e...|          Software|\n|software develope...|          Software|\n|       web developer|               Web|\n|             analyst|              Data|\n|             analyst|              Data|\n|  it project manager|        Management|\n|     senior engineer|       Engineering|\n|member of technic...|             Other|\n|student intern co-op|             Other|\n|full stack developer|               Web|\n+--------------------+------------------+\nonly showing top 20 rows\n\n"
          ]
        }
      ],
      "execution_count": 126,
      "metadata": {
        "jupyter": {
          "source_hidden": false,
          "outputs_hidden": false
        },
        "nteract": {
          "transient": {
            "deleting": false
          }
        }
      }
    },
    {
      "cell_type": "code",
      "source": [
        "df_train.printSchema()"
      ],
      "outputs": [
        {
          "output_type": "display_data",
          "data": {
            "application/vnd.livy.statement-meta+json": {
              "spark_pool": "Nurture",
              "session_id": "1299",
              "statement_id": 51,
              "state": "finished",
              "livy_statement_state": "available",
              "queued_time": "2023-09-27T22:25:39.3155305Z",
              "session_start_time": null,
              "execution_start_time": "2023-09-27T22:28:06.0075401Z",
              "execution_finish_time": "2023-09-27T22:28:06.2034046Z",
              "spark_jobs": null,
              "parent_msg_id": "b027fbca-205c-4b9a-b270-a476c158cfb5"
            },
            "text/plain": "StatementMeta(Nurture, 1299, 51, Finished, Available)"
          },
          "metadata": {}
        },
        {
          "output_type": "stream",
          "name": "stdout",
          "text": [
            "root\n |-- job_title: string (nullable = true)\n |-- job_title_category: string (nullable = true)\n\n"
          ]
        }
      ],
      "execution_count": 127,
      "metadata": {
        "jupyter": {
          "source_hidden": false,
          "outputs_hidden": false
        },
        "nteract": {
          "transient": {
            "deleting": false
          }
        }
      }
    },
    {
      "cell_type": "code",
      "source": [
        "df_train.describe().show()"
      ],
      "outputs": [
        {
          "output_type": "display_data",
          "data": {
            "application/vnd.livy.statement-meta+json": {
              "spark_pool": "Nurture",
              "session_id": "1299",
              "statement_id": 52,
              "state": "finished",
              "livy_statement_state": "available",
              "queued_time": "2023-09-27T22:25:39.6725218Z",
              "session_start_time": null,
              "execution_start_time": "2023-09-27T22:28:06.3607022Z",
              "execution_finish_time": "2023-09-27T22:28:06.9388943Z",
              "spark_jobs": null,
              "parent_msg_id": "ec255f2f-2233-42f0-aa64-e565edac41be"
            },
            "text/plain": "StatementMeta(Nurture, 1299, 52, Finished, Available)"
          },
          "metadata": {}
        },
        {
          "output_type": "stream",
          "name": "stdout",
          "text": [
            "+-------+------------------+------------------+\n|summary|         job_title|job_title_category|\n+-------+------------------+------------------+\n|  count|              1655|              1655|\n|   mean|               2.0|              null|\n| stddev|              null|              null|\n|    min|*operational role*|   Applied Science|\n|    max|            ü¡_|               Web|\n+-------+------------------+------------------+\n\n"
          ]
        }
      ],
      "execution_count": 128,
      "metadata": {
        "jupyter": {
          "source_hidden": false,
          "outputs_hidden": false
        },
        "nteract": {
          "transient": {
            "deleting": false
          }
        }
      }
    },
    {
      "cell_type": "code",
      "source": [
        "from pyspark.sql.functions import col, when"
      ],
      "outputs": [
        {
          "output_type": "display_data",
          "data": {
            "application/vnd.livy.statement-meta+json": {
              "spark_pool": "Nurture",
              "session_id": "1299",
              "statement_id": 53,
              "state": "finished",
              "livy_statement_state": "available",
              "queued_time": "2023-09-27T22:25:39.936377Z",
              "session_start_time": null,
              "execution_start_time": "2023-09-27T22:28:07.0941741Z",
              "execution_finish_time": "2023-09-27T22:28:07.263757Z",
              "spark_jobs": null,
              "parent_msg_id": "1aca240f-beda-4600-986b-fac51498c16f"
            },
            "text/plain": "StatementMeta(Nurture, 1299, 53, Finished, Available)"
          },
          "metadata": {}
        }
      ],
      "execution_count": 129,
      "metadata": {
        "jupyter": {
          "source_hidden": false,
          "outputs_hidden": false
        },
        "nteract": {
          "transient": {
            "deleting": false
          }
        }
      }
    },
    {
      "cell_type": "code",
      "source": [
        "dfTrain_clean2 = df_train.na.drop(subset=[\"job_title\"])"
      ],
      "outputs": [
        {
          "output_type": "display_data",
          "data": {
            "application/vnd.livy.statement-meta+json": {
              "spark_pool": "Nurture",
              "session_id": "1299",
              "statement_id": 54,
              "state": "finished",
              "livy_statement_state": "available",
              "queued_time": "2023-09-27T22:25:40.260726Z",
              "session_start_time": null,
              "execution_start_time": "2023-09-27T22:28:07.4275201Z",
              "execution_finish_time": "2023-09-27T22:28:07.5913071Z",
              "spark_jobs": null,
              "parent_msg_id": "67f3e131-913f-43b5-b82b-7c875e15a960"
            },
            "text/plain": "StatementMeta(Nurture, 1299, 54, Finished, Available)"
          },
          "metadata": {}
        }
      ],
      "execution_count": 130,
      "metadata": {
        "jupyter": {
          "source_hidden": false,
          "outputs_hidden": false
        },
        "nteract": {
          "transient": {
            "deleting": false
          }
        }
      }
    },
    {
      "cell_type": "code",
      "source": [
        "#Transform the sample training data\n",
        "df_train2 = dfTrain_clean2.withColumn(\"job_title_category\",\n",
        "                   when(col(\"job_title\").rlike(\"analyst\"), \"Data Analyst\")\n",
        "                   .when(col(\"job_title\").rlike(\"data engineer\"), \"Data Engineer\")\n",
        "                   .when(col(\"job_title\").rlike(\"data architect\"), \"Data Architect\")\n",
        "                   .when(col(\"job_title\").rlike(\"data scientist\"), \"Data Science\")\n",
        "                   .when(col(\"job_title\").rlike(\"database\"), \"Data Management\")\n",
        "                   .when(col(\"job_title\").rlike(\"visualization\"), \"Data Analyst\")\n",
        "                   .otherwise(col(\"job_title_category\"))\n",
        "                  )"
      ],
      "outputs": [
        {
          "output_type": "display_data",
          "data": {
            "application/vnd.livy.statement-meta+json": {
              "spark_pool": "Nurture",
              "session_id": "1299",
              "statement_id": 55,
              "state": "finished",
              "livy_statement_state": "available",
              "queued_time": "2023-09-27T22:25:40.5688319Z",
              "session_start_time": null,
              "execution_start_time": "2023-09-27T22:28:07.7497021Z",
              "execution_finish_time": "2023-09-27T22:28:07.9242756Z",
              "spark_jobs": null,
              "parent_msg_id": "7ffb7aa6-d99c-467b-8c04-4f7f28ae528f"
            },
            "text/plain": "StatementMeta(Nurture, 1299, 55, Finished, Available)"
          },
          "metadata": {}
        }
      ],
      "execution_count": 131,
      "metadata": {
        "jupyter": {
          "source_hidden": false,
          "outputs_hidden": false
        },
        "nteract": {
          "transient": {
            "deleting": false
          }
        }
      }
    },
    {
      "cell_type": "code",
      "source": [
        "df_train2.show()"
      ],
      "outputs": [
        {
          "output_type": "display_data",
          "data": {
            "application/vnd.livy.statement-meta+json": {
              "spark_pool": "Nurture",
              "session_id": "1299",
              "statement_id": 56,
              "state": "finished",
              "livy_statement_state": "available",
              "queued_time": "2023-09-27T22:25:40.8560994Z",
              "session_start_time": null,
              "execution_start_time": "2023-09-27T22:28:08.09374Z",
              "execution_finish_time": "2023-09-27T22:28:08.6558526Z",
              "spark_jobs": null,
              "parent_msg_id": "d6ca6171-a8d6-40d2-84f8-72b06881c9e1"
            },
            "text/plain": "StatementMeta(Nurture, 1299, 56, Finished, Available)"
          },
          "metadata": {}
        },
        {
          "output_type": "stream",
          "name": "stdout",
          "text": [
            "+--------------------+------------------+\n|           job_title|job_title_category|\n+--------------------+------------------+\n|    systems engineer|       Engineering|\n|    senior developer|          Software|\n|   software engineer|          Software|\n|                 mts|             Other|\n|   software engineer|          Software|\n|       it technician|             Other|\n|    lead interviewer|             Other|\n|senior software e...|          Software|\n|   software engineer|          Software|\n|infrastructure/pl...|       Engineering|\n|senior software e...|          Software|\n|software develope...|          Software|\n|       web developer|               Web|\n|             analyst|      Data Analyst|\n|             analyst|      Data Analyst|\n|  it project manager|        Management|\n|     senior engineer|       Engineering|\n|member of technic...|             Other|\n|student intern co-op|             Other|\n|full stack developer|               Web|\n+--------------------+------------------+\nonly showing top 20 rows\n\n"
          ]
        }
      ],
      "execution_count": 132,
      "metadata": {
        "jupyter": {
          "source_hidden": false,
          "outputs_hidden": false
        },
        "nteract": {
          "transient": {
            "deleting": false
          }
        }
      }
    }
  ],
  "metadata": {
    "kernelspec": {
      "name": "synapse_pyspark",
      "language": "Python",
      "display_name": "Synapse PySpark"
    },
    "language_info": {
      "name": "python"
    },
    "kernel_info": {
      "name": "synapse_pyspark"
    },
    "save_output": true,
    "synapse_widget": {
      "version": "0.1",
      "state": {}
    }
  },
  "nbformat": 4,
  "nbformat_minor": 2
}